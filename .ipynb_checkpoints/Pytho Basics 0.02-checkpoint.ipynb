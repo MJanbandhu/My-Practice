{
 "cells": [
  {
   "cell_type": "code",
   "execution_count": null,
   "id": "b9123b93",
   "metadata": {},
   "outputs": [],
   "source": [
    "list1=[4,8,6,5,98,11,2,33,8,2,6,9,5,1,2,65,9]"
   ]
  },
  {
   "cell_type": "code",
   "execution_count": null,
   "id": "8b74a413",
   "metadata": {},
   "outputs": [],
   "source": [
    "list2=list1.sort()"
   ]
  },
  {
   "cell_type": "code",
   "execution_count": null,
   "id": "92c89f9b",
   "metadata": {},
   "outputs": [],
   "source": [
    "print(list1)\n",
    "print(list2)"
   ]
  },
  {
   "cell_type": "code",
   "execution_count": null,
   "id": "d9c6d531",
   "metadata": {},
   "outputs": [],
   "source": [
    "list1.append(100)"
   ]
  },
  {
   "cell_type": "code",
   "execution_count": null,
   "id": "14e5d6b1",
   "metadata": {},
   "outputs": [],
   "source": [
    "print(list1)"
   ]
  },
  {
   "cell_type": "code",
   "execution_count": null,
   "id": "ad7192a6",
   "metadata": {},
   "outputs": [],
   "source": [
    "list1.insert(3,50)"
   ]
  },
  {
   "cell_type": "code",
   "execution_count": null,
   "id": "a55be2c0",
   "metadata": {},
   "outputs": [],
   "source": [
    "print(list1)"
   ]
  },
  {
   "cell_type": "code",
   "execution_count": null,
   "id": "63f401b4",
   "metadata": {},
   "outputs": [],
   "source": [
    "list1.pop(3)"
   ]
  },
  {
   "cell_type": "code",
   "execution_count": null,
   "id": "aec2bc18",
   "metadata": {},
   "outputs": [],
   "source": [
    "print(list1)"
   ]
  },
  {
   "cell_type": "code",
   "execution_count": null,
   "id": "6eb4778a",
   "metadata": {},
   "outputs": [],
   "source": [
    "list1.remove(100)"
   ]
  },
  {
   "cell_type": "code",
   "execution_count": null,
   "id": "abc11e62",
   "metadata": {},
   "outputs": [],
   "source": [
    "\n",
    "print(list1)"
   ]
  },
  {
   "cell_type": "code",
   "execution_count": null,
   "id": "29d77308",
   "metadata": {},
   "outputs": [],
   "source": [
    "tup=tuple(list1)"
   ]
  },
  {
   "cell_type": "code",
   "execution_count": null,
   "id": "39d33607",
   "metadata": {},
   "outputs": [],
   "source": [
    "type(tup)"
   ]
  },
  {
   "cell_type": "code",
   "execution_count": null,
   "id": "f79346b7",
   "metadata": {},
   "outputs": [],
   "source": [
    "tup"
   ]
  },
  {
   "cell_type": "code",
   "execution_count": null,
   "id": "b9dd2502",
   "metadata": {},
   "outputs": [],
   "source": [
    "tup.count(2)"
   ]
  },
  {
   "cell_type": "code",
   "execution_count": null,
   "id": "e73553b1",
   "metadata": {},
   "outputs": [],
   "source": [
    "min(tup)"
   ]
  },
  {
   "cell_type": "code",
   "execution_count": null,
   "id": "2e7e7f1b",
   "metadata": {},
   "outputs": [],
   "source": [
    "max(tup)"
   ]
  },
  {
   "cell_type": "code",
   "execution_count": null,
   "id": "afe6492e",
   "metadata": {},
   "outputs": [],
   "source": [
    "sum(tup)"
   ]
  },
  {
   "cell_type": "code",
   "execution_count": null,
   "id": "1035ada6",
   "metadata": {},
   "outputs": [],
   "source": [
    "set1=set(tup)"
   ]
  },
  {
   "cell_type": "code",
   "execution_count": null,
   "id": "9ce5f79e",
   "metadata": {},
   "outputs": [],
   "source": [
    "type(set1)"
   ]
  },
  {
   "cell_type": "code",
   "execution_count": null,
   "id": "43da98c1",
   "metadata": {},
   "outputs": [],
   "source": [
    "set1"
   ]
  },
  {
   "cell_type": "code",
   "execution_count": null,
   "id": "937c3003",
   "metadata": {},
   "outputs": [],
   "source": [
    "set1.add(100)"
   ]
  },
  {
   "cell_type": "code",
   "execution_count": null,
   "id": "3a2f5718",
   "metadata": {},
   "outputs": [],
   "source": [
    "set1"
   ]
  },
  {
   "cell_type": "markdown",
   "id": "b2f78e36",
   "metadata": {},
   "source": [
    "# class student"
   ]
  },
  {
   "cell_type": "code",
   "execution_count": 1,
   "id": "278230a7",
   "metadata": {},
   "outputs": [],
   "source": [
    "class students:\n",
    "    def __init__(self,name,div,rollno):\n",
    "        self.name=name\n",
    "        self.div=div\n",
    "        self.rollno=rollno\n",
    "        \n",
    "    def __init__(self):\n",
    "        print(self.name,self.div,self.rollno)\n",
    "        \n",
    "\n"
   ]
  },
  {
   "cell_type": "code",
   "execution_count": 2,
   "id": "bff0688d",
   "metadata": {},
   "outputs": [],
   "source": [
    "s1=(\"Mohit\",\"A\",35)\n",
    "s2=(\"Someone\",\"B\",36)\n",
    "    \n"
   ]
  },
  {
   "cell_type": "code",
   "execution_count": 8,
   "id": "cab95b72",
   "metadata": {},
   "outputs": [
    {
     "ename": "AttributeError",
     "evalue": "type object 'students' has no attribute 'school'",
     "output_type": "error",
     "traceback": [
      "\u001b[1;31m---------------------------------------------------------------------------\u001b[0m",
      "\u001b[1;31mAttributeError\u001b[0m                            Traceback (most recent call last)",
      "Cell \u001b[1;32mIn[8], line 1\u001b[0m\n\u001b[1;32m----> 1\u001b[0m \u001b[43mstudents\u001b[49m\u001b[38;5;241;43m.\u001b[39;49m\u001b[43mschool\u001b[49m()\n",
      "\u001b[1;31mAttributeError\u001b[0m: type object 'students' has no attribute 'school'"
     ]
    }
   ],
   "source": [
    "students.school()"
   ]
  },
  {
   "cell_type": "code",
   "execution_count": 5,
   "id": "a0a2c800",
   "metadata": {},
   "outputs": [
    {
     "data": {
      "text/plain": [
       "('Mohit', 'A', 35)"
      ]
     },
     "execution_count": 5,
     "metadata": {},
     "output_type": "execute_result"
    }
   ],
   "source": [
    "s1"
   ]
  },
  {
   "cell_type": "code",
   "execution_count": null,
   "id": "2ec6f569",
   "metadata": {},
   "outputs": [],
   "source": []
  },
  {
   "cell_type": "code",
   "execution_count": null,
   "id": "50fb0bd9",
   "metadata": {},
   "outputs": [],
   "source": []
  },
  {
   "cell_type": "code",
   "execution_count": null,
   "id": "4540400d",
   "metadata": {},
   "outputs": [],
   "source": [
    "student.school\n",
    "s1.school"
   ]
  },
  {
   "cell_type": "code",
   "execution_count": null,
   "id": "a0d0f172",
   "metadata": {},
   "outputs": [],
   "source": [
    "class Student:\n",
    "    school = \"XYZ School\"  # Class variable\n",
    "\n",
    "    def __init__(self, name, div, rollno):\n",
    "        self.name = name\n",
    "        self.div = div\n",
    "        self.rollno = rollno\n",
    "        \n",
    "    def display_info(self):\n",
    "        # Method to display student information\n",
    "        print(self.name, self.div, self.rollno)\n",
    "        \n",
    "# Create instances of the Student class\n",
    "s1 = Student(\"Mohit\", \"A\", 35)\n",
    "s2 = Student(\"Someone\", \"B\", 36)\n",
    "\n",
    "# Accessing the class variable 'school'\n",
    "Student.school # Access through class\n",
    "\n",
    "# Accessing the class variable 'school' via an instance\n",
    "print(s1.school)  # Access through instance"
   ]
  },
  {
   "cell_type": "code",
   "execution_count": 9,
   "id": "2e834c60",
   "metadata": {},
   "outputs": [
    {
     "ename": "AttributeError",
     "evalue": "'tuple' object has no attribute 'student'",
     "output_type": "error",
     "traceback": [
      "\u001b[1;31m---------------------------------------------------------------------------\u001b[0m",
      "\u001b[1;31mAttributeError\u001b[0m                            Traceback (most recent call last)",
      "Cell \u001b[1;32mIn[9], line 1\u001b[0m\n\u001b[1;32m----> 1\u001b[0m \u001b[43ms1\u001b[49m\u001b[38;5;241;43m.\u001b[39;49m\u001b[43mstudent\u001b[49m()\n",
      "\u001b[1;31mAttributeError\u001b[0m: 'tuple' object has no attribute 'student'"
     ]
    }
   ],
   "source": [
    "s1.student()"
   ]
  },
  {
   "cell_type": "code",
   "execution_count": null,
   "id": "c5d39cbf",
   "metadata": {},
   "outputs": [],
   "source": []
  },
  {
   "cell_type": "markdown",
   "id": "efbc40fe",
   "metadata": {},
   "source": [
    "# Object-Oriented Programming (OOP) \n",
    "concepts such as Abstraction, Encapsulation, Inheritance, and Polymorphism in a basic and easy-to-understand way.\n",
    "Program Example:\n",
    "\n"
   ]
  },
  {
   "cell_type": "code",
   "execution_count": 7,
   "id": "d6ec9e49",
   "metadata": {},
   "outputs": [
    {
     "name": "stdout",
     "output_type": "stream",
     "text": [
      "The dog Buddy barks: woof\n",
      "Buddy is a Golden Retriever dog.\n",
      "The cat Whiskers meows: meow\n",
      "Whiskers is a black cat.\n"
     ]
    }
   ],
   "source": [
    "# Base class (Encapsulation)\n",
    "class Animal:\n",
    "    def __init__(self, name, sound):\n",
    "        self.name = name  # Encapsulated attribute\n",
    "        self.sound = sound  # Encapsulated attribute\n",
    "    \n",
    "    def make_sound(self):  # Method (Abstraction)\n",
    "        print(f\"{self.name} makes a {self.sound} sound\")\n",
    "\n",
    "# Derived class (Inheritance & Polymorphism)\n",
    "class Dog(Animal):\n",
    "    def __init__(self, name, sound, breed):\n",
    "        super().__init__(name, sound)  # Inheritance: Calling the parent class constructor\n",
    "        self.breed = breed  # New attribute in Dog class\n",
    "\n",
    "    def make_sound(self):  # Method Overriding (Polymorphism)\n",
    "        print(f\"The dog {self.name} barks: {self.sound}\")\n",
    "    \n",
    "    def display_breed(self):\n",
    "        print(f\"{self.name} is a {self.breed} dog.\")\n",
    "\n",
    "# Derived class (Inheritance & Polymorphism)\n",
    "class Cat(Animal):\n",
    "    def __init__(self, name, sound, color):\n",
    "        super().__init__(name, sound)  # Inheritance: Calling the parent class constructor\n",
    "        self.color = color  # New attribute in Cat class\n",
    "\n",
    "    def make_sound(self):  # Method Overriding (Polymorphism)\n",
    "        print(f\"The cat {self.name} meows: {self.sound}\")\n",
    "    \n",
    "    def display_color(self):\n",
    "        print(f\"{self.name} is a {self.color} cat.\")\n",
    "\n",
    "# Creating objects (Instances)\n",
    "dog = Dog(\"Buddy\", \"woof\", \"Golden Retriever\")\n",
    "cat = Cat(\"Whiskers\", \"meow\", \"black\")\n",
    "\n",
    "# Accessing encapsulated methods and attributes\n",
    "dog.make_sound()  # Polymorphism: Dog's make_sound method\n",
    "dog.display_breed()  # Dog-specific behavior\n",
    "\n",
    "cat.make_sound()  # Polymorphism: Cat's make_sound method\n",
    "cat.display_color()  # Cat-specific behavior"
   ]
  },
  {
   "cell_type": "code",
   "execution_count": null,
   "id": "1f6c9f1c",
   "metadata": {},
   "outputs": [],
   "source": []
  },
  {
   "cell_type": "code",
   "execution_count": null,
   "id": "5613deac",
   "metadata": {},
   "outputs": [],
   "source": []
  },
  {
   "cell_type": "code",
   "execution_count": null,
   "id": "04bc525b",
   "metadata": {},
   "outputs": [],
   "source": []
  },
  {
   "cell_type": "code",
   "execution_count": null,
   "id": "281e8ece",
   "metadata": {},
   "outputs": [],
   "source": []
  }
 ],
 "metadata": {
  "kernelspec": {
   "display_name": "Python 3 (ipykernel)",
   "language": "python",
   "name": "python3"
  },
  "language_info": {
   "codemirror_mode": {
    "name": "ipython",
    "version": 3
   },
   "file_extension": ".py",
   "mimetype": "text/x-python",
   "name": "python",
   "nbconvert_exporter": "python",
   "pygments_lexer": "ipython3",
   "version": "3.10.9"
  }
 },
 "nbformat": 4,
 "nbformat_minor": 5
}
