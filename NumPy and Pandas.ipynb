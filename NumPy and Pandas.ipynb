{
 "cells": [
  {
   "cell_type": "markdown",
   "id": "eeda7e4d",
   "metadata": {},
   "source": [
    "# NumPy"
   ]
  },
  {
   "cell_type": "markdown",
   "id": "373c54b6",
   "metadata": {},
   "source": [
    "Astyppe"
   ]
  },
  {
   "cell_type": "code",
   "execution_count": 4,
   "id": "b0739705",
   "metadata": {},
   "outputs": [],
   "source": [
    "D=23566\n",
    " "
   ]
  },
  {
   "cell_type": "code",
   "execution_count": 5,
   "id": "edd878b2",
   "metadata": {},
   "outputs": [],
   "source": [
    "import numpy as np"
   ]
  },
  {
   "cell_type": "code",
   "execution_count": 7,
   "id": "59f1fa51",
   "metadata": {},
   "outputs": [],
   "source": [
    "M=np.array(D)"
   ]
  },
  {
   "cell_type": "code",
   "execution_count": 8,
   "id": "fb3d7ee3",
   "metadata": {},
   "outputs": [
    {
     "data": {
      "text/plain": [
       "numpy.ndarray"
      ]
     },
     "execution_count": 8,
     "metadata": {},
     "output_type": "execute_result"
    }
   ],
   "source": [
    "type(M)"
   ]
  },
  {
   "cell_type": "code",
   "execution_count": 9,
   "id": "84d32f37",
   "metadata": {},
   "outputs": [],
   "source": [
    "N=M.astype(int)"
   ]
  },
  {
   "cell_type": "code",
   "execution_count": 11,
   "id": "34cd7f7d",
   "metadata": {},
   "outputs": [
    {
     "data": {
      "text/plain": [
       "numpy.ndarray"
      ]
     },
     "execution_count": 11,
     "metadata": {},
     "output_type": "execute_result"
    }
   ],
   "source": [
    "type(N)"
   ]
  },
  {
   "cell_type": "code",
   "execution_count": 12,
   "id": "585f35ef",
   "metadata": {},
   "outputs": [
    {
     "data": {
      "text/plain": [
       "array(23566)"
      ]
     },
     "execution_count": 12,
     "metadata": {},
     "output_type": "execute_result"
    }
   ],
   "source": [
    "N\n"
   ]
  },
  {
   "cell_type": "code",
   "execution_count": 15,
   "id": "005dad28",
   "metadata": {},
   "outputs": [],
   "source": [
    " M=[[[1,2,3,]]]"
   ]
  },
  {
   "cell_type": "code",
   "execution_count": 17,
   "id": "a291242e",
   "metadata": {},
   "outputs": [],
   "source": [
    "M=np.array(M)"
   ]
  },
  {
   "cell_type": "code",
   "execution_count": 18,
   "id": "ac048dfe",
   "metadata": {},
   "outputs": [
    {
     "data": {
      "text/plain": [
       "array([[[1, 2, 3]]])"
      ]
     },
     "execution_count": 18,
     "metadata": {},
     "output_type": "execute_result"
    }
   ],
   "source": [
    "M"
   ]
  },
  {
   "cell_type": "code",
   "execution_count": 20,
   "id": "66616273",
   "metadata": {},
   "outputs": [
    {
     "data": {
      "text/plain": [
       "dtype('int32')"
      ]
     },
     "execution_count": 20,
     "metadata": {},
     "output_type": "execute_result"
    }
   ],
   "source": [
    "M.dtype"
   ]
  },
  {
   "cell_type": "code",
   "execution_count": 21,
   "id": "681daf43",
   "metadata": {},
   "outputs": [
    {
     "data": {
      "text/plain": [
       "3"
      ]
     },
     "execution_count": 21,
     "metadata": {},
     "output_type": "execute_result"
    }
   ],
   "source": [
    "M.ndim"
   ]
  },
  {
   "cell_type": "code",
   "execution_count": 22,
   "id": "50f82a22",
   "metadata": {},
   "outputs": [
    {
     "name": "stdout",
     "output_type": "stream",
     "text": [
      "[[1 2 3]\n",
      " [4 5 6]\n",
      " [7 8 9]]\n"
     ]
    }
   ],
   "source": [
    "matrix = np.array([[1, 2, 3], [4, 5, 6], [7, 8, 9]])\n",
    "print(matrix)"
   ]
  },
  {
   "cell_type": "code",
   "execution_count": 25,
   "id": "01a3f487",
   "metadata": {},
   "outputs": [
    {
     "data": {
      "text/plain": [
       "array([], dtype=int32)"
      ]
     },
     "execution_count": 25,
     "metadata": {},
     "output_type": "execute_result"
    }
   ],
   "source": [
    "arang=np.arange(10)\n",
    "arang"
   ]
  },
  {
   "cell_type": "code",
   "execution_count": 36,
   "id": "95ee069d",
   "metadata": {},
   "outputs": [
    {
     "data": {
      "text/plain": [
       "9"
      ]
     },
     "execution_count": 36,
     "metadata": {},
     "output_type": "execute_result"
    }
   ],
   "source": [
    "matrix[2,2]"
   ]
  },
  {
   "cell_type": "code",
   "execution_count": 39,
   "id": "4b59834a",
   "metadata": {},
   "outputs": [
    {
     "data": {
      "text/plain": [
       "5"
      ]
     },
     "execution_count": 39,
     "metadata": {},
     "output_type": "execute_result"
    }
   ],
   "source": [
    "matrix[1,1]"
   ]
  },
  {
   "cell_type": "code",
   "execution_count": 40,
   "id": "79150f42",
   "metadata": {},
   "outputs": [
    {
     "data": {
      "text/plain": [
       "array([3, 6, 9])"
      ]
     },
     "execution_count": 40,
     "metadata": {},
     "output_type": "execute_result"
    }
   ],
   "source": [
    "matrix[:,2]"
   ]
  },
  {
   "cell_type": "code",
   "execution_count": 42,
   "id": "73a4e058",
   "metadata": {},
   "outputs": [
    {
     "ename": "SyntaxError",
     "evalue": "invalid syntax (2356803744.py, line 1)",
     "output_type": "error",
     "traceback": [
      "\u001b[1;36m  Cell \u001b[1;32mIn[42], line 1\u001b[1;36m\u001b[0m\n\u001b[1;33m    matrix[:[1:2]]\u001b[0m\n\u001b[1;37m              ^\u001b[0m\n\u001b[1;31mSyntaxError\u001b[0m\u001b[1;31m:\u001b[0m invalid syntax\n"
     ]
    }
   ],
   "source": [
    "matrix[:[1:2]]"
   ]
  },
  {
   "cell_type": "code",
   "execution_count": 44,
   "id": "d4c05404",
   "metadata": {},
   "outputs": [
    {
     "data": {
      "text/plain": [
       "array([[5, 6],\n",
       "       [8, 9]])"
      ]
     },
     "execution_count": 44,
     "metadata": {},
     "output_type": "execute_result"
    }
   ],
   "source": [
    "matrix[1:3,1:3]"
   ]
  },
  {
   "cell_type": "code",
   "execution_count": 45,
   "id": "738bc94f",
   "metadata": {},
   "outputs": [
    {
     "data": {
      "text/plain": [
       "array([[5, 6],\n",
       "       [8, 9]])"
      ]
     },
     "execution_count": 45,
     "metadata": {},
     "output_type": "execute_result"
    }
   ],
   "source": [
    "matrix[1:3,1:3]"
   ]
  },
  {
   "cell_type": "code",
   "execution_count": 51,
   "id": "89d976af",
   "metadata": {},
   "outputs": [
    {
     "data": {
      "text/plain": [
       "array([[5, 6]])"
      ]
     },
     "execution_count": 51,
     "metadata": {},
     "output_type": "execute_result"
    }
   ],
   "source": [
    "matrix[1:2,1:3]"
   ]
  },
  {
   "cell_type": "code",
   "execution_count": 48,
   "id": "db18ed65",
   "metadata": {},
   "outputs": [
    {
     "data": {
      "text/plain": [
       "array([[1, 2, 3],\n",
       "       [4, 5, 6],\n",
       "       [7, 8, 9]])"
      ]
     },
     "execution_count": 48,
     "metadata": {},
     "output_type": "execute_result"
    }
   ],
   "source": [
    "matrix"
   ]
  },
  {
   "cell_type": "markdown",
   "id": "2f5cc10f",
   "metadata": {},
   "source": [
    "# Lambda"
   ]
  },
  {
   "cell_type": "markdown",
   "id": "ce840dff",
   "metadata": {},
   "source": [
    "# Arange"
   ]
  },
  {
   "cell_type": "markdown",
   "id": "a57de80e",
   "metadata": {},
   "source": [
    "# linSpace"
   ]
  },
  {
   "cell_type": "code",
   "execution_count": 57,
   "id": "fa336022",
   "metadata": {},
   "outputs": [],
   "source": [
    "line=np.linspace(2,5)"
   ]
  },
  {
   "cell_type": "code",
   "execution_count": 58,
   "id": "a7ed4349",
   "metadata": {},
   "outputs": [
    {
     "data": {
      "text/plain": [
       "array([2.        , 2.06122449, 2.12244898, 2.18367347, 2.24489796,\n",
       "       2.30612245, 2.36734694, 2.42857143, 2.48979592, 2.55102041,\n",
       "       2.6122449 , 2.67346939, 2.73469388, 2.79591837, 2.85714286,\n",
       "       2.91836735, 2.97959184, 3.04081633, 3.10204082, 3.16326531,\n",
       "       3.2244898 , 3.28571429, 3.34693878, 3.40816327, 3.46938776,\n",
       "       3.53061224, 3.59183673, 3.65306122, 3.71428571, 3.7755102 ,\n",
       "       3.83673469, 3.89795918, 3.95918367, 4.02040816, 4.08163265,\n",
       "       4.14285714, 4.20408163, 4.26530612, 4.32653061, 4.3877551 ,\n",
       "       4.44897959, 4.51020408, 4.57142857, 4.63265306, 4.69387755,\n",
       "       4.75510204, 4.81632653, 4.87755102, 4.93877551, 5.        ])"
      ]
     },
     "execution_count": 58,
     "metadata": {},
     "output_type": "execute_result"
    }
   ],
   "source": [
    "line"
   ]
  },
  {
   "cell_type": "markdown",
   "id": "0c0e249f",
   "metadata": {},
   "source": [
    "# Random"
   ]
  },
  {
   "cell_type": "markdown",
   "id": "cbd9b897",
   "metadata": {},
   "source": [
    "- rand\n",
    "- randn\n",
    "\n",
    " - randint"
   ]
  },
  {
   "cell_type": "code",
   "execution_count": 70,
   "id": "4bc7b706",
   "metadata": {},
   "outputs": [],
   "source": [
    " \n",
    "mo=np.random.randint(20,50)"
   ]
  },
  {
   "cell_type": "code",
   "execution_count": 71,
   "id": "ba62f5b1",
   "metadata": {},
   "outputs": [
    {
     "data": {
      "text/plain": [
       "26"
      ]
     },
     "execution_count": 71,
     "metadata": {},
     "output_type": "execute_result"
    }
   ],
   "source": [
    "mo"
   ]
  },
  {
   "cell_type": "code",
   "execution_count": 72,
   "id": "e2e3054b",
   "metadata": {},
   "outputs": [],
   "source": [
    " \n",
    "mo=np.random.randint(20,50,5)"
   ]
  },
  {
   "cell_type": "code",
   "execution_count": 73,
   "id": "28ee52d3",
   "metadata": {},
   "outputs": [
    {
     "data": {
      "text/plain": [
       "array([26, 24, 28, 42, 31])"
      ]
     },
     "execution_count": 73,
     "metadata": {},
     "output_type": "execute_result"
    }
   ],
   "source": [
    "mo"
   ]
  },
  {
   "cell_type": "code",
   "execution_count": 76,
   "id": "bec40e73",
   "metadata": {},
   "outputs": [],
   "source": [
    "moh=np.random.rand(1,10)"
   ]
  },
  {
   "cell_type": "code",
   "execution_count": 77,
   "id": "aed0ec84",
   "metadata": {},
   "outputs": [
    {
     "data": {
      "text/plain": [
       "array([[0.86735009, 0.62302117, 0.8967768 , 0.65375793, 0.83672671,\n",
       "        0.7140556 , 0.968796  , 0.81708477, 0.85744029, 0.72993001]])"
      ]
     },
     "execution_count": 77,
     "metadata": {},
     "output_type": "execute_result"
    }
   ],
   "source": [
    "moh"
   ]
  },
  {
   "cell_type": "code",
   "execution_count": 80,
   "id": "19cef40a",
   "metadata": {},
   "outputs": [
    {
     "data": {
      "text/plain": [
       "array([[0.87635527, 0.96587882, 0.13113561, 0.65385909, 0.45261577,\n",
       "        0.1767949 , 0.89989253, 0.65659353, 0.49581919, 0.28601867],\n",
       "       [0.43028071, 0.93834142, 0.11654281, 0.78797355, 0.96462381,\n",
       "        0.60169963, 0.56786245, 0.98895576, 0.83513478, 0.58066884]])"
      ]
     },
     "execution_count": 80,
     "metadata": {},
     "output_type": "execute_result"
    }
   ],
   "source": [
    "mohi=np.random.rand(2,10)\n",
    "mohi"
   ]
  },
  {
   "cell_type": "markdown",
   "id": "70d00f64",
   "metadata": {},
   "source": [
    "# Pandas"
   ]
  },
  {
   "cell_type": "code",
   "execution_count": 82,
   "id": "44476483",
   "metadata": {},
   "outputs": [],
   "source": [
    "import pandas as pd"
   ]
  },
  {
   "cell_type": "code",
   "execution_count": 85,
   "id": "00a0ef36",
   "metadata": {},
   "outputs": [
    {
     "name": "stderr",
     "output_type": "stream",
     "text": [
      "C:\\Users\\Dell\\AppData\\Local\\Temp\\ipykernel_14660\\1876242370.py:1: FutureWarning: The default dtype for empty Series will be 'object' instead of 'float64' in a future version. Specify a dtype explicitly to silence this warning.\n",
      "  ser=pd.Series()\n"
     ]
    }
   ],
   "source": [
    "ser=pd.Series()"
   ]
  },
  {
   "cell_type": "code",
   "execution_count": 86,
   "id": "5b7b65aa",
   "metadata": {},
   "outputs": [
    {
     "data": {
      "text/plain": [
       "Series([], dtype: float64)"
      ]
     },
     "execution_count": 86,
     "metadata": {},
     "output_type": "execute_result"
    }
   ],
   "source": [
    "ser"
   ]
  },
  {
   "cell_type": "code",
   "execution_count": 89,
   "id": "70946559",
   "metadata": {},
   "outputs": [],
   "source": [
    "import warnings\n",
    "warnings.filterwarnings('ignore')"
   ]
  },
  {
   "cell_type": "code",
   "execution_count": 90,
   "id": "781d4d68",
   "metadata": {},
   "outputs": [
    {
     "data": {
      "text/plain": [
       "Series([], dtype: float64)"
      ]
     },
     "execution_count": 90,
     "metadata": {},
     "output_type": "execute_result"
    }
   ],
   "source": [
    "ser\n"
   ]
  },
  {
   "cell_type": "code",
   "execution_count": 93,
   "id": "72b12fb2",
   "metadata": {},
   "outputs": [],
   "source": [
    "\n",
    "data=pd.DataFrame()"
   ]
  },
  {
   "cell_type": "code",
   "execution_count": 96,
   "id": "bb4230b0",
   "metadata": {},
   "outputs": [
    {
     "ename": "AttributeError",
     "evalue": "'DataFrame' object has no attribute 'types'",
     "output_type": "error",
     "traceback": [
      "\u001b[1;31m---------------------------------------------------------------------------\u001b[0m",
      "\u001b[1;31mAttributeError\u001b[0m                            Traceback (most recent call last)",
      "Cell \u001b[1;32mIn[96], line 1\u001b[0m\n\u001b[1;32m----> 1\u001b[0m \u001b[43mdata\u001b[49m\u001b[38;5;241;43m.\u001b[39;49m\u001b[43mtypes\u001b[49m\n",
      "File \u001b[1;32m~\\anaconda3\\lib\\site-packages\\pandas\\core\\generic.py:5902\u001b[0m, in \u001b[0;36mNDFrame.__getattr__\u001b[1;34m(self, name)\u001b[0m\n\u001b[0;32m   5895\u001b[0m \u001b[38;5;28;01mif\u001b[39;00m (\n\u001b[0;32m   5896\u001b[0m     name \u001b[38;5;129;01mnot\u001b[39;00m \u001b[38;5;129;01min\u001b[39;00m \u001b[38;5;28mself\u001b[39m\u001b[38;5;241m.\u001b[39m_internal_names_set\n\u001b[0;32m   5897\u001b[0m     \u001b[38;5;129;01mand\u001b[39;00m name \u001b[38;5;129;01mnot\u001b[39;00m \u001b[38;5;129;01min\u001b[39;00m \u001b[38;5;28mself\u001b[39m\u001b[38;5;241m.\u001b[39m_metadata\n\u001b[0;32m   5898\u001b[0m     \u001b[38;5;129;01mand\u001b[39;00m name \u001b[38;5;129;01mnot\u001b[39;00m \u001b[38;5;129;01min\u001b[39;00m \u001b[38;5;28mself\u001b[39m\u001b[38;5;241m.\u001b[39m_accessors\n\u001b[0;32m   5899\u001b[0m     \u001b[38;5;129;01mand\u001b[39;00m \u001b[38;5;28mself\u001b[39m\u001b[38;5;241m.\u001b[39m_info_axis\u001b[38;5;241m.\u001b[39m_can_hold_identifiers_and_holds_name(name)\n\u001b[0;32m   5900\u001b[0m ):\n\u001b[0;32m   5901\u001b[0m     \u001b[38;5;28;01mreturn\u001b[39;00m \u001b[38;5;28mself\u001b[39m[name]\n\u001b[1;32m-> 5902\u001b[0m \u001b[38;5;28;01mreturn\u001b[39;00m \u001b[38;5;28;43mobject\u001b[39;49m\u001b[38;5;241;43m.\u001b[39;49m\u001b[38;5;21;43m__getattribute__\u001b[39;49m\u001b[43m(\u001b[49m\u001b[38;5;28;43mself\u001b[39;49m\u001b[43m,\u001b[49m\u001b[43m \u001b[49m\u001b[43mname\u001b[49m\u001b[43m)\u001b[49m\n",
      "\u001b[1;31mAttributeError\u001b[0m: 'DataFrame' object has no attribute 'types'"
     ]
    }
   ],
   "source": [
    "data.types"
   ]
  },
  {
   "cell_type": "code",
   "execution_count": 97,
   "id": "6cda01da",
   "metadata": {},
   "outputs": [
    {
     "data": {
      "text/plain": [
       "pandas.core.frame.DataFrame"
      ]
     },
     "execution_count": 97,
     "metadata": {},
     "output_type": "execute_result"
    }
   ],
   "source": [
    "type(data)"
   ]
  },
  {
   "cell_type": "code",
   "execution_count": null,
   "id": "4737ebbd",
   "metadata": {},
   "outputs": [],
   "source": [
    "\n",
    "\n"
   ]
  }
 ],
 "metadata": {
  "kernelspec": {
   "display_name": "Python 3 (ipykernel)",
   "language": "python",
   "name": "python3"
  },
  "language_info": {
   "codemirror_mode": {
    "name": "ipython",
    "version": 3
   },
   "file_extension": ".py",
   "mimetype": "text/x-python",
   "name": "python",
   "nbconvert_exporter": "python",
   "pygments_lexer": "ipython3",
   "version": "3.10.9"
  }
 },
 "nbformat": 4,
 "nbformat_minor": 5
}
