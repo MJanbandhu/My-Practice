{
 "cells": [
  {
   "cell_type": "code",
   "execution_count": 2,
   "id": "da3cb6ac",
   "metadata": {},
   "outputs": [
    {
     "name": "stdout",
     "output_type": "stream",
     "text": [
      "Mohit Janbandhu\n"
     ]
    }
   ],
   "source": [
    "print(\"Mohit Janbandhu\")"
   ]
  },
  {
   "cell_type": "code",
   "execution_count": 3,
   "id": "2d67411f",
   "metadata": {},
   "outputs": [],
   "source": [
    "list1=[4,8,6,4,6,21,5,8,12,5]"
   ]
  },
  {
   "cell_type": "code",
   "execution_count": 12,
   "id": "9d320162",
   "metadata": {},
   "outputs": [
    {
     "name": "stdout",
     "output_type": "stream",
     "text": [
      "4 Is Even\n",
      "8 Is Even\n",
      "6 Is Even\n",
      "4 Is Even\n",
      "6 Is Even\n",
      "21 Is Odd\n",
      "5 Is Odd\n",
      "8 Is Even\n",
      "12 Is Even\n",
      "5 Is Odd\n"
     ]
    }
   ],
   "source": [
    "for num in list1:\n",
    "    if num %2==0:\n",
    "        print(f\"{num} Is Even\")\n",
    "        \n",
    "    else:\n",
    "        print(f\"{num} Is Odd\")"
   ]
  },
  {
   "cell_type": "code",
   "execution_count": null,
   "id": "eea0c8cb",
   "metadata": {},
   "outputs": [],
   "source": [
    " \n",
    "    "
   ]
  },
  {
   "cell_type": "code",
   "execution_count": null,
   "id": "3884b565",
   "metadata": {},
   "outputs": [],
   "source": []
  }
 ],
 "metadata": {
  "kernelspec": {
   "display_name": "Python 3 (ipykernel)",
   "language": "python",
   "name": "python3"
  },
  "language_info": {
   "codemirror_mode": {
    "name": "ipython",
    "version": 3
   },
   "file_extension": ".py",
   "mimetype": "text/x-python",
   "name": "python",
   "nbconvert_exporter": "python",
   "pygments_lexer": "ipython3",
   "version": "3.10.9"
  }
 },
 "nbformat": 4,
 "nbformat_minor": 5
}
