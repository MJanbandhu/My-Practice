{
 "cells": [
  {
   "cell_type": "code",
   "execution_count": 3,
   "id": "c0cc9751",
   "metadata": {},
   "outputs": [],
   "source": [
    "m=\"Mohit Janbandhu 12345\""
   ]
  },
  {
   "cell_type": "code",
   "execution_count": 7,
   "id": "9787d067",
   "metadata": {},
   "outputs": [],
   "source": [
    "upper_latter=0\n",
    "lower_latter=0\n",
    "digits=0"
   ]
  },
  {
   "cell_type": "code",
   "execution_count": 8,
   "id": "b1861366",
   "metadata": {},
   "outputs": [],
   "source": [
    "for char in m:\n",
    "    if char.isupper():\n",
    "        upper_latter +=1\n",
    "        \n",
    "    elif char.islower():\n",
    "        lower_latter +=1\n",
    "        \n",
    "    elif char.isdigit():\n",
    "        digits +=1"
   ]
  },
  {
   "cell_type": "code",
   "execution_count": 9,
   "id": "349a37ed",
   "metadata": {},
   "outputs": [
    {
     "name": "stdout",
     "output_type": "stream",
     "text": [
      "2\n",
      "12\n",
      "5\n"
     ]
    }
   ],
   "source": [
    "print(upper_latter)\n",
    "print(lower_latter)\n",
    "print(digits)"
   ]
  },
  {
   "cell_type": "code",
   "execution_count": 15,
   "id": "23ed7537",
   "metadata": {},
   "outputs": [
    {
     "name": "stdout",
     "output_type": "stream",
     "text": [
      "Enter number5 4 8 8 4 8 \n"
     ]
    }
   ],
   "source": [
    "num=list(map(int, input(\"Enter number\").split()))\n",
    "def even_num(number):\n",
    "    if number %2==0:\n",
    "        print(f\"{number} is even number\")\n",
    "    else:\n",
    "        print(f\"{number} is odd number\")"
   ]
  },
  {
   "cell_type": "code",
   "execution_count": 16,
   "id": "4bf06c7b",
   "metadata": {},
   "outputs": [
    {
     "name": "stdout",
     "output_type": "stream",
     "text": [
      "5 is odd number\n",
      "None\n",
      "4 is even number\n",
      "None\n",
      "8 is even number\n",
      "None\n",
      "8 is even number\n",
      "None\n",
      "4 is even number\n",
      "None\n",
      "8 is even number\n",
      "None\n"
     ]
    }
   ],
   "source": [
    "for number in num:\n",
    "    print(even_num(number))"
   ]
  },
  {
   "cell_type": "code",
   "execution_count": 14,
   "id": "cf90de99",
   "metadata": {},
   "outputs": [
    {
     "name": "stdout",
     "output_type": "stream",
     "text": [
      "Enter 5 numbers separated by space: 4 8 7 8 4 \n",
      "4 is an even number\n",
      "8 is an even number\n",
      "7 is an odd number\n",
      "8 is an even number\n",
      "4 is an even number\n"
     ]
    }
   ],
   "source": [
    "# Taking 5 numbers as input\n",
    "num = list(map(int, input(\"Enter 5 numbers separated by space: \").split()))\n",
    "\n",
    "# Check if exactly 5 numbers are entered\n",
    "if len(num) != 5:\n",
    "    print(\"Please enter exactly 5 numbers.\")\n",
    "else:\n",
    "    # Function to check even or odd\n",
    "    def even_num(number):\n",
    "        if number % 2 == 0:\n",
    "            print(f\"{number} is an even number\")\n",
    "        else:\n",
    "            print(f\"{number} is an odd number\")\n",
    "    \n",
    "    # Loop through the list and check each number\n",
    "    for n in num:\n",
    "        even_num(n)"
   ]
  },
  {
   "cell_type": "code",
   "execution_count": 19,
   "id": "d2339b9d",
   "metadata": {},
   "outputs": [
    {
     "name": "stdout",
     "output_type": "stream",
     "text": [
      "o i a a u "
     ]
    }
   ],
   "source": [
    "vowels=\"aeiouAEIOU\"\n",
    "for char in m:\n",
    "    if char in vowels:\n",
    "        print(char, end=\" \")"
   ]
  },
  {
   "cell_type": "code",
   "execution_count": 20,
   "id": "96094fb3",
   "metadata": {},
   "outputs": [
    {
     "data": {
      "text/plain": [
       "'Mohit Janbandhu 12345'"
      ]
     },
     "execution_count": 20,
     "metadata": {},
     "output_type": "execute_result"
    }
   ],
   "source": [
    "m"
   ]
  },
  {
   "cell_type": "code",
   "execution_count": 29,
   "id": "d3ad8be0",
   "metadata": {},
   "outputs": [],
   "source": [
    "n=m.split()"
   ]
  },
  {
   "cell_type": "code",
   "execution_count": 30,
   "id": "2bf65372",
   "metadata": {},
   "outputs": [
    {
     "data": {
      "text/plain": [
       "['Mohit', 'Janbandhu', '12345']"
      ]
     },
     "execution_count": 30,
     "metadata": {},
     "output_type": "execute_result"
    }
   ],
   "source": [
    "n"
   ]
  },
  {
   "cell_type": "code",
   "execution_count": 33,
   "id": "56e6a37e",
   "metadata": {},
   "outputs": [],
   "source": [
    "o=n[::-1]"
   ]
  },
  {
   "cell_type": "code",
   "execution_count": 34,
   "id": "00946222",
   "metadata": {},
   "outputs": [
    {
     "data": {
      "text/plain": [
       "['12345', 'Janbandhu', 'Mohit']"
      ]
     },
     "execution_count": 34,
     "metadata": {},
     "output_type": "execute_result"
    }
   ],
   "source": [
    "o"
   ]
  },
  {
   "cell_type": "code",
   "execution_count": null,
   "id": "1f4ec5b3",
   "metadata": {},
   "outputs": [],
   "source": []
  }
 ],
 "metadata": {
  "kernelspec": {
   "display_name": "Python 3 (ipykernel)",
   "language": "python",
   "name": "python3"
  },
  "language_info": {
   "codemirror_mode": {
    "name": "ipython",
    "version": 3
   },
   "file_extension": ".py",
   "mimetype": "text/x-python",
   "name": "python",
   "nbconvert_exporter": "python",
   "pygments_lexer": "ipython3",
   "version": "3.10.9"
  }
 },
 "nbformat": 4,
 "nbformat_minor": 5
}
