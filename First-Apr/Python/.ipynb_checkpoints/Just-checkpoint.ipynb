{
 "cells": [
  {
   "cell_type": "code",
   "execution_count": null,
   "id": "bfd9c8eb",
   "metadata": {},
   "outputs": [],
   "source": []
  },
  {
   "cell_type": "code",
   "execution_count": 1,
   "id": "da3cb6ac",
   "metadata": {},
   "outputs": [
    {
     "name": "stdout",
     "output_type": "stream",
     "text": [
      "Mohit Janbandhu\n"
     ]
    }
   ],
   "source": [
    "print(\"Mohit Janbandhu\")"
   ]
  },
  {
   "cell_type": "code",
   "execution_count": 2,
   "id": "2d67411f",
   "metadata": {},
   "outputs": [],
   "source": [
    "list1=[4,8,6,4,6,21,5,8,12,5]"
   ]
  },
  {
   "cell_type": "code",
   "execution_count": 3,
   "id": "9d320162",
   "metadata": {},
   "outputs": [
    {
     "name": "stdout",
     "output_type": "stream",
     "text": [
      "4 Is Even\n",
      "8 Is Even\n",
      "6 Is Even\n",
      "4 Is Even\n",
      "6 Is Even\n",
      "21 Is Odd\n",
      "5 Is Odd\n",
      "8 Is Even\n",
      "12 Is Even\n",
      "5 Is Odd\n"
     ]
    }
   ],
   "source": [
    "for num in list1:\n",
    "    if num %2==0:\n",
    "        print(f\"{num} Is Even\")\n",
    "        \n",
    "    else:\n",
    "        print(f\"{num} Is Odd\")"
   ]
  },
  {
   "cell_type": "code",
   "execution_count": null,
   "id": "cd5a9310",
   "metadata": {},
   "outputs": [],
   "source": []
  },
  {
   "cell_type": "markdown",
   "id": "0bcafa88",
   "metadata": {},
   "source": [
    "#   Lambda"
   ]
  },
  {
   "cell_type": "code",
   "execution_count": 12,
   "id": "3884b565",
   "metadata": {},
   "outputs": [],
   "source": [
    "lambda_fun= map(lambda x: \"Even\" if x %2==0 else \"Odd\", list1)"
   ]
  },
  {
   "cell_type": "code",
   "execution_count": 13,
   "id": "a213b926",
   "metadata": {},
   "outputs": [
    {
     "data": {
      "text/plain": [
       "['Even', 'Even', 'Even', 'Even', 'Even', 'Odd', 'Odd', 'Even', 'Even', 'Odd']"
      ]
     },
     "execution_count": 13,
     "metadata": {},
     "output_type": "execute_result"
    }
   ],
   "source": [
    "list(lambda_fun)"
   ]
  },
  {
   "cell_type": "markdown",
   "id": "db37dc21",
   "metadata": {},
   "source": [
    "# Vowels"
   ]
  },
  {
   "cell_type": "code",
   "execution_count": 19,
   "id": "533efaea",
   "metadata": {},
   "outputs": [],
   "source": [
    "m=\"Mohit Janbandhu 1234\"\n",
    "vowels=\"aeiouAEIOU\""
   ]
  },
  {
   "cell_type": "code",
   "execution_count": 21,
   "id": "aaa97458",
   "metadata": {},
   "outputs": [
    {
     "name": "stdout",
     "output_type": "stream",
     "text": [
      "o i a a u "
     ]
    }
   ],
   "source": [
    "for char in m:\n",
    "    if char in vowels:\n",
    "        print(char,end=\" \")"
   ]
  },
  {
   "cell_type": "markdown",
   "id": "5c4b4d28",
   "metadata": {},
   "source": [
    "# print Rev"
   ]
  },
  {
   "cell_type": "code",
   "execution_count": 23,
   "id": "56396bd1",
   "metadata": {},
   "outputs": [],
   "source": [
    "m=12150"
   ]
  },
  {
   "cell_type": "code",
   "execution_count": 31,
   "id": "bd461be0",
   "metadata": {},
   "outputs": [],
   "source": [
    "n=str(m)"
   ]
  },
  {
   "cell_type": "code",
   "execution_count": 36,
   "id": "d2abd404",
   "metadata": {
    "scrolled": true
   },
   "outputs": [],
   "source": [
    "o=n[::-1]"
   ]
  },
  {
   "cell_type": "code",
   "execution_count": 37,
   "id": "18e3a5a9",
   "metadata": {},
   "outputs": [],
   "source": [
    "p=int(o)"
   ]
  },
  {
   "cell_type": "code",
   "execution_count": 38,
   "id": "b27af89b",
   "metadata": {},
   "outputs": [
    {
     "data": {
      "text/plain": [
       "5121"
      ]
     },
     "execution_count": 38,
     "metadata": {},
     "output_type": "execute_result"
    }
   ],
   "source": [
    "p"
   ]
  },
  {
   "cell_type": "code",
   "execution_count": 39,
   "id": "8f23a25d",
   "metadata": {},
   "outputs": [],
   "source": [
    "q=0+p"
   ]
  },
  {
   "cell_type": "code",
   "execution_count": 40,
   "id": "46b25834",
   "metadata": {},
   "outputs": [
    {
     "data": {
      "text/plain": [
       "5121"
      ]
     },
     "execution_count": 40,
     "metadata": {},
     "output_type": "execute_result"
    }
   ],
   "source": [
    "q"
   ]
  },
  {
   "cell_type": "code",
   "execution_count": 43,
   "id": "a59a463d",
   "metadata": {},
   "outputs": [
    {
     "name": "stdout",
     "output_type": "stream",
     "text": [
      "05121\n"
     ]
    }
   ],
   "source": [
    "r=f\"{q:0{len(n)}d}\"\n",
    "print(r)"
   ]
  },
  {
   "cell_type": "code",
   "execution_count": null,
   "id": "58db1f5f",
   "metadata": {},
   "outputs": [],
   "source": []
  }
 ],
 "metadata": {
  "kernelspec": {
   "display_name": "Python 3 (ipykernel)",
   "language": "python",
   "name": "python3"
  },
  "language_info": {
   "codemirror_mode": {
    "name": "ipython",
    "version": 3
   },
   "file_extension": ".py",
   "mimetype": "text/x-python",
   "name": "python",
   "nbconvert_exporter": "python",
   "pygments_lexer": "ipython3",
   "version": "3.10.9"
  }
 },
 "nbformat": 4,
 "nbformat_minor": 5
}
