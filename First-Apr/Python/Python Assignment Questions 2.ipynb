{
 "cells": [
  {
   "cell_type": "markdown",
   "id": "2e7047ff",
   "metadata": {},
   "source": [
    "1) From the below nested dictionary, pick the word \"Bangalore\". \n",
    "   d = {'1':'One','2':[1,{'Two':['Ch','Cbe','Salem',{'Place':[5,6,7,'Bangalore']}]}]}"
   ]
  },
  {
   "cell_type": "markdown",
   "id": "518fde26",
   "metadata": {},
   "source": [
    "2) Write a program to reverse a string using while loop"
   ]
  },
  {
   "cell_type": "markdown",
   "id": "28424ca1",
   "metadata": {},
   "source": [
    "3) Write a program to find sum of all numbers from 1 to 20 using for loop"
   ]
  },
  {
   "cell_type": "markdown",
   "id": "1798f1ee",
   "metadata": {},
   "source": [
    "4) Write a program to display the numbers in reverse from 100 to 1"
   ]
  },
  {
   "cell_type": "markdown",
   "id": "e9a38446",
   "metadata": {},
   "source": [
    "5) Write program to test whether the given number lies between 1 and 10"
   ]
  },
  {
   "cell_type": "markdown",
   "id": "f183d5ae",
   "metadata": {},
   "source": [
    "6) Write program to display multiples of 2 from 10 to 50 using range"
   ]
  },
  {
   "cell_type": "markdown",
   "id": "30f7deb4",
   "metadata": {},
   "source": [
    "7) Use functions to return square of numbers from 2 to 5"
   ]
  },
  {
   "cell_type": "markdown",
   "id": "e8ba219f",
   "metadata": {},
   "source": [
    "8) Write a function calculation() such that it can accept two variables and calculate the addition and subtraction of it.And also it must return both addition and subtraction in a single return call"
   ]
  },
  {
   "cell_type": "markdown",
   "id": "bb1056dc",
   "metadata": {},
   "source": [
    "9) Create a function showEmployee() in such a way that it should accept employee name, and it’s salary and display both,and if the salary is missing in function call it should show it as 9000"
   ]
  },
  {
   "cell_type": "markdown",
   "id": "a5c0e209",
   "metadata": {},
   "source": [
    "10) Write a recursive function to calculate the sum of numbers from 0 to 10"
   ]
  },
  {
   "cell_type": "markdown",
   "id": "f5639b2a",
   "metadata": {},
   "source": [
    "11) Generate a Python list of all the even numbers between 4 to 30"
   ]
  },
  {
   "cell_type": "markdown",
   "id": "771baa17",
   "metadata": {},
   "source": [
    "12) Write a Python program which accepts the radius of a circle from the user and compute the area."
   ]
  },
  {
   "cell_type": "markdown",
   "id": "6bacaca0",
   "metadata": {},
   "source": [
    "13. Write a Python program to display the current date and time"
   ]
  },
  {
   "cell_type": "markdown",
   "id": "72c92654",
   "metadata": {},
   "source": [
    "14. Write a Python program to calculate number of days between two dates. Sample dates : (2014, 7, 2), (2014, 7, 11)"
   ]
  },
  {
   "cell_type": "markdown",
   "id": "26e1d7a2",
   "metadata": {},
   "source": [
    "15. Write a Python program to get the difference between a given number and 17, if the number is greater than 17 return double the absolute difference"
   ]
  },
  {
   "cell_type": "markdown",
   "id": "a8ef7915",
   "metadata": {},
   "source": [
    "16.  Write a Python program to get the difference between a given number and 17, if the number is greater than 17 return double the absolute difference"
   ]
  },
  {
   "cell_type": "markdown",
   "id": "e272118a",
   "metadata": {},
   "source": [
    "17. We have set, set1={5,6,7,8} How to add multiple items 12,15,18 in set1?\n",
    "\n"
   ]
  },
  {
   "cell_type": "markdown",
   "id": "1d9d6419",
   "metadata": {},
   "source": [
    "18. Write a Python program which accepts a sequence of comma-separated numbers from user and generate a list and a tuple with those numbers"
   ]
  },
  {
   "cell_type": "markdown",
   "id": "184195ec",
   "metadata": {},
   "source": [
    "19. Convert Celsius to Fahrenheit using a lambda function"
   ]
  },
  {
   "cell_type": "markdown",
   "id": "994e7316",
   "metadata": {},
   "source": [
    "20. Find the maximum of two numbers using a lambda function"
   ]
  },
  {
   "cell_type": "code",
   "execution_count": null,
   "id": "cefb40d3",
   "metadata": {},
   "outputs": [],
   "source": []
  }
 ],
 "metadata": {
  "kernelspec": {
   "display_name": "Python 3 (ipykernel)",
   "language": "python",
   "name": "python3"
  },
  "language_info": {
   "codemirror_mode": {
    "name": "ipython",
    "version": 3
   },
   "file_extension": ".py",
   "mimetype": "text/x-python",
   "name": "python",
   "nbconvert_exporter": "python",
   "pygments_lexer": "ipython3",
   "version": "3.9.7"
  }
 },
 "nbformat": 4,
 "nbformat_minor": 5
}
