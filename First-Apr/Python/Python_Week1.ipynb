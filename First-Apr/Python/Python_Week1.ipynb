{
  "cells": [
    {
      "cell_type": "markdown",
      "id": "5a7567de-8c4e-4721-ba41-a86de7113dc3",
      "metadata": {
        "id": "5a7567de-8c4e-4721-ba41-a86de7113dc3"
      },
      "source": [
        "#### Python\n",
        "\n",
        "- Python is a programming language created by Guido van Rossum in 1991\n",
        "- easy , versatile , simple , open source"
      ]
    },
    {
      "cell_type": "markdown",
      "id": "12461e42-76ba-4afe-9369-2a7ccad9af2c",
      "metadata": {
        "id": "12461e42-76ba-4afe-9369-2a7ccad9af2c"
      },
      "source": [
        "#### Variable\n",
        "- storage containers , store the value in the memory\n",
        "- syntax : variable_name = value"
      ]
    },
    {
      "cell_type": "code",
      "execution_count": null,
      "id": "793703db-d2ea-4254-810e-a94eb47bbfe1",
      "metadata": {
        "id": "793703db-d2ea-4254-810e-a94eb47bbfe1"
      },
      "outputs": [],
      "source": [
        "a = 3"
      ]
    },
    {
      "cell_type": "code",
      "execution_count": null,
      "id": "6f2346d6-199d-47da-82b0-5bc2455f2828",
      "metadata": {
        "id": "6f2346d6-199d-47da-82b0-5bc2455f2828"
      },
      "outputs": [],
      "source": [
        "b = 2"
      ]
    },
    {
      "cell_type": "code",
      "execution_count": null,
      "id": "ab831623-212b-4dd3-a5e7-5c216f33bce4",
      "metadata": {
        "id": "ab831623-212b-4dd3-a5e7-5c216f33bce4",
        "outputId": "dc47a5b6-7eee-4443-c38c-fe91094662d7"
      },
      "outputs": [
        {
          "name": "stdout",
          "output_type": "stream",
          "text": [
            "The value entered is  2\n"
          ]
        }
      ],
      "source": [
        "print('The value entered is ',b)"
      ]
    },
    {
      "cell_type": "code",
      "execution_count": null,
      "id": "e6404b90-ae82-4db0-b008-eccf6edf4fef",
      "metadata": {
        "id": "e6404b90-ae82-4db0-b008-eccf6edf4fef",
        "outputId": "21314895-2684-4f4a-c330-d878013c0e04"
      },
      "outputs": [
        {
          "name": "stdout",
          "output_type": "stream",
          "text": [
            "The value enteres is 3 and 2\n"
          ]
        }
      ],
      "source": [
        "print('The value enteres is',a ,'and',b)"
      ]
    },
    {
      "cell_type": "code",
      "execution_count": null,
      "id": "7295526d-5e30-4e41-846e-2fc1d52623da",
      "metadata": {
        "id": "7295526d-5e30-4e41-846e-2fc1d52623da",
        "outputId": "111fb22a-d7e3-41bf-c54e-f7953c35c0a0"
      },
      "outputs": [
        {
          "name": "stdout",
          "output_type": "stream",
          "text": [
            "The result is 30\n"
          ]
        }
      ],
      "source": [
        "a = 10\n",
        "b = 20\n",
        "c = a + b\n",
        "print('The result is',c)"
      ]
    },
    {
      "cell_type": "code",
      "execution_count": null,
      "id": "be0250a3-4acf-46f7-a183-2ec95cdf72a7",
      "metadata": {
        "id": "be0250a3-4acf-46f7-a183-2ec95cdf72a7",
        "outputId": "d9497d84-210c-4ed2-d824-dd9a772e0abc"
      },
      "outputs": [
        {
          "name": "stdout",
          "output_type": "stream",
          "text": [
            "The result is  -10\n"
          ]
        }
      ],
      "source": [
        "d = a - b\n",
        "print('The result is ', d)"
      ]
    },
    {
      "cell_type": "code",
      "execution_count": null,
      "id": "44358e02-37aa-4003-8420-46d632755efe",
      "metadata": {
        "id": "44358e02-37aa-4003-8420-46d632755efe",
        "outputId": "79b2f2c8-3c11-402c-bc31-cc455bf72744"
      },
      "outputs": [
        {
          "name": "stdout",
          "output_type": "stream",
          "text": [
            "-10\n",
            "200\n"
          ]
        }
      ],
      "source": [
        "d = a - b\n",
        "e = a * b\n",
        "print(d)\n",
        "print(e)"
      ]
    },
    {
      "cell_type": "markdown",
      "id": "32a74d60-b832-4e6c-8ca0-a95d65d6f116",
      "metadata": {
        "id": "32a74d60-b832-4e6c-8ca0-a95d65d6f116"
      },
      "source": [
        "##### Rules of naming a variable"
      ]
    },
    {
      "cell_type": "markdown",
      "id": "4d8f8055-ec8f-40bf-acba-08642a1a01d2",
      "metadata": {
        "id": "4d8f8055-ec8f-40bf-acba-08642a1a01d2"
      },
      "source": [
        "###### 1.Variables cannot start with a number"
      ]
    },
    {
      "cell_type": "code",
      "execution_count": null,
      "id": "5e2b9c76-4cd2-4129-b0a5-245cb00d9392",
      "metadata": {
        "id": "5e2b9c76-4cd2-4129-b0a5-245cb00d9392",
        "outputId": "bc5e87cd-1e99-4eb1-a560-3aa3c3fa2cfa"
      },
      "outputs": [
        {
          "ename": "SyntaxError",
          "evalue": "cannot assign to literal here. Maybe you meant '==' instead of '='? (2881337615.py, line 1)",
          "output_type": "error",
          "traceback": [
            "\u001b[1;36m  Cell \u001b[1;32mIn[39], line 1\u001b[1;36m\u001b[0m\n\u001b[1;33m    1 = 10\u001b[0m\n\u001b[1;37m    ^\u001b[0m\n\u001b[1;31mSyntaxError\u001b[0m\u001b[1;31m:\u001b[0m cannot assign to literal here. Maybe you meant '==' instead of '='?\n"
          ]
        }
      ],
      "source": [
        "1 = 10"
      ]
    },
    {
      "cell_type": "code",
      "execution_count": null,
      "id": "c36d0615-97f8-424f-b7a9-f6acfaae199d",
      "metadata": {
        "id": "c36d0615-97f8-424f-b7a9-f6acfaae199d"
      },
      "outputs": [],
      "source": [
        "a1 = 10"
      ]
    },
    {
      "cell_type": "markdown",
      "id": "e5fa6b44-9a42-47ab-beff-1cd7a637447b",
      "metadata": {
        "id": "e5fa6b44-9a42-47ab-beff-1cd7a637447b"
      },
      "source": [
        "###### 2. Variables cannot have any special character other than '_'"
      ]
    },
    {
      "cell_type": "code",
      "execution_count": null,
      "id": "821f9184-581e-4f41-84a3-e6b1888bfd95",
      "metadata": {
        "id": "821f9184-581e-4f41-84a3-e6b1888bfd95",
        "outputId": "23cd26b8-8c36-4248-b185-8e01bdc93ca4"
      },
      "outputs": [
        {
          "ename": "SyntaxError",
          "evalue": "invalid syntax (318979561.py, line 1)",
          "output_type": "error",
          "traceback": [
            "\u001b[1;36m  Cell \u001b[1;32mIn[45], line 1\u001b[1;36m\u001b[0m\n\u001b[1;33m    a$ = 10\u001b[0m\n\u001b[1;37m     ^\u001b[0m\n\u001b[1;31mSyntaxError\u001b[0m\u001b[1;31m:\u001b[0m invalid syntax\n"
          ]
        }
      ],
      "source": [
        "a$ = 10"
      ]
    },
    {
      "cell_type": "code",
      "execution_count": null,
      "id": "4eb5bd13-e61d-4e36-a311-b0cb47da76d7",
      "metadata": {
        "id": "4eb5bd13-e61d-4e36-a311-b0cb47da76d7"
      },
      "outputs": [],
      "source": [
        "_a = 10"
      ]
    },
    {
      "cell_type": "code",
      "execution_count": null,
      "id": "2627245e-bacd-4490-982a-7d29bb431d47",
      "metadata": {
        "id": "2627245e-bacd-4490-982a-7d29bb431d47"
      },
      "outputs": [],
      "source": [
        "a_ = 10"
      ]
    },
    {
      "cell_type": "code",
      "execution_count": null,
      "id": "3a92ce7e-2cb1-46d7-860d-d0bb599c8cb7",
      "metadata": {
        "id": "3a92ce7e-2cb1-46d7-860d-d0bb599c8cb7"
      },
      "outputs": [],
      "source": [
        "a_a = 10"
      ]
    },
    {
      "cell_type": "markdown",
      "id": "58eee330-edee-438a-a70d-877d99548c84",
      "metadata": {
        "id": "58eee330-edee-438a-a70d-877d99548c84"
      },
      "source": [
        "###### 3. Variables cannot have space between them"
      ]
    },
    {
      "cell_type": "code",
      "execution_count": null,
      "id": "f1edfc6b-cd08-4c9c-a867-e0fc9f605927",
      "metadata": {
        "id": "f1edfc6b-cd08-4c9c-a867-e0fc9f605927",
        "outputId": "0a0c5968-b7d4-49bd-a249-f4dc72057a11"
      },
      "outputs": [
        {
          "ename": "SyntaxError",
          "evalue": "invalid syntax (1785724201.py, line 1)",
          "output_type": "error",
          "traceback": [
            "\u001b[1;36m  Cell \u001b[1;32mIn[54], line 1\u001b[1;36m\u001b[0m\n\u001b[1;33m    my name = 'Lakshmi'\u001b[0m\n\u001b[1;37m       ^\u001b[0m\n\u001b[1;31mSyntaxError\u001b[0m\u001b[1;31m:\u001b[0m invalid syntax\n"
          ]
        }
      ],
      "source": [
        "my name = 'Lakshmi'"
      ]
    },
    {
      "cell_type": "code",
      "execution_count": null,
      "id": "e1f1150e-f0d3-4321-9f23-c06d51e2947c",
      "metadata": {
        "id": "e1f1150e-f0d3-4321-9f23-c06d51e2947c"
      },
      "outputs": [],
      "source": [
        "my_name = 'Lakshmi'"
      ]
    },
    {
      "cell_type": "markdown",
      "id": "c2eae599-9f3d-43d1-9e77-eece44d3b666",
      "metadata": {
        "id": "c2eae599-9f3d-43d1-9e77-eece44d3b666"
      },
      "source": [
        "#### Keywords\n",
        "\n",
        "- reserved words ; pre defined meaning .\n",
        "- keywords cannot be taken as a identifier"
      ]
    },
    {
      "cell_type": "code",
      "execution_count": null,
      "id": "422e1280-2985-41c2-bb7d-cebb562d555d",
      "metadata": {
        "id": "422e1280-2985-41c2-bb7d-cebb562d555d",
        "outputId": "e468cc01-ea77-46e1-d208-7bc99df9e9a4"
      },
      "outputs": [
        {
          "name": "stdout",
          "output_type": "stream",
          "text": [
            "The keyword list is  ['False', 'None', 'True', 'and', 'as', 'assert', 'async', 'await', 'break', 'class', 'continue', 'def', 'del', 'elif', 'else', 'except', 'finally', 'for', 'from', 'global', 'if', 'import', 'in', 'is', 'lambda', 'nonlocal', 'not', 'or', 'pass', 'raise', 'return', 'try', 'while', 'with', 'yield']\n"
          ]
        }
      ],
      "source": [
        "import keyword\n",
        "print('The keyword list is ',keyword.kwlist) #kw keyword list"
      ]
    },
    {
      "cell_type": "markdown",
      "id": "61531243-e5e8-44b2-9c5c-c6fae136f036",
      "metadata": {
        "id": "61531243-e5e8-44b2-9c5c-c6fae136f036"
      },
      "source": [
        "##### Identifier\n",
        "\n",
        "- is the name given to the entities like functions, varibles, class etc"
      ]
    },
    {
      "cell_type": "markdown",
      "id": "25d03c29-3d86-4aee-bbf5-5f9071980768",
      "metadata": {
        "id": "25d03c29-3d86-4aee-bbf5-5f9071980768"
      },
      "source": [
        "#### Comments\n",
        "\n",
        "- can be used to explain the code for more readability"
      ]
    },
    {
      "cell_type": "code",
      "execution_count": null,
      "id": "3526f6ab-0881-4145-a2f5-23141596ecc1",
      "metadata": {
        "id": "3526f6ab-0881-4145-a2f5-23141596ecc1"
      },
      "outputs": [],
      "source": [
        "b = 10 # The value 10 is assigned to the variable b\n",
        "\n",
        "# single single comment"
      ]
    },
    {
      "cell_type": "code",
      "execution_count": null,
      "id": "4bcd8644-825d-4f1b-a93b-51ed45702ccf",
      "metadata": {
        "id": "4bcd8644-825d-4f1b-a93b-51ed45702ccf"
      },
      "outputs": [],
      "source": [
        "# MUlti line comment\n",
        "'''\n",
        "Multi\n",
        "line\n",
        "comment\n",
        "'''\n",
        "b = 10"
      ]
    },
    {
      "cell_type": "code",
      "execution_count": null,
      "id": "05146cc5-614f-4b27-98ea-941b73fdafc5",
      "metadata": {
        "id": "05146cc5-614f-4b27-98ea-941b73fdafc5",
        "outputId": "4f2e52c4-dd18-4505-d587-56935d7adcd6"
      },
      "outputs": [
        {
          "data": {
            "text/plain": [
              "10"
            ]
          },
          "execution_count": 69,
          "metadata": {},
          "output_type": "execute_result"
        }
      ],
      "source": [
        "a = b = c = 10 # multiple variable assignment\n",
        "a"
      ]
    },
    {
      "cell_type": "code",
      "execution_count": null,
      "id": "8ba01f74-5b85-4742-9a9f-4fff3f099a43",
      "metadata": {
        "id": "8ba01f74-5b85-4742-9a9f-4fff3f099a43",
        "outputId": "7a24d001-f08e-40c6-ad13-87ad106e876e"
      },
      "outputs": [
        {
          "data": {
            "text/plain": [
              "10"
            ]
          },
          "execution_count": 71,
          "metadata": {},
          "output_type": "execute_result"
        }
      ],
      "source": [
        "b"
      ]
    },
    {
      "cell_type": "code",
      "execution_count": null,
      "id": "b721038b-2de2-45d1-a8af-d376b633645d",
      "metadata": {
        "id": "b721038b-2de2-45d1-a8af-d376b633645d",
        "outputId": "a193f393-45e1-4e16-8a0d-d71263393e85"
      },
      "outputs": [
        {
          "data": {
            "text/plain": [
              "10"
            ]
          },
          "execution_count": 73,
          "metadata": {},
          "output_type": "execute_result"
        }
      ],
      "source": [
        "c"
      ]
    },
    {
      "cell_type": "code",
      "execution_count": null,
      "id": "ed727030-8935-4e3d-8471-a2777c5a39f6",
      "metadata": {
        "id": "ed727030-8935-4e3d-8471-a2777c5a39f6"
      },
      "outputs": [],
      "source": [
        "# x , y , and z -> 10, 20 30\n",
        "x , y , z = 10, 20 ,30\n",
        "x , y , z = 10,20,30"
      ]
    },
    {
      "cell_type": "code",
      "execution_count": null,
      "id": "061507f3-34af-4139-8f89-1ad7df5a73ae",
      "metadata": {
        "id": "061507f3-34af-4139-8f89-1ad7df5a73ae",
        "outputId": "2193bb1f-2ba0-4c8d-d7a5-d568cdab3faf"
      },
      "outputs": [
        {
          "data": {
            "text/plain": [
              "10"
            ]
          },
          "execution_count": 81,
          "metadata": {},
          "output_type": "execute_result"
        }
      ],
      "source": [
        "x"
      ]
    },
    {
      "cell_type": "code",
      "execution_count": null,
      "id": "7144e3af-6209-4308-8177-05a262623133",
      "metadata": {
        "id": "7144e3af-6209-4308-8177-05a262623133",
        "outputId": "e9627886-136d-4b93-ef4f-596cfdc1bdab"
      },
      "outputs": [
        {
          "data": {
            "text/plain": [
              "20"
            ]
          },
          "execution_count": 83,
          "metadata": {},
          "output_type": "execute_result"
        }
      ],
      "source": [
        "y"
      ]
    },
    {
      "cell_type": "code",
      "execution_count": null,
      "id": "c15fb3e6-7bf4-4191-8709-77649ea90d70",
      "metadata": {
        "id": "c15fb3e6-7bf4-4191-8709-77649ea90d70",
        "outputId": "5c2b9d0c-aac9-4733-e4b2-a76b1c7aaa9c"
      },
      "outputs": [
        {
          "data": {
            "text/plain": [
              "30"
            ]
          },
          "execution_count": 85,
          "metadata": {},
          "output_type": "execute_result"
        }
      ],
      "source": [
        "z"
      ]
    },
    {
      "cell_type": "markdown",
      "id": "63e2d089-78d2-41c0-8dcf-9dab9a7725d7",
      "metadata": {
        "id": "63e2d089-78d2-41c0-8dcf-9dab9a7725d7"
      },
      "source": [
        "![image.png](attachment:50699206-a375-4a0a-b155-7ee972f83338.png)"
      ]
    },
    {
      "cell_type": "code",
      "execution_count": null,
      "id": "378861cc-cf53-4be4-bd5f-5e9075768cb6",
      "metadata": {
        "id": "378861cc-cf53-4be4-bd5f-5e9075768cb6",
        "outputId": "a7c62f03-cc14-41b9-9794-3e8ced8649f5"
      },
      "outputs": [
        {
          "data": {
            "text/plain": [
              "int"
            ]
          },
          "execution_count": 89,
          "metadata": {},
          "output_type": "execute_result"
        }
      ],
      "source": [
        "a = 10\n",
        "type(a)"
      ]
    },
    {
      "cell_type": "code",
      "execution_count": null,
      "id": "f1953537-7555-41f3-bc70-dfb7d4fa06c3",
      "metadata": {
        "id": "f1953537-7555-41f3-bc70-dfb7d4fa06c3",
        "outputId": "35405a03-b4f7-4cc3-eb43-78561fa4dc16"
      },
      "outputs": [
        {
          "data": {
            "text/plain": [
              "float"
            ]
          },
          "execution_count": 91,
          "metadata": {},
          "output_type": "execute_result"
        }
      ],
      "source": [
        "b = 1.0\n",
        "type(b)"
      ]
    },
    {
      "cell_type": "code",
      "execution_count": null,
      "id": "91f69632-076e-4c9b-99dd-bbfee5494da6",
      "metadata": {
        "id": "91f69632-076e-4c9b-99dd-bbfee5494da6",
        "outputId": "1f8ae9d0-d89a-44bd-e2bf-1e6505f8626f"
      },
      "outputs": [
        {
          "data": {
            "text/plain": [
              "str"
            ]
          },
          "execution_count": 93,
          "metadata": {},
          "output_type": "execute_result"
        }
      ],
      "source": [
        "c = 'PYTHON'\n",
        "type(c)"
      ]
    },
    {
      "cell_type": "code",
      "execution_count": null,
      "id": "97d49093-7aa6-4273-92cd-c62cd54c0470",
      "metadata": {
        "id": "97d49093-7aa6-4273-92cd-c62cd54c0470",
        "outputId": "031278fa-18af-4906-aa5c-8ff98fa9fe4a"
      },
      "outputs": [
        {
          "data": {
            "text/plain": [
              "bool"
            ]
          },
          "execution_count": 95,
          "metadata": {},
          "output_type": "execute_result"
        }
      ],
      "source": [
        "d = True\n",
        "type(d)"
      ]
    },
    {
      "cell_type": "code",
      "execution_count": null,
      "id": "50f05663-b3aa-470d-aadc-f1d6142f8393",
      "metadata": {
        "id": "50f05663-b3aa-470d-aadc-f1d6142f8393",
        "outputId": "cb20fcf7-bc5a-40f3-848d-94001c4afbf4"
      },
      "outputs": [
        {
          "data": {
            "text/plain": [
              "complex"
            ]
          },
          "execution_count": 97,
          "metadata": {},
          "output_type": "execute_result"
        }
      ],
      "source": [
        "e = 10 + 5j\n",
        "type(e)"
      ]
    },
    {
      "cell_type": "code",
      "execution_count": null,
      "id": "2c3c00f3-38e3-4499-9f91-9016904572c7",
      "metadata": {
        "id": "2c3c00f3-38e3-4499-9f91-9016904572c7",
        "outputId": "856e4afa-48c0-4a9b-91ca-46d27908aabf"
      },
      "outputs": [
        {
          "name": "stdout",
          "output_type": "stream",
          "text": [
            "Hello world\n"
          ]
        }
      ],
      "source": [
        "print('Hello world')"
      ]
    },
    {
      "cell_type": "code",
      "execution_count": null,
      "id": "6c4f439a-6031-4f02-9a18-c4aadaf8cf21",
      "metadata": {
        "id": "6c4f439a-6031-4f02-9a18-c4aadaf8cf21",
        "outputId": "b89850b2-8292-46ad-85a1-90ef9f894563"
      },
      "outputs": [
        {
          "name": "stdout",
          "output_type": "stream",
          "text": [
            "The area is  78.5\n"
          ]
        }
      ],
      "source": [
        "# write a program to compute area of a circle\n",
        "r = 5\n",
        "pi = 3.14\n",
        "area = pi * r * r\n",
        "print('The area is ',area)"
      ]
    },
    {
      "cell_type": "code",
      "execution_count": null,
      "id": "66ba8615-6846-44f3-9021-4e75742c4cb8",
      "metadata": {
        "id": "66ba8615-6846-44f3-9021-4e75742c4cb8",
        "outputId": "b6398b06-1a24-4efd-989f-b4236488ecca"
      },
      "outputs": [
        {
          "name": "stdin",
          "output_type": "stream",
          "text": [
            "enter the number 5\n"
          ]
        },
        {
          "name": "stdout",
          "output_type": "stream",
          "text": [
            "The area is  78.5\n"
          ]
        }
      ],
      "source": [
        "# user defined values\n",
        "# var_name = datatype(input())\n",
        "r = float(input('enter the number'))\n",
        "pi = 3.14\n",
        "area = pi * r * r\n",
        "print('The area is ',area)"
      ]
    },
    {
      "cell_type": "code",
      "execution_count": null,
      "id": "49532490-bfbd-465e-8c1f-4153a2df629d",
      "metadata": {
        "id": "49532490-bfbd-465e-8c1f-4153a2df629d",
        "outputId": "dd137701-19b4-4156-9cae-8a50eee18d2c"
      },
      "outputs": [
        {
          "name": "stdin",
          "output_type": "stream",
          "text": [
            "enter the number 10\n",
            "enter the number 10\n"
          ]
        },
        {
          "name": "stdout",
          "output_type": "stream",
          "text": [
            "20\n"
          ]
        }
      ],
      "source": [
        "# have a interger values (user defined ) and perfrom addtion operation\n",
        "a=int(input('enter the number'))\n",
        "b=int(input('enter the number'))\n",
        "c=a+b\n",
        "print(c)\n"
      ]
    },
    {
      "cell_type": "markdown",
      "id": "3d8741ff-6aaa-453d-8270-6b6f2ea13b0b",
      "metadata": {
        "id": "3d8741ff-6aaa-453d-8270-6b6f2ea13b0b"
      },
      "source": [
        "#### Typecasting\n",
        "* Type Casting is the method to convert the variable data type into a certain data\n",
        "type in order to the operation required to be performed by users.\n",
        "\n",
        "* There are 2 ways in which typecasting is performed.\n",
        "\n",
        "1) Autotypecasting\n",
        "\n",
        "\n",
        "2) Forced Typecasting"
      ]
    },
    {
      "cell_type": "markdown",
      "id": "832182b0-363e-4bbb-a3e1-9a47c77d7560",
      "metadata": {
        "id": "832182b0-363e-4bbb-a3e1-9a47c77d7560"
      },
      "source": [
        "##### Auto Typecasting\n",
        "-  The Python interpreter automatically converts one data type to another without any user involvement."
      ]
    },
    {
      "cell_type": "code",
      "execution_count": null,
      "id": "23195ae2-187e-434c-a363-2d97ee2861eb",
      "metadata": {
        "id": "23195ae2-187e-434c-a363-2d97ee2861eb",
        "outputId": "32e1d946-3d7f-46c4-e90a-e71e5f6890b4"
      },
      "outputs": [
        {
          "data": {
            "text/plain": [
              "10"
            ]
          },
          "execution_count": 113,
          "metadata": {},
          "output_type": "execute_result"
        }
      ],
      "source": [
        "4 + 5 + True  # 4 + 5 + 1"
      ]
    },
    {
      "cell_type": "code",
      "execution_count": null,
      "id": "11e97cc7-af61-4c88-b0dc-7968064df593",
      "metadata": {
        "id": "11e97cc7-af61-4c88-b0dc-7968064df593",
        "outputId": "2eb0d338-397d-4f40-aa58-c53094505860"
      },
      "outputs": [
        {
          "data": {
            "text/plain": [
              "10"
            ]
          },
          "execution_count": 115,
          "metadata": {},
          "output_type": "execute_result"
        }
      ],
      "source": [
        "4 + 5 + True + False  # 5 + 4 + 1 + 0"
      ]
    },
    {
      "cell_type": "code",
      "execution_count": null,
      "id": "a5a06b3a-010c-4d19-88ce-ddd9341f61f0",
      "metadata": {
        "id": "a5a06b3a-010c-4d19-88ce-ddd9341f61f0",
        "outputId": "cc762eef-f46a-44c8-e995-a5405c5914d7"
      },
      "outputs": [
        {
          "data": {
            "text/plain": [
              "11.0"
            ]
          },
          "execution_count": 117,
          "metadata": {},
          "output_type": "execute_result"
        }
      ],
      "source": [
        "4 + 5 + True + 1.0"
      ]
    },
    {
      "cell_type": "code",
      "execution_count": null,
      "id": "b9ef7048-66d0-429d-a100-292a33afe3c8",
      "metadata": {
        "id": "b9ef7048-66d0-429d-a100-292a33afe3c8",
        "outputId": "9d0ed687-7995-4812-f72c-de18eb91bae0"
      },
      "outputs": [
        {
          "ename": "TypeError",
          "evalue": "unsupported operand type(s) for +: 'int' and 'str'",
          "output_type": "error",
          "traceback": [
            "\u001b[1;31m---------------------------------------------------------------------------\u001b[0m",
            "\u001b[1;31mTypeError\u001b[0m                                 Traceback (most recent call last)",
            "Cell \u001b[1;32mIn[119], line 1\u001b[0m\n\u001b[1;32m----> 1\u001b[0m \u001b[38;5;241m4\u001b[39m \u001b[38;5;241m+\u001b[39m \u001b[38;5;124m'\u001b[39m\u001b[38;5;124mPython\u001b[39m\u001b[38;5;124m'\u001b[39m\n",
            "\u001b[1;31mTypeError\u001b[0m: unsupported operand type(s) for +: 'int' and 'str'"
          ]
        }
      ],
      "source": [
        "4 + 'Python'"
      ]
    },
    {
      "cell_type": "code",
      "execution_count": null,
      "id": "aa8697f4-dbdf-4150-959c-33c055f4dae9",
      "metadata": {
        "id": "aa8697f4-dbdf-4150-959c-33c055f4dae9",
        "outputId": "5d2090f6-e8af-4539-950b-affcd635d398"
      },
      "outputs": [
        {
          "data": {
            "text/plain": [
              "'4Python'"
            ]
          },
          "execution_count": 121,
          "metadata": {},
          "output_type": "execute_result"
        }
      ],
      "source": [
        "'4' + 'Python'"
      ]
    },
    {
      "cell_type": "markdown",
      "id": "943f8a99-9b7c-48e8-94d5-3347cf9e30cf",
      "metadata": {
        "id": "943f8a99-9b7c-48e8-94d5-3347cf9e30cf"
      },
      "source": [
        "##### Forced TypeCasting"
      ]
    },
    {
      "cell_type": "code",
      "execution_count": null,
      "id": "d2c2f4cb-4568-49d7-975c-e8703b7c672e",
      "metadata": {
        "id": "d2c2f4cb-4568-49d7-975c-e8703b7c672e"
      },
      "outputs": [],
      "source": [
        "a = 10"
      ]
    },
    {
      "cell_type": "code",
      "execution_count": null,
      "id": "6739e378-b691-4746-bda3-80ee291fdc6f",
      "metadata": {
        "id": "6739e378-b691-4746-bda3-80ee291fdc6f",
        "outputId": "d73d5c2b-cdbb-49cd-e3f2-61c904925b02"
      },
      "outputs": [
        {
          "data": {
            "text/plain": [
              "10.0"
            ]
          },
          "execution_count": 5,
          "metadata": {},
          "output_type": "execute_result"
        }
      ],
      "source": [
        "float(a)"
      ]
    },
    {
      "cell_type": "code",
      "execution_count": null,
      "id": "7f11aa37-756d-4c36-9fbd-4d5b8366c866",
      "metadata": {
        "id": "7f11aa37-756d-4c36-9fbd-4d5b8366c866",
        "outputId": "90bc8ce4-00e4-496b-963b-3f35848b8d39"
      },
      "outputs": [
        {
          "data": {
            "text/plain": [
              "True"
            ]
          },
          "execution_count": 7,
          "metadata": {},
          "output_type": "execute_result"
        }
      ],
      "source": [
        "bool(a)"
      ]
    },
    {
      "cell_type": "code",
      "execution_count": null,
      "id": "89154206-0803-4cba-967b-ddc2e420d995",
      "metadata": {
        "id": "89154206-0803-4cba-967b-ddc2e420d995",
        "outputId": "49fd3424-45b8-4435-e429-477f38e5ce19"
      },
      "outputs": [
        {
          "data": {
            "text/plain": [
              "'10'"
            ]
          },
          "execution_count": 9,
          "metadata": {},
          "output_type": "execute_result"
        }
      ],
      "source": [
        "str(a)"
      ]
    },
    {
      "cell_type": "code",
      "execution_count": null,
      "id": "63f5b50b-6a76-4b1f-b045-b69937a6f9b4",
      "metadata": {
        "id": "63f5b50b-6a76-4b1f-b045-b69937a6f9b4",
        "outputId": "7523f290-0f1e-4cf7-e688-c7399e14d80d"
      },
      "outputs": [
        {
          "data": {
            "text/plain": [
              "True"
            ]
          },
          "execution_count": 11,
          "metadata": {},
          "output_type": "execute_result"
        }
      ],
      "source": [
        "bool(0.1)"
      ]
    },
    {
      "cell_type": "markdown",
      "id": "01c2d232-ca4e-4222-8f7c-5b7ef9916e97",
      "metadata": {
        "id": "01c2d232-ca4e-4222-8f7c-5b7ef9916e97"
      },
      "source": [
        "Task : float , str , bool try to do forced typecasting"
      ]
    },
    {
      "cell_type": "markdown",
      "id": "7a64166f-ae89-484e-8ce0-b9efc0aa4b3a",
      "metadata": {
        "id": "7a64166f-ae89-484e-8ce0-b9efc0aa4b3a"
      },
      "source": [
        "#### String and its functions"
      ]
    },
    {
      "cell_type": "code",
      "execution_count": null,
      "id": "8c1d5399-4ad1-442e-8e78-1f2b87d4d3e7",
      "metadata": {
        "id": "8c1d5399-4ad1-442e-8e78-1f2b87d4d3e7",
        "outputId": "ede60cb0-dcc8-441d-dbbe-c9b1232684b7"
      },
      "outputs": [
        {
          "name": "stdout",
          "output_type": "stream",
          "text": [
            "Hello world\n"
          ]
        }
      ],
      "source": [
        "s1 = \"Hello world\"\n",
        "print(s1)"
      ]
    },
    {
      "cell_type": "code",
      "execution_count": null,
      "id": "ec6c7dc4-a5f0-4b13-8101-a87396aad32e",
      "metadata": {
        "id": "ec6c7dc4-a5f0-4b13-8101-a87396aad32e",
        "outputId": "83c27ae5-d09c-40a8-e3b9-fdc827c995b4"
      },
      "outputs": [
        {
          "name": "stdout",
          "output_type": "stream",
          "text": [
            "Welcome to python session\n"
          ]
        }
      ],
      "source": [
        "s2 = \"Welcome to python session\"\n",
        "print(s2)"
      ]
    },
    {
      "cell_type": "markdown",
      "id": "c1eb44b9-c1ad-488d-ba49-0aaf19cc63a0",
      "metadata": {
        "id": "c1eb44b9-c1ad-488d-ba49-0aaf19cc63a0"
      },
      "source": [
        "![image.png](attachment:d53685e7-2b8e-42dd-9c00-9fb671f32dc9.png)"
      ]
    },
    {
      "cell_type": "code",
      "execution_count": null,
      "id": "8c10ac9c-7207-4f28-a322-81540522ffed",
      "metadata": {
        "id": "8c10ac9c-7207-4f28-a322-81540522ffed",
        "outputId": "80e14f40-74d3-4bef-d6ce-4907236a798d"
      },
      "outputs": [
        {
          "data": {
            "text/plain": [
              "'Hello world'"
            ]
          },
          "execution_count": 20,
          "metadata": {},
          "output_type": "execute_result"
        }
      ],
      "source": [
        "s1"
      ]
    },
    {
      "cell_type": "code",
      "execution_count": null,
      "id": "fe028ae1-6651-4234-863c-d768625f1d86",
      "metadata": {
        "id": "fe028ae1-6651-4234-863c-d768625f1d86",
        "outputId": "7ae8af02-8608-4b54-c718-64f3553c250b"
      },
      "outputs": [
        {
          "data": {
            "text/plain": [
              "'H'"
            ]
          },
          "execution_count": 22,
          "metadata": {},
          "output_type": "execute_result"
        }
      ],
      "source": [
        "# string_name[index_number]\n",
        "s1[0]"
      ]
    },
    {
      "cell_type": "code",
      "execution_count": null,
      "id": "1d8658ad-6903-408e-b3a2-1123c06a42e9",
      "metadata": {
        "id": "1d8658ad-6903-408e-b3a2-1123c06a42e9",
        "outputId": "a8c0234a-bbdd-4011-a9e7-3ad3af02a160"
      },
      "outputs": [
        {
          "data": {
            "text/plain": [
              "'w'"
            ]
          },
          "execution_count": 24,
          "metadata": {},
          "output_type": "execute_result"
        }
      ],
      "source": [
        "s1[6]"
      ]
    },
    {
      "cell_type": "code",
      "execution_count": null,
      "id": "48fa1aa6-ef8c-4e8f-ac9e-1501e70fca96",
      "metadata": {
        "id": "48fa1aa6-ef8c-4e8f-ac9e-1501e70fca96",
        "outputId": "e474faf9-89fc-4f3b-f7e8-7052b698e458"
      },
      "outputs": [
        {
          "data": {
            "text/plain": [
              "'d'"
            ]
          },
          "execution_count": 26,
          "metadata": {},
          "output_type": "execute_result"
        }
      ],
      "source": [
        "s1[-1]"
      ]
    },
    {
      "cell_type": "markdown",
      "id": "1d3938f6-10eb-4693-8be6-2401f2437850",
      "metadata": {
        "id": "1d3938f6-10eb-4693-8be6-2401f2437850"
      },
      "source": [
        "##### Slicing"
      ]
    },
    {
      "cell_type": "code",
      "execution_count": null,
      "id": "e2f6365d-32c3-497e-8112-66bd9474e12b",
      "metadata": {
        "id": "e2f6365d-32c3-497e-8112-66bd9474e12b",
        "outputId": "6bced99f-b7fb-4220-cabe-3296cce78452"
      },
      "outputs": [
        {
          "data": {
            "text/plain": [
              "'Hello world'"
            ]
          },
          "execution_count": 29,
          "metadata": {},
          "output_type": "execute_result"
        }
      ],
      "source": [
        "s1"
      ]
    },
    {
      "cell_type": "code",
      "execution_count": null,
      "id": "a2f34550-8295-4045-90e9-3a52249dc5be",
      "metadata": {
        "id": "a2f34550-8295-4045-90e9-3a52249dc5be",
        "outputId": "fd4aad31-5169-4bca-acbb-64be8a4a3de5"
      },
      "outputs": [
        {
          "data": {
            "text/plain": [
              "'Hello'"
            ]
          },
          "execution_count": 31,
          "metadata": {},
          "output_type": "execute_result"
        }
      ],
      "source": [
        "# str_name[start : end-1]\n",
        "s1[0:5]"
      ]
    },
    {
      "cell_type": "code",
      "execution_count": null,
      "id": "8b5cb68f-cbd3-4058-82d9-4b9e38652f1f",
      "metadata": {
        "id": "8b5cb68f-cbd3-4058-82d9-4b9e38652f1f",
        "outputId": "bed0bee2-0213-4562-8053-a4c8880b5f7a"
      },
      "outputs": [
        {
          "data": {
            "text/plain": [
              "'world'"
            ]
          },
          "execution_count": 36,
          "metadata": {},
          "output_type": "execute_result"
        }
      ],
      "source": [
        "s1[6:11]"
      ]
    },
    {
      "cell_type": "code",
      "execution_count": null,
      "id": "744a592d-59c8-4cc5-97d6-1d826341656c",
      "metadata": {
        "id": "744a592d-59c8-4cc5-97d6-1d826341656c",
        "outputId": "d64dd627-fff6-4f53-d0a8-d9c4b53bf17a"
      },
      "outputs": [
        {
          "data": {
            "text/plain": [
              "'Hello '"
            ]
          },
          "execution_count": 47,
          "metadata": {},
          "output_type": "execute_result"
        }
      ],
      "source": [
        "s1[:6]  # by default slicing is started at 0 index"
      ]
    },
    {
      "cell_type": "code",
      "execution_count": null,
      "id": "0e51fedc-276d-4ff0-872f-cfec25d611a8",
      "metadata": {
        "id": "0e51fedc-276d-4ff0-872f-cfec25d611a8",
        "outputId": "b9913930-a0a1-41b9-a9af-faa13b5aa2c2"
      },
      "outputs": [
        {
          "data": {
            "text/plain": [
              "'Hello world'"
            ]
          },
          "execution_count": 49,
          "metadata": {},
          "output_type": "execute_result"
        }
      ],
      "source": [
        "s1[0:] #by default slicing will end at last index"
      ]
    },
    {
      "cell_type": "code",
      "execution_count": null,
      "id": "30009d8d-e6b7-42ed-89c8-641c22b0134f",
      "metadata": {
        "id": "30009d8d-e6b7-42ed-89c8-641c22b0134f",
        "outputId": "f51eb8ad-1a96-4683-9ea3-38e7dafe017d"
      },
      "outputs": [
        {
          "data": {
            "text/plain": [
              "'Hello world'"
            ]
          },
          "execution_count": 51,
          "metadata": {},
          "output_type": "execute_result"
        }
      ],
      "source": [
        "s1[:] # start 0 position , end at last index value"
      ]
    },
    {
      "cell_type": "code",
      "execution_count": null,
      "id": "349e58ef-6206-45fa-b96f-f5b85395c047",
      "metadata": {
        "id": "349e58ef-6206-45fa-b96f-f5b85395c047",
        "outputId": "366f933b-b3d4-45bd-d820-291098079928"
      },
      "outputs": [
        {
          "data": {
            "text/plain": [
              "'Hello world'"
            ]
          },
          "execution_count": 53,
          "metadata": {},
          "output_type": "execute_result"
        }
      ],
      "source": [
        "# [start, end , step]\n",
        "s1[::1]"
      ]
    },
    {
      "cell_type": "code",
      "execution_count": null,
      "id": "932b94c6-c988-4488-a6ef-3fb5c093e1ee",
      "metadata": {
        "id": "932b94c6-c988-4488-a6ef-3fb5c093e1ee",
        "outputId": "d0163c0a-5fce-4498-af35-c45bac1106c7"
      },
      "outputs": [
        {
          "data": {
            "text/plain": [
              "'dlrow olleH'"
            ]
          },
          "execution_count": 55,
          "metadata": {},
          "output_type": "execute_result"
        }
      ],
      "source": [
        "s1[::-1] # reverse a string using slicing"
      ]
    },
    {
      "cell_type": "code",
      "execution_count": null,
      "id": "3db55f27-72df-4e8b-918a-adada60e07a0",
      "metadata": {
        "id": "3db55f27-72df-4e8b-918a-adada60e07a0",
        "outputId": "335319fd-2881-4eb6-9c47-f92f116ba90f"
      },
      "outputs": [
        {
          "data": {
            "text/plain": [
              "'Hlowrd'"
            ]
          },
          "execution_count": 61,
          "metadata": {},
          "output_type": "execute_result"
        }
      ],
      "source": [
        "s1[0:11:2]"
      ]
    },
    {
      "cell_type": "code",
      "execution_count": null,
      "id": "b7ad7c7a-5a40-4096-b41b-19521762a785",
      "metadata": {
        "id": "b7ad7c7a-5a40-4096-b41b-19521762a785",
        "outputId": "5c43ebb7-2db2-4ce1-fbeb-4fd18db996d1"
      },
      "outputs": [
        {
          "data": {
            "text/plain": [
              "'drwolH'"
            ]
          },
          "execution_count": 59,
          "metadata": {},
          "output_type": "execute_result"
        }
      ],
      "source": [
        "s1[::-2]"
      ]
    },
    {
      "cell_type": "markdown",
      "id": "3cbcc105-33aa-411f-948e-f8269ee10482",
      "metadata": {
        "id": "3cbcc105-33aa-411f-948e-f8269ee10482"
      },
      "source": [
        "##### Strings are immutable\n",
        "\n",
        "- we cannot add, delete or update the strings once created"
      ]
    },
    {
      "cell_type": "code",
      "execution_count": null,
      "id": "597c6cc5-67f8-43f8-a2ed-8783d7ef3729",
      "metadata": {
        "id": "597c6cc5-67f8-43f8-a2ed-8783d7ef3729",
        "outputId": "4cae6d89-fe8b-459d-adcc-46cdcabe641c"
      },
      "outputs": [
        {
          "data": {
            "text/plain": [
              "'Welcome to python session'"
            ]
          },
          "execution_count": 67,
          "metadata": {},
          "output_type": "execute_result"
        }
      ],
      "source": [
        "s2"
      ]
    },
    {
      "cell_type": "code",
      "execution_count": null,
      "id": "1d051b20-7952-4f40-90a9-6ca5c832542c",
      "metadata": {
        "id": "1d051b20-7952-4f40-90a9-6ca5c832542c",
        "outputId": "08bde935-7307-42b6-a8f5-70a56c3ab9fa"
      },
      "outputs": [
        {
          "ename": "TypeError",
          "evalue": "'str' object does not support item assignment",
          "output_type": "error",
          "traceback": [
            "\u001b[1;31m---------------------------------------------------------------------------\u001b[0m",
            "\u001b[1;31mTypeError\u001b[0m                                 Traceback (most recent call last)",
            "Cell \u001b[1;32mIn[71], line 1\u001b[0m\n\u001b[1;32m----> 1\u001b[0m s2[\u001b[38;5;241m0\u001b[39m] \u001b[38;5;241m=\u001b[39m \u001b[38;5;124m'\u001b[39m\u001b[38;5;124mZ\u001b[39m\u001b[38;5;124m'\u001b[39m\n",
            "\u001b[1;31mTypeError\u001b[0m: 'str' object does not support item assignment"
          ]
        }
      ],
      "source": [
        "s2[0] = 'Z'"
      ]
    },
    {
      "cell_type": "code",
      "execution_count": null,
      "id": "0a88f454-c28a-4e9f-ac7d-328a7a372687",
      "metadata": {
        "id": "0a88f454-c28a-4e9f-ac7d-328a7a372687"
      },
      "outputs": [],
      "source": [
        "## replace\n",
        "s2 = s2.replace('session','class')"
      ]
    },
    {
      "cell_type": "code",
      "execution_count": null,
      "id": "a6c5e3e5-e78d-4f83-8ccf-2d4819f50524",
      "metadata": {
        "id": "a6c5e3e5-e78d-4f83-8ccf-2d4819f50524",
        "outputId": "3b1a0609-0b38-442e-abb8-79acf9f4eafe"
      },
      "outputs": [
        {
          "data": {
            "text/plain": [
              "'Welcome to python class'"
            ]
          },
          "execution_count": 77,
          "metadata": {},
          "output_type": "execute_result"
        }
      ],
      "source": [
        "s2"
      ]
    },
    {
      "cell_type": "code",
      "execution_count": null,
      "id": "541e275b-4988-4562-9021-dd802357c3de",
      "metadata": {
        "id": "541e275b-4988-4562-9021-dd802357c3de"
      },
      "outputs": [],
      "source": [
        "# we cannot delete certain characters from the string\n",
        "# but we can delete the entire structure\n",
        "del s2"
      ]
    },
    {
      "cell_type": "code",
      "execution_count": null,
      "id": "40589435-977b-4946-86e1-67bffcd6da6f",
      "metadata": {
        "id": "40589435-977b-4946-86e1-67bffcd6da6f",
        "outputId": "30fda402-3441-40c3-d925-452eba544b2a"
      },
      "outputs": [
        {
          "ename": "NameError",
          "evalue": "name 's2' is not defined",
          "output_type": "error",
          "traceback": [
            "\u001b[1;31m---------------------------------------------------------------------------\u001b[0m",
            "\u001b[1;31mNameError\u001b[0m                                 Traceback (most recent call last)",
            "Cell \u001b[1;32mIn[81], line 1\u001b[0m\n\u001b[1;32m----> 1\u001b[0m s2\n",
            "\u001b[1;31mNameError\u001b[0m: name 's2' is not defined"
          ]
        }
      ],
      "source": [
        "s2"
      ]
    },
    {
      "cell_type": "markdown",
      "id": "8dccf153-5811-45bf-9d86-ffd933168789",
      "metadata": {
        "id": "8dccf153-5811-45bf-9d86-ffd933168789"
      },
      "source": [
        "#### Concatenation"
      ]
    },
    {
      "cell_type": "code",
      "execution_count": null,
      "id": "454aa06c-4f14-4206-9dd6-b962ae37b504",
      "metadata": {
        "id": "454aa06c-4f14-4206-9dd6-b962ae37b504"
      },
      "outputs": [],
      "source": [
        "s2 = 'Hi.'"
      ]
    },
    {
      "cell_type": "code",
      "execution_count": null,
      "id": "73e2ab9e-84a7-4c2f-a4a8-e21d128ac416",
      "metadata": {
        "id": "73e2ab9e-84a7-4c2f-a4a8-e21d128ac416"
      },
      "outputs": [],
      "source": [
        "s3 = 'Welcome to python class'"
      ]
    },
    {
      "cell_type": "code",
      "execution_count": null,
      "id": "c5dd11af-012f-4a9e-a55c-56df4cd31f81",
      "metadata": {
        "id": "c5dd11af-012f-4a9e-a55c-56df4cd31f81",
        "outputId": "8cea11a2-4a39-4ca0-fe06-deb0b0c4c5c9"
      },
      "outputs": [
        {
          "data": {
            "text/plain": [
              "'Hi.Welcome to python class'"
            ]
          },
          "execution_count": 90,
          "metadata": {},
          "output_type": "execute_result"
        }
      ],
      "source": [
        "s2 + s3"
      ]
    },
    {
      "cell_type": "code",
      "execution_count": null,
      "id": "fd7d93e8-229a-41b3-8f91-39c5e5c68cd5",
      "metadata": {
        "id": "fd7d93e8-229a-41b3-8f91-39c5e5c68cd5",
        "outputId": "43198514-e685-4cbc-a36e-92b209c71b1e"
      },
      "outputs": [
        {
          "name": "stdout",
          "output_type": "stream",
          "text": [
            "Hi. Welcome to python class\n"
          ]
        }
      ],
      "source": [
        "print(s2 + ' ' + s3)"
      ]
    },
    {
      "cell_type": "code",
      "execution_count": null,
      "id": "e80e53d1-ef59-4816-b0dd-b8a2b01e8306",
      "metadata": {
        "id": "e80e53d1-ef59-4816-b0dd-b8a2b01e8306",
        "outputId": "a4ed5411-7797-4691-e683-cdf2058153a8"
      },
      "outputs": [
        {
          "data": {
            "text/plain": [
              "'Hi. Welcome to python class'"
            ]
          },
          "execution_count": 134,
          "metadata": {},
          "output_type": "execute_result"
        }
      ],
      "source": [
        "s6 = s2 + \" \" + s3\n",
        "s6"
      ]
    },
    {
      "cell_type": "markdown",
      "id": "bc62fb6d-a3df-4225-9bf1-e530ba5bb7fd",
      "metadata": {
        "id": "bc62fb6d-a3df-4225-9bf1-e530ba5bb7fd"
      },
      "source": [
        "##### String functions"
      ]
    },
    {
      "cell_type": "code",
      "execution_count": null,
      "id": "3ee37923-904e-4ef0-afb1-6fac603d4674",
      "metadata": {
        "id": "3ee37923-904e-4ef0-afb1-6fac603d4674",
        "outputId": "791b13a9-0ac8-423c-edd5-9c7237a4ab22"
      },
      "outputs": [
        {
          "data": {
            "text/plain": [
              "'Hello world'"
            ]
          },
          "execution_count": 101,
          "metadata": {},
          "output_type": "execute_result"
        }
      ],
      "source": [
        "s1"
      ]
    },
    {
      "cell_type": "code",
      "execution_count": null,
      "id": "2dff77a1-f895-419a-875a-7a008ad2bb93",
      "metadata": {
        "id": "2dff77a1-f895-419a-875a-7a008ad2bb93",
        "outputId": "439e8ec9-8078-4c8b-b857-9bced2cc1e6e"
      },
      "outputs": [
        {
          "data": {
            "text/plain": [
              "'hello world'"
            ]
          },
          "execution_count": 103,
          "metadata": {},
          "output_type": "execute_result"
        }
      ],
      "source": [
        "s1.lower()"
      ]
    },
    {
      "cell_type": "code",
      "execution_count": null,
      "id": "35e17e97-c9a7-4f9b-ad94-461b157f1df0",
      "metadata": {
        "id": "35e17e97-c9a7-4f9b-ad94-461b157f1df0",
        "outputId": "7c320de3-01ac-4512-eb1a-2904c561634b"
      },
      "outputs": [
        {
          "data": {
            "text/plain": [
              "'HELLO WORLD'"
            ]
          },
          "execution_count": 105,
          "metadata": {},
          "output_type": "execute_result"
        }
      ],
      "source": [
        "s1.upper()"
      ]
    },
    {
      "cell_type": "code",
      "execution_count": null,
      "id": "b215c716-a69f-4bb3-9049-6f7ec58c3ebd",
      "metadata": {
        "id": "b215c716-a69f-4bb3-9049-6f7ec58c3ebd",
        "outputId": "8bdb69b8-7b29-4101-fa6c-4e7f20dafaf1"
      },
      "outputs": [
        {
          "data": {
            "text/plain": [
              "True"
            ]
          },
          "execution_count": 107,
          "metadata": {},
          "output_type": "execute_result"
        }
      ],
      "source": [
        "s1.startswith('H')"
      ]
    },
    {
      "cell_type": "code",
      "execution_count": null,
      "id": "c67ad067-b74a-4391-9f7f-b32d98d4c346",
      "metadata": {
        "id": "c67ad067-b74a-4391-9f7f-b32d98d4c346",
        "outputId": "93f376ca-5a4d-465c-ba18-15f07c7fda2f"
      },
      "outputs": [
        {
          "data": {
            "text/plain": [
              "True"
            ]
          },
          "execution_count": 109,
          "metadata": {},
          "output_type": "execute_result"
        }
      ],
      "source": [
        "s1.endswith('d')"
      ]
    },
    {
      "cell_type": "code",
      "execution_count": null,
      "id": "d1f2006c-131e-45c0-bd14-6021bf40d592",
      "metadata": {
        "id": "d1f2006c-131e-45c0-bd14-6021bf40d592",
        "outputId": "314bbcb5-8d4e-4ee1-abd8-72e2db30952d"
      },
      "outputs": [
        {
          "data": {
            "text/plain": [
              "'Hello'"
            ]
          },
          "execution_count": 119,
          "metadata": {},
          "output_type": "execute_result"
        }
      ],
      "source": [
        "# strip ---> remove the whitespaces from the string\n",
        "s4 = '         Hello         '\n",
        "s4.strip()"
      ]
    },
    {
      "cell_type": "code",
      "execution_count": null,
      "id": "fe724b81-a07b-43d2-b8bd-3953c6f860f2",
      "metadata": {
        "id": "fe724b81-a07b-43d2-b8bd-3953c6f860f2",
        "outputId": "ab47cdaf-b5fd-4612-baad-9144dcd096c5"
      },
      "outputs": [
        {
          "data": {
            "text/plain": [
              "'Hello         '"
            ]
          },
          "execution_count": 121,
          "metadata": {},
          "output_type": "execute_result"
        }
      ],
      "source": [
        "# lstrip ---> remove the space at the start / left side\n",
        "s4.lstrip()"
      ]
    },
    {
      "cell_type": "code",
      "execution_count": null,
      "id": "bc87b050-c028-4a56-bb2b-6a836f949cb7",
      "metadata": {
        "id": "bc87b050-c028-4a56-bb2b-6a836f949cb7",
        "outputId": "046e9c84-dfa9-4add-c4e3-571b4d09ca18"
      },
      "outputs": [
        {
          "data": {
            "text/plain": [
              "'         Hello'"
            ]
          },
          "execution_count": 123,
          "metadata": {},
          "output_type": "execute_result"
        }
      ],
      "source": [
        "# rstrip ---> remove the space at the ebd / right side\n",
        "s4.rstrip()"
      ]
    },
    {
      "cell_type": "code",
      "execution_count": null,
      "id": "b2ea19e4-08a4-4dff-8825-c1ef02df82d3",
      "metadata": {
        "id": "b2ea19e4-08a4-4dff-8825-c1ef02df82d3",
        "outputId": "7ea4b13e-a0bc-476e-d4cb-f6cf580e6cfe"
      },
      "outputs": [
        {
          "data": {
            "text/plain": [
              "'Lakshmi'"
            ]
          },
          "execution_count": 127,
          "metadata": {},
          "output_type": "execute_result"
        }
      ],
      "source": [
        "s.capitalize()"
      ]
    },
    {
      "cell_type": "code",
      "execution_count": null,
      "id": "3da849e2-4d8f-45c6-bfb8-2f3327daf459",
      "metadata": {
        "id": "3da849e2-4d8f-45c6-bfb8-2f3327daf459",
        "outputId": "5b9cdd10-59f5-4723-8799-d04c25ba529f"
      },
      "outputs": [
        {
          "data": {
            "text/plain": [
              "'Hi. Welcome to python class. It is a new concept'"
            ]
          },
          "execution_count": 142,
          "metadata": {},
          "output_type": "execute_result"
        }
      ],
      "source": [
        "s7 = s6 + '. It is a new concept'\n",
        "s7"
      ]
    },
    {
      "cell_type": "code",
      "execution_count": null,
      "id": "13a6f788-1a78-4339-beab-d25f925373e8",
      "metadata": {
        "id": "13a6f788-1a78-4339-beab-d25f925373e8",
        "outputId": "d13b65e7-54c5-4a18-ab3a-11b6d5013857"
      },
      "outputs": [
        {
          "data": {
            "text/plain": [
              "['Hi.', 'Welcome', 'to', 'python', 'class.', 'It', 'is', 'a', 'new', 'concept']"
            ]
          },
          "execution_count": 144,
          "metadata": {},
          "output_type": "execute_result"
        }
      ],
      "source": [
        "s7.split()"
      ]
    },
    {
      "cell_type": "code",
      "execution_count": null,
      "id": "5706ddc6-cdb0-42d0-a1e0-34b183c8a54a",
      "metadata": {
        "id": "5706ddc6-cdb0-42d0-a1e0-34b183c8a54a",
        "outputId": "e461f2ab-9089-452e-d215-0e95ee3761f3"
      },
      "outputs": [
        {
          "data": {
            "text/plain": [
              "['Hi', ' Welcome to python class', ' It is a new concept']"
            ]
          },
          "execution_count": 146,
          "metadata": {},
          "output_type": "execute_result"
        }
      ],
      "source": [
        "s7.split('.')"
      ]
    },
    {
      "cell_type": "code",
      "execution_count": null,
      "id": "86cc7db0-097f-44f7-8106-059acbbef458",
      "metadata": {
        "id": "86cc7db0-097f-44f7-8106-059acbbef458",
        "outputId": "53fb3d34-48b3-478e-e359-cb66fa7f2e93"
      },
      "outputs": [
        {
          "data": {
            "text/plain": [
              "('Hi', '.', ' Welcome to python class. It is a new concept')"
            ]
          },
          "execution_count": 150,
          "metadata": {},
          "output_type": "execute_result"
        }
      ],
      "source": [
        "s7.partition('.')"
      ]
    },
    {
      "cell_type": "markdown",
      "id": "4094ea6a-7434-49cf-bc8b-5f7b3e3c5f9a",
      "metadata": {
        "id": "4094ea6a-7434-49cf-bc8b-5f7b3e3c5f9a"
      },
      "source": [
        "##### String Membership"
      ]
    },
    {
      "cell_type": "code",
      "execution_count": null,
      "id": "3cfd6f66-92d4-4d2e-8908-12b95d373277",
      "metadata": {
        "id": "3cfd6f66-92d4-4d2e-8908-12b95d373277"
      },
      "outputs": [],
      "source": [
        "# in\n",
        "# not in\n",
        "# check whther the value is a part of the ds\n",
        "# o/p will be boolean value"
      ]
    },
    {
      "cell_type": "code",
      "execution_count": null,
      "id": "bd91f53d-fb01-4928-beea-4235e7e77aec",
      "metadata": {
        "id": "bd91f53d-fb01-4928-beea-4235e7e77aec",
        "outputId": "1a95c229-64ad-4567-e56a-e0d931887c3d"
      },
      "outputs": [
        {
          "data": {
            "text/plain": [
              "'Hello world'"
            ]
          },
          "execution_count": 155,
          "metadata": {},
          "output_type": "execute_result"
        }
      ],
      "source": [
        "s1"
      ]
    },
    {
      "cell_type": "code",
      "execution_count": null,
      "id": "61c64b2d-59ea-4283-ab05-f07f695d444a",
      "metadata": {
        "id": "61c64b2d-59ea-4283-ab05-f07f695d444a",
        "outputId": "912deb7a-3374-4c14-d323-fce09aa05385"
      },
      "outputs": [
        {
          "data": {
            "text/plain": [
              "True"
            ]
          },
          "execution_count": 157,
          "metadata": {},
          "output_type": "execute_result"
        }
      ],
      "source": [
        "'H' in s1"
      ]
    },
    {
      "cell_type": "code",
      "execution_count": null,
      "id": "7fdc3e47-510d-4442-ad64-9f9c92399b5c",
      "metadata": {
        "id": "7fdc3e47-510d-4442-ad64-9f9c92399b5c",
        "outputId": "5140bf22-3402-42ae-b429-d35cd8ee2c7c"
      },
      "outputs": [
        {
          "data": {
            "text/plain": [
              "False"
            ]
          },
          "execution_count": 159,
          "metadata": {},
          "output_type": "execute_result"
        }
      ],
      "source": [
        "'h' in s1"
      ]
    },
    {
      "cell_type": "code",
      "execution_count": null,
      "id": "50d81489-1a58-407e-ab1b-ec93873c36f9",
      "metadata": {
        "id": "50d81489-1a58-407e-ab1b-ec93873c36f9",
        "outputId": "452bcc48-e62c-49de-a08a-f29138254142"
      },
      "outputs": [
        {
          "data": {
            "text/plain": [
              "False"
            ]
          },
          "execution_count": 161,
          "metadata": {},
          "output_type": "execute_result"
        }
      ],
      "source": [
        "'H' not in s1"
      ]
    },
    {
      "cell_type": "code",
      "execution_count": null,
      "id": "987e25b8-b328-443a-9aaa-e75a0e88b50b",
      "metadata": {
        "id": "987e25b8-b328-443a-9aaa-e75a0e88b50b",
        "outputId": "1df6e731-c804-4583-b11c-37dcad968574"
      },
      "outputs": [
        {
          "data": {
            "text/plain": [
              "int"
            ]
          },
          "execution_count": 163,
          "metadata": {},
          "output_type": "execute_result"
        }
      ],
      "source": [
        "a = 10\n",
        "type(a)"
      ]
    },
    {
      "cell_type": "code",
      "execution_count": null,
      "id": "fe5541fd-fece-45e8-84c6-60fe0d2f3240",
      "metadata": {
        "id": "fe5541fd-fece-45e8-84c6-60fe0d2f3240",
        "outputId": "e716daad-3dc5-406b-b990-66b497f12f26"
      },
      "outputs": [
        {
          "data": {
            "text/plain": [
              "10.0"
            ]
          },
          "execution_count": 165,
          "metadata": {},
          "output_type": "execute_result"
        }
      ],
      "source": [
        "float(a)"
      ]
    },
    {
      "cell_type": "code",
      "execution_count": null,
      "id": "19101e35-f16d-4f6a-b564-e8cc07abeda0",
      "metadata": {
        "id": "19101e35-f16d-4f6a-b564-e8cc07abeda0",
        "outputId": "151149a6-5762-4905-d713-a92da9d6c34f"
      },
      "outputs": [
        {
          "data": {
            "text/plain": [
              "'10'"
            ]
          },
          "execution_count": 167,
          "metadata": {},
          "output_type": "execute_result"
        }
      ],
      "source": [
        "str(a)"
      ]
    },
    {
      "cell_type": "markdown",
      "id": "a2477c76-a2f9-4f49-8248-d7e3f00cae36",
      "metadata": {
        "id": "a2477c76-a2f9-4f49-8248-d7e3f00cae36"
      },
      "source": [
        "![image.png](attachment:427b6bb4-6723-4771-a36d-e223032a6099.png)"
      ]
    },
    {
      "cell_type": "markdown",
      "id": "eab34f48-cd13-4408-9f15-b6bb24cba089",
      "metadata": {
        "id": "eab34f48-cd13-4408-9f15-b6bb24cba089"
      },
      "source": [
        "![image.png](attachment:3353f147-f668-4a16-8620-c7c34d9b09d7.png)/"
      ]
    },
    {
      "cell_type": "markdown",
      "id": "09cbcee3-5257-4948-8fc7-455e48c7e61a",
      "metadata": {
        "id": "09cbcee3-5257-4948-8fc7-455e48c7e61a"
      },
      "source": [
        "![image.png](attachment:9c495361-5232-4c42-bca3-e6e316006262.png)"
      ]
    },
    {
      "cell_type": "markdown",
      "id": "bda54a0a-e4e4-401f-802a-4ca660719e9f",
      "metadata": {
        "id": "bda54a0a-e4e4-401f-802a-4ca660719e9f"
      },
      "source": [
        "##### Atrithmetic"
      ]
    },
    {
      "cell_type": "code",
      "execution_count": null,
      "id": "bf525be2-0cea-4fff-bf99-26950e4cc2f0",
      "metadata": {
        "id": "bf525be2-0cea-4fff-bf99-26950e4cc2f0",
        "outputId": "7f20a348-4c0b-4ac3-b493-382f92326858"
      },
      "outputs": [
        {
          "name": "stdin",
          "output_type": "stream",
          "text": [
            " 10\n",
            " 10\n"
          ]
        },
        {
          "name": "stdout",
          "output_type": "stream",
          "text": [
            "20\n",
            "0\n",
            "100\n",
            "1.0\n",
            "1\n",
            "0\n",
            "10000000000\n"
          ]
        }
      ],
      "source": [
        "a = int(input())\n",
        "b = int(input())\n",
        "print(a+b)\n",
        "print(a-b)\n",
        "print(a*b)\n",
        "print(a/b) # float number\n",
        "print(a//b) # floor division , int\n",
        "print(a%b) #reminder is the answer\n",
        "print(a**b)"
      ]
    },
    {
      "cell_type": "markdown",
      "id": "e6df2254-8ce3-4879-a409-4a2c726faf52",
      "metadata": {
        "id": "e6df2254-8ce3-4879-a409-4a2c726faf52"
      },
      "source": [
        "##### Comparision op"
      ]
    },
    {
      "cell_type": "code",
      "execution_count": null,
      "id": "b33193c8-f229-42f6-9710-b4779aecfb3a",
      "metadata": {
        "id": "b33193c8-f229-42f6-9710-b4779aecfb3a",
        "outputId": "3b8c21bc-9c80-4c65-bee0-c7441177bdbd"
      },
      "outputs": [
        {
          "name": "stdout",
          "output_type": "stream",
          "text": [
            "True\n",
            "False\n",
            "False\n",
            "True\n",
            "True\n",
            "False\n"
          ]
        }
      ],
      "source": [
        "a = 10\n",
        "b = 10\n",
        "print(a==b)\n",
        "print(a<b)\n",
        "print(a>b)\n",
        "print(a<=b)\n",
        "print(a>=b)\n",
        "print(a!=b)"
      ]
    },
    {
      "cell_type": "markdown",
      "id": "622d7968-16c7-464d-ae6a-49957163fb4b",
      "metadata": {
        "id": "622d7968-16c7-464d-ae6a-49957163fb4b"
      },
      "source": [
        "##### Logical op"
      ]
    },
    {
      "cell_type": "code",
      "execution_count": null,
      "id": "e1621958-16fd-42ca-a7c5-d99f2c43ac56",
      "metadata": {
        "id": "e1621958-16fd-42ca-a7c5-d99f2c43ac56",
        "outputId": "40c3b182-67e0-4ed5-c42d-3b8865010d79"
      },
      "outputs": [
        {
          "data": {
            "text/plain": [
              "True"
            ]
          },
          "execution_count": 186,
          "metadata": {},
          "output_type": "execute_result"
        }
      ],
      "source": [
        "a = True\n",
        "b = True\n",
        "c = False\n",
        "a and b"
      ]
    },
    {
      "cell_type": "code",
      "execution_count": null,
      "id": "b23bc28e-b675-4a0a-b5ec-7cb46b5063c3",
      "metadata": {
        "id": "b23bc28e-b675-4a0a-b5ec-7cb46b5063c3",
        "outputId": "5f71ac9b-001d-44f1-dec4-f0e2b32034b6"
      },
      "outputs": [
        {
          "data": {
            "text/plain": [
              "True"
            ]
          },
          "execution_count": 188,
          "metadata": {},
          "output_type": "execute_result"
        }
      ],
      "source": [
        "a or c"
      ]
    },
    {
      "cell_type": "code",
      "execution_count": null,
      "id": "92c3ebef-1ee9-4c62-a72e-26c8adba6202",
      "metadata": {
        "id": "92c3ebef-1ee9-4c62-a72e-26c8adba6202",
        "outputId": "36179d20-2379-4782-c1cc-281941a197c9"
      },
      "outputs": [
        {
          "data": {
            "text/plain": [
              "False"
            ]
          },
          "execution_count": 190,
          "metadata": {},
          "output_type": "execute_result"
        }
      ],
      "source": [
        "not a"
      ]
    },
    {
      "cell_type": "markdown",
      "id": "92f07cae-2e85-4b11-9588-116b245d90a7",
      "metadata": {
        "id": "92f07cae-2e85-4b11-9588-116b245d90a7"
      },
      "source": [
        "![image.png](attachment:55c074a9-7c1c-423b-bd5d-9062adf3b15c.png)"
      ]
    },
    {
      "cell_type": "code",
      "execution_count": null,
      "id": "633c9c7f-91b8-481b-bb0e-78df225049b8",
      "metadata": {
        "id": "633c9c7f-91b8-481b-bb0e-78df225049b8"
      },
      "outputs": [],
      "source": [
        "a = 5\n",
        "if a > 8 : # 5 > 8 False\n",
        "    print(a,'is greater than 8')"
      ]
    },
    {
      "cell_type": "code",
      "execution_count": null,
      "id": "b0411a40-f5af-4c4c-bae7-1485557fa079",
      "metadata": {
        "id": "b0411a40-f5af-4c4c-bae7-1485557fa079",
        "outputId": "cb39ae4b-26f6-445b-8e4f-581bebb81164"
      },
      "outputs": [
        {
          "name": "stdout",
          "output_type": "stream",
          "text": [
            "8 is greater than 5\n"
          ]
        }
      ],
      "source": [
        "a = 8\n",
        "if a > 5 :\n",
        "    print(a,'is greater than 5')"
      ]
    },
    {
      "cell_type": "code",
      "execution_count": null,
      "id": "ce00daf8-8f53-43e8-a1be-d886e15eb3bf",
      "metadata": {
        "id": "ce00daf8-8f53-43e8-a1be-d886e15eb3bf",
        "outputId": "ccd7b97e-ca1e-4d05-c7d5-82680b75cd6f"
      },
      "outputs": [
        {
          "name": "stdin",
          "output_type": "stream",
          "text": [
            " 1\n"
          ]
        },
        {
          "name": "stdout",
          "output_type": "stream",
          "text": [
            "Lesser\n"
          ]
        }
      ],
      "source": [
        "a = int(input())\n",
        "if a>5:\n",
        "    print('Greater')\n",
        "else:\n",
        "    print('Lesser')"
      ]
    },
    {
      "cell_type": "code",
      "execution_count": null,
      "id": "932489af-1612-4321-92b0-dcc9518e3d01",
      "metadata": {
        "id": "932489af-1612-4321-92b0-dcc9518e3d01",
        "outputId": "5b0f8cec-a1df-484b-9900-638c2a0295ff"
      },
      "outputs": [
        {
          "name": "stdin",
          "output_type": "stream",
          "text": [
            " 10\n",
            " 20\n"
          ]
        },
        {
          "name": "stdout",
          "output_type": "stream",
          "text": [
            "10 and 20 are not equal\n"
          ]
        }
      ],
      "source": [
        "# equality of numbers\n",
        "a = int(input())\n",
        "b = int(input())\n",
        "if a == b :\n",
        "    print(a ,'and',b ,'are equal')\n",
        "else:\n",
        "    print(a ,'and',b ,'are not equal')"
      ]
    },
    {
      "cell_type": "code",
      "execution_count": null,
      "id": "fd10f8d3-8782-43fc-8335-b5ff6136e893",
      "metadata": {
        "id": "fd10f8d3-8782-43fc-8335-b5ff6136e893",
        "outputId": "34b999c0-ab0e-4ae8-e65d-bc480fa34cf0"
      },
      "outputs": [
        {
          "name": "stdin",
          "output_type": "stream",
          "text": [
            " 9\n"
          ]
        },
        {
          "name": "stdout",
          "output_type": "stream",
          "text": [
            "9 is a odd number\n"
          ]
        }
      ],
      "source": [
        "# odd and even\n",
        "# n % 2\n",
        "# n % 2 == 0 -> even\n",
        "n = int(input())\n",
        "if n % 2 == 0:\n",
        "    print(n,'is a even number')\n",
        "else :\n",
        "    print(n,'is a odd number')"
      ]
    },
    {
      "cell_type": "code",
      "execution_count": null,
      "id": "cd75b14f-d781-47c4-ac6c-599b515bee13",
      "metadata": {
        "id": "cd75b14f-d781-47c4-ac6c-599b515bee13",
        "outputId": "bf2a5a3e-4f6d-4863-a53d-f4ebbba9317c"
      },
      "outputs": [
        {
          "name": "stdin",
          "output_type": "stream",
          "text": [
            " P\n"
          ]
        },
        {
          "name": "stdout",
          "output_type": "stream",
          "text": [
            "Python\n"
          ]
        }
      ],
      "source": [
        "# write a program , should intake a character\n",
        "# 1. if char == P -> o/p Python\n",
        "# 2. if char == D -> o/p Data Science\n",
        "ch = input()\n",
        "if ch == 'p' or ch =='P':\n",
        "    print('Python')\n",
        "elif ch == 'd' or ch=='D':\n",
        "    print('Data Science')\n",
        "else:\n",
        "    print('enter a correct character')"
      ]
    },
    {
      "cell_type": "code",
      "execution_count": null,
      "id": "ec9726f1-8e60-4683-91b8-a5e840517ded",
      "metadata": {
        "id": "ec9726f1-8e60-4683-91b8-a5e840517ded",
        "outputId": "b84f2236-e1f5-4e87-d827-9d0dfa32cc44"
      },
      "outputs": [
        {
          "name": "stdin",
          "output_type": "stream",
          "text": [
            " p\n"
          ]
        },
        {
          "name": "stdout",
          "output_type": "stream",
          "text": [
            "p is python\n"
          ]
        }
      ],
      "source": [
        "char=input()\n",
        "if char== 'p':\n",
        "    print(char, \"is python\")\n",
        "elif char == 'd':\n",
        "    print(char, \"is data science\")\n",
        "else:\n",
        "    print(char, \"is not known\")\n"
      ]
    },
    {
      "cell_type": "code",
      "execution_count": null,
      "id": "c3afaf0e-da35-4421-bcf5-e7400affb671",
      "metadata": {
        "id": "c3afaf0e-da35-4421-bcf5-e7400affb671",
        "outputId": "d8a3b327-244f-401c-e059-c4b647c0845b"
      },
      "outputs": [
        {
          "name": "stdin",
          "output_type": "stream",
          "text": [
            " 10\n"
          ]
        },
        {
          "name": "stdout",
          "output_type": "stream",
          "text": [
            "10.0 is a positive number\n"
          ]
        }
      ],
      "source": [
        "# negative , positive  or zero\n",
        "a=float(input())\n",
        "if a < 0:\n",
        "    print (a, \"is a negative number\")\n",
        "elif a > 0:\n",
        "    print (a, \"is a positive number\")\n",
        "else:\n",
        "    print (a, \"is zero\")\n"
      ]
    },
    {
      "cell_type": "code",
      "execution_count": null,
      "id": "ce0561ac-a7b9-4e58-abb7-e6f4ca5cf946",
      "metadata": {
        "id": "ce0561ac-a7b9-4e58-abb7-e6f4ca5cf946"
      },
      "outputs": [],
      "source": [
        "# write a program , which will take 2 input\n",
        "# 1. gender\n",
        "# 2. age\n",
        "# and check whether they are eligible to get married or not"
      ]
    },
    {
      "cell_type": "code",
      "execution_count": null,
      "id": "73f60c19-c930-4a25-88c1-913e12a06ac2",
      "metadata": {
        "id": "73f60c19-c930-4a25-88c1-913e12a06ac2",
        "outputId": "ce7c3e31-2e2e-491b-9716-bc5760d54053"
      },
      "outputs": [
        {
          "name": "stdin",
          "output_type": "stream",
          "text": [
            "Enter the gender as Male and Female Male\n",
            "Enter the age 22\n"
          ]
        },
        {
          "name": "stdout",
          "output_type": "stream",
          "text": [
            "eligible\n"
          ]
        }
      ],
      "source": [
        "gen = input('Enter the gender as Male and Female')\n",
        "age = int(input('Enter the age'))\n",
        "\n",
        "if (age > 21) and (gen == 'Male'):\n",
        "    print('eligible')\n",
        "elif age >18 and gen == 'Female':\n",
        "    print('eligible')\n",
        "else:\n",
        "    print('Enter the valid credentials')\n",
        "\n",
        ""
      ]
    },
    {
      "cell_type": "code",
      "execution_count": null,
      "id": "b637d777-93f9-4c65-a5d4-18daf4363d18",
      "metadata": {
        "id": "b637d777-93f9-4c65-a5d4-18daf4363d18"
      },
      "outputs": [],
      "source": [
        "gender = str(input('enter your gender'))\n",
        "age= int(input('enter your age'))\n",
        "if age > 18 and gender =='M' or gender == 'm':\n",
        "    print('yes go ahead')\n",
        "elif age < 18:\n",
        "    print('sorry have to wait')"
      ]
    },
    {
      "cell_type": "code",
      "execution_count": null,
      "id": "be1f8cf9-dd76-4fe2-a2d5-4a0e9601bed4",
      "metadata": {
        "id": "be1f8cf9-dd76-4fe2-a2d5-4a0e9601bed4"
      },
      "outputs": [],
      "source": [
        "# intake a string\n",
        "# check whether the string is in capital letter or not\n",
        "# true -> capital letters\n",
        "# flase -> not in capital letters"
      ]
    },
    {
      "cell_type": "code",
      "execution_count": null,
      "id": "13152193-34c1-455d-8b1b-9932a17b090c",
      "metadata": {
        "id": "13152193-34c1-455d-8b1b-9932a17b090c",
        "outputId": "519ec3f6-0c20-4995-8192-1a418c8283be"
      },
      "outputs": [
        {
          "name": "stdin",
          "output_type": "stream",
          "text": [
            "Enter a string:  LAKHSMI\n"
          ]
        },
        {
          "name": "stdout",
          "output_type": "stream",
          "text": [
            "True -> The string is in capital letters.\n"
          ]
        }
      ],
      "source": [
        "input_string = input(\"Enter a string: \")\n",
        "if input_string == input_string.upper() :\n",
        "    print(\"True -> The string is in capital letters.\")\n",
        "else:\n",
        "    print(\"False -> The string is not in capital letters.\")\n",
        "\n"
      ]
    },
    {
      "cell_type": "code",
      "execution_count": null,
      "id": "a9606a41-ee1e-4c9d-99b9-f045aecc9fa0",
      "metadata": {
        "id": "a9606a41-ee1e-4c9d-99b9-f045aecc9fa0",
        "outputId": "606099ac-e85a-4334-d8cd-33506b7587af"
      },
      "outputs": [
        {
          "name": "stdin",
          "output_type": "stream",
          "text": [
            "Enter the letter LAKSHMI\n"
          ]
        },
        {
          "name": "stdout",
          "output_type": "stream",
          "text": [
            "its capital letter\n"
          ]
        }
      ],
      "source": [
        "ch =str(input('Enter the letter'))\n",
        "if ch.isupper() == True:\n",
        "    print (\"its capital letter\")\n",
        "else:\n",
        "    print (\"its not capital letter\")"
      ]
    },
    {
      "cell_type": "markdown",
      "id": "c37dc3fe-05b0-4cec-b8c8-58fca10f0615",
      "metadata": {
        "id": "c37dc3fe-05b0-4cec-b8c8-58fca10f0615"
      },
      "source": [
        "![image.png](attachment:30f0becf-f960-4639-8d96-6a2dd59fa591.png)"
      ]
    },
    {
      "cell_type": "code",
      "execution_count": null,
      "id": "58d6c592-1c1c-4f93-b305-18b9ca2182fb",
      "metadata": {
        "id": "58d6c592-1c1c-4f93-b305-18b9ca2182fb",
        "outputId": "c8664cab-54a5-4426-98e7-ec8588243c7e"
      },
      "outputs": [
        {
          "name": "stdin",
          "output_type": "stream",
          "text": [
            " -1\n"
          ]
        },
        {
          "name": "stdout",
          "output_type": "stream",
          "text": [
            "9\n"
          ]
        }
      ],
      "source": [
        "n = int(input())\n",
        "if n > 0 :\n",
        "    if n > 5:\n",
        "        print(n+10)\n",
        "    else:\n",
        "        print(n)\n",
        "elif n < 0 :\n",
        "    if n > -2 :\n",
        "        print(n+10)\n",
        "    else:\n",
        "        print(n)\n",
        "else:\n",
        "    print(n,'is zero')\n",
        "\n",
        ""
      ]
    },
    {
      "cell_type": "markdown",
      "id": "56197ef4-b4da-493e-8c9c-f0cb4fe8f2d8",
      "metadata": {
        "id": "56197ef4-b4da-493e-8c9c-f0cb4fe8f2d8"
      },
      "source": [
        "#### Data Structure\n",
        "\n",
        "- which stores multiple values in a single variable by giving a structure to it"
      ]
    },
    {
      "cell_type": "markdown",
      "id": "3de1fa5b-cf5c-4337-9e4b-38a183c89d64",
      "metadata": {
        "id": "3de1fa5b-cf5c-4337-9e4b-38a183c89d64"
      },
      "source": [
        "1. List\n",
        "2. Tuple\n",
        "3. Dictionary\n",
        "4. Sets"
      ]
    },
    {
      "cell_type": "markdown",
      "id": "4efa9f17-7f14-49b4-a874-fe7d598a514b",
      "metadata": {
        "id": "4efa9f17-7f14-49b4-a874-fe7d598a514b"
      },
      "source": [
        "#### List\n",
        "\n",
        "- is a DS , which stores multiple values in a single variable\n",
        "- can store both homogeneous and heterogenous values\n",
        "- ordered , indexed , duplicates\n",
        "- LISTS ARE MUTABLE (add , delete and update)\n",
        "- Syntax : var_name = [ ]"
      ]
    },
    {
      "cell_type": "code",
      "execution_count": null,
      "id": "e35fa95b-50d4-418e-99f1-87c56989b075",
      "metadata": {
        "id": "e35fa95b-50d4-418e-99f1-87c56989b075",
        "outputId": "f576c343-356c-45fb-ed04-24c5efe3742d"
      },
      "outputs": [
        {
          "name": "stdout",
          "output_type": "stream",
          "text": [
            "[]\n"
          ]
        }
      ],
      "source": [
        "l = []\n",
        "print(l)"
      ]
    },
    {
      "cell_type": "code",
      "execution_count": null,
      "id": "ee17502b-e615-4efa-8b28-fe06621a6aa9",
      "metadata": {
        "id": "ee17502b-e615-4efa-8b28-fe06621a6aa9",
        "outputId": "dfca4242-8363-4f26-f724-502af8322b0c"
      },
      "outputs": [
        {
          "data": {
            "text/plain": [
              "[]"
            ]
          },
          "execution_count": 297,
          "metadata": {},
          "output_type": "execute_result"
        }
      ],
      "source": [
        "#list method\n",
        "l1 = list([])\n",
        "l1"
      ]
    },
    {
      "cell_type": "code",
      "execution_count": null,
      "id": "1a3cfe63-a561-4490-a77a-a87c370fa4f1",
      "metadata": {
        "id": "1a3cfe63-a561-4490-a77a-a87c370fa4f1",
        "outputId": "abd48c4d-b43a-4fce-aa96-59941d357b49"
      },
      "outputs": [
        {
          "data": {
            "text/plain": [
              "list"
            ]
          },
          "execution_count": 299,
          "metadata": {},
          "output_type": "execute_result"
        }
      ],
      "source": [
        "type(l)"
      ]
    },
    {
      "cell_type": "code",
      "execution_count": null,
      "id": "96132091-cd4a-481c-9fd6-ee0fe10aabc7",
      "metadata": {
        "id": "96132091-cd4a-481c-9fd6-ee0fe10aabc7",
        "outputId": "9281819c-75e0-47aa-8663-65790e108987"
      },
      "outputs": [
        {
          "data": {
            "text/plain": [
              "[1, 2, 3, 4, 5, 6]"
            ]
          },
          "execution_count": 309,
          "metadata": {},
          "output_type": "execute_result"
        }
      ],
      "source": [
        "# integer list\n",
        "l2 = [1,2,3,4,5,6]\n",
        "l2"
      ]
    },
    {
      "cell_type": "code",
      "execution_count": null,
      "id": "aee2caa3-48b6-4528-b742-74d02faaeef8",
      "metadata": {
        "id": "aee2caa3-48b6-4528-b742-74d02faaeef8",
        "outputId": "70cf3d9e-39ec-4c31-d08e-ce96a4b1d524"
      },
      "outputs": [
        {
          "data": {
            "text/plain": [
              "[1.0, 2.0, 3.0, 5.5]"
            ]
          },
          "execution_count": 319,
          "metadata": {},
          "output_type": "execute_result"
        }
      ],
      "source": [
        "# float\n",
        "l3 = [1.0,2.0,3.0,5.5]\n",
        "l3"
      ]
    },
    {
      "cell_type": "code",
      "execution_count": null,
      "id": "2b49694d-e3f2-4d40-9a32-9f16940d8a5c",
      "metadata": {
        "id": "2b49694d-e3f2-4d40-9a32-9f16940d8a5c",
        "outputId": "c4382f5d-4fb5-42d9-c6a8-721732b796aa"
      },
      "outputs": [
        {
          "data": {
            "text/plain": [
              "['name', 'age', 'gender']"
            ]
          },
          "execution_count": 317,
          "metadata": {},
          "output_type": "execute_result"
        }
      ],
      "source": [
        "# str\n",
        "l4 = ['name', 'age', 'gender']\n",
        "l4"
      ]
    },
    {
      "cell_type": "code",
      "execution_count": null,
      "id": "b6fea8df-98f9-4871-a80f-7f87d63844f3",
      "metadata": {
        "id": "b6fea8df-98f9-4871-a80f-7f87d63844f3",
        "outputId": "4e125f3e-85d1-4ca0-afe5-2c9ff2008f70"
      },
      "outputs": [
        {
          "data": {
            "text/plain": [
              "[1, 1.0, 'Python', True]"
            ]
          },
          "execution_count": 321,
          "metadata": {},
          "output_type": "execute_result"
        }
      ],
      "source": [
        "# heterogenous\n",
        "l5 = [1,1.0,'Python',True]\n",
        "l5"
      ]
    },
    {
      "cell_type": "code",
      "execution_count": null,
      "id": "693bfd1f-904b-4b1e-80e4-89198af84cd4",
      "metadata": {
        "id": "693bfd1f-904b-4b1e-80e4-89198af84cd4",
        "outputId": "6f49e692-c4ce-479f-dcca-34b2e8137d75"
      },
      "outputs": [
        {
          "data": {
            "text/plain": [
              "[10, 20, [30, 40], 'Python']"
            ]
          },
          "execution_count": 323,
          "metadata": {},
          "output_type": "execute_result"
        }
      ],
      "source": [
        "# nested list\n",
        "l6 = [10,20,[30,40],'Python']\n",
        "l6"
      ]
    },
    {
      "cell_type": "code",
      "execution_count": null,
      "id": "7ff2d26e-7216-4903-a012-5dae3bceb521",
      "metadata": {
        "id": "7ff2d26e-7216-4903-a012-5dae3bceb521",
        "outputId": "bf3b9144-d81d-4491-c1b4-383b0245c5fa"
      },
      "outputs": [
        {
          "data": {
            "text/plain": [
              "4"
            ]
          },
          "execution_count": 327,
          "metadata": {},
          "output_type": "execute_result"
        }
      ],
      "source": [
        "len(l6)"
      ]
    },
    {
      "cell_type": "markdown",
      "id": "e9d5d502-3b62-4df3-80b9-135971bfb67a",
      "metadata": {
        "id": "e9d5d502-3b62-4df3-80b9-135971bfb67a"
      },
      "source": [
        "##### Indexing and slicing"
      ]
    },
    {
      "cell_type": "code",
      "execution_count": null,
      "id": "7fd24974-7676-44a1-b9e4-b0616fa4c18a",
      "metadata": {
        "id": "7fd24974-7676-44a1-b9e4-b0616fa4c18a",
        "outputId": "f2f0f2cf-fde3-4f4b-c137-f3df256e8f9c"
      },
      "outputs": [
        {
          "data": {
            "text/plain": [
              "[10, 20, [30, 40], 'Python']"
            ]
          },
          "execution_count": 330,
          "metadata": {},
          "output_type": "execute_result"
        }
      ],
      "source": [
        "l6"
      ]
    },
    {
      "cell_type": "code",
      "execution_count": null,
      "id": "1f9c7de0-e9df-4fb3-806d-9451c9753255",
      "metadata": {
        "id": "1f9c7de0-e9df-4fb3-806d-9451c9753255",
        "outputId": "65aa9327-a621-4c86-8167-87ca7ada9a08"
      },
      "outputs": [
        {
          "data": {
            "text/plain": [
              "30"
            ]
          },
          "execution_count": 334,
          "metadata": {},
          "output_type": "execute_result"
        }
      ],
      "source": [
        "l6[2][0]"
      ]
    },
    {
      "cell_type": "code",
      "execution_count": null,
      "id": "73a77e75-a61a-44ab-84d6-f98d5a1d2db8",
      "metadata": {
        "id": "73a77e75-a61a-44ab-84d6-f98d5a1d2db8",
        "outputId": "467790a3-2336-4aa5-b49b-f1990ff24929"
      },
      "outputs": [
        {
          "data": {
            "text/plain": [
              "'Python'"
            ]
          },
          "execution_count": 336,
          "metadata": {},
          "output_type": "execute_result"
        }
      ],
      "source": [
        "l6[-1]"
      ]
    },
    {
      "cell_type": "code",
      "execution_count": null,
      "id": "0dfa7c0d-102d-4804-99d0-5f5b8610061c",
      "metadata": {
        "id": "0dfa7c0d-102d-4804-99d0-5f5b8610061c",
        "outputId": "2ff2fcc4-9130-4e4a-ed4f-c41fda3d1612"
      },
      "outputs": [
        {
          "data": {
            "text/plain": [
              "[]"
            ]
          },
          "execution_count": 338,
          "metadata": {},
          "output_type": "execute_result"
        }
      ],
      "source": [
        "l6[0:-4]"
      ]
    },
    {
      "cell_type": "markdown",
      "id": "b83509f7-e424-463d-999e-5651ac7ed5c9",
      "metadata": {
        "id": "b83509f7-e424-463d-999e-5651ac7ed5c9"
      },
      "source": [
        "#### Lists are mutable\n",
        "- add, delete and update the elements"
      ]
    },
    {
      "cell_type": "markdown",
      "id": "af2901db-b62f-4a42-a024-c88321d3d2dd",
      "metadata": {
        "id": "af2901db-b62f-4a42-a024-c88321d3d2dd"
      },
      "source": [
        "###### ADD\n",
        "1. append\n",
        "2. insert\n",
        "3. extend"
      ]
    },
    {
      "cell_type": "code",
      "execution_count": null,
      "id": "1ee576d1-5d78-4afb-9392-f751e087f498",
      "metadata": {
        "id": "1ee576d1-5d78-4afb-9392-f751e087f498"
      },
      "outputs": [],
      "source": [
        "l = [1,2,3,4,5]"
      ]
    },
    {
      "cell_type": "code",
      "execution_count": null,
      "id": "57e63e18-a9b5-4043-92a6-cb87a14f3ab7",
      "metadata": {
        "id": "57e63e18-a9b5-4043-92a6-cb87a14f3ab7",
        "outputId": "cc15f4a9-4f40-4a9a-9ef0-06d7b5bb6c5c"
      },
      "outputs": [
        {
          "data": {
            "text/plain": [
              "[1, 2, 3, 4, 5, 6]"
            ]
          },
          "execution_count": 6,
          "metadata": {},
          "output_type": "execute_result"
        }
      ],
      "source": [
        "#list_name.append(new_element)\n",
        "l.append(6)\n",
        "l"
      ]
    },
    {
      "cell_type": "code",
      "execution_count": null,
      "id": "e2621f85-6ba7-4901-8301-704745b3744b",
      "metadata": {
        "id": "e2621f85-6ba7-4901-8301-704745b3744b"
      },
      "outputs": [],
      "source": [
        "# insert will add the elemnet at the specified index value\n",
        "# l.insert(index , value)\n",
        "l.insert(1,10)"
      ]
    },
    {
      "cell_type": "code",
      "execution_count": null,
      "id": "f0896518-4d48-4959-a2b7-3d28ebaeb93a",
      "metadata": {
        "id": "f0896518-4d48-4959-a2b7-3d28ebaeb93a",
        "outputId": "26955a45-a2d0-4a8d-ac72-168f9c00fc58"
      },
      "outputs": [
        {
          "data": {
            "text/plain": [
              "[1, 10, 2, 3, 4, 5, 6]"
            ]
          },
          "execution_count": 10,
          "metadata": {},
          "output_type": "execute_result"
        }
      ],
      "source": [
        "l"
      ]
    },
    {
      "cell_type": "code",
      "execution_count": null,
      "id": "c284f921-fc17-4dba-8780-adcad69f4a83",
      "metadata": {
        "id": "c284f921-fc17-4dba-8780-adcad69f4a83",
        "outputId": "d39de733-2e7e-4a68-dfec-c68d26ddbb06"
      },
      "outputs": [
        {
          "data": {
            "text/plain": [
              "[1, 10, 2, 3, 4, 5, 6]"
            ]
          },
          "execution_count": 12,
          "metadata": {},
          "output_type": "execute_result"
        }
      ],
      "source": [
        "# will help in joining 2 lists\n",
        "# will help in adding / appending multiple values at once\n",
        "l"
      ]
    },
    {
      "cell_type": "code",
      "execution_count": null,
      "id": "b8a4f624-188d-4637-8f40-368115b9758e",
      "metadata": {
        "id": "b8a4f624-188d-4637-8f40-368115b9758e",
        "outputId": "84d9b73b-7c9e-4406-8e82-50ff3c3270ec"
      },
      "outputs": [
        {
          "data": {
            "text/plain": [
              "[1, 10, 2, 3, 4, 5, 6, 7, 8, 9, 10]"
            ]
          },
          "execution_count": 14,
          "metadata": {},
          "output_type": "execute_result"
        }
      ],
      "source": [
        "l.extend([7,8,9,10])\n",
        "l"
      ]
    },
    {
      "cell_type": "code",
      "execution_count": null,
      "id": "64bb6647-a430-41cb-8b07-dedd75c6df2b",
      "metadata": {
        "id": "64bb6647-a430-41cb-8b07-dedd75c6df2b"
      },
      "outputs": [],
      "source": [
        "l2 = [11,12]"
      ]
    },
    {
      "cell_type": "code",
      "execution_count": null,
      "id": "6185dd8b-0340-4dec-aa69-77154c98187e",
      "metadata": {
        "id": "6185dd8b-0340-4dec-aa69-77154c98187e",
        "outputId": "75257378-79fc-4b7c-b0d3-4c2e2edc8a83"
      },
      "outputs": [
        {
          "data": {
            "text/plain": [
              "[1, 10, 2, 3, 4, 5, 6, 7, 8, 9, 10, 11, 12]"
            ]
          },
          "execution_count": 18,
          "metadata": {},
          "output_type": "execute_result"
        }
      ],
      "source": [
        "l.extend(l2)\n",
        "l"
      ]
    },
    {
      "cell_type": "markdown",
      "id": "09036e79-5d13-4e26-91ff-21655210b991",
      "metadata": {
        "id": "09036e79-5d13-4e26-91ff-21655210b991"
      },
      "source": [
        "#####  Remove\n",
        "1. pop\n",
        "2. pop(index_value)\n",
        "3. remove"
      ]
    },
    {
      "cell_type": "code",
      "execution_count": null,
      "id": "47173a37-5696-4bde-a3f3-e423717ecc42",
      "metadata": {
        "id": "47173a37-5696-4bde-a3f3-e423717ecc42",
        "outputId": "9fa2c57c-ffa6-4c8e-f3df-42fadf9f6515"
      },
      "outputs": [
        {
          "data": {
            "text/plain": [
              "[1, 10, 2, 3, 4, 5, 6, 7, 8, 9, 10, 11, 12]"
            ]
          },
          "execution_count": 28,
          "metadata": {},
          "output_type": "execute_result"
        }
      ],
      "source": [
        "l"
      ]
    },
    {
      "cell_type": "code",
      "execution_count": null,
      "id": "3f1ad40a-9749-4fad-aa9f-c0328cf11ab8",
      "metadata": {
        "id": "3f1ad40a-9749-4fad-aa9f-c0328cf11ab8",
        "outputId": "d305aafe-5ef0-4c75-b803-a2e7111f64cb"
      },
      "outputs": [
        {
          "data": {
            "text/plain": [
              "12"
            ]
          },
          "execution_count": 30,
          "metadata": {},
          "output_type": "execute_result"
        }
      ],
      "source": [
        "# by defualt pop will remove last element from the list\n",
        "l.pop()"
      ]
    },
    {
      "cell_type": "code",
      "execution_count": null,
      "id": "ef8f5b82-0d6d-4195-8cb6-e68e6e9f1afa",
      "metadata": {
        "id": "ef8f5b82-0d6d-4195-8cb6-e68e6e9f1afa",
        "outputId": "057b4ed1-0c6b-4514-bb05-d1992fb6aeba"
      },
      "outputs": [
        {
          "data": {
            "text/plain": [
              "[1, 10, 2, 3, 4, 5, 6, 7, 8, 9, 10, 11]"
            ]
          },
          "execution_count": 32,
          "metadata": {},
          "output_type": "execute_result"
        }
      ],
      "source": [
        "l"
      ]
    },
    {
      "cell_type": "code",
      "execution_count": null,
      "id": "e0505cac-389e-4bc4-9351-fd2603274598",
      "metadata": {
        "id": "e0505cac-389e-4bc4-9351-fd2603274598",
        "outputId": "13204ef1-aad1-4105-d505-4cbbf7c41752"
      },
      "outputs": [
        {
          "data": {
            "text/plain": [
              "10"
            ]
          },
          "execution_count": 34,
          "metadata": {},
          "output_type": "execute_result"
        }
      ],
      "source": [
        "l.pop(1)"
      ]
    },
    {
      "cell_type": "code",
      "execution_count": null,
      "id": "be15bd49-a149-4c9c-bb02-781f64f3ceb8",
      "metadata": {
        "id": "be15bd49-a149-4c9c-bb02-781f64f3ceb8",
        "outputId": "ea1c5a36-7ef4-4958-92ea-da205d476d68"
      },
      "outputs": [
        {
          "data": {
            "text/plain": [
              "[1, 2, 3, 4, 5, 6, 7, 8, 9, 10, 11]"
            ]
          },
          "execution_count": 36,
          "metadata": {},
          "output_type": "execute_result"
        }
      ],
      "source": [
        "l"
      ]
    },
    {
      "cell_type": "code",
      "execution_count": null,
      "id": "d3a422f1-cbb5-4c48-b9bb-7372cc587a83",
      "metadata": {
        "id": "d3a422f1-cbb5-4c48-b9bb-7372cc587a83"
      },
      "outputs": [],
      "source": [
        "# remove(value)\n",
        "l.remove(11)"
      ]
    },
    {
      "cell_type": "code",
      "execution_count": null,
      "id": "e13bc68e-e77a-4657-a7c7-78b5e17a74de",
      "metadata": {
        "id": "e13bc68e-e77a-4657-a7c7-78b5e17a74de",
        "outputId": "ede296d6-ad56-43c8-860a-a3f61ae22870"
      },
      "outputs": [
        {
          "data": {
            "text/plain": [
              "[1, 2, 3, 4, 5, 6, 7, 8, 9, 10]"
            ]
          },
          "execution_count": 40,
          "metadata": {},
          "output_type": "execute_result"
        }
      ],
      "source": [
        "l"
      ]
    },
    {
      "cell_type": "code",
      "execution_count": null,
      "id": "e4154795-07b1-48f7-9950-4c72a747b4ed",
      "metadata": {
        "id": "e4154795-07b1-48f7-9950-4c72a747b4ed",
        "outputId": "adffe0b1-b32a-4a9c-a914-d5a5f2fdca4b"
      },
      "outputs": [
        {
          "data": {
            "text/plain": [
              "[10, 2, 3, 4, 5, 6, 7, 8, 9, 10]"
            ]
          },
          "execution_count": 46,
          "metadata": {},
          "output_type": "execute_result"
        }
      ],
      "source": [
        "# update the values\n",
        "l[0] = 10\n",
        "l"
      ]
    },
    {
      "cell_type": "code",
      "execution_count": null,
      "id": "9332ba66-2526-48d1-b425-368216cc2e48",
      "metadata": {
        "id": "9332ba66-2526-48d1-b425-368216cc2e48",
        "outputId": "5d0bb0f2-efb3-4325-f58a-cc21c3b5e7bc"
      },
      "outputs": [
        {
          "data": {
            "text/plain": [
              "[10, 20, 30, 40, 50, 60, 70, 80, 90, 100]"
            ]
          },
          "execution_count": 52,
          "metadata": {},
          "output_type": "execute_result"
        }
      ],
      "source": [
        "l[1:10] = [20,30,40,50,60,70,80,90,100]\n",
        "l"
      ]
    },
    {
      "cell_type": "markdown",
      "id": "eaa84352-e54e-46b5-a9f7-228486a5e74c",
      "metadata": {
        "id": "eaa84352-e54e-46b5-a9f7-228486a5e74c"
      },
      "source": [
        "##### List concatenation"
      ]
    },
    {
      "cell_type": "code",
      "execution_count": null,
      "id": "f764c879-f7d7-43cd-85c4-64cbb59b9898",
      "metadata": {
        "id": "f764c879-f7d7-43cd-85c4-64cbb59b9898"
      },
      "outputs": [],
      "source": [
        "a = [1,2]\n",
        "b = [3,4]"
      ]
    },
    {
      "cell_type": "code",
      "execution_count": null,
      "id": "3eba604d-dd41-4e63-b1e2-3ac0ce69fa85",
      "metadata": {
        "id": "3eba604d-dd41-4e63-b1e2-3ac0ce69fa85",
        "outputId": "24ff37fe-0a27-4286-de8d-c81b3b8e6b18"
      },
      "outputs": [
        {
          "data": {
            "text/plain": [
              "[1, 2, 3, 4, 3, 4]"
            ]
          },
          "execution_count": 59,
          "metadata": {},
          "output_type": "execute_result"
        }
      ],
      "source": [
        "a.extend(b)\n",
        "a"
      ]
    },
    {
      "cell_type": "code",
      "execution_count": null,
      "id": "62f1ae3b-797d-4a8e-a684-f67d8444d77d",
      "metadata": {
        "id": "62f1ae3b-797d-4a8e-a684-f67d8444d77d",
        "outputId": "34e135f8-327b-4840-8a3d-163081307a6d"
      },
      "outputs": [
        {
          "data": {
            "text/plain": [
              "[1, 2, 3, 4, 3, 4, 3, 4]"
            ]
          },
          "execution_count": 61,
          "metadata": {},
          "output_type": "execute_result"
        }
      ],
      "source": [
        "a + b"
      ]
    },
    {
      "cell_type": "markdown",
      "id": "3faaf76a-f707-4c97-a789-112d0c306c6e",
      "metadata": {
        "id": "3faaf76a-f707-4c97-a789-112d0c306c6e"
      },
      "source": [
        "##### List membership\n",
        "- in\n",
        "- not in"
      ]
    },
    {
      "cell_type": "code",
      "execution_count": null,
      "id": "facf2858-6db8-4e9b-b7d5-2552a76be367",
      "metadata": {
        "id": "facf2858-6db8-4e9b-b7d5-2552a76be367",
        "outputId": "7272f196-dba6-4bd9-b6d9-f71010eee793"
      },
      "outputs": [
        {
          "data": {
            "text/plain": [
              "[10, 20, 30, 40, 50, 60, 70, 80, 90, 100]"
            ]
          },
          "execution_count": 64,
          "metadata": {},
          "output_type": "execute_result"
        }
      ],
      "source": [
        "l"
      ]
    },
    {
      "cell_type": "code",
      "execution_count": null,
      "id": "00545437-9fda-4dc2-af0f-93eb9c715d8d",
      "metadata": {
        "id": "00545437-9fda-4dc2-af0f-93eb9c715d8d",
        "outputId": "e0d9ecc3-76dc-42cb-e0cf-6e005dcfd9aa"
      },
      "outputs": [
        {
          "data": {
            "text/plain": [
              "True"
            ]
          },
          "execution_count": 66,
          "metadata": {},
          "output_type": "execute_result"
        }
      ],
      "source": [
        "10 in l"
      ]
    },
    {
      "cell_type": "code",
      "execution_count": null,
      "id": "861c00a3-ebab-446e-a9d4-0b112ad1c4cc",
      "metadata": {
        "id": "861c00a3-ebab-446e-a9d4-0b112ad1c4cc",
        "outputId": "e687ee8d-acec-4a94-86a8-4bf2ff76b2a7"
      },
      "outputs": [
        {
          "data": {
            "text/plain": [
              "True"
            ]
          },
          "execution_count": 68,
          "metadata": {},
          "output_type": "execute_result"
        }
      ],
      "source": [
        "200 not in l"
      ]
    },
    {
      "cell_type": "markdown",
      "id": "492281e4-44b1-4ab1-9dcf-4a2820d63a83",
      "metadata": {
        "id": "492281e4-44b1-4ab1-9dcf-4a2820d63a83"
      },
      "source": [
        "#### all and any"
      ]
    },
    {
      "cell_type": "code",
      "execution_count": null,
      "id": "0367cc24-4999-48e8-a519-f243a4dd7175",
      "metadata": {
        "id": "0367cc24-4999-48e8-a519-f243a4dd7175"
      },
      "outputs": [],
      "source": [
        "# all - will return true , if all the elements in the ds is true\n",
        "c = [1,2,'Python']"
      ]
    },
    {
      "cell_type": "code",
      "execution_count": null,
      "id": "c13f7821-f05d-4dc1-a567-851bdced225b",
      "metadata": {
        "id": "c13f7821-f05d-4dc1-a567-851bdced225b",
        "outputId": "fbe80c32-0c05-4ac1-9d15-a4ba65dd3f83"
      },
      "outputs": [
        {
          "data": {
            "text/plain": [
              "True"
            ]
          },
          "execution_count": 75,
          "metadata": {},
          "output_type": "execute_result"
        }
      ],
      "source": [
        "all(c)"
      ]
    },
    {
      "cell_type": "code",
      "execution_count": null,
      "id": "80b1622e-0e01-4c93-86b6-098930bc6caf",
      "metadata": {
        "id": "80b1622e-0e01-4c93-86b6-098930bc6caf",
        "outputId": "3f441754-bb92-450c-d544-489d776fec6d"
      },
      "outputs": [
        {
          "data": {
            "text/plain": [
              "False"
            ]
          },
          "execution_count": 77,
          "metadata": {},
          "output_type": "execute_result"
        }
      ],
      "source": [
        "d = [1,0]\n",
        "all(d)"
      ]
    },
    {
      "cell_type": "code",
      "execution_count": null,
      "id": "607eb303-54ae-4a61-80cb-1bcdfa77ec02",
      "metadata": {
        "id": "607eb303-54ae-4a61-80cb-1bcdfa77ec02",
        "outputId": "4f0f8767-6519-4558-91cf-763d41c15fb8"
      },
      "outputs": [
        {
          "data": {
            "text/plain": [
              "True"
            ]
          },
          "execution_count": 79,
          "metadata": {},
          "output_type": "execute_result"
        }
      ],
      "source": [
        "# any - will return true , atleast 1 true elemnt in te ds\n",
        "any(d)"
      ]
    },
    {
      "cell_type": "code",
      "execution_count": null,
      "id": "0ed2a72e-653b-45fd-ace7-187cb7fb51ba",
      "metadata": {
        "id": "0ed2a72e-653b-45fd-ace7-187cb7fb51ba",
        "outputId": "8a563f42-3be9-4bd6-ce37-a38e38bb71fa"
      },
      "outputs": [
        {
          "data": {
            "text/plain": [
              "True"
            ]
          },
          "execution_count": 81,
          "metadata": {},
          "output_type": "execute_result"
        }
      ],
      "source": [
        "d=[1 ,'False']\n",
        "all(d)"
      ]
    },
    {
      "cell_type": "markdown",
      "id": "252fd7e6-fdfd-4a82-a355-4a895f3c1104",
      "metadata": {
        "id": "252fd7e6-fdfd-4a82-a355-4a895f3c1104"
      },
      "source": [
        "##### Reverse and sort the list"
      ]
    },
    {
      "cell_type": "code",
      "execution_count": null,
      "id": "40af5521-a96c-4511-92dc-259d24fb39eb",
      "metadata": {
        "id": "40af5521-a96c-4511-92dc-259d24fb39eb",
        "outputId": "2d430eb1-2cd6-41d3-95b1-101a0b1b1cb3"
      },
      "outputs": [
        {
          "data": {
            "text/plain": [
              "[10, 9, 1, 2, 6, 7, 8]"
            ]
          },
          "execution_count": 87,
          "metadata": {},
          "output_type": "execute_result"
        }
      ],
      "source": [
        "a1 = [10,9,1,2,6,7,8]\n",
        "a1"
      ]
    },
    {
      "cell_type": "code",
      "execution_count": null,
      "id": "5a65c555-81ba-49fa-b014-b25d4ec44a4e",
      "metadata": {
        "id": "5a65c555-81ba-49fa-b014-b25d4ec44a4e",
        "outputId": "f48a917e-401c-4b9a-c5a1-f61289688956"
      },
      "outputs": [
        {
          "data": {
            "text/plain": [
              "[8, 7, 6, 2, 1, 9, 10]"
            ]
          },
          "execution_count": 91,
          "metadata": {},
          "output_type": "execute_result"
        }
      ],
      "source": [
        "a1[::-1]"
      ]
    },
    {
      "cell_type": "code",
      "execution_count": null,
      "id": "b7f39cdc-70ec-4886-b1c1-d9796624e603",
      "metadata": {
        "id": "b7f39cdc-70ec-4886-b1c1-d9796624e603",
        "outputId": "3a4bdc00-c80a-4408-aca3-43c33ad52801"
      },
      "outputs": [
        {
          "data": {
            "text/plain": [
              "[10, 9, 1, 2, 6, 7, 8]"
            ]
          },
          "execution_count": 95,
          "metadata": {},
          "output_type": "execute_result"
        }
      ],
      "source": [
        "a1.reverse()\n",
        "a1"
      ]
    },
    {
      "cell_type": "code",
      "execution_count": null,
      "id": "a2d8962c-7421-4ba8-8c31-55d59e821f88",
      "metadata": {
        "id": "a2d8962c-7421-4ba8-8c31-55d59e821f88",
        "outputId": "2b2b6edd-00b3-467a-bd8c-c3a41256be85"
      },
      "outputs": [
        {
          "data": {
            "text/plain": [
              "[1, 2, 6, 7, 8, 9, 10]"
            ]
          },
          "execution_count": 99,
          "metadata": {},
          "output_type": "execute_result"
        }
      ],
      "source": [
        "# sort\n",
        "# by default sorting is happening in ascending\n",
        "a1.sort()\n",
        "a1"
      ]
    },
    {
      "cell_type": "code",
      "execution_count": null,
      "id": "8dcee07d-8e27-463b-88c4-94cb075e74d3",
      "metadata": {
        "id": "8dcee07d-8e27-463b-88c4-94cb075e74d3",
        "outputId": "4cd90fd6-742d-4421-ec99-e865e3508a6a"
      },
      "outputs": [
        {
          "data": {
            "text/plain": [
              "[10, 9, 8, 7, 6, 2, 1]"
            ]
          },
          "execution_count": 101,
          "metadata": {},
          "output_type": "execute_result"
        }
      ],
      "source": [
        "a1.sort(reverse = True)\n",
        "a1"
      ]
    },
    {
      "cell_type": "markdown",
      "id": "7d641f8d-fb44-4981-ae2a-c2dacfed6a54",
      "metadata": {
        "id": "7d641f8d-fb44-4981-ae2a-c2dacfed6a54"
      },
      "source": [
        "### Tuple\n",
        "- Tuple are DS which stores multiples values in a single variable\n",
        "- can store both homogeneous and heterogenous values\n",
        "- ordered , indexed , duplicates\n",
        "- Tuples ARE IMMUTABLE (we cannot add , delete and update once a tuple is formed)\n",
        "- we can convert the tuple into a list and do the changes (but not advisible at all the scenarios)\n",
        "- Syntax : var_name = ()\n"
      ]
    },
    {
      "cell_type": "code",
      "execution_count": null,
      "id": "62e7e9e1-ff3a-4c4f-b534-426e31aec2b2",
      "metadata": {
        "id": "62e7e9e1-ff3a-4c4f-b534-426e31aec2b2"
      },
      "outputs": [],
      "source": [
        "t = ()"
      ]
    },
    {
      "cell_type": "code",
      "execution_count": null,
      "id": "d71dd48d-f18a-47ef-9f02-f422fe5341db",
      "metadata": {
        "id": "d71dd48d-f18a-47ef-9f02-f422fe5341db",
        "outputId": "0787678d-a40b-43d6-b604-eaf8bf42777d"
      },
      "outputs": [
        {
          "data": {
            "text/plain": [
              "()"
            ]
          },
          "execution_count": 113,
          "metadata": {},
          "output_type": "execute_result"
        }
      ],
      "source": [
        "t = tuple()\n",
        "t"
      ]
    },
    {
      "cell_type": "code",
      "execution_count": null,
      "id": "af33a637-d5e9-4fd1-aed2-c8a6cfe63c9a",
      "metadata": {
        "id": "af33a637-d5e9-4fd1-aed2-c8a6cfe63c9a"
      },
      "outputs": [],
      "source": [
        "# integer tuple\n",
        "t2 = (1,2,3,4)"
      ]
    },
    {
      "cell_type": "code",
      "execution_count": null,
      "id": "970c31b7-6011-4a4c-a8ce-7e6861670c24",
      "metadata": {
        "id": "970c31b7-6011-4a4c-a8ce-7e6861670c24"
      },
      "outputs": [],
      "source": [
        "# float"
      ]
    },
    {
      "cell_type": "code",
      "execution_count": null,
      "id": "41b53142-51af-4b3d-ba27-e014e1c71082",
      "metadata": {
        "id": "41b53142-51af-4b3d-ba27-e014e1c71082"
      },
      "outputs": [],
      "source": [
        "# string"
      ]
    },
    {
      "cell_type": "code",
      "execution_count": null,
      "id": "88b005f1-db1b-4092-8205-8ef193f515a6",
      "metadata": {
        "id": "88b005f1-db1b-4092-8205-8ef193f515a6",
        "outputId": "57df638e-10a3-40e6-baec-59e2da0cfe44"
      },
      "outputs": [
        {
          "data": {
            "text/plain": [
              "(1, 2, (2, 4), [1, 2, 3])"
            ]
          },
          "execution_count": 131,
          "metadata": {},
          "output_type": "execute_result"
        }
      ],
      "source": [
        "# hetero\n",
        "t1 = (1,1.0,'Python')\n",
        "t"
      ]
    },
    {
      "cell_type": "code",
      "execution_count": null,
      "id": "52ac2cb5-4075-44d7-96b9-8d9df3497de5",
      "metadata": {
        "id": "52ac2cb5-4075-44d7-96b9-8d9df3497de5",
        "outputId": "695502f5-be14-47d1-ae6e-4496a297b836"
      },
      "outputs": [
        {
          "data": {
            "text/plain": [
              "(1, 2, (2, 4), [1, 2, 3])"
            ]
          },
          "execution_count": 123,
          "metadata": {},
          "output_type": "execute_result"
        }
      ],
      "source": [
        "#nested tuple\n",
        "t = (1,2,(2,4),[1,2,3])\n",
        "t"
      ]
    },
    {
      "cell_type": "markdown",
      "id": "0414efb9-968d-4d6f-a108-b6cf1cdf48bd",
      "metadata": {
        "id": "0414efb9-968d-4d6f-a108-b6cf1cdf48bd"
      },
      "source": [
        "##### Indexing and slicing\n",
        "\n",
        "Task"
      ]
    },
    {
      "cell_type": "markdown",
      "id": "f19fb576-1b23-47e4-a2bd-753c8682da54",
      "metadata": {
        "id": "f19fb576-1b23-47e4-a2bd-753c8682da54"
      },
      "source": [
        "##### Tuples are immutable\n",
        "- WE can delete the entire structre from memory\n",
        "- we can convert the tuple into list and make the necessary changes"
      ]
    },
    {
      "cell_type": "code",
      "execution_count": null,
      "id": "8380e90d-bd00-46bf-8aa1-49f0608e3f5b",
      "metadata": {
        "id": "8380e90d-bd00-46bf-8aa1-49f0608e3f5b",
        "outputId": "20195256-8940-41e9-a623-80ff1d4ff3fd"
      },
      "outputs": [
        {
          "data": {
            "text/plain": [
              "(1, 2, (2, 4), [1, 2, 3])"
            ]
          },
          "execution_count": 127,
          "metadata": {},
          "output_type": "execute_result"
        }
      ],
      "source": [
        "t"
      ]
    },
    {
      "cell_type": "code",
      "execution_count": null,
      "id": "0b11d38a-ea2a-4e0e-bd8c-6a55abff9ff2",
      "metadata": {
        "id": "0b11d38a-ea2a-4e0e-bd8c-6a55abff9ff2"
      },
      "outputs": [],
      "source": [
        "del t"
      ]
    },
    {
      "cell_type": "code",
      "execution_count": null,
      "id": "6dd39a7d-09c0-4093-8a09-f7b8a89960fd",
      "metadata": {
        "id": "6dd39a7d-09c0-4093-8a09-f7b8a89960fd",
        "outputId": "3ea090e8-5b9f-4081-ab29-54292223e77c"
      },
      "outputs": [
        {
          "ename": "NameError",
          "evalue": "name 't' is not defined",
          "output_type": "error",
          "traceback": [
            "\u001b[1;31m---------------------------------------------------------------------------\u001b[0m",
            "\u001b[1;31mNameError\u001b[0m                                 Traceback (most recent call last)",
            "Cell \u001b[1;32mIn[135], line 1\u001b[0m\n\u001b[1;32m----> 1\u001b[0m t\n",
            "\u001b[1;31mNameError\u001b[0m: name 't' is not defined"
          ]
        }
      ],
      "source": [
        "t"
      ]
    },
    {
      "cell_type": "code",
      "execution_count": null,
      "id": "19ce0af8-58e1-470e-add8-7a392fc17041",
      "metadata": {
        "id": "19ce0af8-58e1-470e-add8-7a392fc17041",
        "outputId": "7260c8a2-9a82-4c22-b354-adcf4cdc9e88"
      },
      "outputs": [
        {
          "data": {
            "text/plain": [
              "(1, 2, 3, 4)"
            ]
          },
          "execution_count": 139,
          "metadata": {},
          "output_type": "execute_result"
        }
      ],
      "source": [
        "t2"
      ]
    },
    {
      "cell_type": "code",
      "execution_count": null,
      "id": "b1137e41-d7dc-4c06-882b-bb05ecbe33ad",
      "metadata": {
        "id": "b1137e41-d7dc-4c06-882b-bb05ecbe33ad",
        "outputId": "ed44cdcc-6b76-4f8d-c67b-0798a67fd30e"
      },
      "outputs": [
        {
          "data": {
            "text/plain": [
              "[1, 2, 3, 4]"
            ]
          },
          "execution_count": 141,
          "metadata": {},
          "output_type": "execute_result"
        }
      ],
      "source": [
        "tuple_l = list(t2)\n",
        "tuple_l"
      ]
    },
    {
      "cell_type": "code",
      "execution_count": null,
      "id": "09660ae4-7563-42b2-9d95-12f43979c387",
      "metadata": {
        "id": "09660ae4-7563-42b2-9d95-12f43979c387"
      },
      "outputs": [],
      "source": [
        "tuple_l.append(5)"
      ]
    },
    {
      "cell_type": "code",
      "execution_count": null,
      "id": "2ec32557-27d3-4eaa-a9e9-bf6195c3137c",
      "metadata": {
        "id": "2ec32557-27d3-4eaa-a9e9-bf6195c3137c",
        "outputId": "e56c8034-187c-427b-88a9-0d4c4ee2e5cc"
      },
      "outputs": [
        {
          "data": {
            "text/plain": [
              "[1, 2, 3, 4, 5]"
            ]
          },
          "execution_count": 145,
          "metadata": {},
          "output_type": "execute_result"
        }
      ],
      "source": [
        "tuple_l"
      ]
    },
    {
      "cell_type": "markdown",
      "id": "1667cfb3-f407-4093-ac0d-8dbb7f509388",
      "metadata": {
        "id": "1667cfb3-f407-4093-ac0d-8dbb7f509388"
      },
      "source": [
        "##### Tuple memebership"
      ]
    },
    {
      "cell_type": "code",
      "execution_count": null,
      "id": "a0f06025-074b-4aea-b8d4-267229b72a3d",
      "metadata": {
        "id": "a0f06025-074b-4aea-b8d4-267229b72a3d",
        "outputId": "4d19c0a8-18d0-4c43-85e3-c1c640914393"
      },
      "outputs": [
        {
          "data": {
            "text/plain": [
              "[1, 2, 3, 4, 5]"
            ]
          },
          "execution_count": 154,
          "metadata": {},
          "output_type": "execute_result"
        }
      ],
      "source": [
        "tuple_l"
      ]
    },
    {
      "cell_type": "code",
      "execution_count": null,
      "id": "45f67073-0fd5-45c6-bf1b-ddc2e2c6b8fa",
      "metadata": {
        "id": "45f67073-0fd5-45c6-bf1b-ddc2e2c6b8fa",
        "outputId": "d4d0466e-1822-4bc1-aa38-320f0b6986fd"
      },
      "outputs": [
        {
          "data": {
            "text/plain": [
              "True"
            ]
          },
          "execution_count": 158,
          "metadata": {},
          "output_type": "execute_result"
        }
      ],
      "source": [
        "1 in tuple_l"
      ]
    },
    {
      "cell_type": "markdown",
      "id": "58dea8ab-8ab1-42d6-9d8a-8c99f4eef431",
      "metadata": {
        "id": "58dea8ab-8ab1-42d6-9d8a-8c99f4eef431"
      },
      "source": [
        "##### Sorted"
      ]
    },
    {
      "cell_type": "code",
      "execution_count": null,
      "id": "b07289c4-fdb1-40e8-9611-739c998c299c",
      "metadata": {
        "id": "b07289c4-fdb1-40e8-9611-739c998c299c",
        "outputId": "7b619c8e-f6b9-4a32-ed35-1b3a49b39eb5"
      },
      "outputs": [
        {
          "data": {
            "text/plain": [
              "(1, 2, 0, 10, 5, 20)"
            ]
          },
          "execution_count": 162,
          "metadata": {},
          "output_type": "execute_result"
        }
      ],
      "source": [
        "t = (1,2,0,10,5,20)\n",
        "t"
      ]
    },
    {
      "cell_type": "code",
      "execution_count": null,
      "id": "49469aa4-0c24-437b-9790-a753f848263d",
      "metadata": {
        "id": "49469aa4-0c24-437b-9790-a753f848263d",
        "outputId": "b33f84a3-1385-4e17-ea7d-a6a6b4df5307"
      },
      "outputs": [
        {
          "data": {
            "text/plain": [
              "[0, 1, 2, 5, 10, 20]"
            ]
          },
          "execution_count": 164,
          "metadata": {},
          "output_type": "execute_result"
        }
      ],
      "source": [
        "sorted(t)"
      ]
    },
    {
      "cell_type": "code",
      "execution_count": null,
      "id": "2ee7600e-2ed5-4db5-b3ca-a7ad18a0f522",
      "metadata": {
        "id": "2ee7600e-2ed5-4db5-b3ca-a7ad18a0f522",
        "outputId": "1526c651-295f-4526-bea5-a4f8a1e78e24"
      },
      "outputs": [
        {
          "data": {
            "text/plain": [
              "[20, 10, 5, 2, 1, 0]"
            ]
          },
          "execution_count": 166,
          "metadata": {},
          "output_type": "execute_result"
        }
      ],
      "source": [
        "sorted(t, reverse=True)"
      ]
    },
    {
      "cell_type": "code",
      "execution_count": null,
      "id": "de0298f5-8a0c-4022-8a9c-ae56288d42f8",
      "metadata": {
        "id": "de0298f5-8a0c-4022-8a9c-ae56288d42f8"
      },
      "outputs": [],
      "source": [
        "l = [1, 20, (2, 4), [1, 2, 3], 30, 40]\n",
        "l.remove((2,4))"
      ]
    },
    {
      "cell_type": "code",
      "execution_count": null,
      "id": "cbb58bd4-7dd4-4883-8402-5d8bd19f440d",
      "metadata": {
        "id": "cbb58bd4-7dd4-4883-8402-5d8bd19f440d",
        "outputId": "7a34e823-fa38-4029-92b5-6a2d48da4a68"
      },
      "outputs": [
        {
          "data": {
            "text/plain": [
              "[1, 20, [1, 2, 3], 30, 40]"
            ]
          },
          "execution_count": 176,
          "metadata": {},
          "output_type": "execute_result"
        }
      ],
      "source": [
        "l"
      ]
    },
    {
      "cell_type": "markdown",
      "id": "2a011174-e40f-469f-bfb7-9804468e7e0f",
      "metadata": {
        "id": "2a011174-e40f-469f-bfb7-9804468e7e0f"
      },
      "source": [
        "#### Sets\n",
        "\n",
        "- are DS which stores multiple values in a single var\n",
        "- it can store both homo and hetero\n",
        "- SETS ARE UNORDERED\n",
        "- SETS ARE UNINDEXED\n",
        "- SETS DO NOT ALLOW DUPLICATES\n",
        "- SETS ARE MUTABLE\n",
        "- Syntax : var_name = { values }"
      ]
    },
    {
      "cell_type": "code",
      "execution_count": null,
      "id": "3b80844d-92b7-4fba-9e21-30927d7c9713",
      "metadata": {
        "id": "3b80844d-92b7-4fba-9e21-30927d7c9713",
        "outputId": "b3512634-8aae-4103-f1e4-cf5740002d2c"
      },
      "outputs": [
        {
          "data": {
            "text/plain": [
              "{1, 2, 3}"
            ]
          },
          "execution_count": 179,
          "metadata": {},
          "output_type": "execute_result"
        }
      ],
      "source": [
        "s = {1,2,3}\n",
        "s"
      ]
    },
    {
      "cell_type": "code",
      "execution_count": null,
      "id": "5f2d920c-e2b4-46f2-885e-212fee6fce76",
      "metadata": {
        "id": "5f2d920c-e2b4-46f2-885e-212fee6fce76",
        "outputId": "bd87c5ef-6bcf-4689-fc44-5391c462f833"
      },
      "outputs": [
        {
          "data": {
            "text/plain": [
              "set"
            ]
          },
          "execution_count": 181,
          "metadata": {},
          "output_type": "execute_result"
        }
      ],
      "source": [
        "type(s)"
      ]
    },
    {
      "cell_type": "code",
      "execution_count": null,
      "id": "6096888d-8a9a-4dc2-bf4c-edbaca2a864d",
      "metadata": {
        "id": "6096888d-8a9a-4dc2-bf4c-edbaca2a864d",
        "outputId": "c6c1ec90-9b88-4ed1-b244-c8dba738ea1d"
      },
      "outputs": [
        {
          "data": {
            "text/plain": [
              "{1, 2, 3}"
            ]
          },
          "execution_count": 187,
          "metadata": {},
          "output_type": "execute_result"
        }
      ],
      "source": [
        "s1 = set({1,2,3})\n",
        "s1"
      ]
    },
    {
      "cell_type": "code",
      "execution_count": null,
      "id": "f424d908-8b0b-45a0-9fd5-c2401a08957a",
      "metadata": {
        "id": "f424d908-8b0b-45a0-9fd5-c2401a08957a",
        "outputId": "956dc0a4-5c6e-4f4e-dd7d-8a83c9daa967"
      },
      "outputs": [
        {
          "data": {
            "text/plain": [
              "set"
            ]
          },
          "execution_count": 189,
          "metadata": {},
          "output_type": "execute_result"
        }
      ],
      "source": [
        "type(s1)"
      ]
    },
    {
      "cell_type": "code",
      "execution_count": null,
      "id": "b11656b6-6da3-439f-b4d1-f0ab415bf1c1",
      "metadata": {
        "id": "b11656b6-6da3-439f-b4d1-f0ab415bf1c1",
        "outputId": "34fb739f-220b-47a8-d199-b59581d18117"
      },
      "outputs": [
        {
          "data": {
            "text/plain": [
              "{1, 2, 3, 4}"
            ]
          },
          "execution_count": 191,
          "metadata": {},
          "output_type": "execute_result"
        }
      ],
      "source": [
        "s2 = {1,1,2,3,4}\n",
        "s2 # It will automatically removes the duplicate values\n"
      ]
    },
    {
      "cell_type": "code",
      "execution_count": null,
      "id": "df1b2c85-8284-4b5f-b267-9550c6b6e90d",
      "metadata": {
        "id": "df1b2c85-8284-4b5f-b267-9550c6b6e90d",
        "outputId": "4676e303-ca6f-4347-9d82-841bfaa4a38c"
      },
      "outputs": [
        {
          "data": {
            "text/plain": [
              "{1, 2, 3}"
            ]
          },
          "execution_count": 194,
          "metadata": {},
          "output_type": "execute_result"
        }
      ],
      "source": [
        "s3 = {1,2,3}\n",
        "s3.add(True)\n",
        "s3\n",
        "# boolean True == 1\n",
        "# boolean False == 0"
      ]
    },
    {
      "cell_type": "code",
      "execution_count": null,
      "id": "9ef02b63-4935-4d4e-8960-0295cd346582",
      "metadata": {
        "id": "9ef02b63-4935-4d4e-8960-0295cd346582",
        "outputId": "a305e336-b7b8-4293-ff35-714465c1f3c2"
      },
      "outputs": [
        {
          "data": {
            "text/plain": [
              "{(1, 2, 3), 1, 'CDS'}"
            ]
          },
          "execution_count": 196,
          "metadata": {},
          "output_type": "execute_result"
        }
      ],
      "source": [
        "# hetero / nested\n",
        "# sets can store all dtype values along with immuatable DS\n",
        "s4 = {1,1.0,'CDS',(1,2,3)}\n",
        "s4"
      ]
    },
    {
      "cell_type": "markdown",
      "id": "5ff2812a-c6a5-400d-92ea-890bb137b15f",
      "metadata": {
        "id": "5ff2812a-c6a5-400d-92ea-890bb137b15f"
      },
      "source": [
        "##### Set Membership\n",
        "\n",
        "Task"
      ]
    },
    {
      "cell_type": "markdown",
      "id": "badda753-8bc1-4b74-9cad-c7031c884fd7",
      "metadata": {
        "id": "badda753-8bc1-4b74-9cad-c7031c884fd7"
      },
      "source": [
        "##### Sets are mutable"
      ]
    },
    {
      "cell_type": "code",
      "execution_count": null,
      "id": "d3e1ce7d-6ffa-4f95-945b-0f1fc1bce4cd",
      "metadata": {
        "id": "d3e1ce7d-6ffa-4f95-945b-0f1fc1bce4cd",
        "outputId": "c8a858fa-fca0-440e-e50d-1fe0eac1fb5b"
      },
      "outputs": [
        {
          "data": {
            "text/plain": [
              "{1, 2, 3}"
            ]
          },
          "execution_count": 200,
          "metadata": {},
          "output_type": "execute_result"
        }
      ],
      "source": [
        "# add\n",
        "s1"
      ]
    },
    {
      "cell_type": "code",
      "execution_count": null,
      "id": "524dedcf-dcff-4bde-a931-365112438dc0",
      "metadata": {
        "id": "524dedcf-dcff-4bde-a931-365112438dc0",
        "outputId": "29fa211f-c8fc-4e8a-fad6-6ee7d6549ef1"
      },
      "outputs": [
        {
          "data": {
            "text/plain": [
              "{1, 2, 3, 'Lakshmi'}"
            ]
          },
          "execution_count": 202,
          "metadata": {},
          "output_type": "execute_result"
        }
      ],
      "source": [
        "s1.add('Lakshmi')\n",
        "s1"
      ]
    },
    {
      "cell_type": "code",
      "execution_count": null,
      "id": "de7cc595-b861-4dba-9f70-a1afb563d318",
      "metadata": {
        "id": "de7cc595-b861-4dba-9f70-a1afb563d318",
        "outputId": "36a7c273-eb85-4139-9ecf-1984d9588d9f"
      },
      "outputs": [
        {
          "data": {
            "text/plain": [
              "{1, 2, 3, 'CDS', 'Lakshmi', 'Python'}"
            ]
          },
          "execution_count": 204,
          "metadata": {},
          "output_type": "execute_result"
        }
      ],
      "source": [
        "s1.update(['CDS','Python'])\n",
        "s1   # add multiple elements at once"
      ]
    },
    {
      "cell_type": "code",
      "execution_count": null,
      "id": "ed1daddc-76a8-43d8-b92e-7d3ef81d24d0",
      "metadata": {
        "id": "ed1daddc-76a8-43d8-b92e-7d3ef81d24d0",
        "outputId": "ccf5b594-4513-4140-a2ea-62a8ee8043ab"
      },
      "outputs": [
        {
          "data": {
            "text/plain": [
              "{1, 2, 3, 'CDS', 'Deepika', 'Python'}"
            ]
          },
          "execution_count": 208,
          "metadata": {},
          "output_type": "execute_result"
        }
      ],
      "source": [
        "s1.update(['Deepika'])\n",
        "s1"
      ]
    },
    {
      "cell_type": "code",
      "execution_count": null,
      "id": "6c378ec9-a7e2-48b6-a176-c9d3272e1c6c",
      "metadata": {
        "id": "6c378ec9-a7e2-48b6-a176-c9d3272e1c6c",
        "outputId": "87ce893f-eba0-40a0-d781-21c6e7b0b41b"
      },
      "outputs": [
        {
          "data": {
            "text/plain": [
              "{1, 2, 3, 'CDS', 'Python'}"
            ]
          },
          "execution_count": 206,
          "metadata": {},
          "output_type": "execute_result"
        }
      ],
      "source": [
        "# remove the elements from the sets\n",
        "s1.remove('Lakshmi')\n",
        "s1"
      ]
    },
    {
      "cell_type": "code",
      "execution_count": null,
      "id": "2fbcf51d-3439-4d0d-8bf1-93a2eb950480",
      "metadata": {
        "id": "2fbcf51d-3439-4d0d-8bf1-93a2eb950480",
        "outputId": "3d79e4ac-b268-41cb-f92d-b5dd0bde518f"
      },
      "outputs": [
        {
          "data": {
            "text/plain": [
              "{1, 2, 3, 'CDS', 'Python'}"
            ]
          },
          "execution_count": 210,
          "metadata": {},
          "output_type": "execute_result"
        }
      ],
      "source": [
        "s1.discard('Deepika')\n",
        "s1"
      ]
    },
    {
      "cell_type": "code",
      "execution_count": null,
      "id": "f38841e1-de4e-4903-a9fc-8905ddacfc8f",
      "metadata": {
        "id": "f38841e1-de4e-4903-a9fc-8905ddacfc8f"
      },
      "outputs": [],
      "source": [
        "s1.clear() # clear all the elements from the ds but the strc=ucture remains in the memory"
      ]
    },
    {
      "cell_type": "code",
      "execution_count": null,
      "id": "66e073b6-95ac-42d3-b533-5cead6671c32",
      "metadata": {
        "id": "66e073b6-95ac-42d3-b533-5cead6671c32",
        "outputId": "d9a10b3a-12c7-4ec1-cded-69ddbb59bebc"
      },
      "outputs": [
        {
          "data": {
            "text/plain": [
              "set()"
            ]
          },
          "execution_count": 214,
          "metadata": {},
          "output_type": "execute_result"
        }
      ],
      "source": [
        "s1"
      ]
    },
    {
      "cell_type": "code",
      "execution_count": null,
      "id": "5e828229-e8a4-4ce1-aa51-29e982f869fc",
      "metadata": {
        "id": "5e828229-e8a4-4ce1-aa51-29e982f869fc"
      },
      "outputs": [],
      "source": [
        "del s1 # delete the entire structure"
      ]
    },
    {
      "cell_type": "code",
      "execution_count": null,
      "id": "aeedea5c-d064-438e-a62b-1ae9685d9419",
      "metadata": {
        "id": "aeedea5c-d064-438e-a62b-1ae9685d9419"
      },
      "outputs": [],
      "source": []
    }
  ],
  "metadata": {
    "kernelspec": {
      "display_name": "Python 3 (ipykernel)",
      "language": "python",
      "name": "python3"
    },
    "language_info": {
      "codemirror_mode": {
        "name": "ipython",
        "version": 3
      },
      "file_extension": ".py",
      "mimetype": "text/x-python",
      "name": "python",
      "nbconvert_exporter": "python",
      "pygments_lexer": "ipython3",
      "version": "3.12.4"
    },
    "colab": {
      "provenance": []
    }
  },
  "nbformat": 4,
  "nbformat_minor": 5
}