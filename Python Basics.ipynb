{
 "cells": [
  {
   "cell_type": "code",
   "execution_count": 2,
   "id": "4b4cdf3a",
   "metadata": {},
   "outputs": [
    {
     "name": "stdout",
     "output_type": "stream",
     "text": [
      "Mohit Janbandhu\n"
     ]
    }
   ],
   "source": [
    "print(\"Mohit Janbandhu\")"
   ]
  },
  {
   "cell_type": "markdown",
   "id": "1f6f61ef",
   "metadata": {},
   "source": [
    "# Lambda Function"
   ]
  },
  {
   "cell_type": "code",
   "execution_count": 8,
   "id": "4b90bafd",
   "metadata": {},
   "outputs": [],
   "source": [
    "moh=lambda mo: \"Even\" if mo% 2==0  else \"Odd\"\n",
    "# mo(5)"
   ]
  },
  {
   "cell_type": "code",
   "execution_count": 9,
   "id": "a98ad162",
   "metadata": {},
   "outputs": [
    {
     "data": {
      "text/plain": [
       "'Odd'"
      ]
     },
     "execution_count": 9,
     "metadata": {},
     "output_type": "execute_result"
    }
   ],
   "source": [
    "moh(5)"
   ]
  },
  {
   "cell_type": "code",
   "execution_count": 10,
   "id": "900ff04b",
   "metadata": {},
   "outputs": [],
   "source": [
    "list1=[5,8,6,4,9,5,2,1,6,9,7,2,4,8]"
   ]
  },
  {
   "cell_type": "code",
   "execution_count": 11,
   "id": "a8642832",
   "metadata": {},
   "outputs": [],
   "source": [
    "lambdafun= map(lambda ev_odd: \"Even\" if ev_odd %2==0 else \"Odd\", list1)"
   ]
  },
  {
   "cell_type": "code",
   "execution_count": 14,
   "id": "861cc9be",
   "metadata": {},
   "outputs": [
    {
     "name": "stdout",
     "output_type": "stream",
     "text": [
      "['Odd', 'Even', 'Even', 'Even', 'Odd', 'Odd', 'Even', 'Odd', 'Even', 'Odd', 'Odd', 'Even', 'Even', 'Even']\n"
     ]
    }
   ],
   "source": [
    "print(list(lambdafun))"
   ]
  },
  {
   "cell_type": "code",
   "execution_count": 15,
   "id": "d3d580a0",
   "metadata": {},
   "outputs": [],
   "source": [
    "no= lambda x: x+4"
   ]
  },
  {
   "cell_type": "code",
   "execution_count": 16,
   "id": "d2f7a040",
   "metadata": {},
   "outputs": [
    {
     "data": {
      "text/plain": [
       "9"
      ]
     },
     "execution_count": 16,
     "metadata": {},
     "output_type": "execute_result"
    }
   ],
   "source": [
    "no(5)"
   ]
  },
  {
   "cell_type": "code",
   "execution_count": 17,
   "id": "3ed15fb6",
   "metadata": {},
   "outputs": [],
   "source": [
    "str1=\"Mohit Janbandhu\""
   ]
  },
  {
   "cell_type": "code",
   "execution_count": 18,
   "id": "130d9e65",
   "metadata": {},
   "outputs": [
    {
     "data": {
      "text/plain": [
       "'h'"
      ]
     },
     "execution_count": 18,
     "metadata": {},
     "output_type": "execute_result"
    }
   ],
   "source": [
    "str1[2]"
   ]
  },
  {
   "cell_type": "code",
   "execution_count": 19,
   "id": "85663239",
   "metadata": {},
   "outputs": [
    {
     "data": {
      "text/plain": [
       "'Moh'"
      ]
     },
     "execution_count": 19,
     "metadata": {},
     "output_type": "execute_result"
    }
   ],
   "source": [
    "str1[0:3]"
   ]
  },
  {
   "cell_type": "code",
   "execution_count": 26,
   "id": "4c28a890",
   "metadata": {},
   "outputs": [
    {
     "data": {
      "text/plain": [
       "'n'"
      ]
     },
     "execution_count": 26,
     "metadata": {},
     "output_type": "execute_result"
    }
   ],
   "source": [
    "\n",
    "str1[8]"
   ]
  },
  {
   "cell_type": "code",
   "execution_count": 29,
   "id": "bff0f40c",
   "metadata": {},
   "outputs": [],
   "source": [
    "str2=str1.strip()"
   ]
  },
  {
   "cell_type": "code",
   "execution_count": 30,
   "id": "f67684d3",
   "metadata": {},
   "outputs": [
    {
     "data": {
      "text/plain": [
       "'Mohit Janbandhu'"
      ]
     },
     "execution_count": 30,
     "metadata": {},
     "output_type": "execute_result"
    }
   ],
   "source": [
    "str2"
   ]
  },
  {
   "cell_type": "code",
   "execution_count": 31,
   "id": "469be58c",
   "metadata": {},
   "outputs": [],
   "source": [
    "str2=str1.split()"
   ]
  },
  {
   "cell_type": "code",
   "execution_count": 32,
   "id": "6ca447ea",
   "metadata": {},
   "outputs": [
    {
     "data": {
      "text/plain": [
       "['Mohit', 'Janbandhu']"
      ]
     },
     "execution_count": 32,
     "metadata": {},
     "output_type": "execute_result"
    }
   ],
   "source": [
    "str2"
   ]
  },
  {
   "cell_type": "code",
   "execution_count": 35,
   "id": "6f85b50d",
   "metadata": {},
   "outputs": [],
   "source": [
    "str3=''.join(str2)"
   ]
  },
  {
   "cell_type": "code",
   "execution_count": 36,
   "id": "18410100",
   "metadata": {},
   "outputs": [
    {
     "data": {
      "text/plain": [
       "'MohitJanbandhu'"
      ]
     },
     "execution_count": 36,
     "metadata": {},
     "output_type": "execute_result"
    }
   ],
   "source": [
    "str3"
   ]
  },
  {
   "cell_type": "markdown",
   "id": "87fdf6e7",
   "metadata": {},
   "source": [
    "# Vowels"
   ]
  },
  {
   "cell_type": "code",
   "execution_count": 40,
   "id": "10f2fec7",
   "metadata": {},
   "outputs": [
    {
     "data": {
      "text/plain": [
       "'Mohit Janbandhu'"
      ]
     },
     "execution_count": 40,
     "metadata": {},
     "output_type": "execute_result"
    }
   ],
   "source": [
    "str1"
   ]
  },
  {
   "cell_type": "code",
   "execution_count": 41,
   "id": "b5259c1f",
   "metadata": {},
   "outputs": [],
   "source": [
    "vowels='aeiouAEIOU'"
   ]
  },
  {
   "cell_type": "code",
   "execution_count": 42,
   "id": "977c76b2",
   "metadata": {},
   "outputs": [
    {
     "name": "stdout",
     "output_type": "stream",
     "text": [
      "o\n",
      "i\n",
      "a\n",
      "a\n",
      "u\n"
     ]
    }
   ],
   "source": [
    "for char in str1:\n",
    "    if char in vowels:\n",
    "        print(char)"
   ]
  },
  {
   "cell_type": "code",
   "execution_count": 44,
   "id": "9e1dd32f",
   "metadata": {},
   "outputs": [
    {
     "name": "stdout",
     "output_type": "stream",
     "text": [
      "o i a a u "
     ]
    }
   ],
   "source": [
    "for char in str1:\n",
    "    if char in vowels:\n",
    "        print(char, end=\" \")"
   ]
  },
  {
   "cell_type": "code",
   "execution_count": 48,
   "id": "e59496e2",
   "metadata": {},
   "outputs": [],
   "source": [
    "def vow(char):\n",
    "    for char in str1:\n",
    "        if char in vowels:\n",
    "            print(char, end=\"\")"
   ]
  },
  {
   "cell_type": "code",
   "execution_count": 50,
   "id": "a5b96183",
   "metadata": {},
   "outputs": [
    {
     "name": "stdout",
     "output_type": "stream",
     "text": [
      "oiaau"
     ]
    }
   ],
   "source": [
    "\n",
    "vow(\"Mohit Janbandhu\")"
   ]
  },
  {
   "cell_type": "markdown",
   "id": "9d6641a2",
   "metadata": {},
   "source": [
    "# Time"
   ]
  },
  {
   "cell_type": "code",
   "execution_count": 53,
   "id": "ad08beb8",
   "metadata": {},
   "outputs": [],
   "source": [
    "import datetime as datetime"
   ]
  },
  {
   "cell_type": "code",
   "execution_count": 58,
   "id": "cd669ec9",
   "metadata": {},
   "outputs": [],
   "source": [
    "from datetime import datetime"
   ]
  },
  {
   "cell_type": "code",
   "execution_count": 60,
   "id": "6495e90c",
   "metadata": {},
   "outputs": [],
   "source": [
    "timeDate= datetime.now()"
   ]
  },
  {
   "cell_type": "code",
   "execution_count": 61,
   "id": "e30dbe30",
   "metadata": {},
   "outputs": [
    {
     "data": {
      "text/plain": [
       "datetime.datetime(2025, 1, 4, 1, 33, 36, 683634)"
      ]
     },
     "execution_count": 61,
     "metadata": {},
     "output_type": "execute_result"
    }
   ],
   "source": [
    "timeDate"
   ]
  },
  {
   "cell_type": "code",
   "execution_count": 62,
   "id": "73d8ac1c",
   "metadata": {
    "collapsed": true
   },
   "outputs": [
    {
     "data": {
      "text/plain": [
       "['__add__',\n",
       " '__class__',\n",
       " '__delattr__',\n",
       " '__dir__',\n",
       " '__doc__',\n",
       " '__eq__',\n",
       " '__format__',\n",
       " '__ge__',\n",
       " '__getattribute__',\n",
       " '__gt__',\n",
       " '__hash__',\n",
       " '__init__',\n",
       " '__init_subclass__',\n",
       " '__le__',\n",
       " '__lt__',\n",
       " '__ne__',\n",
       " '__new__',\n",
       " '__radd__',\n",
       " '__reduce__',\n",
       " '__reduce_ex__',\n",
       " '__repr__',\n",
       " '__rsub__',\n",
       " '__setattr__',\n",
       " '__sizeof__',\n",
       " '__str__',\n",
       " '__sub__',\n",
       " '__subclasshook__',\n",
       " 'astimezone',\n",
       " 'combine',\n",
       " 'ctime',\n",
       " 'date',\n",
       " 'day',\n",
       " 'dst',\n",
       " 'fold',\n",
       " 'fromisocalendar',\n",
       " 'fromisoformat',\n",
       " 'fromordinal',\n",
       " 'fromtimestamp',\n",
       " 'hour',\n",
       " 'isocalendar',\n",
       " 'isoformat',\n",
       " 'isoweekday',\n",
       " 'max',\n",
       " 'microsecond',\n",
       " 'min',\n",
       " 'minute',\n",
       " 'month',\n",
       " 'now',\n",
       " 'replace',\n",
       " 'resolution',\n",
       " 'second',\n",
       " 'strftime',\n",
       " 'strptime',\n",
       " 'time',\n",
       " 'timestamp',\n",
       " 'timetuple',\n",
       " 'timetz',\n",
       " 'today',\n",
       " 'toordinal',\n",
       " 'tzinfo',\n",
       " 'tzname',\n",
       " 'utcfromtimestamp',\n",
       " 'utcnow',\n",
       " 'utcoffset',\n",
       " 'utctimetuple',\n",
       " 'weekday',\n",
       " 'year']"
      ]
     },
     "execution_count": 62,
     "metadata": {},
     "output_type": "execute_result"
    }
   ],
   "source": [
    "dir(datetime)"
   ]
  },
  {
   "cell_type": "code",
   "execution_count": null,
   "id": "48efa8aa",
   "metadata": {},
   "outputs": [],
   "source": []
  }
 ],
 "metadata": {
  "kernelspec": {
   "display_name": "Python 3 (ipykernel)",
   "language": "python",
   "name": "python3"
  },
  "language_info": {
   "codemirror_mode": {
    "name": "ipython",
    "version": 3
   },
   "file_extension": ".py",
   "mimetype": "text/x-python",
   "name": "python",
   "nbconvert_exporter": "python",
   "pygments_lexer": "ipython3",
   "version": "3.10.9"
  }
 },
 "nbformat": 4,
 "nbformat_minor": 5
}
