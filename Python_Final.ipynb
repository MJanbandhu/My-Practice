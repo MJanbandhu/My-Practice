{
  "cells": [
    {
      "cell_type": "markdown",
      "metadata": {
        "id": "view-in-github",
        "colab_type": "text"
      },
      "source": [
        "<a href=\"https://colab.research.google.com/github/MJanbandhu/My-Practice/blob/main/Python_Final.ipynb\" target=\"_parent\"><img src=\"https://colab.research.google.com/assets/colab-badge.svg\" alt=\"Open In Colab\"/></a>"
      ]
    },
    {
      "cell_type": "markdown",
      "id": "5a7567de-8c4e-4721-ba41-a86de7113dc3",
      "metadata": {
        "id": "5a7567de-8c4e-4721-ba41-a86de7113dc3"
      },
      "source": [
        "#### Python\n",
        "\n",
        "- Python is a programming language created by Guido van Rossum in 1991\n",
        "- easy , versatile , simple , open source"
      ]
    },
    {
      "cell_type": "markdown",
      "id": "12461e42-76ba-4afe-9369-2a7ccad9af2c",
      "metadata": {
        "id": "12461e42-76ba-4afe-9369-2a7ccad9af2c"
      },
      "source": [
        "#### Variable\n",
        "- storage containers , store the value in the memory\n",
        "- syntax : variable_name = value"
      ]
    },
    {
      "cell_type": "code",
      "execution_count": null,
      "id": "793703db-d2ea-4254-810e-a94eb47bbfe1",
      "metadata": {
        "id": "793703db-d2ea-4254-810e-a94eb47bbfe1"
      },
      "outputs": [],
      "source": [
        "a = 3"
      ]
    },
    {
      "cell_type": "code",
      "execution_count": null,
      "id": "6f2346d6-199d-47da-82b0-5bc2455f2828",
      "metadata": {
        "id": "6f2346d6-199d-47da-82b0-5bc2455f2828"
      },
      "outputs": [],
      "source": [
        "b = 2"
      ]
    },
    {
      "cell_type": "code",
      "execution_count": null,
      "id": "ab831623-212b-4dd3-a5e7-5c216f33bce4",
      "metadata": {
        "id": "ab831623-212b-4dd3-a5e7-5c216f33bce4",
        "outputId": "769a17e9-c09c-47e2-9be9-81d10354fda5"
      },
      "outputs": [
        {
          "name": "stdout",
          "output_type": "stream",
          "text": [
            "The value entered is  2\n"
          ]
        }
      ],
      "source": [
        "print('The value entered is ',b)"
      ]
    },
    {
      "cell_type": "code",
      "execution_count": null,
      "id": "e6404b90-ae82-4db0-b008-eccf6edf4fef",
      "metadata": {
        "id": "e6404b90-ae82-4db0-b008-eccf6edf4fef",
        "outputId": "33ff3404-a2a1-4291-ecab-23040cc47d96"
      },
      "outputs": [
        {
          "name": "stdout",
          "output_type": "stream",
          "text": [
            "The value enteres is 3 and 2\n"
          ]
        }
      ],
      "source": [
        "print('The value enteres is',a ,'and',b)"
      ]
    },
    {
      "cell_type": "code",
      "execution_count": null,
      "id": "7295526d-5e30-4e41-846e-2fc1d52623da",
      "metadata": {
        "id": "7295526d-5e30-4e41-846e-2fc1d52623da",
        "outputId": "7a7ce4ce-812d-4dda-cc27-1e0b78e76eff"
      },
      "outputs": [
        {
          "name": "stdout",
          "output_type": "stream",
          "text": [
            "The result is 30\n"
          ]
        }
      ],
      "source": [
        "a = 10\n",
        "b = 20\n",
        "c = a + b\n",
        "print('The result is',c)"
      ]
    },
    {
      "cell_type": "code",
      "execution_count": null,
      "id": "be0250a3-4acf-46f7-a183-2ec95cdf72a7",
      "metadata": {
        "id": "be0250a3-4acf-46f7-a183-2ec95cdf72a7",
        "outputId": "786e8b38-ce2a-4f41-ac97-2e0f07b3c7b5"
      },
      "outputs": [
        {
          "name": "stdout",
          "output_type": "stream",
          "text": [
            "The result is  -10\n"
          ]
        }
      ],
      "source": [
        "d = a - b\n",
        "print('The result is ', d)"
      ]
    },
    {
      "cell_type": "code",
      "execution_count": null,
      "id": "44358e02-37aa-4003-8420-46d632755efe",
      "metadata": {
        "id": "44358e02-37aa-4003-8420-46d632755efe",
        "outputId": "779e7734-77bc-48a0-b332-adb3931a3880"
      },
      "outputs": [
        {
          "name": "stdout",
          "output_type": "stream",
          "text": [
            "-10\n",
            "200\n"
          ]
        }
      ],
      "source": [
        "d = a - b\n",
        "e = a * b\n",
        "print(d)\n",
        "print(e)"
      ]
    },
    {
      "cell_type": "markdown",
      "id": "32a74d60-b832-4e6c-8ca0-a95d65d6f116",
      "metadata": {
        "id": "32a74d60-b832-4e6c-8ca0-a95d65d6f116"
      },
      "source": [
        "##### Rules of naming a variable"
      ]
    },
    {
      "cell_type": "markdown",
      "id": "4d8f8055-ec8f-40bf-acba-08642a1a01d2",
      "metadata": {
        "id": "4d8f8055-ec8f-40bf-acba-08642a1a01d2"
      },
      "source": [
        "###### 1.Variables cannot start with a number"
      ]
    },
    {
      "cell_type": "code",
      "execution_count": null,
      "id": "5e2b9c76-4cd2-4129-b0a5-245cb00d9392",
      "metadata": {
        "id": "5e2b9c76-4cd2-4129-b0a5-245cb00d9392",
        "outputId": "f3ac731d-06e0-439b-e1f3-908392787f4f"
      },
      "outputs": [
        {
          "ename": "SyntaxError",
          "evalue": "cannot assign to literal here. Maybe you meant '==' instead of '='? (2881337615.py, line 1)",
          "output_type": "error",
          "traceback": [
            "\u001b[1;36m  Cell \u001b[1;32mIn[39], line 1\u001b[1;36m\u001b[0m\n\u001b[1;33m    1 = 10\u001b[0m\n\u001b[1;37m    ^\u001b[0m\n\u001b[1;31mSyntaxError\u001b[0m\u001b[1;31m:\u001b[0m cannot assign to literal here. Maybe you meant '==' instead of '='?\n"
          ]
        }
      ],
      "source": [
        "1 = 10"
      ]
    },
    {
      "cell_type": "code",
      "execution_count": null,
      "id": "c36d0615-97f8-424f-b7a9-f6acfaae199d",
      "metadata": {
        "id": "c36d0615-97f8-424f-b7a9-f6acfaae199d"
      },
      "outputs": [],
      "source": [
        "a1 = 10"
      ]
    },
    {
      "cell_type": "markdown",
      "id": "e5fa6b44-9a42-47ab-beff-1cd7a637447b",
      "metadata": {
        "id": "e5fa6b44-9a42-47ab-beff-1cd7a637447b"
      },
      "source": [
        "###### 2. Variables cannot have any special character other than '_'"
      ]
    },
    {
      "cell_type": "code",
      "execution_count": null,
      "id": "821f9184-581e-4f41-84a3-e6b1888bfd95",
      "metadata": {
        "id": "821f9184-581e-4f41-84a3-e6b1888bfd95",
        "outputId": "6ff7da45-4072-4334-b4de-f379ff9afcb2"
      },
      "outputs": [
        {
          "ename": "SyntaxError",
          "evalue": "invalid syntax (318979561.py, line 1)",
          "output_type": "error",
          "traceback": [
            "\u001b[1;36m  Cell \u001b[1;32mIn[45], line 1\u001b[1;36m\u001b[0m\n\u001b[1;33m    a$ = 10\u001b[0m\n\u001b[1;37m     ^\u001b[0m\n\u001b[1;31mSyntaxError\u001b[0m\u001b[1;31m:\u001b[0m invalid syntax\n"
          ]
        }
      ],
      "source": [
        "a$ = 10"
      ]
    },
    {
      "cell_type": "code",
      "execution_count": null,
      "id": "4eb5bd13-e61d-4e36-a311-b0cb47da76d7",
      "metadata": {
        "id": "4eb5bd13-e61d-4e36-a311-b0cb47da76d7"
      },
      "outputs": [],
      "source": [
        "_a = 10"
      ]
    },
    {
      "cell_type": "code",
      "execution_count": null,
      "id": "2627245e-bacd-4490-982a-7d29bb431d47",
      "metadata": {
        "id": "2627245e-bacd-4490-982a-7d29bb431d47"
      },
      "outputs": [],
      "source": [
        "a_ = 10"
      ]
    },
    {
      "cell_type": "code",
      "execution_count": null,
      "id": "3a92ce7e-2cb1-46d7-860d-d0bb599c8cb7",
      "metadata": {
        "id": "3a92ce7e-2cb1-46d7-860d-d0bb599c8cb7"
      },
      "outputs": [],
      "source": [
        "a_a = 10"
      ]
    },
    {
      "cell_type": "markdown",
      "id": "58eee330-edee-438a-a70d-877d99548c84",
      "metadata": {
        "id": "58eee330-edee-438a-a70d-877d99548c84"
      },
      "source": [
        "###### 3. Variables cannot have space between them"
      ]
    },
    {
      "cell_type": "code",
      "execution_count": null,
      "id": "f1edfc6b-cd08-4c9c-a867-e0fc9f605927",
      "metadata": {
        "id": "f1edfc6b-cd08-4c9c-a867-e0fc9f605927",
        "outputId": "eb9a7662-cbdf-4c4d-a67f-acb0bb2c3dcb"
      },
      "outputs": [
        {
          "ename": "SyntaxError",
          "evalue": "invalid syntax (1785724201.py, line 1)",
          "output_type": "error",
          "traceback": [
            "\u001b[1;36m  Cell \u001b[1;32mIn[54], line 1\u001b[1;36m\u001b[0m\n\u001b[1;33m    my name = 'Lakshmi'\u001b[0m\n\u001b[1;37m       ^\u001b[0m\n\u001b[1;31mSyntaxError\u001b[0m\u001b[1;31m:\u001b[0m invalid syntax\n"
          ]
        }
      ],
      "source": [
        "my name = 'Lakshmi'"
      ]
    },
    {
      "cell_type": "code",
      "execution_count": null,
      "id": "e1f1150e-f0d3-4321-9f23-c06d51e2947c",
      "metadata": {
        "id": "e1f1150e-f0d3-4321-9f23-c06d51e2947c"
      },
      "outputs": [],
      "source": [
        "my_name = 'Lakshmi'"
      ]
    },
    {
      "cell_type": "markdown",
      "id": "c2eae599-9f3d-43d1-9e77-eece44d3b666",
      "metadata": {
        "id": "c2eae599-9f3d-43d1-9e77-eece44d3b666"
      },
      "source": [
        "#### Keywords\n",
        "\n",
        "- reserved words ; pre defined meaning .\n",
        "- keywords cannot be taken as a identifier"
      ]
    },
    {
      "cell_type": "code",
      "execution_count": null,
      "id": "422e1280-2985-41c2-bb7d-cebb562d555d",
      "metadata": {
        "id": "422e1280-2985-41c2-bb7d-cebb562d555d",
        "outputId": "5fdaab36-267a-44d7-c953-a4564a6982ce"
      },
      "outputs": [
        {
          "name": "stdout",
          "output_type": "stream",
          "text": [
            "The keyword list is  ['False', 'None', 'True', 'and', 'as', 'assert', 'async', 'await', 'break', 'class', 'continue', 'def', 'del', 'elif', 'else', 'except', 'finally', 'for', 'from', 'global', 'if', 'import', 'in', 'is', 'lambda', 'nonlocal', 'not', 'or', 'pass', 'raise', 'return', 'try', 'while', 'with', 'yield']\n"
          ]
        }
      ],
      "source": [
        "import keyword\n",
        "print('The keyword list is ',keyword.kwlist) #kw keyword list"
      ]
    },
    {
      "cell_type": "markdown",
      "id": "61531243-e5e8-44b2-9c5c-c6fae136f036",
      "metadata": {
        "id": "61531243-e5e8-44b2-9c5c-c6fae136f036"
      },
      "source": [
        "##### Identifier\n",
        "\n",
        "- is the name given to the entities like functions, varibles, class etc"
      ]
    },
    {
      "cell_type": "markdown",
      "id": "25d03c29-3d86-4aee-bbf5-5f9071980768",
      "metadata": {
        "id": "25d03c29-3d86-4aee-bbf5-5f9071980768"
      },
      "source": [
        "#### Comments\n",
        "\n",
        "- can be used to explain the code for more readability"
      ]
    },
    {
      "cell_type": "code",
      "execution_count": null,
      "id": "3526f6ab-0881-4145-a2f5-23141596ecc1",
      "metadata": {
        "id": "3526f6ab-0881-4145-a2f5-23141596ecc1"
      },
      "outputs": [],
      "source": [
        "b = 10 # The value 10 is assigned to the variable b\n",
        "\n",
        "# single single comment"
      ]
    },
    {
      "cell_type": "code",
      "execution_count": null,
      "id": "4bcd8644-825d-4f1b-a93b-51ed45702ccf",
      "metadata": {
        "id": "4bcd8644-825d-4f1b-a93b-51ed45702ccf"
      },
      "outputs": [],
      "source": [
        "# MUlti line comment\n",
        "'''\n",
        "Multi\n",
        "line\n",
        "comment\n",
        "'''\n",
        "b = 10"
      ]
    },
    {
      "cell_type": "code",
      "execution_count": null,
      "id": "05146cc5-614f-4b27-98ea-941b73fdafc5",
      "metadata": {
        "id": "05146cc5-614f-4b27-98ea-941b73fdafc5",
        "outputId": "6533674d-04ff-475a-c7a4-a2114f950e00"
      },
      "outputs": [
        {
          "data": {
            "text/plain": [
              "10"
            ]
          },
          "execution_count": 69,
          "metadata": {},
          "output_type": "execute_result"
        }
      ],
      "source": [
        "a = b = c = 10 # multiple variable assignment\n",
        "a"
      ]
    },
    {
      "cell_type": "code",
      "execution_count": null,
      "id": "8ba01f74-5b85-4742-9a9f-4fff3f099a43",
      "metadata": {
        "id": "8ba01f74-5b85-4742-9a9f-4fff3f099a43",
        "outputId": "7295309f-d4bb-40f2-9e35-b3fcae8ddb5a"
      },
      "outputs": [
        {
          "data": {
            "text/plain": [
              "10"
            ]
          },
          "execution_count": 71,
          "metadata": {},
          "output_type": "execute_result"
        }
      ],
      "source": [
        "b"
      ]
    },
    {
      "cell_type": "code",
      "execution_count": null,
      "id": "b721038b-2de2-45d1-a8af-d376b633645d",
      "metadata": {
        "id": "b721038b-2de2-45d1-a8af-d376b633645d",
        "outputId": "e51444fd-ff68-4015-d09a-b95181aeb97a"
      },
      "outputs": [
        {
          "data": {
            "text/plain": [
              "10"
            ]
          },
          "execution_count": 73,
          "metadata": {},
          "output_type": "execute_result"
        }
      ],
      "source": [
        "c"
      ]
    },
    {
      "cell_type": "code",
      "execution_count": null,
      "id": "ed727030-8935-4e3d-8471-a2777c5a39f6",
      "metadata": {
        "id": "ed727030-8935-4e3d-8471-a2777c5a39f6"
      },
      "outputs": [],
      "source": [
        "# x , y , and z -> 10, 20 30\n",
        "x , y , z = 10, 20 ,30\n",
        "x , y , z = 10,20,30"
      ]
    },
    {
      "cell_type": "code",
      "execution_count": null,
      "id": "061507f3-34af-4139-8f89-1ad7df5a73ae",
      "metadata": {
        "id": "061507f3-34af-4139-8f89-1ad7df5a73ae",
        "outputId": "4b521d4a-d25b-45c7-cc3b-67efb8f806ed"
      },
      "outputs": [
        {
          "data": {
            "text/plain": [
              "10"
            ]
          },
          "execution_count": 81,
          "metadata": {},
          "output_type": "execute_result"
        }
      ],
      "source": [
        "x"
      ]
    },
    {
      "cell_type": "code",
      "execution_count": null,
      "id": "7144e3af-6209-4308-8177-05a262623133",
      "metadata": {
        "id": "7144e3af-6209-4308-8177-05a262623133",
        "outputId": "e9689bb3-eed0-49c8-df74-c6ebf1a318d0"
      },
      "outputs": [
        {
          "data": {
            "text/plain": [
              "20"
            ]
          },
          "execution_count": 83,
          "metadata": {},
          "output_type": "execute_result"
        }
      ],
      "source": [
        "y"
      ]
    },
    {
      "cell_type": "code",
      "execution_count": null,
      "id": "c15fb3e6-7bf4-4191-8709-77649ea90d70",
      "metadata": {
        "id": "c15fb3e6-7bf4-4191-8709-77649ea90d70",
        "outputId": "b9bd005c-faa5-4a5b-d42e-0cb1e721f3d0"
      },
      "outputs": [
        {
          "data": {
            "text/plain": [
              "30"
            ]
          },
          "execution_count": 85,
          "metadata": {},
          "output_type": "execute_result"
        }
      ],
      "source": [
        "z"
      ]
    },
    {
      "cell_type": "markdown",
      "id": "63e2d089-78d2-41c0-8dcf-9dab9a7725d7",
      "metadata": {
        "id": "63e2d089-78d2-41c0-8dcf-9dab9a7725d7"
      },
      "source": [
        "![image.png](attachment:50699206-a375-4a0a-b155-7ee972f83338.png)"
      ]
    },
    {
      "cell_type": "code",
      "execution_count": null,
      "id": "378861cc-cf53-4be4-bd5f-5e9075768cb6",
      "metadata": {
        "id": "378861cc-cf53-4be4-bd5f-5e9075768cb6",
        "outputId": "ef5f711d-40b0-4788-ac6f-c9ef97c8a722"
      },
      "outputs": [
        {
          "data": {
            "text/plain": [
              "int"
            ]
          },
          "execution_count": 89,
          "metadata": {},
          "output_type": "execute_result"
        }
      ],
      "source": [
        "a = 10\n",
        "type(a)"
      ]
    },
    {
      "cell_type": "code",
      "execution_count": null,
      "id": "f1953537-7555-41f3-bc70-dfb7d4fa06c3",
      "metadata": {
        "id": "f1953537-7555-41f3-bc70-dfb7d4fa06c3",
        "outputId": "6db63218-98b4-4e15-86d7-55e18ff71a2e"
      },
      "outputs": [
        {
          "data": {
            "text/plain": [
              "float"
            ]
          },
          "execution_count": 91,
          "metadata": {},
          "output_type": "execute_result"
        }
      ],
      "source": [
        "b = 1.0\n",
        "type(b)"
      ]
    },
    {
      "cell_type": "code",
      "execution_count": null,
      "id": "91f69632-076e-4c9b-99dd-bbfee5494da6",
      "metadata": {
        "id": "91f69632-076e-4c9b-99dd-bbfee5494da6",
        "outputId": "9a45880b-5ce7-4811-9448-b2af02d4ea1f"
      },
      "outputs": [
        {
          "data": {
            "text/plain": [
              "str"
            ]
          },
          "execution_count": 93,
          "metadata": {},
          "output_type": "execute_result"
        }
      ],
      "source": [
        "c = 'PYTHON'\n",
        "type(c)"
      ]
    },
    {
      "cell_type": "code",
      "execution_count": null,
      "id": "97d49093-7aa6-4273-92cd-c62cd54c0470",
      "metadata": {
        "id": "97d49093-7aa6-4273-92cd-c62cd54c0470",
        "outputId": "9e9bab50-13e8-4a34-8e6b-612dfaecfdd7"
      },
      "outputs": [
        {
          "data": {
            "text/plain": [
              "bool"
            ]
          },
          "execution_count": 95,
          "metadata": {},
          "output_type": "execute_result"
        }
      ],
      "source": [
        "d = True\n",
        "type(d)"
      ]
    },
    {
      "cell_type": "code",
      "execution_count": null,
      "id": "50f05663-b3aa-470d-aadc-f1d6142f8393",
      "metadata": {
        "id": "50f05663-b3aa-470d-aadc-f1d6142f8393",
        "outputId": "e2f489cc-3f6f-4e07-f5f2-0b98d9dc5713"
      },
      "outputs": [
        {
          "data": {
            "text/plain": [
              "complex"
            ]
          },
          "execution_count": 97,
          "metadata": {},
          "output_type": "execute_result"
        }
      ],
      "source": [
        "e = 10 + 5j\n",
        "type(e)"
      ]
    },
    {
      "cell_type": "code",
      "execution_count": null,
      "id": "2c3c00f3-38e3-4499-9f91-9016904572c7",
      "metadata": {
        "id": "2c3c00f3-38e3-4499-9f91-9016904572c7",
        "outputId": "e743a385-f5e5-4f98-8c87-9ec606e8a4b3"
      },
      "outputs": [
        {
          "name": "stdout",
          "output_type": "stream",
          "text": [
            "Hello world\n"
          ]
        }
      ],
      "source": [
        "print('Hello world')"
      ]
    },
    {
      "cell_type": "code",
      "execution_count": null,
      "id": "6c4f439a-6031-4f02-9a18-c4aadaf8cf21",
      "metadata": {
        "id": "6c4f439a-6031-4f02-9a18-c4aadaf8cf21",
        "outputId": "05d9811c-0bd1-44ea-aeef-52b38dd1a493"
      },
      "outputs": [
        {
          "name": "stdout",
          "output_type": "stream",
          "text": [
            "The area is  78.5\n"
          ]
        }
      ],
      "source": [
        "# write a program to compute area of a circle\n",
        "r = 5\n",
        "pi = 3.14\n",
        "area = pi * r * r\n",
        "print('The area is ',area)"
      ]
    },
    {
      "cell_type": "code",
      "execution_count": null,
      "id": "66ba8615-6846-44f3-9021-4e75742c4cb8",
      "metadata": {
        "id": "66ba8615-6846-44f3-9021-4e75742c4cb8",
        "outputId": "aea98c54-6e09-4f81-e1ed-6fb3f0813974"
      },
      "outputs": [
        {
          "name": "stdin",
          "output_type": "stream",
          "text": [
            "enter the number 5\n"
          ]
        },
        {
          "name": "stdout",
          "output_type": "stream",
          "text": [
            "The area is  78.5\n"
          ]
        }
      ],
      "source": [
        "# user defined values\n",
        "# var_name = datatype(input())\n",
        "r = float(input('enter the number'))\n",
        "pi = 3.14\n",
        "area = pi * r * r\n",
        "print('The area is ',area)"
      ]
    },
    {
      "cell_type": "code",
      "execution_count": null,
      "id": "49532490-bfbd-465e-8c1f-4153a2df629d",
      "metadata": {
        "id": "49532490-bfbd-465e-8c1f-4153a2df629d",
        "outputId": "669b0f25-31a9-4dad-bfe9-0b372de31db5"
      },
      "outputs": [
        {
          "name": "stdin",
          "output_type": "stream",
          "text": [
            "enter the number 10\n",
            "enter the number 10\n"
          ]
        },
        {
          "name": "stdout",
          "output_type": "stream",
          "text": [
            "20\n"
          ]
        }
      ],
      "source": [
        "# have a interger values (user defined ) and perfrom addtion operation\n",
        "a=int(input('enter the number'))\n",
        "b=int(input('enter the number'))\n",
        "c=a+b\n",
        "print(c)\n"
      ]
    },
    {
      "cell_type": "markdown",
      "id": "3d8741ff-6aaa-453d-8270-6b6f2ea13b0b",
      "metadata": {
        "id": "3d8741ff-6aaa-453d-8270-6b6f2ea13b0b"
      },
      "source": [
        "#### Typecasting\n",
        "* Type Casting is the method to convert the variable data type into a certain data\n",
        "type in order to the operation required to be performed by users.\n",
        "\n",
        "* There are 2 ways in which typecasting is performed.\n",
        "\n",
        "1) Autotypecasting\n",
        "\n",
        "\n",
        "2) Forced Typecasting"
      ]
    },
    {
      "cell_type": "markdown",
      "id": "832182b0-363e-4bbb-a3e1-9a47c77d7560",
      "metadata": {
        "id": "832182b0-363e-4bbb-a3e1-9a47c77d7560"
      },
      "source": [
        "##### Auto Typecasting\n",
        "-  The Python interpreter automatically converts one data type to another without any user involvement."
      ]
    },
    {
      "cell_type": "code",
      "execution_count": null,
      "id": "23195ae2-187e-434c-a363-2d97ee2861eb",
      "metadata": {
        "id": "23195ae2-187e-434c-a363-2d97ee2861eb",
        "outputId": "55e9c787-4e2c-46d1-ba51-5f1500686277"
      },
      "outputs": [
        {
          "data": {
            "text/plain": [
              "10"
            ]
          },
          "execution_count": 113,
          "metadata": {},
          "output_type": "execute_result"
        }
      ],
      "source": [
        "4 + 5 + True  # 4 + 5 + 1"
      ]
    },
    {
      "cell_type": "code",
      "execution_count": null,
      "id": "11e97cc7-af61-4c88-b0dc-7968064df593",
      "metadata": {
        "id": "11e97cc7-af61-4c88-b0dc-7968064df593",
        "outputId": "ebe413de-beda-4cce-8298-3dc4e61d3769"
      },
      "outputs": [
        {
          "data": {
            "text/plain": [
              "10"
            ]
          },
          "execution_count": 115,
          "metadata": {},
          "output_type": "execute_result"
        }
      ],
      "source": [
        "4 + 5 + True + False  # 5 + 4 + 1 + 0"
      ]
    },
    {
      "cell_type": "code",
      "execution_count": null,
      "id": "a5a06b3a-010c-4d19-88ce-ddd9341f61f0",
      "metadata": {
        "id": "a5a06b3a-010c-4d19-88ce-ddd9341f61f0",
        "outputId": "0210ad05-202d-4e34-c376-b368c5ddb4b0"
      },
      "outputs": [
        {
          "data": {
            "text/plain": [
              "11.0"
            ]
          },
          "execution_count": 117,
          "metadata": {},
          "output_type": "execute_result"
        }
      ],
      "source": [
        "4 + 5 + True + 1.0"
      ]
    },
    {
      "cell_type": "code",
      "execution_count": null,
      "id": "b9ef7048-66d0-429d-a100-292a33afe3c8",
      "metadata": {
        "id": "b9ef7048-66d0-429d-a100-292a33afe3c8",
        "outputId": "1954807a-d1b9-4041-dd16-c130f75ba2e4"
      },
      "outputs": [
        {
          "ename": "TypeError",
          "evalue": "unsupported operand type(s) for +: 'int' and 'str'",
          "output_type": "error",
          "traceback": [
            "\u001b[1;31m---------------------------------------------------------------------------\u001b[0m",
            "\u001b[1;31mTypeError\u001b[0m                                 Traceback (most recent call last)",
            "Cell \u001b[1;32mIn[119], line 1\u001b[0m\n\u001b[1;32m----> 1\u001b[0m \u001b[38;5;241m4\u001b[39m \u001b[38;5;241m+\u001b[39m \u001b[38;5;124m'\u001b[39m\u001b[38;5;124mPython\u001b[39m\u001b[38;5;124m'\u001b[39m\n",
            "\u001b[1;31mTypeError\u001b[0m: unsupported operand type(s) for +: 'int' and 'str'"
          ]
        }
      ],
      "source": [
        "4 + 'Python'"
      ]
    },
    {
      "cell_type": "code",
      "execution_count": null,
      "id": "aa8697f4-dbdf-4150-959c-33c055f4dae9",
      "metadata": {
        "id": "aa8697f4-dbdf-4150-959c-33c055f4dae9",
        "outputId": "d2f32d37-1c8d-4227-980c-152b8e331632"
      },
      "outputs": [
        {
          "data": {
            "text/plain": [
              "'4Python'"
            ]
          },
          "execution_count": 121,
          "metadata": {},
          "output_type": "execute_result"
        }
      ],
      "source": [
        "'4' + 'Python'"
      ]
    },
    {
      "cell_type": "markdown",
      "id": "943f8a99-9b7c-48e8-94d5-3347cf9e30cf",
      "metadata": {
        "id": "943f8a99-9b7c-48e8-94d5-3347cf9e30cf"
      },
      "source": [
        "##### Forced TypeCasting"
      ]
    },
    {
      "cell_type": "code",
      "execution_count": null,
      "id": "d2c2f4cb-4568-49d7-975c-e8703b7c672e",
      "metadata": {
        "id": "d2c2f4cb-4568-49d7-975c-e8703b7c672e"
      },
      "outputs": [],
      "source": [
        "a = 10"
      ]
    },
    {
      "cell_type": "code",
      "execution_count": null,
      "id": "6739e378-b691-4746-bda3-80ee291fdc6f",
      "metadata": {
        "id": "6739e378-b691-4746-bda3-80ee291fdc6f",
        "outputId": "789ded99-2e09-4abf-a49a-f13b8363dfff"
      },
      "outputs": [
        {
          "data": {
            "text/plain": [
              "10.0"
            ]
          },
          "execution_count": 5,
          "metadata": {},
          "output_type": "execute_result"
        }
      ],
      "source": [
        "float(a)"
      ]
    },
    {
      "cell_type": "code",
      "execution_count": null,
      "id": "7f11aa37-756d-4c36-9fbd-4d5b8366c866",
      "metadata": {
        "id": "7f11aa37-756d-4c36-9fbd-4d5b8366c866",
        "outputId": "331f9115-13a9-40bf-85d5-7d08f967f5b1"
      },
      "outputs": [
        {
          "data": {
            "text/plain": [
              "True"
            ]
          },
          "execution_count": 7,
          "metadata": {},
          "output_type": "execute_result"
        }
      ],
      "source": [
        "bool(a)"
      ]
    },
    {
      "cell_type": "code",
      "execution_count": null,
      "id": "89154206-0803-4cba-967b-ddc2e420d995",
      "metadata": {
        "id": "89154206-0803-4cba-967b-ddc2e420d995",
        "outputId": "305eefc7-c220-4fba-98f0-357ebd60e489"
      },
      "outputs": [
        {
          "data": {
            "text/plain": [
              "'10'"
            ]
          },
          "execution_count": 9,
          "metadata": {},
          "output_type": "execute_result"
        }
      ],
      "source": [
        "str(a)"
      ]
    },
    {
      "cell_type": "code",
      "execution_count": null,
      "id": "63f5b50b-6a76-4b1f-b045-b69937a6f9b4",
      "metadata": {
        "id": "63f5b50b-6a76-4b1f-b045-b69937a6f9b4",
        "outputId": "29fde004-2901-4906-b550-30b4bc278a05"
      },
      "outputs": [
        {
          "data": {
            "text/plain": [
              "True"
            ]
          },
          "execution_count": 11,
          "metadata": {},
          "output_type": "execute_result"
        }
      ],
      "source": [
        "bool(0.1)"
      ]
    },
    {
      "cell_type": "markdown",
      "id": "01c2d232-ca4e-4222-8f7c-5b7ef9916e97",
      "metadata": {
        "id": "01c2d232-ca4e-4222-8f7c-5b7ef9916e97"
      },
      "source": [
        "Task : float , str , bool try to do forced typecasting"
      ]
    },
    {
      "cell_type": "markdown",
      "id": "7a64166f-ae89-484e-8ce0-b9efc0aa4b3a",
      "metadata": {
        "id": "7a64166f-ae89-484e-8ce0-b9efc0aa4b3a"
      },
      "source": [
        "#### String and its functions"
      ]
    },
    {
      "cell_type": "code",
      "execution_count": null,
      "id": "8c1d5399-4ad1-442e-8e78-1f2b87d4d3e7",
      "metadata": {
        "id": "8c1d5399-4ad1-442e-8e78-1f2b87d4d3e7",
        "outputId": "945fa808-67f8-44e7-a463-9a8212de7790"
      },
      "outputs": [
        {
          "name": "stdout",
          "output_type": "stream",
          "text": [
            "Hello world\n"
          ]
        }
      ],
      "source": [
        "s1 = \"Hello world\"\n",
        "print(s1)"
      ]
    },
    {
      "cell_type": "code",
      "execution_count": null,
      "id": "ec6c7dc4-a5f0-4b13-8101-a87396aad32e",
      "metadata": {
        "id": "ec6c7dc4-a5f0-4b13-8101-a87396aad32e",
        "outputId": "3fbe7cd6-b93c-4450-a681-698ab897177c"
      },
      "outputs": [
        {
          "name": "stdout",
          "output_type": "stream",
          "text": [
            "Welcome to python session\n"
          ]
        }
      ],
      "source": [
        "s2 = \"Welcome to python session\"\n",
        "print(s2)"
      ]
    },
    {
      "cell_type": "markdown",
      "id": "c1eb44b9-c1ad-488d-ba49-0aaf19cc63a0",
      "metadata": {
        "id": "c1eb44b9-c1ad-488d-ba49-0aaf19cc63a0"
      },
      "source": [
        "![image.png](attachment:d53685e7-2b8e-42dd-9c00-9fb671f32dc9.png)"
      ]
    },
    {
      "cell_type": "code",
      "execution_count": null,
      "id": "8c10ac9c-7207-4f28-a322-81540522ffed",
      "metadata": {
        "id": "8c10ac9c-7207-4f28-a322-81540522ffed",
        "outputId": "4b9c3dbd-4b6b-4f95-b90b-7cc248e794b0"
      },
      "outputs": [
        {
          "data": {
            "text/plain": [
              "'Hello world'"
            ]
          },
          "execution_count": 20,
          "metadata": {},
          "output_type": "execute_result"
        }
      ],
      "source": [
        "s1"
      ]
    },
    {
      "cell_type": "code",
      "execution_count": null,
      "id": "fe028ae1-6651-4234-863c-d768625f1d86",
      "metadata": {
        "id": "fe028ae1-6651-4234-863c-d768625f1d86",
        "outputId": "1ca5d23c-3100-4c54-a00f-331306e3e9e1"
      },
      "outputs": [
        {
          "data": {
            "text/plain": [
              "'H'"
            ]
          },
          "execution_count": 22,
          "metadata": {},
          "output_type": "execute_result"
        }
      ],
      "source": [
        "# string_name[index_number]\n",
        "s1[0]"
      ]
    },
    {
      "cell_type": "code",
      "execution_count": null,
      "id": "1d8658ad-6903-408e-b3a2-1123c06a42e9",
      "metadata": {
        "id": "1d8658ad-6903-408e-b3a2-1123c06a42e9",
        "outputId": "c47a1c76-886d-4cb2-d96b-e4f47e15f280"
      },
      "outputs": [
        {
          "data": {
            "text/plain": [
              "'w'"
            ]
          },
          "execution_count": 24,
          "metadata": {},
          "output_type": "execute_result"
        }
      ],
      "source": [
        "s1[6]"
      ]
    },
    {
      "cell_type": "code",
      "execution_count": null,
      "id": "48fa1aa6-ef8c-4e8f-ac9e-1501e70fca96",
      "metadata": {
        "id": "48fa1aa6-ef8c-4e8f-ac9e-1501e70fca96",
        "outputId": "5dc123a6-1044-4601-e96a-53fd5e612011"
      },
      "outputs": [
        {
          "data": {
            "text/plain": [
              "'d'"
            ]
          },
          "execution_count": 26,
          "metadata": {},
          "output_type": "execute_result"
        }
      ],
      "source": [
        "s1[-1]"
      ]
    },
    {
      "cell_type": "markdown",
      "id": "1d3938f6-10eb-4693-8be6-2401f2437850",
      "metadata": {
        "id": "1d3938f6-10eb-4693-8be6-2401f2437850"
      },
      "source": [
        "##### Slicing"
      ]
    },
    {
      "cell_type": "code",
      "execution_count": null,
      "id": "e2f6365d-32c3-497e-8112-66bd9474e12b",
      "metadata": {
        "id": "e2f6365d-32c3-497e-8112-66bd9474e12b",
        "outputId": "32b38b57-2fd1-4802-9222-4f577c0c3346"
      },
      "outputs": [
        {
          "data": {
            "text/plain": [
              "'Hello world'"
            ]
          },
          "execution_count": 29,
          "metadata": {},
          "output_type": "execute_result"
        }
      ],
      "source": [
        "s1"
      ]
    },
    {
      "cell_type": "code",
      "execution_count": null,
      "id": "a2f34550-8295-4045-90e9-3a52249dc5be",
      "metadata": {
        "id": "a2f34550-8295-4045-90e9-3a52249dc5be",
        "outputId": "71b61b5b-b0a5-478a-94ed-0c40cb896ec2"
      },
      "outputs": [
        {
          "data": {
            "text/plain": [
              "'Hello'"
            ]
          },
          "execution_count": 31,
          "metadata": {},
          "output_type": "execute_result"
        }
      ],
      "source": [
        "# str_name[start : end-1]\n",
        "s1[0:5]"
      ]
    },
    {
      "cell_type": "code",
      "execution_count": null,
      "id": "8b5cb68f-cbd3-4058-82d9-4b9e38652f1f",
      "metadata": {
        "id": "8b5cb68f-cbd3-4058-82d9-4b9e38652f1f",
        "outputId": "35b3615b-0eac-423b-a3bd-3d12ab20710c"
      },
      "outputs": [
        {
          "data": {
            "text/plain": [
              "'world'"
            ]
          },
          "execution_count": 36,
          "metadata": {},
          "output_type": "execute_result"
        }
      ],
      "source": [
        "s1[6:11]"
      ]
    },
    {
      "cell_type": "code",
      "execution_count": null,
      "id": "744a592d-59c8-4cc5-97d6-1d826341656c",
      "metadata": {
        "id": "744a592d-59c8-4cc5-97d6-1d826341656c",
        "outputId": "a6e48abc-0859-42f7-fe6c-4d8c672bd699"
      },
      "outputs": [
        {
          "data": {
            "text/plain": [
              "'Hello '"
            ]
          },
          "execution_count": 47,
          "metadata": {},
          "output_type": "execute_result"
        }
      ],
      "source": [
        "s1[:6]  # by default slicing is started at 0 index"
      ]
    },
    {
      "cell_type": "code",
      "execution_count": null,
      "id": "0e51fedc-276d-4ff0-872f-cfec25d611a8",
      "metadata": {
        "id": "0e51fedc-276d-4ff0-872f-cfec25d611a8",
        "outputId": "aa6138a0-50a8-4b8e-bf60-1d8cc9b5d72a"
      },
      "outputs": [
        {
          "data": {
            "text/plain": [
              "'Hello world'"
            ]
          },
          "execution_count": 49,
          "metadata": {},
          "output_type": "execute_result"
        }
      ],
      "source": [
        "s1[0:] #by default slicing will end at last index"
      ]
    },
    {
      "cell_type": "code",
      "execution_count": null,
      "id": "30009d8d-e6b7-42ed-89c8-641c22b0134f",
      "metadata": {
        "id": "30009d8d-e6b7-42ed-89c8-641c22b0134f",
        "outputId": "4cb989c0-aeb3-4c4e-bbda-567e072a56dc"
      },
      "outputs": [
        {
          "data": {
            "text/plain": [
              "'Hello world'"
            ]
          },
          "execution_count": 51,
          "metadata": {},
          "output_type": "execute_result"
        }
      ],
      "source": [
        "s1[:] # start 0 position , end at last index value"
      ]
    },
    {
      "cell_type": "code",
      "execution_count": null,
      "id": "349e58ef-6206-45fa-b96f-f5b85395c047",
      "metadata": {
        "id": "349e58ef-6206-45fa-b96f-f5b85395c047",
        "outputId": "b6580cf3-5a8d-4eaf-d84d-cf5d9988f012"
      },
      "outputs": [
        {
          "data": {
            "text/plain": [
              "'Hello world'"
            ]
          },
          "execution_count": 53,
          "metadata": {},
          "output_type": "execute_result"
        }
      ],
      "source": [
        "# [start, end , step]\n",
        "s1[::1]"
      ]
    },
    {
      "cell_type": "code",
      "execution_count": null,
      "id": "932b94c6-c988-4488-a6ef-3fb5c093e1ee",
      "metadata": {
        "id": "932b94c6-c988-4488-a6ef-3fb5c093e1ee",
        "outputId": "09597b47-b60d-427e-9ccc-b91d5e358e87"
      },
      "outputs": [
        {
          "data": {
            "text/plain": [
              "'dlrow olleH'"
            ]
          },
          "execution_count": 55,
          "metadata": {},
          "output_type": "execute_result"
        }
      ],
      "source": [
        "s1[::-1] # reverse a string using slicing"
      ]
    },
    {
      "cell_type": "code",
      "execution_count": null,
      "id": "3db55f27-72df-4e8b-918a-adada60e07a0",
      "metadata": {
        "id": "3db55f27-72df-4e8b-918a-adada60e07a0",
        "outputId": "d881b556-c23c-4edb-e87b-7206c8937873"
      },
      "outputs": [
        {
          "data": {
            "text/plain": [
              "'Hlowrd'"
            ]
          },
          "execution_count": 61,
          "metadata": {},
          "output_type": "execute_result"
        }
      ],
      "source": [
        "s1[0:11:2]"
      ]
    },
    {
      "cell_type": "code",
      "execution_count": null,
      "id": "b7ad7c7a-5a40-4096-b41b-19521762a785",
      "metadata": {
        "id": "b7ad7c7a-5a40-4096-b41b-19521762a785",
        "outputId": "4ad6f449-e481-4e28-a6f3-b9c6bf97f7e6"
      },
      "outputs": [
        {
          "data": {
            "text/plain": [
              "'drwolH'"
            ]
          },
          "execution_count": 59,
          "metadata": {},
          "output_type": "execute_result"
        }
      ],
      "source": [
        "s1[::-2]"
      ]
    },
    {
      "cell_type": "markdown",
      "id": "3cbcc105-33aa-411f-948e-f8269ee10482",
      "metadata": {
        "id": "3cbcc105-33aa-411f-948e-f8269ee10482"
      },
      "source": [
        "##### Strings are immutable\n",
        "\n",
        "- we cannot add, delete or update the strings once created"
      ]
    },
    {
      "cell_type": "code",
      "execution_count": null,
      "id": "597c6cc5-67f8-43f8-a2ed-8783d7ef3729",
      "metadata": {
        "id": "597c6cc5-67f8-43f8-a2ed-8783d7ef3729",
        "outputId": "9f775bd9-8b5e-4186-f30b-26cd5bfeb424"
      },
      "outputs": [
        {
          "data": {
            "text/plain": [
              "'Welcome to python session'"
            ]
          },
          "execution_count": 67,
          "metadata": {},
          "output_type": "execute_result"
        }
      ],
      "source": [
        "s2"
      ]
    },
    {
      "cell_type": "code",
      "execution_count": null,
      "id": "1d051b20-7952-4f40-90a9-6ca5c832542c",
      "metadata": {
        "id": "1d051b20-7952-4f40-90a9-6ca5c832542c",
        "outputId": "4c3e5ae8-1f43-46d9-de8a-ecfa712c09c9"
      },
      "outputs": [
        {
          "ename": "TypeError",
          "evalue": "'str' object does not support item assignment",
          "output_type": "error",
          "traceback": [
            "\u001b[1;31m---------------------------------------------------------------------------\u001b[0m",
            "\u001b[1;31mTypeError\u001b[0m                                 Traceback (most recent call last)",
            "Cell \u001b[1;32mIn[71], line 1\u001b[0m\n\u001b[1;32m----> 1\u001b[0m s2[\u001b[38;5;241m0\u001b[39m] \u001b[38;5;241m=\u001b[39m \u001b[38;5;124m'\u001b[39m\u001b[38;5;124mZ\u001b[39m\u001b[38;5;124m'\u001b[39m\n",
            "\u001b[1;31mTypeError\u001b[0m: 'str' object does not support item assignment"
          ]
        }
      ],
      "source": [
        "s2[0] = 'Z'"
      ]
    },
    {
      "cell_type": "code",
      "execution_count": null,
      "id": "0a88f454-c28a-4e9f-ac7d-328a7a372687",
      "metadata": {
        "id": "0a88f454-c28a-4e9f-ac7d-328a7a372687"
      },
      "outputs": [],
      "source": [
        "## replace\n",
        "s2 = s2.replace('session','class')"
      ]
    },
    {
      "cell_type": "code",
      "execution_count": null,
      "id": "a6c5e3e5-e78d-4f83-8ccf-2d4819f50524",
      "metadata": {
        "id": "a6c5e3e5-e78d-4f83-8ccf-2d4819f50524",
        "outputId": "862ef13d-28c9-4ea1-8d6e-5d10f72e1e71"
      },
      "outputs": [
        {
          "data": {
            "text/plain": [
              "'Welcome to python class'"
            ]
          },
          "execution_count": 77,
          "metadata": {},
          "output_type": "execute_result"
        }
      ],
      "source": [
        "s2"
      ]
    },
    {
      "cell_type": "code",
      "execution_count": null,
      "id": "541e275b-4988-4562-9021-dd802357c3de",
      "metadata": {
        "id": "541e275b-4988-4562-9021-dd802357c3de"
      },
      "outputs": [],
      "source": [
        "# we cannot delete certain characters from the string\n",
        "# but we can delete the entire structure\n",
        "del s2"
      ]
    },
    {
      "cell_type": "code",
      "execution_count": null,
      "id": "40589435-977b-4946-86e1-67bffcd6da6f",
      "metadata": {
        "id": "40589435-977b-4946-86e1-67bffcd6da6f",
        "outputId": "54d2a084-3232-4682-eda0-1543727f5099"
      },
      "outputs": [
        {
          "ename": "NameError",
          "evalue": "name 's2' is not defined",
          "output_type": "error",
          "traceback": [
            "\u001b[1;31m---------------------------------------------------------------------------\u001b[0m",
            "\u001b[1;31mNameError\u001b[0m                                 Traceback (most recent call last)",
            "Cell \u001b[1;32mIn[81], line 1\u001b[0m\n\u001b[1;32m----> 1\u001b[0m s2\n",
            "\u001b[1;31mNameError\u001b[0m: name 's2' is not defined"
          ]
        }
      ],
      "source": [
        "s2"
      ]
    },
    {
      "cell_type": "markdown",
      "id": "8dccf153-5811-45bf-9d86-ffd933168789",
      "metadata": {
        "id": "8dccf153-5811-45bf-9d86-ffd933168789"
      },
      "source": [
        "#### Concatenation"
      ]
    },
    {
      "cell_type": "code",
      "execution_count": null,
      "id": "454aa06c-4f14-4206-9dd6-b962ae37b504",
      "metadata": {
        "id": "454aa06c-4f14-4206-9dd6-b962ae37b504"
      },
      "outputs": [],
      "source": [
        "s2 = 'Hi.'"
      ]
    },
    {
      "cell_type": "code",
      "execution_count": null,
      "id": "73e2ab9e-84a7-4c2f-a4a8-e21d128ac416",
      "metadata": {
        "id": "73e2ab9e-84a7-4c2f-a4a8-e21d128ac416"
      },
      "outputs": [],
      "source": [
        "s3 = 'Welcome to python class'"
      ]
    },
    {
      "cell_type": "code",
      "execution_count": null,
      "id": "c5dd11af-012f-4a9e-a55c-56df4cd31f81",
      "metadata": {
        "id": "c5dd11af-012f-4a9e-a55c-56df4cd31f81",
        "outputId": "6e90a1c9-94ad-43cb-d024-e39981836f14"
      },
      "outputs": [
        {
          "data": {
            "text/plain": [
              "'Hi.Welcome to python class'"
            ]
          },
          "execution_count": 90,
          "metadata": {},
          "output_type": "execute_result"
        }
      ],
      "source": [
        "s2 + s3"
      ]
    },
    {
      "cell_type": "code",
      "execution_count": null,
      "id": "fd7d93e8-229a-41b3-8f91-39c5e5c68cd5",
      "metadata": {
        "id": "fd7d93e8-229a-41b3-8f91-39c5e5c68cd5",
        "outputId": "75e91278-3d85-4f9d-d0ec-bbac939ac569"
      },
      "outputs": [
        {
          "name": "stdout",
          "output_type": "stream",
          "text": [
            "Hi. Welcome to python class\n"
          ]
        }
      ],
      "source": [
        "print(s2 + ' ' + s3)"
      ]
    },
    {
      "cell_type": "code",
      "execution_count": null,
      "id": "e80e53d1-ef59-4816-b0dd-b8a2b01e8306",
      "metadata": {
        "id": "e80e53d1-ef59-4816-b0dd-b8a2b01e8306",
        "outputId": "cf5cb7dd-655c-4998-f2f2-e445b28c5cfe"
      },
      "outputs": [
        {
          "data": {
            "text/plain": [
              "'Hi. Welcome to python class'"
            ]
          },
          "execution_count": 134,
          "metadata": {},
          "output_type": "execute_result"
        }
      ],
      "source": [
        "s6 = s2 + \" \" + s3\n",
        "s6"
      ]
    },
    {
      "cell_type": "markdown",
      "id": "bc62fb6d-a3df-4225-9bf1-e530ba5bb7fd",
      "metadata": {
        "id": "bc62fb6d-a3df-4225-9bf1-e530ba5bb7fd"
      },
      "source": [
        "##### String functions"
      ]
    },
    {
      "cell_type": "code",
      "execution_count": null,
      "id": "3ee37923-904e-4ef0-afb1-6fac603d4674",
      "metadata": {
        "id": "3ee37923-904e-4ef0-afb1-6fac603d4674",
        "outputId": "19522d2e-1745-45b9-f3c0-07869741b117"
      },
      "outputs": [
        {
          "data": {
            "text/plain": [
              "'Hello world'"
            ]
          },
          "execution_count": 101,
          "metadata": {},
          "output_type": "execute_result"
        }
      ],
      "source": [
        "s1"
      ]
    },
    {
      "cell_type": "code",
      "execution_count": null,
      "id": "2dff77a1-f895-419a-875a-7a008ad2bb93",
      "metadata": {
        "id": "2dff77a1-f895-419a-875a-7a008ad2bb93",
        "outputId": "67795cfb-e933-41cb-bec2-3bcf3c490813"
      },
      "outputs": [
        {
          "data": {
            "text/plain": [
              "'hello world'"
            ]
          },
          "execution_count": 103,
          "metadata": {},
          "output_type": "execute_result"
        }
      ],
      "source": [
        "s1.lower()"
      ]
    },
    {
      "cell_type": "code",
      "execution_count": null,
      "id": "35e17e97-c9a7-4f9b-ad94-461b157f1df0",
      "metadata": {
        "id": "35e17e97-c9a7-4f9b-ad94-461b157f1df0",
        "outputId": "85a31850-c481-402e-b832-b83860b7ee1c"
      },
      "outputs": [
        {
          "data": {
            "text/plain": [
              "'HELLO WORLD'"
            ]
          },
          "execution_count": 105,
          "metadata": {},
          "output_type": "execute_result"
        }
      ],
      "source": [
        "s1.upper()"
      ]
    },
    {
      "cell_type": "code",
      "execution_count": null,
      "id": "b215c716-a69f-4bb3-9049-6f7ec58c3ebd",
      "metadata": {
        "id": "b215c716-a69f-4bb3-9049-6f7ec58c3ebd",
        "outputId": "8a22db0a-e916-4728-e4f8-90dad294ac12"
      },
      "outputs": [
        {
          "data": {
            "text/plain": [
              "True"
            ]
          },
          "execution_count": 107,
          "metadata": {},
          "output_type": "execute_result"
        }
      ],
      "source": [
        "s1.startswith('H')"
      ]
    },
    {
      "cell_type": "code",
      "execution_count": null,
      "id": "c67ad067-b74a-4391-9f7f-b32d98d4c346",
      "metadata": {
        "id": "c67ad067-b74a-4391-9f7f-b32d98d4c346",
        "outputId": "94dac1af-b331-4085-f32f-be6d59432f6a"
      },
      "outputs": [
        {
          "data": {
            "text/plain": [
              "True"
            ]
          },
          "execution_count": 109,
          "metadata": {},
          "output_type": "execute_result"
        }
      ],
      "source": [
        "s1.endswith('d')"
      ]
    },
    {
      "cell_type": "code",
      "execution_count": null,
      "id": "d1f2006c-131e-45c0-bd14-6021bf40d592",
      "metadata": {
        "id": "d1f2006c-131e-45c0-bd14-6021bf40d592",
        "outputId": "e60b6f3d-bf4e-4a97-f252-6a0dbb9c7b10"
      },
      "outputs": [
        {
          "data": {
            "text/plain": [
              "'Hello'"
            ]
          },
          "execution_count": 119,
          "metadata": {},
          "output_type": "execute_result"
        }
      ],
      "source": [
        "# strip ---> remove the whitespaces from the string\n",
        "s4 = '         Hello         '\n",
        "s4.strip()"
      ]
    },
    {
      "cell_type": "code",
      "execution_count": null,
      "id": "fe724b81-a07b-43d2-b8bd-3953c6f860f2",
      "metadata": {
        "id": "fe724b81-a07b-43d2-b8bd-3953c6f860f2",
        "outputId": "0a34c82f-883e-4896-c3b4-1130487db876"
      },
      "outputs": [
        {
          "data": {
            "text/plain": [
              "'Hello         '"
            ]
          },
          "execution_count": 121,
          "metadata": {},
          "output_type": "execute_result"
        }
      ],
      "source": [
        "# lstrip ---> remove the space at the start / left side\n",
        "s4.lstrip()"
      ]
    },
    {
      "cell_type": "code",
      "execution_count": null,
      "id": "bc87b050-c028-4a56-bb2b-6a836f949cb7",
      "metadata": {
        "id": "bc87b050-c028-4a56-bb2b-6a836f949cb7",
        "outputId": "5a466a4d-39e4-4b42-9f5f-46e2b4cd1117"
      },
      "outputs": [
        {
          "data": {
            "text/plain": [
              "'         Hello'"
            ]
          },
          "execution_count": 123,
          "metadata": {},
          "output_type": "execute_result"
        }
      ],
      "source": [
        "# rstrip ---> remove the space at the ebd / right side\n",
        "s4.rstrip()"
      ]
    },
    {
      "cell_type": "code",
      "execution_count": null,
      "id": "b2ea19e4-08a4-4dff-8825-c1ef02df82d3",
      "metadata": {
        "id": "b2ea19e4-08a4-4dff-8825-c1ef02df82d3",
        "outputId": "49bec485-9045-4e57-8a9b-bf723ebe97f8"
      },
      "outputs": [
        {
          "data": {
            "text/plain": [
              "'Lakshmi'"
            ]
          },
          "execution_count": 127,
          "metadata": {},
          "output_type": "execute_result"
        }
      ],
      "source": [
        "s.capitalize()"
      ]
    },
    {
      "cell_type": "code",
      "execution_count": null,
      "id": "3da849e2-4d8f-45c6-bfb8-2f3327daf459",
      "metadata": {
        "id": "3da849e2-4d8f-45c6-bfb8-2f3327daf459",
        "outputId": "e5b37e80-9715-4e8c-e1a5-e8952139a534"
      },
      "outputs": [
        {
          "data": {
            "text/plain": [
              "'Hi. Welcome to python class. It is a new concept'"
            ]
          },
          "execution_count": 142,
          "metadata": {},
          "output_type": "execute_result"
        }
      ],
      "source": [
        "s7 = s6 + '. It is a new concept'\n",
        "s7"
      ]
    },
    {
      "cell_type": "code",
      "execution_count": null,
      "id": "13a6f788-1a78-4339-beab-d25f925373e8",
      "metadata": {
        "id": "13a6f788-1a78-4339-beab-d25f925373e8",
        "outputId": "c4d7d520-2b7c-450e-9907-56d79995d0af"
      },
      "outputs": [
        {
          "data": {
            "text/plain": [
              "['Hi.', 'Welcome', 'to', 'python', 'class.', 'It', 'is', 'a', 'new', 'concept']"
            ]
          },
          "execution_count": 144,
          "metadata": {},
          "output_type": "execute_result"
        }
      ],
      "source": [
        "s7.split()"
      ]
    },
    {
      "cell_type": "code",
      "execution_count": null,
      "id": "5706ddc6-cdb0-42d0-a1e0-34b183c8a54a",
      "metadata": {
        "id": "5706ddc6-cdb0-42d0-a1e0-34b183c8a54a",
        "outputId": "8052b460-618f-479b-8f7d-ca53ba305b00"
      },
      "outputs": [
        {
          "data": {
            "text/plain": [
              "['Hi', ' Welcome to python class', ' It is a new concept']"
            ]
          },
          "execution_count": 146,
          "metadata": {},
          "output_type": "execute_result"
        }
      ],
      "source": [
        "s7.split('.')"
      ]
    },
    {
      "cell_type": "code",
      "execution_count": null,
      "id": "86cc7db0-097f-44f7-8106-059acbbef458",
      "metadata": {
        "id": "86cc7db0-097f-44f7-8106-059acbbef458",
        "outputId": "e09f26bb-d5fc-48c7-caa4-b8142162c498"
      },
      "outputs": [
        {
          "data": {
            "text/plain": [
              "('Hi', '.', ' Welcome to python class. It is a new concept')"
            ]
          },
          "execution_count": 150,
          "metadata": {},
          "output_type": "execute_result"
        }
      ],
      "source": [
        "s7.partition('.')"
      ]
    },
    {
      "cell_type": "markdown",
      "id": "4094ea6a-7434-49cf-bc8b-5f7b3e3c5f9a",
      "metadata": {
        "id": "4094ea6a-7434-49cf-bc8b-5f7b3e3c5f9a"
      },
      "source": [
        "##### String Membership"
      ]
    },
    {
      "cell_type": "code",
      "execution_count": null,
      "id": "3cfd6f66-92d4-4d2e-8908-12b95d373277",
      "metadata": {
        "id": "3cfd6f66-92d4-4d2e-8908-12b95d373277"
      },
      "outputs": [],
      "source": [
        "# in\n",
        "# not in\n",
        "# check whther the value is a part of the ds\n",
        "# o/p will be boolean value"
      ]
    },
    {
      "cell_type": "code",
      "execution_count": null,
      "id": "bd91f53d-fb01-4928-beea-4235e7e77aec",
      "metadata": {
        "id": "bd91f53d-fb01-4928-beea-4235e7e77aec",
        "outputId": "cefd365b-d7ef-4871-b594-6e66efe7e936"
      },
      "outputs": [
        {
          "data": {
            "text/plain": [
              "'Hello world'"
            ]
          },
          "execution_count": 155,
          "metadata": {},
          "output_type": "execute_result"
        }
      ],
      "source": [
        "s1"
      ]
    },
    {
      "cell_type": "code",
      "execution_count": null,
      "id": "61c64b2d-59ea-4283-ab05-f07f695d444a",
      "metadata": {
        "id": "61c64b2d-59ea-4283-ab05-f07f695d444a",
        "outputId": "328743d4-4c0e-4e66-d428-93047ab1e746"
      },
      "outputs": [
        {
          "data": {
            "text/plain": [
              "True"
            ]
          },
          "execution_count": 157,
          "metadata": {},
          "output_type": "execute_result"
        }
      ],
      "source": [
        "'H' in s1"
      ]
    },
    {
      "cell_type": "code",
      "execution_count": null,
      "id": "7fdc3e47-510d-4442-ad64-9f9c92399b5c",
      "metadata": {
        "id": "7fdc3e47-510d-4442-ad64-9f9c92399b5c",
        "outputId": "b6534d98-f41c-4a32-fe1b-55437e0e78c6"
      },
      "outputs": [
        {
          "data": {
            "text/plain": [
              "False"
            ]
          },
          "execution_count": 159,
          "metadata": {},
          "output_type": "execute_result"
        }
      ],
      "source": [
        "'h' in s1"
      ]
    },
    {
      "cell_type": "code",
      "execution_count": null,
      "id": "50d81489-1a58-407e-ab1b-ec93873c36f9",
      "metadata": {
        "id": "50d81489-1a58-407e-ab1b-ec93873c36f9",
        "outputId": "f2f67f05-b666-4a46-afdf-203b725a141a"
      },
      "outputs": [
        {
          "data": {
            "text/plain": [
              "False"
            ]
          },
          "execution_count": 161,
          "metadata": {},
          "output_type": "execute_result"
        }
      ],
      "source": [
        "'H' not in s1"
      ]
    },
    {
      "cell_type": "code",
      "execution_count": null,
      "id": "987e25b8-b328-443a-9aaa-e75a0e88b50b",
      "metadata": {
        "id": "987e25b8-b328-443a-9aaa-e75a0e88b50b",
        "outputId": "5894cdb8-b48c-4a2f-ba38-ca28af825a51"
      },
      "outputs": [
        {
          "data": {
            "text/plain": [
              "int"
            ]
          },
          "execution_count": 163,
          "metadata": {},
          "output_type": "execute_result"
        }
      ],
      "source": [
        "a = 10\n",
        "type(a)"
      ]
    },
    {
      "cell_type": "code",
      "execution_count": null,
      "id": "fe5541fd-fece-45e8-84c6-60fe0d2f3240",
      "metadata": {
        "id": "fe5541fd-fece-45e8-84c6-60fe0d2f3240",
        "outputId": "4b403cc5-1595-41ee-ca7d-409cf7e672eb"
      },
      "outputs": [
        {
          "data": {
            "text/plain": [
              "10.0"
            ]
          },
          "execution_count": 165,
          "metadata": {},
          "output_type": "execute_result"
        }
      ],
      "source": [
        "float(a)"
      ]
    },
    {
      "cell_type": "code",
      "execution_count": null,
      "id": "19101e35-f16d-4f6a-b564-e8cc07abeda0",
      "metadata": {
        "id": "19101e35-f16d-4f6a-b564-e8cc07abeda0",
        "outputId": "83de4249-2956-4279-9d56-84703534648b"
      },
      "outputs": [
        {
          "data": {
            "text/plain": [
              "'10'"
            ]
          },
          "execution_count": 167,
          "metadata": {},
          "output_type": "execute_result"
        }
      ],
      "source": [
        "str(a)"
      ]
    },
    {
      "cell_type": "markdown",
      "id": "a2477c76-a2f9-4f49-8248-d7e3f00cae36",
      "metadata": {
        "id": "a2477c76-a2f9-4f49-8248-d7e3f00cae36"
      },
      "source": [
        "![image.png](attachment:427b6bb4-6723-4771-a36d-e223032a6099.png)"
      ]
    },
    {
      "cell_type": "markdown",
      "id": "eab34f48-cd13-4408-9f15-b6bb24cba089",
      "metadata": {
        "id": "eab34f48-cd13-4408-9f15-b6bb24cba089"
      },
      "source": [
        "![image.png](attachment:3353f147-f668-4a16-8620-c7c34d9b09d7.png)/"
      ]
    },
    {
      "cell_type": "markdown",
      "id": "09cbcee3-5257-4948-8fc7-455e48c7e61a",
      "metadata": {
        "id": "09cbcee3-5257-4948-8fc7-455e48c7e61a"
      },
      "source": [
        "![image.png](attachment:9c495361-5232-4c42-bca3-e6e316006262.png)"
      ]
    },
    {
      "cell_type": "markdown",
      "id": "bda54a0a-e4e4-401f-802a-4ca660719e9f",
      "metadata": {
        "id": "bda54a0a-e4e4-401f-802a-4ca660719e9f"
      },
      "source": [
        "##### Atrithmetic"
      ]
    },
    {
      "cell_type": "code",
      "execution_count": null,
      "id": "bf525be2-0cea-4fff-bf99-26950e4cc2f0",
      "metadata": {
        "id": "bf525be2-0cea-4fff-bf99-26950e4cc2f0",
        "outputId": "e3119f60-017d-4477-e4bd-82a429c45ed5"
      },
      "outputs": [
        {
          "name": "stdin",
          "output_type": "stream",
          "text": [
            " 10\n",
            " 10\n"
          ]
        },
        {
          "name": "stdout",
          "output_type": "stream",
          "text": [
            "20\n",
            "0\n",
            "100\n",
            "1.0\n",
            "1\n",
            "0\n",
            "10000000000\n"
          ]
        }
      ],
      "source": [
        "a = int(input())\n",
        "b = int(input())\n",
        "print(a+b)\n",
        "print(a-b)\n",
        "print(a*b)\n",
        "print(a/b) # float number\n",
        "print(a//b) # floor division , int\n",
        "print(a%b) #reminder is the answer\n",
        "print(a**b)"
      ]
    },
    {
      "cell_type": "markdown",
      "id": "e6df2254-8ce3-4879-a409-4a2c726faf52",
      "metadata": {
        "id": "e6df2254-8ce3-4879-a409-4a2c726faf52"
      },
      "source": [
        "##### Comparision op"
      ]
    },
    {
      "cell_type": "code",
      "execution_count": null,
      "id": "b33193c8-f229-42f6-9710-b4779aecfb3a",
      "metadata": {
        "id": "b33193c8-f229-42f6-9710-b4779aecfb3a",
        "outputId": "173d622d-3bad-4998-fb44-7d9a1528b342"
      },
      "outputs": [
        {
          "name": "stdout",
          "output_type": "stream",
          "text": [
            "True\n",
            "False\n",
            "False\n",
            "True\n",
            "True\n",
            "False\n"
          ]
        }
      ],
      "source": [
        "a = 10\n",
        "b = 10\n",
        "print(a==b)\n",
        "print(a<b)\n",
        "print(a>b)\n",
        "print(a<=b)\n",
        "print(a>=b)\n",
        "print(a!=b)"
      ]
    },
    {
      "cell_type": "markdown",
      "id": "622d7968-16c7-464d-ae6a-49957163fb4b",
      "metadata": {
        "id": "622d7968-16c7-464d-ae6a-49957163fb4b"
      },
      "source": [
        "##### Logical op"
      ]
    },
    {
      "cell_type": "code",
      "execution_count": null,
      "id": "e1621958-16fd-42ca-a7c5-d99f2c43ac56",
      "metadata": {
        "id": "e1621958-16fd-42ca-a7c5-d99f2c43ac56",
        "outputId": "517e8b36-179d-4ac2-e7f0-7c4195398e41"
      },
      "outputs": [
        {
          "data": {
            "text/plain": [
              "True"
            ]
          },
          "execution_count": 186,
          "metadata": {},
          "output_type": "execute_result"
        }
      ],
      "source": [
        "a = True\n",
        "b = True\n",
        "c = False\n",
        "a and b"
      ]
    },
    {
      "cell_type": "code",
      "execution_count": null,
      "id": "b23bc28e-b675-4a0a-b5ec-7cb46b5063c3",
      "metadata": {
        "id": "b23bc28e-b675-4a0a-b5ec-7cb46b5063c3",
        "outputId": "66d43dc1-fa17-43f2-cdbb-9cd4c327d21f"
      },
      "outputs": [
        {
          "data": {
            "text/plain": [
              "True"
            ]
          },
          "execution_count": 188,
          "metadata": {},
          "output_type": "execute_result"
        }
      ],
      "source": [
        "a or c"
      ]
    },
    {
      "cell_type": "code",
      "execution_count": null,
      "id": "92c3ebef-1ee9-4c62-a72e-26c8adba6202",
      "metadata": {
        "id": "92c3ebef-1ee9-4c62-a72e-26c8adba6202",
        "outputId": "26364cac-81bf-46d2-b5ef-56f161b498c5"
      },
      "outputs": [
        {
          "data": {
            "text/plain": [
              "False"
            ]
          },
          "execution_count": 190,
          "metadata": {},
          "output_type": "execute_result"
        }
      ],
      "source": [
        "not a"
      ]
    },
    {
      "cell_type": "markdown",
      "id": "92f07cae-2e85-4b11-9588-116b245d90a7",
      "metadata": {
        "id": "92f07cae-2e85-4b11-9588-116b245d90a7"
      },
      "source": [
        "![image.png](attachment:55c074a9-7c1c-423b-bd5d-9062adf3b15c.png)"
      ]
    },
    {
      "cell_type": "code",
      "execution_count": null,
      "id": "633c9c7f-91b8-481b-bb0e-78df225049b8",
      "metadata": {
        "id": "633c9c7f-91b8-481b-bb0e-78df225049b8"
      },
      "outputs": [],
      "source": [
        "a = 5\n",
        "if a > 8 : # 5 > 8 False\n",
        "    print(a,'is greater than 8')"
      ]
    },
    {
      "cell_type": "code",
      "execution_count": null,
      "id": "b0411a40-f5af-4c4c-bae7-1485557fa079",
      "metadata": {
        "id": "b0411a40-f5af-4c4c-bae7-1485557fa079",
        "outputId": "428fff29-a08e-4114-b57d-18514aa308e0"
      },
      "outputs": [
        {
          "name": "stdout",
          "output_type": "stream",
          "text": [
            "8 is greater than 5\n"
          ]
        }
      ],
      "source": [
        "a = 8\n",
        "if a > 5 :\n",
        "    print(a,'is greater than 5')"
      ]
    },
    {
      "cell_type": "code",
      "execution_count": null,
      "id": "ce00daf8-8f53-43e8-a1be-d886e15eb3bf",
      "metadata": {
        "id": "ce00daf8-8f53-43e8-a1be-d886e15eb3bf",
        "outputId": "56714fc1-ed4b-44e7-a805-03335404215f"
      },
      "outputs": [
        {
          "name": "stdin",
          "output_type": "stream",
          "text": [
            " 1\n"
          ]
        },
        {
          "name": "stdout",
          "output_type": "stream",
          "text": [
            "Lesser\n"
          ]
        }
      ],
      "source": [
        "a = int(input())\n",
        "if a>5:\n",
        "    print('Greater')\n",
        "else:\n",
        "    print('Lesser')"
      ]
    },
    {
      "cell_type": "code",
      "execution_count": null,
      "id": "932489af-1612-4321-92b0-dcc9518e3d01",
      "metadata": {
        "id": "932489af-1612-4321-92b0-dcc9518e3d01",
        "outputId": "6294f84c-0b17-4693-ad54-33ee50b3db79"
      },
      "outputs": [
        {
          "name": "stdin",
          "output_type": "stream",
          "text": [
            " 10\n",
            " 20\n"
          ]
        },
        {
          "name": "stdout",
          "output_type": "stream",
          "text": [
            "10 and 20 are not equal\n"
          ]
        }
      ],
      "source": [
        "# equality of numbers\n",
        "a = int(input())\n",
        "b = int(input())\n",
        "if a == b :\n",
        "    print(a ,'and',b ,'are equal')\n",
        "else:\n",
        "    print(a ,'and',b ,'are not equal')"
      ]
    },
    {
      "cell_type": "code",
      "execution_count": null,
      "id": "fd10f8d3-8782-43fc-8335-b5ff6136e893",
      "metadata": {
        "id": "fd10f8d3-8782-43fc-8335-b5ff6136e893",
        "outputId": "ce4c4b01-f160-4c43-d534-18688a4646ca"
      },
      "outputs": [
        {
          "name": "stdin",
          "output_type": "stream",
          "text": [
            " 9\n"
          ]
        },
        {
          "name": "stdout",
          "output_type": "stream",
          "text": [
            "9 is a odd number\n"
          ]
        }
      ],
      "source": [
        "# odd and even\n",
        "# n % 2\n",
        "# n % 2 == 0 -> even\n",
        "n = int(input())\n",
        "if n % 2 == 0:\n",
        "    print(n,'is a even number')\n",
        "else :\n",
        "    print(n,'is a odd number')"
      ]
    },
    {
      "cell_type": "code",
      "execution_count": null,
      "id": "cd75b14f-d781-47c4-ac6c-599b515bee13",
      "metadata": {
        "id": "cd75b14f-d781-47c4-ac6c-599b515bee13",
        "outputId": "f504a736-e024-41c7-b449-bfb9504d7ae4"
      },
      "outputs": [
        {
          "name": "stdin",
          "output_type": "stream",
          "text": [
            " P\n"
          ]
        },
        {
          "name": "stdout",
          "output_type": "stream",
          "text": [
            "Python\n"
          ]
        }
      ],
      "source": [
        "# write a program , should intake a character\n",
        "# 1. if char == P -> o/p Python\n",
        "# 2. if char == D -> o/p Data Science\n",
        "ch = input()\n",
        "if ch == 'p' or ch =='P':\n",
        "    print('Python')\n",
        "elif ch == 'd' or ch=='D':\n",
        "    print('Data Science')\n",
        "else:\n",
        "    print('enter a correct character')"
      ]
    },
    {
      "cell_type": "code",
      "execution_count": null,
      "id": "ec9726f1-8e60-4683-91b8-a5e840517ded",
      "metadata": {
        "id": "ec9726f1-8e60-4683-91b8-a5e840517ded",
        "outputId": "d290fed5-4e79-45f3-ad5c-50dab93c38ac"
      },
      "outputs": [
        {
          "name": "stdin",
          "output_type": "stream",
          "text": [
            " p\n"
          ]
        },
        {
          "name": "stdout",
          "output_type": "stream",
          "text": [
            "p is python\n"
          ]
        }
      ],
      "source": [
        "char=input()\n",
        "if char== 'p':\n",
        "    print(char, \"is python\")\n",
        "elif char == 'd':\n",
        "    print(char, \"is data science\")\n",
        "else:\n",
        "    print(char, \"is not known\")\n"
      ]
    },
    {
      "cell_type": "code",
      "execution_count": null,
      "id": "c3afaf0e-da35-4421-bcf5-e7400affb671",
      "metadata": {
        "id": "c3afaf0e-da35-4421-bcf5-e7400affb671",
        "outputId": "82c50f3f-0486-4487-b450-af6bcaf84d01"
      },
      "outputs": [
        {
          "name": "stdin",
          "output_type": "stream",
          "text": [
            " 10\n"
          ]
        },
        {
          "name": "stdout",
          "output_type": "stream",
          "text": [
            "10.0 is a positive number\n"
          ]
        }
      ],
      "source": [
        "# negative , positive  or zero\n",
        "a=float(input())\n",
        "if a < 0:\n",
        "    print (a, \"is a negative number\")\n",
        "elif a > 0:\n",
        "    print (a, \"is a positive number\")\n",
        "else:\n",
        "    print (a, \"is zero\")\n"
      ]
    },
    {
      "cell_type": "code",
      "execution_count": null,
      "id": "ce0561ac-a7b9-4e58-abb7-e6f4ca5cf946",
      "metadata": {
        "id": "ce0561ac-a7b9-4e58-abb7-e6f4ca5cf946"
      },
      "outputs": [],
      "source": [
        "# write a program , which will take 2 input\n",
        "# 1. gender\n",
        "# 2. age\n",
        "# and check whether they are eligible to get married or not"
      ]
    },
    {
      "cell_type": "code",
      "execution_count": null,
      "id": "73f60c19-c930-4a25-88c1-913e12a06ac2",
      "metadata": {
        "id": "73f60c19-c930-4a25-88c1-913e12a06ac2",
        "outputId": "aff035b7-7f88-40d8-f48a-b4cc813f2c99"
      },
      "outputs": [
        {
          "name": "stdin",
          "output_type": "stream",
          "text": [
            "Enter the gender as Male and Female Male\n",
            "Enter the age 22\n"
          ]
        },
        {
          "name": "stdout",
          "output_type": "stream",
          "text": [
            "eligible\n"
          ]
        }
      ],
      "source": [
        "gen = input('Enter the gender as Male and Female')\n",
        "age = int(input('Enter the age'))\n",
        "\n",
        "if (age > 21) and (gen == 'Male'):\n",
        "    print('eligible')\n",
        "elif age >18 and gen == 'Female':\n",
        "    print('eligible')\n",
        "else:\n",
        "    print('Enter the valid credentials')\n",
        "\n",
        ""
      ]
    },
    {
      "cell_type": "code",
      "execution_count": null,
      "id": "b637d777-93f9-4c65-a5d4-18daf4363d18",
      "metadata": {
        "id": "b637d777-93f9-4c65-a5d4-18daf4363d18"
      },
      "outputs": [],
      "source": [
        "gender = str(input('enter your gender'))\n",
        "age= int(input('enter your age'))\n",
        "if age > 18 and gender =='M' or gender == 'm':\n",
        "    print('yes go ahead')\n",
        "elif age < 18:\n",
        "    print('sorry have to wait')"
      ]
    },
    {
      "cell_type": "code",
      "execution_count": null,
      "id": "be1f8cf9-dd76-4fe2-a2d5-4a0e9601bed4",
      "metadata": {
        "id": "be1f8cf9-dd76-4fe2-a2d5-4a0e9601bed4"
      },
      "outputs": [],
      "source": [
        "# intake a string\n",
        "# check whether the string is in capital letter or not\n",
        "# true -> capital letters\n",
        "# flase -> not in capital letters"
      ]
    },
    {
      "cell_type": "code",
      "execution_count": null,
      "id": "13152193-34c1-455d-8b1b-9932a17b090c",
      "metadata": {
        "id": "13152193-34c1-455d-8b1b-9932a17b090c",
        "outputId": "b9722acd-7422-4874-c3b2-87026f72b43a"
      },
      "outputs": [
        {
          "name": "stdin",
          "output_type": "stream",
          "text": [
            "Enter a string:  LAKHSMI\n"
          ]
        },
        {
          "name": "stdout",
          "output_type": "stream",
          "text": [
            "True -> The string is in capital letters.\n"
          ]
        }
      ],
      "source": [
        "input_string = input(\"Enter a string: \")\n",
        "if input_string == input_string.upper() :\n",
        "    print(\"True -> The string is in capital letters.\")\n",
        "else:\n",
        "    print(\"False -> The string is not in capital letters.\")\n",
        "\n"
      ]
    },
    {
      "cell_type": "code",
      "execution_count": null,
      "id": "a9606a41-ee1e-4c9d-99b9-f045aecc9fa0",
      "metadata": {
        "id": "a9606a41-ee1e-4c9d-99b9-f045aecc9fa0",
        "outputId": "1e486746-f091-474f-d891-74dbc08c32b8"
      },
      "outputs": [
        {
          "name": "stdin",
          "output_type": "stream",
          "text": [
            "Enter the letter LAKSHMI\n"
          ]
        },
        {
          "name": "stdout",
          "output_type": "stream",
          "text": [
            "its capital letter\n"
          ]
        }
      ],
      "source": [
        "ch =str(input('Enter the letter'))\n",
        "if ch.isupper() == True:\n",
        "    print (\"its capital letter\")\n",
        "else:\n",
        "    print (\"its not capital letter\")"
      ]
    },
    {
      "cell_type": "markdown",
      "id": "c37dc3fe-05b0-4cec-b8c8-58fca10f0615",
      "metadata": {
        "id": "c37dc3fe-05b0-4cec-b8c8-58fca10f0615"
      },
      "source": [
        "![image.png](attachment:30f0becf-f960-4639-8d96-6a2dd59fa591.png)"
      ]
    },
    {
      "cell_type": "code",
      "execution_count": null,
      "id": "58d6c592-1c1c-4f93-b305-18b9ca2182fb",
      "metadata": {
        "id": "58d6c592-1c1c-4f93-b305-18b9ca2182fb",
        "outputId": "3a5012a5-4ff6-433e-b109-f9b19dd20a48"
      },
      "outputs": [
        {
          "name": "stdin",
          "output_type": "stream",
          "text": [
            " -1\n"
          ]
        },
        {
          "name": "stdout",
          "output_type": "stream",
          "text": [
            "9\n"
          ]
        }
      ],
      "source": [
        "n = int(input())\n",
        "if n > 0 :\n",
        "    if n > 5:\n",
        "        print(n+10)\n",
        "    else:\n",
        "        print(n)\n",
        "elif n < 0 :\n",
        "    if n > -2 :\n",
        "        print(n+10)\n",
        "    else:\n",
        "        print(n)\n",
        "else:\n",
        "    print(n,'is zero')\n",
        "\n",
        ""
      ]
    },
    {
      "cell_type": "markdown",
      "id": "56197ef4-b4da-493e-8c9c-f0cb4fe8f2d8",
      "metadata": {
        "id": "56197ef4-b4da-493e-8c9c-f0cb4fe8f2d8"
      },
      "source": [
        "#### Data Structure\n",
        "\n",
        "- which stores multiple values in a single variable by giving a structure to it"
      ]
    },
    {
      "cell_type": "markdown",
      "id": "3de1fa5b-cf5c-4337-9e4b-38a183c89d64",
      "metadata": {
        "id": "3de1fa5b-cf5c-4337-9e4b-38a183c89d64"
      },
      "source": [
        "1. List\n",
        "2. Tuple\n",
        "3. Dictionary\n",
        "4. Sets"
      ]
    },
    {
      "cell_type": "markdown",
      "id": "4efa9f17-7f14-49b4-a874-fe7d598a514b",
      "metadata": {
        "id": "4efa9f17-7f14-49b4-a874-fe7d598a514b"
      },
      "source": [
        "#### List\n",
        "\n",
        "- is a DS , which stores multiple values in a single variable\n",
        "- can store both homogeneous and heterogenous values\n",
        "- ordered , indexed , duplicates\n",
        "- LISTS ARE MUTABLE (add , delete and update)\n",
        "- Syntax : var_name = [ ]"
      ]
    },
    {
      "cell_type": "code",
      "execution_count": null,
      "id": "e35fa95b-50d4-418e-99f1-87c56989b075",
      "metadata": {
        "id": "e35fa95b-50d4-418e-99f1-87c56989b075",
        "outputId": "15a537b5-521d-4443-d5bc-6690bfe479b9"
      },
      "outputs": [
        {
          "name": "stdout",
          "output_type": "stream",
          "text": [
            "[]\n"
          ]
        }
      ],
      "source": [
        "l = []\n",
        "print(l)"
      ]
    },
    {
      "cell_type": "code",
      "execution_count": null,
      "id": "ee17502b-e615-4efa-8b28-fe06621a6aa9",
      "metadata": {
        "id": "ee17502b-e615-4efa-8b28-fe06621a6aa9",
        "outputId": "7d4e53d6-42c0-4954-a816-124b8d5e864e"
      },
      "outputs": [
        {
          "data": {
            "text/plain": [
              "[]"
            ]
          },
          "execution_count": 297,
          "metadata": {},
          "output_type": "execute_result"
        }
      ],
      "source": [
        "#list method\n",
        "l1 = list([])\n",
        "l1"
      ]
    },
    {
      "cell_type": "code",
      "execution_count": null,
      "id": "1a3cfe63-a561-4490-a77a-a87c370fa4f1",
      "metadata": {
        "id": "1a3cfe63-a561-4490-a77a-a87c370fa4f1",
        "outputId": "8bf053fa-be17-4fcc-91af-f34bbc5f136e"
      },
      "outputs": [
        {
          "data": {
            "text/plain": [
              "list"
            ]
          },
          "execution_count": 299,
          "metadata": {},
          "output_type": "execute_result"
        }
      ],
      "source": [
        "type(l)"
      ]
    },
    {
      "cell_type": "code",
      "execution_count": null,
      "id": "96132091-cd4a-481c-9fd6-ee0fe10aabc7",
      "metadata": {
        "id": "96132091-cd4a-481c-9fd6-ee0fe10aabc7",
        "outputId": "a2e3fcdb-71ce-4533-8825-676e6586802a"
      },
      "outputs": [
        {
          "data": {
            "text/plain": [
              "[1, 2, 3, 4, 5, 6]"
            ]
          },
          "execution_count": 309,
          "metadata": {},
          "output_type": "execute_result"
        }
      ],
      "source": [
        "# integer list\n",
        "l2 = [1,2,3,4,5,6]\n",
        "l2"
      ]
    },
    {
      "cell_type": "code",
      "execution_count": null,
      "id": "aee2caa3-48b6-4528-b742-74d02faaeef8",
      "metadata": {
        "id": "aee2caa3-48b6-4528-b742-74d02faaeef8",
        "outputId": "0714c0c7-3e10-4d87-a723-9b6a9d06df92"
      },
      "outputs": [
        {
          "data": {
            "text/plain": [
              "[1.0, 2.0, 3.0, 5.5]"
            ]
          },
          "execution_count": 319,
          "metadata": {},
          "output_type": "execute_result"
        }
      ],
      "source": [
        "# float\n",
        "l3 = [1.0,2.0,3.0,5.5]\n",
        "l3"
      ]
    },
    {
      "cell_type": "code",
      "execution_count": null,
      "id": "2b49694d-e3f2-4d40-9a32-9f16940d8a5c",
      "metadata": {
        "id": "2b49694d-e3f2-4d40-9a32-9f16940d8a5c",
        "outputId": "9beb529d-871d-43ab-90a5-9672fd6d0601"
      },
      "outputs": [
        {
          "data": {
            "text/plain": [
              "['name', 'age', 'gender']"
            ]
          },
          "execution_count": 317,
          "metadata": {},
          "output_type": "execute_result"
        }
      ],
      "source": [
        "# str\n",
        "l4 = ['name', 'age', 'gender']\n",
        "l4"
      ]
    },
    {
      "cell_type": "code",
      "execution_count": null,
      "id": "b6fea8df-98f9-4871-a80f-7f87d63844f3",
      "metadata": {
        "id": "b6fea8df-98f9-4871-a80f-7f87d63844f3",
        "outputId": "2e992878-9b68-4c13-891d-f04e920b229b"
      },
      "outputs": [
        {
          "data": {
            "text/plain": [
              "[1, 1.0, 'Python', True]"
            ]
          },
          "execution_count": 321,
          "metadata": {},
          "output_type": "execute_result"
        }
      ],
      "source": [
        "# heterogenous\n",
        "l5 = [1,1.0,'Python',True]\n",
        "l5"
      ]
    },
    {
      "cell_type": "code",
      "execution_count": null,
      "id": "693bfd1f-904b-4b1e-80e4-89198af84cd4",
      "metadata": {
        "id": "693bfd1f-904b-4b1e-80e4-89198af84cd4",
        "outputId": "5ebbcee7-2abe-404f-9187-36a41532af78"
      },
      "outputs": [
        {
          "data": {
            "text/plain": [
              "[10, 20, [30, 40], 'Python']"
            ]
          },
          "execution_count": 323,
          "metadata": {},
          "output_type": "execute_result"
        }
      ],
      "source": [
        "# nested list\n",
        "l6 = [10,20,[30,40],'Python']\n",
        "l6"
      ]
    },
    {
      "cell_type": "code",
      "execution_count": null,
      "id": "7ff2d26e-7216-4903-a012-5dae3bceb521",
      "metadata": {
        "id": "7ff2d26e-7216-4903-a012-5dae3bceb521",
        "outputId": "466e9063-69f3-4674-fad8-7ae5d4d21b78"
      },
      "outputs": [
        {
          "data": {
            "text/plain": [
              "4"
            ]
          },
          "execution_count": 327,
          "metadata": {},
          "output_type": "execute_result"
        }
      ],
      "source": [
        "len(l6)"
      ]
    },
    {
      "cell_type": "markdown",
      "id": "e9d5d502-3b62-4df3-80b9-135971bfb67a",
      "metadata": {
        "id": "e9d5d502-3b62-4df3-80b9-135971bfb67a"
      },
      "source": [
        "##### Indexing and slicing"
      ]
    },
    {
      "cell_type": "code",
      "execution_count": null,
      "id": "7fd24974-7676-44a1-b9e4-b0616fa4c18a",
      "metadata": {
        "id": "7fd24974-7676-44a1-b9e4-b0616fa4c18a",
        "outputId": "a3926332-ce3e-43b4-ad49-bf8d8c16f63d"
      },
      "outputs": [
        {
          "data": {
            "text/plain": [
              "[10, 20, [30, 40], 'Python']"
            ]
          },
          "execution_count": 330,
          "metadata": {},
          "output_type": "execute_result"
        }
      ],
      "source": [
        "l6"
      ]
    },
    {
      "cell_type": "code",
      "execution_count": null,
      "id": "1f9c7de0-e9df-4fb3-806d-9451c9753255",
      "metadata": {
        "id": "1f9c7de0-e9df-4fb3-806d-9451c9753255",
        "outputId": "87579f49-7bbb-4b7b-9dcf-043ed45998c9"
      },
      "outputs": [
        {
          "data": {
            "text/plain": [
              "30"
            ]
          },
          "execution_count": 334,
          "metadata": {},
          "output_type": "execute_result"
        }
      ],
      "source": [
        "l6[2][0]"
      ]
    },
    {
      "cell_type": "code",
      "execution_count": null,
      "id": "73a77e75-a61a-44ab-84d6-f98d5a1d2db8",
      "metadata": {
        "id": "73a77e75-a61a-44ab-84d6-f98d5a1d2db8",
        "outputId": "9805a8bf-1d66-4b38-b4ea-bb08fe8c2b04"
      },
      "outputs": [
        {
          "data": {
            "text/plain": [
              "'Python'"
            ]
          },
          "execution_count": 336,
          "metadata": {},
          "output_type": "execute_result"
        }
      ],
      "source": [
        "l6[-1]"
      ]
    },
    {
      "cell_type": "code",
      "execution_count": null,
      "id": "0dfa7c0d-102d-4804-99d0-5f5b8610061c",
      "metadata": {
        "id": "0dfa7c0d-102d-4804-99d0-5f5b8610061c",
        "outputId": "76432f88-d78a-4b27-9585-d690bd10ba11"
      },
      "outputs": [
        {
          "data": {
            "text/plain": [
              "[]"
            ]
          },
          "execution_count": 338,
          "metadata": {},
          "output_type": "execute_result"
        }
      ],
      "source": [
        "l6[0:-4]"
      ]
    },
    {
      "cell_type": "markdown",
      "id": "b83509f7-e424-463d-999e-5651ac7ed5c9",
      "metadata": {
        "id": "b83509f7-e424-463d-999e-5651ac7ed5c9"
      },
      "source": [
        "#### Lists are mutable\n",
        "- add, delete and update the elements"
      ]
    },
    {
      "cell_type": "markdown",
      "id": "af2901db-b62f-4a42-a024-c88321d3d2dd",
      "metadata": {
        "id": "af2901db-b62f-4a42-a024-c88321d3d2dd"
      },
      "source": [
        "###### ADD\n",
        "1. append\n",
        "2. insert\n",
        "3. extend"
      ]
    },
    {
      "cell_type": "code",
      "execution_count": null,
      "id": "1ee576d1-5d78-4afb-9392-f751e087f498",
      "metadata": {
        "id": "1ee576d1-5d78-4afb-9392-f751e087f498"
      },
      "outputs": [],
      "source": [
        "l = [1,2,3,4,5]"
      ]
    },
    {
      "cell_type": "code",
      "execution_count": null,
      "id": "57e63e18-a9b5-4043-92a6-cb87a14f3ab7",
      "metadata": {
        "id": "57e63e18-a9b5-4043-92a6-cb87a14f3ab7",
        "outputId": "4b057d60-0df4-41d3-a929-0d4057d59539"
      },
      "outputs": [
        {
          "data": {
            "text/plain": [
              "[1, 2, 3, 4, 5, 6]"
            ]
          },
          "execution_count": 6,
          "metadata": {},
          "output_type": "execute_result"
        }
      ],
      "source": [
        "#list_name.append(new_element)\n",
        "l.append(6)\n",
        "l"
      ]
    },
    {
      "cell_type": "code",
      "execution_count": null,
      "id": "e2621f85-6ba7-4901-8301-704745b3744b",
      "metadata": {
        "id": "e2621f85-6ba7-4901-8301-704745b3744b"
      },
      "outputs": [],
      "source": [
        "# insert will add the elemnet at the specified index value\n",
        "# l.insert(index , value)\n",
        "l.insert(1,10)"
      ]
    },
    {
      "cell_type": "code",
      "execution_count": null,
      "id": "f0896518-4d48-4959-a2b7-3d28ebaeb93a",
      "metadata": {
        "id": "f0896518-4d48-4959-a2b7-3d28ebaeb93a",
        "outputId": "556f6797-68ad-4ea6-e093-5641399db4c5"
      },
      "outputs": [
        {
          "data": {
            "text/plain": [
              "[1, 10, 2, 3, 4, 5, 6]"
            ]
          },
          "execution_count": 10,
          "metadata": {},
          "output_type": "execute_result"
        }
      ],
      "source": [
        "l"
      ]
    },
    {
      "cell_type": "code",
      "execution_count": null,
      "id": "c284f921-fc17-4dba-8780-adcad69f4a83",
      "metadata": {
        "id": "c284f921-fc17-4dba-8780-adcad69f4a83",
        "outputId": "6d80b928-f13f-4d95-9dee-aa03ec340917"
      },
      "outputs": [
        {
          "data": {
            "text/plain": [
              "[1, 10, 2, 3, 4, 5, 6]"
            ]
          },
          "execution_count": 12,
          "metadata": {},
          "output_type": "execute_result"
        }
      ],
      "source": [
        "# will help in joining 2 lists\n",
        "# will help in adding / appending multiple values at once\n",
        "l"
      ]
    },
    {
      "cell_type": "code",
      "execution_count": null,
      "id": "b8a4f624-188d-4637-8f40-368115b9758e",
      "metadata": {
        "id": "b8a4f624-188d-4637-8f40-368115b9758e",
        "outputId": "dfc21eba-b77c-4fa5-e1de-2afce9b232d8"
      },
      "outputs": [
        {
          "data": {
            "text/plain": [
              "[1, 10, 2, 3, 4, 5, 6, 7, 8, 9, 10]"
            ]
          },
          "execution_count": 14,
          "metadata": {},
          "output_type": "execute_result"
        }
      ],
      "source": [
        "l.extend([7,8,9,10])\n",
        "l"
      ]
    },
    {
      "cell_type": "code",
      "execution_count": null,
      "id": "64bb6647-a430-41cb-8b07-dedd75c6df2b",
      "metadata": {
        "id": "64bb6647-a430-41cb-8b07-dedd75c6df2b"
      },
      "outputs": [],
      "source": [
        "l2 = [11,12]"
      ]
    },
    {
      "cell_type": "code",
      "execution_count": null,
      "id": "6185dd8b-0340-4dec-aa69-77154c98187e",
      "metadata": {
        "id": "6185dd8b-0340-4dec-aa69-77154c98187e",
        "outputId": "919330c5-e133-4514-e969-4f5a4f8fa00e"
      },
      "outputs": [
        {
          "data": {
            "text/plain": [
              "[1, 10, 2, 3, 4, 5, 6, 7, 8, 9, 10, 11, 12]"
            ]
          },
          "execution_count": 18,
          "metadata": {},
          "output_type": "execute_result"
        }
      ],
      "source": [
        "l.extend(l2)\n",
        "l"
      ]
    },
    {
      "cell_type": "markdown",
      "id": "09036e79-5d13-4e26-91ff-21655210b991",
      "metadata": {
        "id": "09036e79-5d13-4e26-91ff-21655210b991"
      },
      "source": [
        "#####  Remove\n",
        "1. pop\n",
        "2. pop(index_value)\n",
        "3. remove"
      ]
    },
    {
      "cell_type": "code",
      "execution_count": null,
      "id": "47173a37-5696-4bde-a3f3-e423717ecc42",
      "metadata": {
        "id": "47173a37-5696-4bde-a3f3-e423717ecc42",
        "outputId": "577933a4-6d68-4cf1-ab02-2327a912c007"
      },
      "outputs": [
        {
          "data": {
            "text/plain": [
              "[1, 10, 2, 3, 4, 5, 6, 7, 8, 9, 10, 11, 12]"
            ]
          },
          "execution_count": 28,
          "metadata": {},
          "output_type": "execute_result"
        }
      ],
      "source": [
        "l"
      ]
    },
    {
      "cell_type": "code",
      "execution_count": null,
      "id": "3f1ad40a-9749-4fad-aa9f-c0328cf11ab8",
      "metadata": {
        "id": "3f1ad40a-9749-4fad-aa9f-c0328cf11ab8",
        "outputId": "00c08ef7-f993-410f-99b7-82ca07208783"
      },
      "outputs": [
        {
          "data": {
            "text/plain": [
              "12"
            ]
          },
          "execution_count": 30,
          "metadata": {},
          "output_type": "execute_result"
        }
      ],
      "source": [
        "# by defualt pop will remove last element from the list\n",
        "l.pop()"
      ]
    },
    {
      "cell_type": "code",
      "execution_count": null,
      "id": "ef8f5b82-0d6d-4195-8cb6-e68e6e9f1afa",
      "metadata": {
        "id": "ef8f5b82-0d6d-4195-8cb6-e68e6e9f1afa",
        "outputId": "f43f90fd-4b69-4da8-8602-bd1164512538"
      },
      "outputs": [
        {
          "data": {
            "text/plain": [
              "[1, 10, 2, 3, 4, 5, 6, 7, 8, 9, 10, 11]"
            ]
          },
          "execution_count": 32,
          "metadata": {},
          "output_type": "execute_result"
        }
      ],
      "source": [
        "l"
      ]
    },
    {
      "cell_type": "code",
      "execution_count": null,
      "id": "e0505cac-389e-4bc4-9351-fd2603274598",
      "metadata": {
        "id": "e0505cac-389e-4bc4-9351-fd2603274598",
        "outputId": "c04c36dd-c9de-48bd-9f57-ce0ffb50800a"
      },
      "outputs": [
        {
          "data": {
            "text/plain": [
              "10"
            ]
          },
          "execution_count": 34,
          "metadata": {},
          "output_type": "execute_result"
        }
      ],
      "source": [
        "l.pop(1)"
      ]
    },
    {
      "cell_type": "code",
      "execution_count": null,
      "id": "be15bd49-a149-4c9c-bb02-781f64f3ceb8",
      "metadata": {
        "id": "be15bd49-a149-4c9c-bb02-781f64f3ceb8",
        "outputId": "747a75da-ec5a-4761-d083-7ce2d6b5c926"
      },
      "outputs": [
        {
          "data": {
            "text/plain": [
              "[1, 2, 3, 4, 5, 6, 7, 8, 9, 10, 11]"
            ]
          },
          "execution_count": 36,
          "metadata": {},
          "output_type": "execute_result"
        }
      ],
      "source": [
        "l"
      ]
    },
    {
      "cell_type": "code",
      "execution_count": null,
      "id": "d3a422f1-cbb5-4c48-b9bb-7372cc587a83",
      "metadata": {
        "id": "d3a422f1-cbb5-4c48-b9bb-7372cc587a83"
      },
      "outputs": [],
      "source": [
        "# remove(value)\n",
        "l.remove(11)"
      ]
    },
    {
      "cell_type": "code",
      "execution_count": null,
      "id": "e13bc68e-e77a-4657-a7c7-78b5e17a74de",
      "metadata": {
        "id": "e13bc68e-e77a-4657-a7c7-78b5e17a74de",
        "outputId": "205f6392-9e0d-4c78-e6e7-9e86c04a05f7"
      },
      "outputs": [
        {
          "data": {
            "text/plain": [
              "[1, 2, 3, 4, 5, 6, 7, 8, 9, 10]"
            ]
          },
          "execution_count": 40,
          "metadata": {},
          "output_type": "execute_result"
        }
      ],
      "source": [
        "l"
      ]
    },
    {
      "cell_type": "code",
      "execution_count": null,
      "id": "e4154795-07b1-48f7-9950-4c72a747b4ed",
      "metadata": {
        "id": "e4154795-07b1-48f7-9950-4c72a747b4ed",
        "outputId": "7488895c-001b-4a3b-a990-6a8a555bb2d3"
      },
      "outputs": [
        {
          "data": {
            "text/plain": [
              "[10, 2, 3, 4, 5, 6, 7, 8, 9, 10]"
            ]
          },
          "execution_count": 46,
          "metadata": {},
          "output_type": "execute_result"
        }
      ],
      "source": [
        "# update the values\n",
        "l[0] = 10\n",
        "l"
      ]
    },
    {
      "cell_type": "code",
      "execution_count": null,
      "id": "9332ba66-2526-48d1-b425-368216cc2e48",
      "metadata": {
        "id": "9332ba66-2526-48d1-b425-368216cc2e48",
        "outputId": "d951092c-3ebc-40e4-8494-349bd53ac665"
      },
      "outputs": [
        {
          "data": {
            "text/plain": [
              "[10, 20, 30, 40, 50, 60, 70, 80, 90, 100]"
            ]
          },
          "execution_count": 52,
          "metadata": {},
          "output_type": "execute_result"
        }
      ],
      "source": [
        "l[1:10] = [20,30,40,50,60,70,80,90,100]\n",
        "l"
      ]
    },
    {
      "cell_type": "markdown",
      "id": "eaa84352-e54e-46b5-a9f7-228486a5e74c",
      "metadata": {
        "id": "eaa84352-e54e-46b5-a9f7-228486a5e74c"
      },
      "source": [
        "##### List concatenation"
      ]
    },
    {
      "cell_type": "code",
      "execution_count": null,
      "id": "f764c879-f7d7-43cd-85c4-64cbb59b9898",
      "metadata": {
        "id": "f764c879-f7d7-43cd-85c4-64cbb59b9898"
      },
      "outputs": [],
      "source": [
        "a = [1,2]\n",
        "b = [3,4]"
      ]
    },
    {
      "cell_type": "code",
      "execution_count": null,
      "id": "3eba604d-dd41-4e63-b1e2-3ac0ce69fa85",
      "metadata": {
        "id": "3eba604d-dd41-4e63-b1e2-3ac0ce69fa85",
        "outputId": "afbfd6c9-ad99-4ccf-c0fe-e844dcd066b2"
      },
      "outputs": [
        {
          "data": {
            "text/plain": [
              "[1, 2, 3, 4, 3, 4]"
            ]
          },
          "execution_count": 59,
          "metadata": {},
          "output_type": "execute_result"
        }
      ],
      "source": [
        "a.extend(b)\n",
        "a"
      ]
    },
    {
      "cell_type": "code",
      "execution_count": null,
      "id": "62f1ae3b-797d-4a8e-a684-f67d8444d77d",
      "metadata": {
        "id": "62f1ae3b-797d-4a8e-a684-f67d8444d77d",
        "outputId": "20a9c6b3-e671-471d-fa1a-0bb90c72d1b0"
      },
      "outputs": [
        {
          "data": {
            "text/plain": [
              "[1, 2, 3, 4, 3, 4, 3, 4]"
            ]
          },
          "execution_count": 61,
          "metadata": {},
          "output_type": "execute_result"
        }
      ],
      "source": [
        "a + b"
      ]
    },
    {
      "cell_type": "markdown",
      "id": "3faaf76a-f707-4c97-a789-112d0c306c6e",
      "metadata": {
        "id": "3faaf76a-f707-4c97-a789-112d0c306c6e"
      },
      "source": [
        "##### List membership\n",
        "- in\n",
        "- not in"
      ]
    },
    {
      "cell_type": "code",
      "execution_count": null,
      "id": "facf2858-6db8-4e9b-b7d5-2552a76be367",
      "metadata": {
        "id": "facf2858-6db8-4e9b-b7d5-2552a76be367",
        "outputId": "f98d0876-ea2e-498c-fb53-e4642bc98270"
      },
      "outputs": [
        {
          "data": {
            "text/plain": [
              "[10, 20, 30, 40, 50, 60, 70, 80, 90, 100]"
            ]
          },
          "execution_count": 64,
          "metadata": {},
          "output_type": "execute_result"
        }
      ],
      "source": [
        "l"
      ]
    },
    {
      "cell_type": "code",
      "execution_count": null,
      "id": "00545437-9fda-4dc2-af0f-93eb9c715d8d",
      "metadata": {
        "id": "00545437-9fda-4dc2-af0f-93eb9c715d8d",
        "outputId": "e7f214b2-acbd-4235-cf4e-db5adad56592"
      },
      "outputs": [
        {
          "data": {
            "text/plain": [
              "True"
            ]
          },
          "execution_count": 66,
          "metadata": {},
          "output_type": "execute_result"
        }
      ],
      "source": [
        "10 in l"
      ]
    },
    {
      "cell_type": "code",
      "execution_count": null,
      "id": "861c00a3-ebab-446e-a9d4-0b112ad1c4cc",
      "metadata": {
        "id": "861c00a3-ebab-446e-a9d4-0b112ad1c4cc",
        "outputId": "520f41a0-7a65-4a58-c8de-090967163818"
      },
      "outputs": [
        {
          "data": {
            "text/plain": [
              "True"
            ]
          },
          "execution_count": 68,
          "metadata": {},
          "output_type": "execute_result"
        }
      ],
      "source": [
        "200 not in l"
      ]
    },
    {
      "cell_type": "markdown",
      "id": "492281e4-44b1-4ab1-9dcf-4a2820d63a83",
      "metadata": {
        "id": "492281e4-44b1-4ab1-9dcf-4a2820d63a83"
      },
      "source": [
        "#### all and any"
      ]
    },
    {
      "cell_type": "code",
      "execution_count": null,
      "id": "0367cc24-4999-48e8-a519-f243a4dd7175",
      "metadata": {
        "id": "0367cc24-4999-48e8-a519-f243a4dd7175"
      },
      "outputs": [],
      "source": [
        "# all - will return true , if all the elements in the ds is true\n",
        "c = [1,2,'Python']"
      ]
    },
    {
      "cell_type": "code",
      "execution_count": null,
      "id": "c13f7821-f05d-4dc1-a567-851bdced225b",
      "metadata": {
        "id": "c13f7821-f05d-4dc1-a567-851bdced225b",
        "outputId": "ab3bb031-d474-45c1-991b-ee95b6e1cca5"
      },
      "outputs": [
        {
          "data": {
            "text/plain": [
              "True"
            ]
          },
          "execution_count": 75,
          "metadata": {},
          "output_type": "execute_result"
        }
      ],
      "source": [
        "all(c)"
      ]
    },
    {
      "cell_type": "code",
      "execution_count": null,
      "id": "80b1622e-0e01-4c93-86b6-098930bc6caf",
      "metadata": {
        "id": "80b1622e-0e01-4c93-86b6-098930bc6caf",
        "outputId": "c74789a2-4a4a-4361-cc34-cc61db63aed5"
      },
      "outputs": [
        {
          "data": {
            "text/plain": [
              "False"
            ]
          },
          "execution_count": 77,
          "metadata": {},
          "output_type": "execute_result"
        }
      ],
      "source": [
        "d = [1,0]\n",
        "all(d)"
      ]
    },
    {
      "cell_type": "code",
      "execution_count": null,
      "id": "607eb303-54ae-4a61-80cb-1bcdfa77ec02",
      "metadata": {
        "id": "607eb303-54ae-4a61-80cb-1bcdfa77ec02",
        "outputId": "6feb6491-20f7-4b3b-a46d-d8e0fcf5150e"
      },
      "outputs": [
        {
          "data": {
            "text/plain": [
              "True"
            ]
          },
          "execution_count": 79,
          "metadata": {},
          "output_type": "execute_result"
        }
      ],
      "source": [
        "# any - will return true , atleast 1 true elemnt in te ds\n",
        "any(d)"
      ]
    },
    {
      "cell_type": "code",
      "execution_count": null,
      "id": "0ed2a72e-653b-45fd-ace7-187cb7fb51ba",
      "metadata": {
        "id": "0ed2a72e-653b-45fd-ace7-187cb7fb51ba",
        "outputId": "131feeec-e14d-4bb2-885a-044cacae44cc"
      },
      "outputs": [
        {
          "data": {
            "text/plain": [
              "True"
            ]
          },
          "execution_count": 81,
          "metadata": {},
          "output_type": "execute_result"
        }
      ],
      "source": [
        "d=[1 ,'False']\n",
        "all(d)"
      ]
    },
    {
      "cell_type": "markdown",
      "id": "252fd7e6-fdfd-4a82-a355-4a895f3c1104",
      "metadata": {
        "id": "252fd7e6-fdfd-4a82-a355-4a895f3c1104"
      },
      "source": [
        "##### Reverse and sort the list"
      ]
    },
    {
      "cell_type": "code",
      "execution_count": null,
      "id": "40af5521-a96c-4511-92dc-259d24fb39eb",
      "metadata": {
        "id": "40af5521-a96c-4511-92dc-259d24fb39eb",
        "outputId": "5f6effe9-1795-4ce8-c5ee-73700415c497"
      },
      "outputs": [
        {
          "data": {
            "text/plain": [
              "[10, 9, 1, 2, 6, 7, 8]"
            ]
          },
          "execution_count": 87,
          "metadata": {},
          "output_type": "execute_result"
        }
      ],
      "source": [
        "a1 = [10,9,1,2,6,7,8]\n",
        "a1"
      ]
    },
    {
      "cell_type": "code",
      "execution_count": null,
      "id": "5a65c555-81ba-49fa-b014-b25d4ec44a4e",
      "metadata": {
        "id": "5a65c555-81ba-49fa-b014-b25d4ec44a4e",
        "outputId": "d7b1548a-c60a-4aed-e311-e2fc9ca8df88"
      },
      "outputs": [
        {
          "data": {
            "text/plain": [
              "[8, 7, 6, 2, 1, 9, 10]"
            ]
          },
          "execution_count": 91,
          "metadata": {},
          "output_type": "execute_result"
        }
      ],
      "source": [
        "a1[::-1]"
      ]
    },
    {
      "cell_type": "code",
      "execution_count": null,
      "id": "b7f39cdc-70ec-4886-b1c1-d9796624e603",
      "metadata": {
        "id": "b7f39cdc-70ec-4886-b1c1-d9796624e603",
        "outputId": "c37fe4af-fb56-446c-bc74-c7e231824072"
      },
      "outputs": [
        {
          "data": {
            "text/plain": [
              "[10, 9, 1, 2, 6, 7, 8]"
            ]
          },
          "execution_count": 95,
          "metadata": {},
          "output_type": "execute_result"
        }
      ],
      "source": [
        "a1.reverse()\n",
        "a1"
      ]
    },
    {
      "cell_type": "code",
      "execution_count": null,
      "id": "a2d8962c-7421-4ba8-8c31-55d59e821f88",
      "metadata": {
        "id": "a2d8962c-7421-4ba8-8c31-55d59e821f88",
        "outputId": "17bc84a2-f548-4684-f053-8b32769ea8dd"
      },
      "outputs": [
        {
          "data": {
            "text/plain": [
              "[1, 2, 6, 7, 8, 9, 10]"
            ]
          },
          "execution_count": 99,
          "metadata": {},
          "output_type": "execute_result"
        }
      ],
      "source": [
        "# sort\n",
        "# by default sorting is happening in ascending\n",
        "a1.sort()\n",
        "a1"
      ]
    },
    {
      "cell_type": "code",
      "execution_count": null,
      "id": "8dcee07d-8e27-463b-88c4-94cb075e74d3",
      "metadata": {
        "id": "8dcee07d-8e27-463b-88c4-94cb075e74d3",
        "outputId": "e772a193-0484-4019-e532-2a851f8e6f28"
      },
      "outputs": [
        {
          "data": {
            "text/plain": [
              "[10, 9, 8, 7, 6, 2, 1]"
            ]
          },
          "execution_count": 101,
          "metadata": {},
          "output_type": "execute_result"
        }
      ],
      "source": [
        "a1.sort(reverse = True)\n",
        "a1"
      ]
    },
    {
      "cell_type": "markdown",
      "id": "7d641f8d-fb44-4981-ae2a-c2dacfed6a54",
      "metadata": {
        "id": "7d641f8d-fb44-4981-ae2a-c2dacfed6a54"
      },
      "source": [
        "### Tuple\n",
        "- Tuple are DS which stores multiples values in a single variable\n",
        "- can store both homogeneous and heterogenous values\n",
        "- ordered , indexed , duplicates\n",
        "- Tuples ARE IMMUTABLE (we cannot add , delete and update once a tuple is formed)\n",
        "- we can convert the tuple into a list and do the changes (but not advisible at all the scenarios)\n",
        "- Syntax : var_name = ()\n"
      ]
    },
    {
      "cell_type": "code",
      "execution_count": null,
      "id": "62e7e9e1-ff3a-4c4f-b534-426e31aec2b2",
      "metadata": {
        "id": "62e7e9e1-ff3a-4c4f-b534-426e31aec2b2"
      },
      "outputs": [],
      "source": [
        "t = ()"
      ]
    },
    {
      "cell_type": "code",
      "execution_count": null,
      "id": "d71dd48d-f18a-47ef-9f02-f422fe5341db",
      "metadata": {
        "id": "d71dd48d-f18a-47ef-9f02-f422fe5341db",
        "outputId": "2ff1a6da-cfc9-40b6-9547-234375fc89e5"
      },
      "outputs": [
        {
          "data": {
            "text/plain": [
              "()"
            ]
          },
          "execution_count": 113,
          "metadata": {},
          "output_type": "execute_result"
        }
      ],
      "source": [
        "t = tuple()\n",
        "t"
      ]
    },
    {
      "cell_type": "code",
      "execution_count": null,
      "id": "af33a637-d5e9-4fd1-aed2-c8a6cfe63c9a",
      "metadata": {
        "id": "af33a637-d5e9-4fd1-aed2-c8a6cfe63c9a"
      },
      "outputs": [],
      "source": [
        "# integer tuple\n",
        "t2 = (1,2,3,4)"
      ]
    },
    {
      "cell_type": "code",
      "execution_count": null,
      "id": "970c31b7-6011-4a4c-a8ce-7e6861670c24",
      "metadata": {
        "id": "970c31b7-6011-4a4c-a8ce-7e6861670c24"
      },
      "outputs": [],
      "source": [
        "# float"
      ]
    },
    {
      "cell_type": "code",
      "execution_count": null,
      "id": "41b53142-51af-4b3d-ba27-e014e1c71082",
      "metadata": {
        "id": "41b53142-51af-4b3d-ba27-e014e1c71082"
      },
      "outputs": [],
      "source": [
        "# string"
      ]
    },
    {
      "cell_type": "code",
      "execution_count": null,
      "id": "88b005f1-db1b-4092-8205-8ef193f515a6",
      "metadata": {
        "id": "88b005f1-db1b-4092-8205-8ef193f515a6",
        "outputId": "0935478c-e3d2-4fbd-c3e0-d8aa0a34e0ba"
      },
      "outputs": [
        {
          "data": {
            "text/plain": [
              "(1, 2, (2, 4), [1, 2, 3])"
            ]
          },
          "execution_count": 131,
          "metadata": {},
          "output_type": "execute_result"
        }
      ],
      "source": [
        "# hetero\n",
        "t1 = (1,1.0,'Python')\n",
        "t"
      ]
    },
    {
      "cell_type": "code",
      "execution_count": null,
      "id": "52ac2cb5-4075-44d7-96b9-8d9df3497de5",
      "metadata": {
        "id": "52ac2cb5-4075-44d7-96b9-8d9df3497de5",
        "outputId": "d3f32888-ddd2-463b-e0ca-1d85e2376512"
      },
      "outputs": [
        {
          "data": {
            "text/plain": [
              "(1, 2, (2, 4), [1, 2, 3])"
            ]
          },
          "execution_count": 123,
          "metadata": {},
          "output_type": "execute_result"
        }
      ],
      "source": [
        "#nested tuple\n",
        "t = (1,2,(2,4),[1,2,3])\n",
        "t"
      ]
    },
    {
      "cell_type": "markdown",
      "id": "0414efb9-968d-4d6f-a108-b6cf1cdf48bd",
      "metadata": {
        "id": "0414efb9-968d-4d6f-a108-b6cf1cdf48bd"
      },
      "source": [
        "##### Indexing and slicing\n",
        "\n",
        "Task"
      ]
    },
    {
      "cell_type": "markdown",
      "id": "f19fb576-1b23-47e4-a2bd-753c8682da54",
      "metadata": {
        "id": "f19fb576-1b23-47e4-a2bd-753c8682da54"
      },
      "source": [
        "##### Tuples are immutable\n",
        "- WE can delete the entire structre from memory\n",
        "- we can convert the tuple into list and make the necessary changes"
      ]
    },
    {
      "cell_type": "code",
      "execution_count": null,
      "id": "8380e90d-bd00-46bf-8aa1-49f0608e3f5b",
      "metadata": {
        "id": "8380e90d-bd00-46bf-8aa1-49f0608e3f5b",
        "outputId": "f693843d-ae6d-4580-da99-c02943c0c656"
      },
      "outputs": [
        {
          "data": {
            "text/plain": [
              "(1, 2, (2, 4), [1, 2, 3])"
            ]
          },
          "execution_count": 127,
          "metadata": {},
          "output_type": "execute_result"
        }
      ],
      "source": [
        "t"
      ]
    },
    {
      "cell_type": "code",
      "execution_count": null,
      "id": "0b11d38a-ea2a-4e0e-bd8c-6a55abff9ff2",
      "metadata": {
        "id": "0b11d38a-ea2a-4e0e-bd8c-6a55abff9ff2"
      },
      "outputs": [],
      "source": [
        "del t"
      ]
    },
    {
      "cell_type": "code",
      "execution_count": null,
      "id": "6dd39a7d-09c0-4093-8a09-f7b8a89960fd",
      "metadata": {
        "id": "6dd39a7d-09c0-4093-8a09-f7b8a89960fd",
        "outputId": "f3308782-99c9-4f0f-96d3-5c68a51b979c"
      },
      "outputs": [
        {
          "ename": "NameError",
          "evalue": "name 't' is not defined",
          "output_type": "error",
          "traceback": [
            "\u001b[1;31m---------------------------------------------------------------------------\u001b[0m",
            "\u001b[1;31mNameError\u001b[0m                                 Traceback (most recent call last)",
            "Cell \u001b[1;32mIn[135], line 1\u001b[0m\n\u001b[1;32m----> 1\u001b[0m t\n",
            "\u001b[1;31mNameError\u001b[0m: name 't' is not defined"
          ]
        }
      ],
      "source": [
        "t"
      ]
    },
    {
      "cell_type": "code",
      "execution_count": null,
      "id": "19ce0af8-58e1-470e-add8-7a392fc17041",
      "metadata": {
        "id": "19ce0af8-58e1-470e-add8-7a392fc17041",
        "outputId": "59fb9cae-a5a5-4827-dcaa-131970b2c572"
      },
      "outputs": [
        {
          "data": {
            "text/plain": [
              "(1, 2, 3, 4)"
            ]
          },
          "execution_count": 139,
          "metadata": {},
          "output_type": "execute_result"
        }
      ],
      "source": [
        "t2"
      ]
    },
    {
      "cell_type": "code",
      "execution_count": null,
      "id": "b1137e41-d7dc-4c06-882b-bb05ecbe33ad",
      "metadata": {
        "id": "b1137e41-d7dc-4c06-882b-bb05ecbe33ad",
        "outputId": "77be0494-d832-423c-f824-a6c3f3d06dc0"
      },
      "outputs": [
        {
          "data": {
            "text/plain": [
              "[1, 2, 3, 4]"
            ]
          },
          "execution_count": 141,
          "metadata": {},
          "output_type": "execute_result"
        }
      ],
      "source": [
        "tuple_l = list(t2)\n",
        "tuple_l"
      ]
    },
    {
      "cell_type": "code",
      "execution_count": null,
      "id": "09660ae4-7563-42b2-9d95-12f43979c387",
      "metadata": {
        "id": "09660ae4-7563-42b2-9d95-12f43979c387"
      },
      "outputs": [],
      "source": [
        "tuple_l.append(5)"
      ]
    },
    {
      "cell_type": "code",
      "execution_count": null,
      "id": "2ec32557-27d3-4eaa-a9e9-bf6195c3137c",
      "metadata": {
        "id": "2ec32557-27d3-4eaa-a9e9-bf6195c3137c",
        "outputId": "b02dc838-6f98-442a-cc3a-e3d009c2ab44"
      },
      "outputs": [
        {
          "data": {
            "text/plain": [
              "[1, 2, 3, 4, 5]"
            ]
          },
          "execution_count": 145,
          "metadata": {},
          "output_type": "execute_result"
        }
      ],
      "source": [
        "tuple_l"
      ]
    },
    {
      "cell_type": "markdown",
      "id": "1667cfb3-f407-4093-ac0d-8dbb7f509388",
      "metadata": {
        "id": "1667cfb3-f407-4093-ac0d-8dbb7f509388"
      },
      "source": [
        "##### Tuple memebership"
      ]
    },
    {
      "cell_type": "code",
      "execution_count": null,
      "id": "a0f06025-074b-4aea-b8d4-267229b72a3d",
      "metadata": {
        "id": "a0f06025-074b-4aea-b8d4-267229b72a3d",
        "outputId": "93db623c-2ab5-4d62-93f4-3c7698f44c65"
      },
      "outputs": [
        {
          "data": {
            "text/plain": [
              "[1, 2, 3, 4, 5]"
            ]
          },
          "execution_count": 154,
          "metadata": {},
          "output_type": "execute_result"
        }
      ],
      "source": [
        "tuple_l"
      ]
    },
    {
      "cell_type": "code",
      "execution_count": null,
      "id": "45f67073-0fd5-45c6-bf1b-ddc2e2c6b8fa",
      "metadata": {
        "id": "45f67073-0fd5-45c6-bf1b-ddc2e2c6b8fa",
        "outputId": "3c4158bc-3956-4278-c088-6b75fbc60b5d"
      },
      "outputs": [
        {
          "data": {
            "text/plain": [
              "True"
            ]
          },
          "execution_count": 158,
          "metadata": {},
          "output_type": "execute_result"
        }
      ],
      "source": [
        "1 in tuple_l"
      ]
    },
    {
      "cell_type": "markdown",
      "id": "58dea8ab-8ab1-42d6-9d8a-8c99f4eef431",
      "metadata": {
        "id": "58dea8ab-8ab1-42d6-9d8a-8c99f4eef431"
      },
      "source": [
        "##### Sorted"
      ]
    },
    {
      "cell_type": "code",
      "execution_count": null,
      "id": "b07289c4-fdb1-40e8-9611-739c998c299c",
      "metadata": {
        "id": "b07289c4-fdb1-40e8-9611-739c998c299c",
        "outputId": "4dae0a72-b4c7-4753-e4a6-aa0287a0a53e"
      },
      "outputs": [
        {
          "data": {
            "text/plain": [
              "(1, 2, 0, 10, 5, 20)"
            ]
          },
          "execution_count": 162,
          "metadata": {},
          "output_type": "execute_result"
        }
      ],
      "source": [
        "t = (1,2,0,10,5,20)\n",
        "t"
      ]
    },
    {
      "cell_type": "code",
      "execution_count": null,
      "id": "49469aa4-0c24-437b-9790-a753f848263d",
      "metadata": {
        "id": "49469aa4-0c24-437b-9790-a753f848263d",
        "outputId": "71c3a91d-02c8-4f81-a5c7-9f4f4d9c1acb"
      },
      "outputs": [
        {
          "data": {
            "text/plain": [
              "[0, 1, 2, 5, 10, 20]"
            ]
          },
          "execution_count": 164,
          "metadata": {},
          "output_type": "execute_result"
        }
      ],
      "source": [
        "sorted(t)"
      ]
    },
    {
      "cell_type": "code",
      "execution_count": null,
      "id": "2ee7600e-2ed5-4db5-b3ca-a7ad18a0f522",
      "metadata": {
        "id": "2ee7600e-2ed5-4db5-b3ca-a7ad18a0f522",
        "outputId": "a72d9962-15c0-4de4-a040-eb31839a43bc"
      },
      "outputs": [
        {
          "data": {
            "text/plain": [
              "[20, 10, 5, 2, 1, 0]"
            ]
          },
          "execution_count": 166,
          "metadata": {},
          "output_type": "execute_result"
        }
      ],
      "source": [
        "sorted(t, reverse=True)"
      ]
    },
    {
      "cell_type": "code",
      "execution_count": null,
      "id": "de0298f5-8a0c-4022-8a9c-ae56288d42f8",
      "metadata": {
        "id": "de0298f5-8a0c-4022-8a9c-ae56288d42f8"
      },
      "outputs": [],
      "source": [
        "l = [1, 20, (2, 4), [1, 2, 3], 30, 40]\n",
        "l.remove((2,4))"
      ]
    },
    {
      "cell_type": "code",
      "execution_count": null,
      "id": "cbb58bd4-7dd4-4883-8402-5d8bd19f440d",
      "metadata": {
        "id": "cbb58bd4-7dd4-4883-8402-5d8bd19f440d",
        "outputId": "07716510-ad6a-450d-b4bd-cbf86acd470c"
      },
      "outputs": [
        {
          "data": {
            "text/plain": [
              "[1, 20, [1, 2, 3], 30, 40]"
            ]
          },
          "execution_count": 176,
          "metadata": {},
          "output_type": "execute_result"
        }
      ],
      "source": [
        "l"
      ]
    },
    {
      "cell_type": "markdown",
      "id": "2a011174-e40f-469f-bfb7-9804468e7e0f",
      "metadata": {
        "id": "2a011174-e40f-469f-bfb7-9804468e7e0f"
      },
      "source": [
        "#### Sets\n",
        "\n",
        "- are DS which stores multiple values in a single var\n",
        "- it can store both homo and hetero\n",
        "- SETS ARE UNORDERED\n",
        "- SETS ARE UNINDEXED\n",
        "- SETS DO NOT ALLOW DUPLICATES\n",
        "- SETS ARE MUTABLE\n",
        "- Syntax : var_name = { values }"
      ]
    },
    {
      "cell_type": "code",
      "execution_count": null,
      "id": "3b80844d-92b7-4fba-9e21-30927d7c9713",
      "metadata": {
        "id": "3b80844d-92b7-4fba-9e21-30927d7c9713",
        "outputId": "103691e9-8703-4864-a0bb-19570df5a0ca"
      },
      "outputs": [
        {
          "data": {
            "text/plain": [
              "{1, 2, 3}"
            ]
          },
          "execution_count": 179,
          "metadata": {},
          "output_type": "execute_result"
        }
      ],
      "source": [
        "s = {1,2,3}\n",
        "s"
      ]
    },
    {
      "cell_type": "code",
      "execution_count": null,
      "id": "5f2d920c-e2b4-46f2-885e-212fee6fce76",
      "metadata": {
        "id": "5f2d920c-e2b4-46f2-885e-212fee6fce76",
        "outputId": "36741ffe-ade8-43f5-c0ff-ac60bddcc92f"
      },
      "outputs": [
        {
          "data": {
            "text/plain": [
              "set"
            ]
          },
          "execution_count": 181,
          "metadata": {},
          "output_type": "execute_result"
        }
      ],
      "source": [
        "type(s)"
      ]
    },
    {
      "cell_type": "code",
      "execution_count": null,
      "id": "6096888d-8a9a-4dc2-bf4c-edbaca2a864d",
      "metadata": {
        "id": "6096888d-8a9a-4dc2-bf4c-edbaca2a864d",
        "outputId": "3d7c0f3d-4ab8-4976-8e79-27d889e05f61"
      },
      "outputs": [
        {
          "data": {
            "text/plain": [
              "{1, 2, 3}"
            ]
          },
          "execution_count": 187,
          "metadata": {},
          "output_type": "execute_result"
        }
      ],
      "source": [
        "s1 = set({1,2,3})\n",
        "s1"
      ]
    },
    {
      "cell_type": "code",
      "execution_count": null,
      "id": "f424d908-8b0b-45a0-9fd5-c2401a08957a",
      "metadata": {
        "id": "f424d908-8b0b-45a0-9fd5-c2401a08957a",
        "outputId": "147e1a3b-b1e1-442e-dbde-177add4f074a"
      },
      "outputs": [
        {
          "data": {
            "text/plain": [
              "set"
            ]
          },
          "execution_count": 189,
          "metadata": {},
          "output_type": "execute_result"
        }
      ],
      "source": [
        "type(s1)"
      ]
    },
    {
      "cell_type": "code",
      "execution_count": null,
      "id": "b11656b6-6da3-439f-b4d1-f0ab415bf1c1",
      "metadata": {
        "id": "b11656b6-6da3-439f-b4d1-f0ab415bf1c1",
        "outputId": "7edf4435-7af4-4ba7-c920-29ec7819fabf"
      },
      "outputs": [
        {
          "data": {
            "text/plain": [
              "{1, 2, 3, 4}"
            ]
          },
          "execution_count": 191,
          "metadata": {},
          "output_type": "execute_result"
        }
      ],
      "source": [
        "s2 = {1,1,2,3,4}\n",
        "s2 # It will automatically removes the duplicate values\n"
      ]
    },
    {
      "cell_type": "code",
      "execution_count": null,
      "id": "df1b2c85-8284-4b5f-b267-9550c6b6e90d",
      "metadata": {
        "id": "df1b2c85-8284-4b5f-b267-9550c6b6e90d",
        "outputId": "42da38b3-ddb4-450d-fe9e-1ab436c33531"
      },
      "outputs": [
        {
          "data": {
            "text/plain": [
              "{1, 2, 3}"
            ]
          },
          "execution_count": 194,
          "metadata": {},
          "output_type": "execute_result"
        }
      ],
      "source": [
        "s3 = {1,2,3}\n",
        "s3.add(True)\n",
        "s3\n",
        "# boolean True == 1\n",
        "# boolean False == 0"
      ]
    },
    {
      "cell_type": "code",
      "execution_count": null,
      "id": "9ef02b63-4935-4d4e-8960-0295cd346582",
      "metadata": {
        "id": "9ef02b63-4935-4d4e-8960-0295cd346582",
        "outputId": "b4c2786a-ae29-474d-8fc1-560447455b36"
      },
      "outputs": [
        {
          "data": {
            "text/plain": [
              "{(1, 2, 3), 1, 'CDS'}"
            ]
          },
          "execution_count": 196,
          "metadata": {},
          "output_type": "execute_result"
        }
      ],
      "source": [
        "# hetero / nested\n",
        "# sets can store all dtype values along with immuatable DS\n",
        "s4 = {1,1.0,'CDS',(1,2,3)}\n",
        "s4"
      ]
    },
    {
      "cell_type": "markdown",
      "id": "5ff2812a-c6a5-400d-92ea-890bb137b15f",
      "metadata": {
        "id": "5ff2812a-c6a5-400d-92ea-890bb137b15f"
      },
      "source": [
        "##### Set Membership\n",
        "\n",
        "Task"
      ]
    },
    {
      "cell_type": "markdown",
      "id": "badda753-8bc1-4b74-9cad-c7031c884fd7",
      "metadata": {
        "id": "badda753-8bc1-4b74-9cad-c7031c884fd7"
      },
      "source": [
        "##### Sets are mutable"
      ]
    },
    {
      "cell_type": "code",
      "execution_count": null,
      "id": "d3e1ce7d-6ffa-4f95-945b-0f1fc1bce4cd",
      "metadata": {
        "id": "d3e1ce7d-6ffa-4f95-945b-0f1fc1bce4cd",
        "outputId": "08901e39-edf8-4b5d-ab5b-13c14bf3192c"
      },
      "outputs": [
        {
          "data": {
            "text/plain": [
              "{1, 2, 3}"
            ]
          },
          "execution_count": 200,
          "metadata": {},
          "output_type": "execute_result"
        }
      ],
      "source": [
        "# add\n",
        "s1"
      ]
    },
    {
      "cell_type": "code",
      "execution_count": null,
      "id": "524dedcf-dcff-4bde-a931-365112438dc0",
      "metadata": {
        "id": "524dedcf-dcff-4bde-a931-365112438dc0",
        "outputId": "8a6ea4b1-d781-4a83-8444-d1fecc9375d0"
      },
      "outputs": [
        {
          "data": {
            "text/plain": [
              "{1, 2, 3, 'Lakshmi'}"
            ]
          },
          "execution_count": 202,
          "metadata": {},
          "output_type": "execute_result"
        }
      ],
      "source": [
        "s1.add('Lakshmi')\n",
        "s1"
      ]
    },
    {
      "cell_type": "code",
      "execution_count": null,
      "id": "de7cc595-b861-4dba-9f70-a1afb563d318",
      "metadata": {
        "id": "de7cc595-b861-4dba-9f70-a1afb563d318",
        "outputId": "5bf2bd62-e18b-4f21-ed01-1cb0b3bef9ae"
      },
      "outputs": [
        {
          "data": {
            "text/plain": [
              "{1, 2, 3, 'CDS', 'Lakshmi', 'Python'}"
            ]
          },
          "execution_count": 204,
          "metadata": {},
          "output_type": "execute_result"
        }
      ],
      "source": [
        "s1.update(['CDS','Python'])\n",
        "s1   # add multiple elements at once"
      ]
    },
    {
      "cell_type": "code",
      "execution_count": null,
      "id": "ed1daddc-76a8-43d8-b92e-7d3ef81d24d0",
      "metadata": {
        "id": "ed1daddc-76a8-43d8-b92e-7d3ef81d24d0",
        "outputId": "a1d7410f-ce2b-43e8-f322-f40c47c26d6f"
      },
      "outputs": [
        {
          "data": {
            "text/plain": [
              "{1, 2, 3, 'CDS', 'Deepika', 'Python'}"
            ]
          },
          "execution_count": 208,
          "metadata": {},
          "output_type": "execute_result"
        }
      ],
      "source": [
        "s1.update(['Deepika'])\n",
        "s1"
      ]
    },
    {
      "cell_type": "code",
      "execution_count": null,
      "id": "6c378ec9-a7e2-48b6-a176-c9d3272e1c6c",
      "metadata": {
        "id": "6c378ec9-a7e2-48b6-a176-c9d3272e1c6c",
        "outputId": "1073d3c7-b69e-4a1e-d2c5-e0978d562769"
      },
      "outputs": [
        {
          "data": {
            "text/plain": [
              "{1, 2, 3, 'CDS', 'Python'}"
            ]
          },
          "execution_count": 206,
          "metadata": {},
          "output_type": "execute_result"
        }
      ],
      "source": [
        "# remove the elements from the sets\n",
        "s1.remove('Lakshmi')\n",
        "s1"
      ]
    },
    {
      "cell_type": "code",
      "execution_count": null,
      "id": "2fbcf51d-3439-4d0d-8bf1-93a2eb950480",
      "metadata": {
        "id": "2fbcf51d-3439-4d0d-8bf1-93a2eb950480",
        "outputId": "0e544e62-172b-41e3-f92a-a926a075797d"
      },
      "outputs": [
        {
          "data": {
            "text/plain": [
              "{1, 2, 3, 'CDS', 'Python'}"
            ]
          },
          "execution_count": 210,
          "metadata": {},
          "output_type": "execute_result"
        }
      ],
      "source": [
        "s1.discard('Deepika')\n",
        "s1"
      ]
    },
    {
      "cell_type": "code",
      "execution_count": null,
      "id": "f38841e1-de4e-4903-a9fc-8905ddacfc8f",
      "metadata": {
        "id": "f38841e1-de4e-4903-a9fc-8905ddacfc8f"
      },
      "outputs": [],
      "source": [
        "s1.clear() # clear all the elements from the ds but the strc=ucture remains in the memory"
      ]
    },
    {
      "cell_type": "code",
      "execution_count": null,
      "id": "66e073b6-95ac-42d3-b533-5cead6671c32",
      "metadata": {
        "id": "66e073b6-95ac-42d3-b533-5cead6671c32",
        "outputId": "59537921-be6a-49c0-ed97-f70cf9ce81b1"
      },
      "outputs": [
        {
          "data": {
            "text/plain": [
              "set()"
            ]
          },
          "execution_count": 214,
          "metadata": {},
          "output_type": "execute_result"
        }
      ],
      "source": [
        "s1"
      ]
    },
    {
      "cell_type": "code",
      "execution_count": null,
      "id": "5e828229-e8a4-4ce1-aa51-29e982f869fc",
      "metadata": {
        "id": "5e828229-e8a4-4ce1-aa51-29e982f869fc"
      },
      "outputs": [],
      "source": [
        "del s1 # delete the entire structure"
      ]
    },
    {
      "cell_type": "markdown",
      "id": "516fdb50-ef58-4f5a-97f8-b45b6090fc51",
      "metadata": {
        "id": "516fdb50-ef58-4f5a-97f8-b45b6090fc51"
      },
      "source": [
        "#### Dictionary\n",
        "\n",
        "- Ds which holds multiple values\n",
        "- all the values are stored in the form of key:value\n",
        "- eg : {1:'lakshmi'}\n",
        "- Keys should be unique i.e key cannot be a duplicate\n",
        "- Values can be anythng int, float , str , list , tuple, set , dict etc\n",
        "- are Mutable\n",
        "- accpet duplicate values\n",
        "- we are going to access the values with the help of key"
      ]
    },
    {
      "cell_type": "code",
      "execution_count": null,
      "id": "c151a887-15de-498b-ae70-9512f5a5868d",
      "metadata": {
        "id": "c151a887-15de-498b-ae70-9512f5a5868d",
        "outputId": "bd82f85d-a044-4f07-834f-fe6e5736d049"
      },
      "outputs": [
        {
          "data": {
            "text/plain": [
              "{}"
            ]
          },
          "execution_count": 5,
          "metadata": {},
          "output_type": "execute_result"
        }
      ],
      "source": [
        "d = {}\n",
        "d"
      ]
    },
    {
      "cell_type": "code",
      "execution_count": null,
      "id": "13caa5a0-a948-42a5-8488-ffd88606e129",
      "metadata": {
        "id": "13caa5a0-a948-42a5-8488-ffd88606e129",
        "outputId": "3b22e220-c2a8-48de-f5c5-ea909365d2a8"
      },
      "outputs": [
        {
          "data": {
            "text/plain": [
              "{}"
            ]
          },
          "execution_count": 7,
          "metadata": {},
          "output_type": "execute_result"
        }
      ],
      "source": [
        "d1 = dict()\n",
        "d1"
      ]
    },
    {
      "cell_type": "code",
      "execution_count": null,
      "id": "f2e302d6-4cce-4ff4-81d2-bf43a658a58d",
      "metadata": {
        "id": "f2e302d6-4cce-4ff4-81d2-bf43a658a58d",
        "outputId": "5f7b3e6a-2883-4b75-f97b-c657e312976b"
      },
      "outputs": [
        {
          "data": {
            "text/plain": [
              "{1: 'one', 2: 'Two', 3: 'Three'}"
            ]
          },
          "execution_count": 9,
          "metadata": {},
          "output_type": "execute_result"
        }
      ],
      "source": [
        "d2 = {1:'one',2:'Two',3:'Three'}\n",
        "d2"
      ]
    },
    {
      "cell_type": "code",
      "execution_count": null,
      "id": "b63ebbc4-1c16-4bd9-94fc-51bc852d8770",
      "metadata": {
        "id": "b63ebbc4-1c16-4bd9-94fc-51bc852d8770",
        "outputId": "efc16b1b-7861-4f14-b6ce-914cb1295cfc"
      },
      "outputs": [
        {
          "data": {
            "text/plain": [
              "'Three'"
            ]
          },
          "execution_count": 11,
          "metadata": {},
          "output_type": "execute_result"
        }
      ],
      "source": [
        "d2[3]"
      ]
    },
    {
      "cell_type": "code",
      "execution_count": null,
      "id": "f8abf8c5-7130-4c25-87f2-7646071ceeac",
      "metadata": {
        "id": "f8abf8c5-7130-4c25-87f2-7646071ceeac",
        "outputId": "b67a9277-7589-4285-943a-c0f37d2b2de9"
      },
      "outputs": [
        {
          "data": {
            "text/plain": [
              "'Two'"
            ]
          },
          "execution_count": 13,
          "metadata": {},
          "output_type": "execute_result"
        }
      ],
      "source": [
        "d2[2]"
      ]
    },
    {
      "cell_type": "code",
      "execution_count": null,
      "id": "71e45bf0-8614-4ee8-aee3-353df31fc150",
      "metadata": {
        "id": "71e45bf0-8614-4ee8-aee3-353df31fc150",
        "outputId": "dd440eaa-a993-485e-af08-9bbcd2e7b2b0"
      },
      "outputs": [
        {
          "data": {
            "text/plain": [
              "dict_keys([1, 2, 3])"
            ]
          },
          "execution_count": 17,
          "metadata": {},
          "output_type": "execute_result"
        }
      ],
      "source": [
        "d2.keys()  # return all the keys in the dictionary"
      ]
    },
    {
      "cell_type": "code",
      "execution_count": null,
      "id": "18b276ae-4196-4905-acf6-f22a1052a80e",
      "metadata": {
        "id": "18b276ae-4196-4905-acf6-f22a1052a80e",
        "outputId": "c0d9393f-bc3d-4777-8f55-b1131046f6ca"
      },
      "outputs": [
        {
          "data": {
            "text/plain": [
              "dict_values(['one', 'Two', 'Three'])"
            ]
          },
          "execution_count": 19,
          "metadata": {},
          "output_type": "execute_result"
        }
      ],
      "source": [
        "d2.values() # return all the values in the dict"
      ]
    },
    {
      "cell_type": "code",
      "execution_count": null,
      "id": "7c4368fe-1fd7-4aa0-b859-cc202e5731c8",
      "metadata": {
        "id": "7c4368fe-1fd7-4aa0-b859-cc202e5731c8",
        "outputId": "5494c597-46d3-448b-cd86-cf1889b509bd"
      },
      "outputs": [
        {
          "data": {
            "text/plain": [
              "dict_items([(1, 'one'), (2, 'Two'), (3, 'Three')])"
            ]
          },
          "execution_count": 21,
          "metadata": {},
          "output_type": "execute_result"
        }
      ],
      "source": [
        "d2.items()  # return the key value pair in the dict"
      ]
    },
    {
      "cell_type": "code",
      "execution_count": null,
      "id": "308a9959-596f-468d-9e01-ac887bb185c9",
      "metadata": {
        "id": "308a9959-596f-468d-9e01-ac887bb185c9",
        "outputId": "1389fdd1-2cd1-4b47-a0af-cef3def1bd27"
      },
      "outputs": [
        {
          "data": {
            "text/plain": [
              "{'Name': ['A', 'B', 'C'], 'ID': [1, 2, 3], 'Domain': ['x', 'y', 'z']}"
            ]
          },
          "execution_count": 25,
          "metadata": {},
          "output_type": "execute_result"
        }
      ],
      "source": [
        "d3 = { 'Name': [ 'A','B','C'],\n",
        "       'ID' : [1,2,3],\n",
        "        'Domain': ['x','y','z']}\n",
        "d3"
      ]
    },
    {
      "cell_type": "code",
      "execution_count": null,
      "id": "0ec729ef-41a6-4d1d-8a8b-2e744ebbaa62",
      "metadata": {
        "id": "0ec729ef-41a6-4d1d-8a8b-2e744ebbaa62",
        "outputId": "66d24b0e-142c-4092-89e7-17d1b5e34bae"
      },
      "outputs": [
        {
          "data": {
            "text/plain": [
              "'B'"
            ]
          },
          "execution_count": 29,
          "metadata": {},
          "output_type": "execute_result"
        }
      ],
      "source": [
        "d3['Name'][1]"
      ]
    },
    {
      "cell_type": "code",
      "execution_count": null,
      "id": "43834d06-ca33-43a8-a01d-0765f13b8bb1",
      "metadata": {
        "id": "43834d06-ca33-43a8-a01d-0765f13b8bb1",
        "outputId": "69d98892-8b21-4d13-873f-7df4c16fef63"
      },
      "outputs": [
        {
          "data": {
            "text/plain": [
              "'z'"
            ]
          },
          "execution_count": 31,
          "metadata": {},
          "output_type": "execute_result"
        }
      ],
      "source": [
        "d3['Domain'][2]"
      ]
    },
    {
      "cell_type": "markdown",
      "id": "df0d3f80-1c4d-4c47-a7f7-8ea99c39ec67",
      "metadata": {
        "id": "df0d3f80-1c4d-4c47-a7f7-8ea99c39ec67"
      },
      "source": [
        "##### Mutability of dictionary"
      ]
    },
    {
      "cell_type": "code",
      "execution_count": null,
      "id": "ee23de11-5b8d-4acc-819b-b4a6b00e0cb7",
      "metadata": {
        "id": "ee23de11-5b8d-4acc-819b-b4a6b00e0cb7",
        "outputId": "016a693b-37ae-42c9-a032-aed469e54885"
      },
      "outputs": [
        {
          "data": {
            "text/plain": [
              "{'name': 'Lakshmi', 'edu': 'M.tech', 'domain': 'SME'}"
            ]
          },
          "execution_count": 35,
          "metadata": {},
          "output_type": "execute_result"
        }
      ],
      "source": [
        "d4 = {'name':'Lakshmi' , 'edu':'M.tech', 'domain':'SME'}\n",
        "d4"
      ]
    },
    {
      "cell_type": "code",
      "execution_count": null,
      "id": "c1ea901f-6407-487a-84af-c810c6247da6",
      "metadata": {
        "id": "c1ea901f-6407-487a-84af-c810c6247da6"
      },
      "outputs": [],
      "source": [
        "d4['Loc'] = 'Bengaluru'"
      ]
    },
    {
      "cell_type": "code",
      "execution_count": null,
      "id": "42580c4a-84a3-4834-bcee-b1cdf9914cae",
      "metadata": {
        "id": "42580c4a-84a3-4834-bcee-b1cdf9914cae",
        "outputId": "e4818b02-b716-46bb-aa79-16ea4aeef86d"
      },
      "outputs": [
        {
          "name": "stdout",
          "output_type": "stream",
          "text": [
            "{'name': 'Lakshmi', 'edu': 'M.tech', 'domain': 'SME', 'Loc': 'Bengaluru'}\n"
          ]
        }
      ],
      "source": [
        "print(d4)"
      ]
    },
    {
      "cell_type": "code",
      "execution_count": null,
      "id": "adb4a8ec-ea10-4363-8e63-f5d7ac887f0d",
      "metadata": {
        "id": "adb4a8ec-ea10-4363-8e63-f5d7ac887f0d"
      },
      "outputs": [],
      "source": [
        "d4['domain'] = 'Subject Matter Expert'"
      ]
    },
    {
      "cell_type": "code",
      "execution_count": null,
      "id": "d12a7990-9c7a-48fa-88f8-4896ea1e9802",
      "metadata": {
        "id": "d12a7990-9c7a-48fa-88f8-4896ea1e9802",
        "outputId": "0b146489-3e2d-4f58-8c03-c2f3c940b3a1"
      },
      "outputs": [
        {
          "data": {
            "text/plain": [
              "{'name': 'Lakshmi',\n",
              " 'edu': 'M.tech',\n",
              " 'domain': 'Subject Matter Expert',\n",
              " 'Loc': 'Bengaluru'}"
            ]
          },
          "execution_count": 45,
          "metadata": {},
          "output_type": "execute_result"
        }
      ],
      "source": [
        "d4"
      ]
    },
    {
      "cell_type": "code",
      "execution_count": null,
      "id": "deddce09-89bb-4917-9461-059de4b15e72",
      "metadata": {
        "id": "deddce09-89bb-4917-9461-059de4b15e72"
      },
      "outputs": [],
      "source": [
        "d4.update({'dob':2000})"
      ]
    },
    {
      "cell_type": "code",
      "execution_count": null,
      "id": "0af34824-5566-4674-97cc-55836b6f4456",
      "metadata": {
        "id": "0af34824-5566-4674-97cc-55836b6f4456",
        "outputId": "feb03f17-0589-47ad-b764-bf5afbb53c0b"
      },
      "outputs": [
        {
          "data": {
            "text/plain": [
              "{'name': 'Lakshmi',\n",
              " 'edu': 'M.tech',\n",
              " 'domain': 'Subject Matter Expert',\n",
              " 'Loc': 'Bengaluru',\n",
              " 'dob': 2000}"
            ]
          },
          "execution_count": 49,
          "metadata": {},
          "output_type": "execute_result"
        }
      ],
      "source": [
        "d4"
      ]
    },
    {
      "cell_type": "code",
      "execution_count": null,
      "id": "7e971211-c270-4379-abd8-e8584ad06d67",
      "metadata": {
        "id": "7e971211-c270-4379-abd8-e8584ad06d67"
      },
      "outputs": [],
      "source": [
        "d4.update({'dob':1999})"
      ]
    },
    {
      "cell_type": "code",
      "execution_count": null,
      "id": "76fb3d38-ad32-4200-bac3-accac89a4614",
      "metadata": {
        "id": "76fb3d38-ad32-4200-bac3-accac89a4614",
        "outputId": "d0b042f9-1076-47be-962f-05b52c5c5ace"
      },
      "outputs": [
        {
          "data": {
            "text/plain": [
              "{'name': 'Lakshmi',\n",
              " 'edu': 'M.tech',\n",
              " 'domain': 'Subject Matter Expert',\n",
              " 'Loc': 'Bengaluru',\n",
              " 'dob': 1999}"
            ]
          },
          "execution_count": 53,
          "metadata": {},
          "output_type": "execute_result"
        }
      ],
      "source": [
        "d4"
      ]
    },
    {
      "cell_type": "code",
      "execution_count": null,
      "id": "06302b0b-d386-4625-b13d-6829617ad2d3",
      "metadata": {
        "id": "06302b0b-d386-4625-b13d-6829617ad2d3",
        "outputId": "60e94bc1-e34a-4dfa-c9a0-e9a4a80fbdca"
      },
      "outputs": [
        {
          "data": {
            "text/plain": [
              "1999"
            ]
          },
          "execution_count": 55,
          "metadata": {},
          "output_type": "execute_result"
        }
      ],
      "source": [
        "# pop(key) - remove the data\n",
        "d4.pop('dob')"
      ]
    },
    {
      "cell_type": "code",
      "execution_count": null,
      "id": "f03357d6-a39f-40a0-89e5-fb7b4a4201d3",
      "metadata": {
        "id": "f03357d6-a39f-40a0-89e5-fb7b4a4201d3",
        "outputId": "d5004a24-9b74-47eb-98f7-7e6574ba4e74"
      },
      "outputs": [
        {
          "data": {
            "text/plain": [
              "{'name': 'Lakshmi',\n",
              " 'edu': 'M.tech',\n",
              " 'domain': 'Subject Matter Expert',\n",
              " 'Loc': 'Bengaluru'}"
            ]
          },
          "execution_count": 57,
          "metadata": {},
          "output_type": "execute_result"
        }
      ],
      "source": [
        "d4"
      ]
    },
    {
      "cell_type": "code",
      "execution_count": null,
      "id": "cc04c15f-7a76-4e23-8515-acfac2d03617",
      "metadata": {
        "id": "cc04c15f-7a76-4e23-8515-acfac2d03617"
      },
      "outputs": [],
      "source": [
        "d4.clear()"
      ]
    },
    {
      "cell_type": "code",
      "execution_count": null,
      "id": "12c20a2b-6695-425e-9b10-190b723c2060",
      "metadata": {
        "id": "12c20a2b-6695-425e-9b10-190b723c2060"
      },
      "outputs": [],
      "source": [
        "del d4"
      ]
    },
    {
      "cell_type": "code",
      "execution_count": null,
      "id": "61731184-4401-48b2-af69-c2d9e9d46fa4",
      "metadata": {
        "id": "61731184-4401-48b2-af69-c2d9e9d46fa4",
        "outputId": "71f75cc7-c035-4bdc-9407-c18b153679f6"
      },
      "outputs": [
        {
          "ename": "AttributeError",
          "evalue": "'dict' object has no attribute 'upper'",
          "output_type": "error",
          "traceback": [
            "\u001b[1;31m---------------------------------------------------------------------------\u001b[0m",
            "\u001b[1;31mAttributeError\u001b[0m                            Traceback (most recent call last)",
            "Cell \u001b[1;32mIn[65], line 1\u001b[0m\n\u001b[1;32m----> 1\u001b[0m d3\u001b[38;5;241m.\u001b[39mupper()\n",
            "\u001b[1;31mAttributeError\u001b[0m: 'dict' object has no attribute 'upper'"
          ]
        }
      ],
      "source": [
        "d3.upper()"
      ]
    },
    {
      "cell_type": "markdown",
      "id": "64410e2d-d7e8-4277-9c15-e8a6bf2300dd",
      "metadata": {
        "id": "64410e2d-d7e8-4277-9c15-e8a6bf2300dd"
      },
      "source": [
        "#### Loops"
      ]
    },
    {
      "cell_type": "markdown",
      "id": "91fcadf4-83b6-405b-8d18-0c4be5192b0c",
      "metadata": {
        "id": "91fcadf4-83b6-405b-8d18-0c4be5192b0c"
      },
      "source": [
        "\n",
        "-- loops are instructions / a block a code which is repeated over a 'n' times until a particular condition is met\n",
        "\n",
        "3 parts\n",
        "\n",
        "1. initialization  -- start the loop\n",
        "\n",
        "2. condition -- end point to the loop\n",
        "\n",
        "3. increment / decrement"
      ]
    },
    {
      "cell_type": "markdown",
      "id": "63748690-3422-4e55-bf71-ffb4d21ba9b5",
      "metadata": {
        "id": "63748690-3422-4e55-bf71-ffb4d21ba9b5"
      },
      "source": [
        "### 2 types of loops\n",
        "\n",
        "1. while\n",
        "\n",
        "2. for"
      ]
    },
    {
      "cell_type": "markdown",
      "id": "fc3559a5-8363-4bdb-9778-b6c4da6314d2",
      "metadata": {
        "id": "fc3559a5-8363-4bdb-9778-b6c4da6314d2"
      },
      "source": [
        "-  while\n",
        "- in python we defined while loops as\n",
        "\n",
        "       - a block of code executed repeatedly until a given condition is satisfied\n",
        "       \n",
        "       - and when ever the condition is becoming false the entire program gets terminated"
      ]
    },
    {
      "cell_type": "code",
      "execution_count": null,
      "id": "3569af0b-dec9-4994-a438-47e964adf5da",
      "metadata": {
        "id": "3569af0b-dec9-4994-a438-47e964adf5da",
        "outputId": "4dc832eb-7c7e-4463-f91a-c13a623f5e42"
      },
      "outputs": [
        {
          "name": "stdout",
          "output_type": "stream",
          "text": [
            "1\n",
            "2\n",
            "3\n",
            "4\n",
            "5\n",
            "6\n",
            "7\n",
            "8\n",
            "9\n",
            "10\n"
          ]
        }
      ],
      "source": [
        "## print 1 to 10\n",
        "i = 1\n",
        "while i <= 10:  # 1 <= 10 T       2<=10 T     3 <=10 T\n",
        "    print(i)    # 1               1,2         1,2,3        1,2,3,4,5,6,7,8,9,10           11<=10 F\n",
        "    i+=1        # i = i+1 ,1+1,2  i = 3       i=4                                i = 11    Loop will be terminated"
      ]
    },
    {
      "cell_type": "code",
      "execution_count": null,
      "id": "6226a70c-49f2-41db-9ccf-bec2e0dd8397",
      "metadata": {
        "id": "6226a70c-49f2-41db-9ccf-bec2e0dd8397",
        "outputId": "7b610623-a72d-4f0d-cca6-fa227e86403b"
      },
      "outputs": [
        {
          "name": "stdin",
          "output_type": "stream",
          "text": [
            " 5\n"
          ]
        },
        {
          "name": "stdout",
          "output_type": "stream",
          "text": [
            "1\n",
            "2\n",
            "3\n",
            "4\n",
            "5\n"
          ]
        }
      ],
      "source": [
        "# end value should be a user defined value\n",
        "n = int(input())\n",
        "i = 1\n",
        "while i <= n:\n",
        "    print(i)\n",
        "    i+=1"
      ]
    },
    {
      "cell_type": "code",
      "execution_count": null,
      "id": "5decea38-16bd-4ab6-9a35-a8658c4a0c8d",
      "metadata": {
        "id": "5decea38-16bd-4ab6-9a35-a8658c4a0c8d",
        "outputId": "d41eb033-20d6-4516-8a1f-a366ae726d02"
      },
      "outputs": [
        {
          "name": "stdin",
          "output_type": "stream",
          "text": [
            " 4\n"
          ]
        },
        {
          "name": "stdout",
          "output_type": "stream",
          "text": [
            "python 1\n",
            "python 2\n",
            "python 3\n",
            "python 4\n"
          ]
        }
      ],
      "source": [
        "n = int(input())  #n=4\n",
        "i = 1\n",
        "while(i<=n):\n",
        "    print('python',i)\n",
        "    i+=1"
      ]
    },
    {
      "cell_type": "code",
      "execution_count": null,
      "id": "52328fe7-3508-441b-9627-64f7d0effbb0",
      "metadata": {
        "id": "52328fe7-3508-441b-9627-64f7d0effbb0",
        "outputId": "a1bbfcaf-ba3e-4ae8-80b8-b82dae8d8be6"
      },
      "outputs": [
        {
          "name": "stdout",
          "output_type": "stream",
          "text": [
            "python 1\n",
            "python 2\n",
            "python 3\n",
            "python 4\n",
            "python 5\n",
            "python 6\n",
            "7\n"
          ]
        }
      ],
      "source": [
        "i = 1\n",
        "while(i<=6):\n",
        "    print('python',i)\n",
        "    i+=1\n",
        "print(i)"
      ]
    },
    {
      "cell_type": "markdown",
      "id": "f0365785-112b-426a-94cd-6d354a83caee",
      "metadata": {
        "id": "f0365785-112b-426a-94cd-6d354a83caee"
      },
      "source": [
        "### Break  ,continue and pass  keywords\n",
        "\n",
        "- break -- it is used to stop the loop at certain point even if the condition is true\n",
        "\n"
      ]
    },
    {
      "cell_type": "code",
      "execution_count": null,
      "id": "864667ce-19f9-4bc8-af59-0bcef4779f6e",
      "metadata": {
        "id": "864667ce-19f9-4bc8-af59-0bcef4779f6e"
      },
      "outputs": [],
      "source": [
        "i = 1\n",
        "while i<6:      # 1 < 6 T      2< 6       3<=6\n",
        "    print(i)    # 1            1,2          1,2,3\n",
        "\n",
        "    if i == 3:   # 1==3 f      2==3 f     3==3\n",
        "        break                               # program will be stopped\n",
        "    i+=1"
      ]
    },
    {
      "cell_type": "markdown",
      "id": "69a6472f-b062-44cb-a844-994816148aa4",
      "metadata": {
        "id": "69a6472f-b062-44cb-a844-994816148aa4"
      },
      "source": [
        "- Continue - it is used to continue the execution of the program even if some errors are encoountered"
      ]
    },
    {
      "cell_type": "code",
      "execution_count": null,
      "id": "b8f7ed2b-51e2-44ed-8f7e-524fdb6439fe",
      "metadata": {
        "id": "b8f7ed2b-51e2-44ed-8f7e-524fdb6439fe",
        "outputId": "aeebe0f4-c277-46c0-ccdb-3fb6d2d064cc"
      },
      "outputs": [
        {
          "name": "stdout",
          "output_type": "stream",
          "text": [
            "1\n",
            "2\n",
            "4\n",
            "5\n",
            "6\n"
          ]
        }
      ],
      "source": [
        "i = 0\n",
        "while i<6 :\n",
        "    i = i +1\n",
        "    if (i==3):\n",
        "        continue\n",
        "    print(i)"
      ]
    },
    {
      "cell_type": "markdown",
      "id": "dd9e5a86-d4b7-47a4-926a-4ce30dd2ea56",
      "metadata": {
        "id": "dd9e5a86-d4b7-47a4-926a-4ce30dd2ea56"
      },
      "source": [
        "- When the pass statement is executed, nothing happens, but you avoid getting an error when empty code is not allowed.\n",
        "\n",
        "- Empty code is not allowed in loops, function definitions, class definitions, or in if statements."
      ]
    },
    {
      "cell_type": "code",
      "execution_count": null,
      "id": "159d5f95-3940-43e1-b68f-2b0a41b97fc7",
      "metadata": {
        "id": "159d5f95-3940-43e1-b68f-2b0a41b97fc7"
      },
      "outputs": [],
      "source": [
        "a = 5\n",
        "if a<10:\n",
        "    pass"
      ]
    },
    {
      "cell_type": "code",
      "execution_count": null,
      "id": "4c1b7aaf-a659-45df-a4bd-6c3521e08027",
      "metadata": {
        "id": "4c1b7aaf-a659-45df-a4bd-6c3521e08027",
        "outputId": "32938be1-712c-4528-d395-c25e78e429f5"
      },
      "outputs": [
        {
          "name": "stdout",
          "output_type": "stream",
          "text": [
            "\n"
          ]
        }
      ],
      "source": [
        "print()"
      ]
    },
    {
      "cell_type": "markdown",
      "id": "df2b3d70-b5af-4f43-a9b0-090b53916485",
      "metadata": {
        "id": "df2b3d70-b5af-4f43-a9b0-090b53916485"
      },
      "source": [
        "### For\n",
        "\n",
        "- are used to loop through the iterable object (list,string, tuple,dict)\n",
        "\n",
        "- And performs the some action on each element\n",
        "\n",
        "- where we are aware of number of iterations the loop takes for achieving the end result -FOR"
      ]
    },
    {
      "cell_type": "code",
      "execution_count": null,
      "id": "fbd9dff8-2b5d-4487-81e0-b9cc14abd2a1",
      "metadata": {
        "id": "fbd9dff8-2b5d-4487-81e0-b9cc14abd2a1",
        "outputId": "44ff2ef2-32dc-45fc-bfdb-5f171e43022d"
      },
      "outputs": [
        {
          "name": "stdout",
          "output_type": "stream",
          "text": [
            "1\n",
            "2\n",
            "3\n",
            "4\n"
          ]
        }
      ],
      "source": [
        "l = [1,2,3,4]\n",
        "for i in l:\n",
        "    print(i)"
      ]
    },
    {
      "cell_type": "code",
      "execution_count": null,
      "id": "1c481fd9-0a12-4832-98cf-aa3be52a97a7",
      "metadata": {
        "id": "1c481fd9-0a12-4832-98cf-aa3be52a97a7"
      },
      "outputs": [],
      "source": [
        "#tuple"
      ]
    },
    {
      "cell_type": "code",
      "execution_count": null,
      "id": "54205b20-236c-48f1-b4c8-24c9a6aa7075",
      "metadata": {
        "id": "54205b20-236c-48f1-b4c8-24c9a6aa7075",
        "outputId": "4f32b5a4-4e16-4f77-9839-74e65217ed4f"
      },
      "outputs": [
        {
          "name": "stdout",
          "output_type": "stream",
          "text": [
            "Thu\n",
            "Wed\n",
            "Mon\n",
            "Tue\n"
          ]
        }
      ],
      "source": [
        "# set\n",
        "d = {'Mon', 'Tue', 'Wed', 'Thu'}\n",
        "\n",
        "for i in d:\n",
        "    print(i)\n"
      ]
    },
    {
      "cell_type": "code",
      "execution_count": null,
      "id": "fe1d7db1-7cf5-4ff2-bc91-f8264a9ae9a2",
      "metadata": {
        "id": "fe1d7db1-7cf5-4ff2-bc91-f8264a9ae9a2"
      },
      "outputs": [],
      "source": [
        "# string"
      ]
    },
    {
      "cell_type": "code",
      "execution_count": null,
      "id": "817f2da1-916a-4105-a38f-a5fd37396103",
      "metadata": {
        "id": "817f2da1-916a-4105-a38f-a5fd37396103",
        "outputId": "5a37e34e-d759-4390-c54a-d1c639fb74d6"
      },
      "outputs": [
        {
          "data": {
            "text/plain": [
              "{1: 'one', 2: 'Two', 3: 'Three'}"
            ]
          },
          "execution_count": 120,
          "metadata": {},
          "output_type": "execute_result"
        }
      ],
      "source": [
        "d2"
      ]
    },
    {
      "cell_type": "code",
      "execution_count": null,
      "id": "76ec7d7b-bb9e-4abb-ab8a-9ce48bd341e7",
      "metadata": {
        "id": "76ec7d7b-bb9e-4abb-ab8a-9ce48bd341e7",
        "outputId": "fe7b4216-8d27-42fe-bdc4-303e859dedaa"
      },
      "outputs": [
        {
          "name": "stdout",
          "output_type": "stream",
          "text": [
            "1\n",
            "2\n",
            "3\n"
          ]
        }
      ],
      "source": [
        "for i in d2:\n",
        "    print(i)"
      ]
    },
    {
      "cell_type": "code",
      "execution_count": null,
      "id": "fbf41d28-6535-487e-80c8-01071488d7b8",
      "metadata": {
        "id": "fbf41d28-6535-487e-80c8-01071488d7b8",
        "outputId": "096c1160-8590-43b6-f452-dda751026aa7"
      },
      "outputs": [
        {
          "name": "stdout",
          "output_type": "stream",
          "text": [
            "one\n",
            "Two\n",
            "Three\n"
          ]
        }
      ],
      "source": [
        "for i in d2.values():\n",
        "    print(i)"
      ]
    },
    {
      "cell_type": "code",
      "execution_count": null,
      "id": "450f6be8-eb66-4388-a9dd-647a246f6a46",
      "metadata": {
        "id": "450f6be8-eb66-4388-a9dd-647a246f6a46"
      },
      "outputs": [],
      "source": [
        "# range\n",
        "# which will return the numbers/values in the specified range\n",
        "# range(start,end)\n",
        "# if start value is not specified , 0\n",
        "# range(0,n-1)\n",
        "# range(1,6) , 1 6-1 , 1 5"
      ]
    },
    {
      "cell_type": "code",
      "execution_count": null,
      "id": "fab6a174-3b81-4226-9cd3-7c53dfe641c7",
      "metadata": {
        "id": "fab6a174-3b81-4226-9cd3-7c53dfe641c7",
        "outputId": "593a1c72-48b7-4152-c9d5-b7475ad53b91"
      },
      "outputs": [
        {
          "data": {
            "text/plain": [
              "[1, 2, 3, 4, 5]"
            ]
          },
          "execution_count": 130,
          "metadata": {},
          "output_type": "execute_result"
        }
      ],
      "source": [
        "list(range(1,6))"
      ]
    },
    {
      "cell_type": "code",
      "execution_count": null,
      "id": "9fbc2507-1f0e-4a69-9b93-036bdca5eb73",
      "metadata": {
        "id": "9fbc2507-1f0e-4a69-9b93-036bdca5eb73",
        "outputId": "521e522a-050c-4646-da1a-cc3eb5141bf3"
      },
      "outputs": [
        {
          "name": "stdout",
          "output_type": "stream",
          "text": [
            "1 2 3 4 5 6 7 8 9 10 "
          ]
        }
      ],
      "source": [
        "for i in range(1,11):\n",
        "    print(i,end=' ')"
      ]
    },
    {
      "cell_type": "code",
      "execution_count": null,
      "id": "2722f992-70e6-4814-b605-9e7ada49cb72",
      "metadata": {
        "id": "2722f992-70e6-4814-b605-9e7ada49cb72",
        "outputId": "30316dad-f12f-4963-87cf-113c4987ed01"
      },
      "outputs": [
        {
          "data": {
            "text/plain": [
              "[1, 2, 3, 4, 5, 6, 7, 8, 9, 10]"
            ]
          },
          "execution_count": 1,
          "metadata": {},
          "output_type": "execute_result"
        }
      ],
      "source": [
        "l = []\n",
        "for i in range(1,11):\n",
        "    l.append(i)\n",
        "l"
      ]
    },
    {
      "cell_type": "code",
      "execution_count": null,
      "id": "309262b3-e78c-4337-a9b0-a6e6d2fbef81",
      "metadata": {
        "id": "309262b3-e78c-4337-a9b0-a6e6d2fbef81",
        "outputId": "72405354-8e66-4028-9584-d971b3aa5835"
      },
      "outputs": [
        {
          "name": "stdout",
          "output_type": "stream",
          "text": [
            "[2, 4, 6, 8, 10]\n",
            "[1, 3, 5, 7, 9]\n"
          ]
        }
      ],
      "source": [
        "# filter even and odd\n",
        "l = [1,2,3,4,5,6,7,8,9,10]\n",
        "even = []\n",
        "odd = []\n",
        "\n",
        "for i in l:\n",
        "    if i % 2 ==0:\n",
        "        even.append(i)\n",
        "    else:\n",
        "        odd.append(i)\n",
        "print(even)\n",
        "print(odd)\n",
        ""
      ]
    },
    {
      "cell_type": "code",
      "execution_count": null,
      "id": "648a0210-c3e3-48bf-8bac-3f772854d727",
      "metadata": {
        "id": "648a0210-c3e3-48bf-8bac-3f772854d727",
        "outputId": "a1aef9eb-7964-444f-9a39-1d59fb37ece5"
      },
      "outputs": [
        {
          "data": {
            "text/plain": [
              "[6, 7, 8, 9, 10]"
            ]
          },
          "execution_count": 7,
          "metadata": {},
          "output_type": "execute_result"
        }
      ],
      "source": [
        " l = [1,2,3,4,5,6,7,8,9,10]\n",
        "# out  = [6,7,8,9,10]\n",
        "out = []\n",
        "for i in l:\n",
        "    if i > 5:\n",
        "        out.append(i)\n",
        "out"
      ]
    },
    {
      "cell_type": "code",
      "execution_count": null,
      "id": "0bf2ee8c-fa49-4218-884e-6aac6a438f79",
      "metadata": {
        "id": "0bf2ee8c-fa49-4218-884e-6aac6a438f79",
        "outputId": "8b71afea-e91d-4b49-9a98-6f0f94ba6038"
      },
      "outputs": [
        {
          "name": "stdout",
          "output_type": "stream",
          "text": [
            "1\n",
            "2\n",
            "3\n",
            "4\n"
          ]
        }
      ],
      "source": [
        "l = [1,2,3,4,0]\n",
        "# output should contain non zero elements\n",
        "for i in l:\n",
        "    if i!=0:\n",
        "        print(i)"
      ]
    },
    {
      "cell_type": "code",
      "execution_count": null,
      "id": "b777295a-7832-41c0-80d9-a2f52e96aa6c",
      "metadata": {
        "id": "b777295a-7832-41c0-80d9-a2f52e96aa6c",
        "outputId": "f29b0c4f-0468-483e-fc78-6d836fcb67bf"
      },
      "outputs": [
        {
          "data": {
            "text/plain": [
              "[2, 3]"
            ]
          },
          "execution_count": 11,
          "metadata": {},
          "output_type": "execute_result"
        }
      ],
      "source": [
        "## common elements from 2 lists\n",
        "a1 = [1,2,3,4]\n",
        "a2 = [2,3]\n",
        "a = []\n",
        "for i in a1:\n",
        "    for j in a2:\n",
        "        if i == j:\n",
        "            a.append(i)\n",
        "a"
      ]
    },
    {
      "cell_type": "code",
      "execution_count": null,
      "id": "c00b3dd9-4399-4125-9797-ccfd54d5ff21",
      "metadata": {
        "id": "c00b3dd9-4399-4125-9797-ccfd54d5ff21",
        "outputId": "6938f8b3-e87b-4c92-fc2f-672e867bea0b"
      },
      "outputs": [
        {
          "name": "stdout",
          "output_type": "stream",
          "text": [
            "0 1\n",
            "1 2\n",
            "2 3\n"
          ]
        }
      ],
      "source": [
        "l = [1,2,3]\n",
        "for i ,j in enumerate(l):\n",
        "    print(i,j)"
      ]
    },
    {
      "cell_type": "code",
      "execution_count": null,
      "id": "53507d7f-4dbb-4800-8987-58dccb2bb530",
      "metadata": {
        "id": "53507d7f-4dbb-4800-8987-58dccb2bb530",
        "outputId": "f989c60c-3dba-4cc5-b0ac-f342e0a3e98d"
      },
      "outputs": [
        {
          "name": "stdout",
          "output_type": "stream",
          "text": [
            "1 a\n",
            "2 b\n",
            "3 c\n"
          ]
        }
      ],
      "source": [
        "l = [1,2,3]\n",
        "l1 = ['a','b','c']\n",
        "for i , j in zip(l,l1):\n",
        "    print(i,j)"
      ]
    },
    {
      "cell_type": "code",
      "execution_count": null,
      "id": "3ecb6737-375f-4f15-9f5c-79cc06570220",
      "metadata": {
        "id": "3ecb6737-375f-4f15-9f5c-79cc06570220",
        "outputId": "7fef8b6e-cdf4-4d15-b990-992ef85144e0"
      },
      "outputs": [
        {
          "name": "stdout",
          "output_type": "stream",
          "text": [
            "a b c d e f g h i j k l m n o p q r s t u v w x y z "
          ]
        }
      ],
      "source": [
        "for i in range(97,123):\n",
        "    print(chr(i), end = \" \")"
      ]
    },
    {
      "cell_type": "code",
      "execution_count": null,
      "id": "c1d0d8e8-248f-472b-9b9c-505d60d94b2f",
      "metadata": {
        "id": "c1d0d8e8-248f-472b-9b9c-505d60d94b2f",
        "outputId": "363cbe2e-6a91-4b67-8f8b-5b668c1c0fa5"
      },
      "outputs": [
        {
          "data": {
            "text/plain": [
              "'a'"
            ]
          },
          "execution_count": 118,
          "metadata": {},
          "output_type": "execute_result"
        }
      ],
      "source": [
        "chr(97)"
      ]
    },
    {
      "cell_type": "markdown",
      "id": "b8432984-dffd-474b-8544-91a0048ac0c1",
      "metadata": {
        "id": "b8432984-dffd-474b-8544-91a0048ac0c1"
      },
      "source": [
        "##### Packages are software which holds certain functionalities to work on. In Python, we have many builtin packages which we will be using.\n",
        "\n",
        "Packages contains moduled and submodules.\n",
        "\n",
        "Each and every module and submodule can be used independently by using certain keywords."
      ]
    },
    {
      "cell_type": "markdown",
      "id": "82deb343-8c23-45f9-b514-1cecbda01a95",
      "metadata": {
        "id": "82deb343-8c23-45f9-b514-1cecbda01a95"
      },
      "source": [
        "##### Date time package"
      ]
    },
    {
      "cell_type": "markdown",
      "id": "00179d4c-1513-4040-9f7f-e33b083154c7",
      "metadata": {
        "id": "00179d4c-1513-4040-9f7f-e33b083154c7"
      },
      "source": [
        "In Python, date and time are not a data type of their own, but a module named datetime can be imported to work with the date as well as time. Python Datetime module comes built into Python, so there is no need to install it externally."
      ]
    },
    {
      "cell_type": "markdown",
      "id": "942b2d6a-1656-4554-843a-910330585fb5",
      "metadata": {
        "id": "942b2d6a-1656-4554-843a-910330585fb5"
      },
      "source": [
        "1)date – An idealized naive date, assuming the current Gregorian calendar always was, and always will be, in effect. Its attributes are year, month and day.\n",
        "\n",
        "\n",
        "2)time – An idealized time, independent of any particular day, assuming that every day has exactly 24*60*60 seconds. Its attributes are hour, minute, second, microsecond\n",
        "\n",
        "3)datetime – Its a combination of date and time along with the attributes year, month, day, hour, minute, second, microsecond\n",
        "\n",
        "4)timedelta – A duration expressing the difference between two date, time, or datetime instances to microsecond resolution."
      ]
    },
    {
      "cell_type": "code",
      "execution_count": null,
      "id": "27ad08fe-f6c6-461e-bc76-c85f0d5eb37c",
      "metadata": {
        "id": "27ad08fe-f6c6-461e-bc76-c85f0d5eb37c"
      },
      "outputs": [],
      "source": [
        "from datetime import date"
      ]
    },
    {
      "cell_type": "code",
      "execution_count": null,
      "id": "d0dfa7a7-471e-4584-8389-48a0df10eaca",
      "metadata": {
        "id": "d0dfa7a7-471e-4584-8389-48a0df10eaca",
        "outputId": "17618df5-c93b-4c8a-8bac-461f7a65916c"
      },
      "outputs": [
        {
          "data": {
            "text/plain": [
              "datetime.date(2024, 8, 26)"
            ]
          },
          "execution_count": 33,
          "metadata": {},
          "output_type": "execute_result"
        }
      ],
      "source": [
        "d1 = date(2024,8,26)\n",
        "d1"
      ]
    },
    {
      "cell_type": "code",
      "execution_count": null,
      "id": "321bf177-fec5-4f0d-960e-351d4c21d473",
      "metadata": {
        "id": "321bf177-fec5-4f0d-960e-351d4c21d473",
        "outputId": "04f88d67-1140-415c-879f-8efade912031"
      },
      "outputs": [
        {
          "data": {
            "text/plain": [
              "datetime.date(2024, 8, 27)"
            ]
          },
          "execution_count": 37,
          "metadata": {},
          "output_type": "execute_result"
        }
      ],
      "source": [
        "today = date.today()\n",
        "today"
      ]
    },
    {
      "cell_type": "code",
      "execution_count": null,
      "id": "0cd95bdb-71b2-4034-946f-d42aca076773",
      "metadata": {
        "id": "0cd95bdb-71b2-4034-946f-d42aca076773",
        "outputId": "649aad28-4f69-42f3-b177-1ab914851816"
      },
      "outputs": [
        {
          "name": "stdout",
          "output_type": "stream",
          "text": [
            "2024\n",
            "8\n",
            "27\n"
          ]
        }
      ],
      "source": [
        "print(today.year)\n",
        "print(today.month)\n",
        "print(today.day)"
      ]
    },
    {
      "cell_type": "code",
      "execution_count": null,
      "id": "5acf2676-2bd6-4b05-ae87-a1118231bc31",
      "metadata": {
        "id": "5acf2676-2bd6-4b05-ae87-a1118231bc31",
        "outputId": "6398a057-7bda-432b-feff-5ebfbdca0b08"
      },
      "outputs": [
        {
          "data": {
            "text/plain": [
              "2"
            ]
          },
          "execution_count": 45,
          "metadata": {},
          "output_type": "execute_result"
        }
      ],
      "source": [
        "today.isoweekday()"
      ]
    },
    {
      "cell_type": "code",
      "execution_count": null,
      "id": "b3bbe45c-8b5a-4f1e-b3b7-2849a88cbb50",
      "metadata": {
        "id": "b3bbe45c-8b5a-4f1e-b3b7-2849a88cbb50"
      },
      "outputs": [],
      "source": [
        "# time\n",
        "from datetime import time"
      ]
    },
    {
      "cell_type": "code",
      "execution_count": null,
      "id": "099eca8e-816b-4bcc-a91e-e86dacf70eda",
      "metadata": {
        "id": "099eca8e-816b-4bcc-a91e-e86dacf70eda",
        "outputId": "d5a5e397-2fb1-4a3a-bf2d-761f778e47d8"
      },
      "outputs": [
        {
          "data": {
            "text/plain": [
              "datetime.time(9, 18, 45)"
            ]
          },
          "execution_count": 49,
          "metadata": {},
          "output_type": "execute_result"
        }
      ],
      "source": [
        "time(9,18,45)"
      ]
    },
    {
      "cell_type": "code",
      "execution_count": null,
      "id": "63463c2a-5c59-4573-957b-d888b93e9829",
      "metadata": {
        "id": "63463c2a-5c59-4573-957b-d888b93e9829"
      },
      "outputs": [],
      "source": [
        "from datetime import datetime as dt"
      ]
    },
    {
      "cell_type": "code",
      "execution_count": null,
      "id": "10ea43c7-fcac-43da-9ff7-86274d08cdc4",
      "metadata": {
        "id": "10ea43c7-fcac-43da-9ff7-86274d08cdc4",
        "outputId": "b2a2c551-d1ca-46d6-a6e4-5ce46882a9a4"
      },
      "outputs": [
        {
          "data": {
            "text/plain": [
              "datetime.datetime(2024, 8, 27, 21, 22, 42, 420965)"
            ]
          },
          "execution_count": 60,
          "metadata": {},
          "output_type": "execute_result"
        }
      ],
      "source": [
        "date1 = dt.now()\n",
        "date1"
      ]
    },
    {
      "cell_type": "code",
      "execution_count": null,
      "id": "8dfc64af-f1b2-4dde-83ac-d1e050e5b11a",
      "metadata": {
        "id": "8dfc64af-f1b2-4dde-83ac-d1e050e5b11a",
        "outputId": "760e5d94-d161-4c1d-ec4c-68005ac479d0"
      },
      "outputs": [
        {
          "data": {
            "text/plain": [
              "datetime.date(2024, 8, 27)"
            ]
          },
          "execution_count": 66,
          "metadata": {},
          "output_type": "execute_result"
        }
      ],
      "source": [
        "dt.date(date1)"
      ]
    },
    {
      "cell_type": "code",
      "execution_count": null,
      "id": "c20b14d8-24d6-4e36-8f0f-d89791d65caf",
      "metadata": {
        "id": "c20b14d8-24d6-4e36-8f0f-d89791d65caf",
        "outputId": "461aaf25-ca07-4adb-b608-c87435ca559d"
      },
      "outputs": [
        {
          "data": {
            "text/plain": [
              "datetime.time(21, 22, 42, 420965)"
            ]
          },
          "execution_count": 64,
          "metadata": {},
          "output_type": "execute_result"
        }
      ],
      "source": [
        "dt.time(date1)"
      ]
    },
    {
      "cell_type": "code",
      "execution_count": null,
      "id": "5762fbca-8a50-4f02-aca7-ba37f64fb935",
      "metadata": {
        "id": "5762fbca-8a50-4f02-aca7-ba37f64fb935",
        "outputId": "79f29a2f-fe84-41f0-8cd9-57e57747b246"
      },
      "outputs": [
        {
          "data": {
            "text/plain": [
              "27"
            ]
          },
          "execution_count": 68,
          "metadata": {},
          "output_type": "execute_result"
        }
      ],
      "source": [
        "date1.day"
      ]
    },
    {
      "cell_type": "code",
      "execution_count": null,
      "id": "5c7e95b8-31e4-42b0-9486-5d1f4cf45952",
      "metadata": {
        "id": "5c7e95b8-31e4-42b0-9486-5d1f4cf45952"
      },
      "outputs": [],
      "source": [
        "from datetime import timedelta"
      ]
    },
    {
      "cell_type": "code",
      "execution_count": null,
      "id": "76fad208-ed2c-428b-860d-4c24ae5fc3e5",
      "metadata": {
        "id": "76fad208-ed2c-428b-860d-4c24ae5fc3e5"
      },
      "outputs": [],
      "source": [
        "current_date = date.today()"
      ]
    },
    {
      "cell_type": "code",
      "execution_count": null,
      "id": "cc9703e8-53e7-4464-9277-9b4d5a1a9aa4",
      "metadata": {
        "id": "cc9703e8-53e7-4464-9277-9b4d5a1a9aa4",
        "outputId": "4340274b-4f16-4181-9eed-bade45884b93"
      },
      "outputs": [
        {
          "data": {
            "text/plain": [
              "datetime.date(2024, 8, 28)"
            ]
          },
          "execution_count": 93,
          "metadata": {},
          "output_type": "execute_result"
        }
      ],
      "source": [
        "current_date + timedelta(days=1)"
      ]
    },
    {
      "cell_type": "code",
      "execution_count": null,
      "id": "87dfe5f2-1b97-43a3-901a-853d245803ec",
      "metadata": {
        "id": "87dfe5f2-1b97-43a3-901a-853d245803ec",
        "outputId": "92dfb15b-f832-496b-ea0e-85ba0aece58c"
      },
      "outputs": [
        {
          "data": {
            "text/plain": [
              "datetime.date(2024, 8, 26)"
            ]
          },
          "execution_count": 95,
          "metadata": {},
          "output_type": "execute_result"
        }
      ],
      "source": [
        "current_date - timedelta(days=1)"
      ]
    },
    {
      "cell_type": "code",
      "execution_count": null,
      "id": "72e6ef61-0197-40bf-9185-901a8ce4ee44",
      "metadata": {
        "id": "72e6ef61-0197-40bf-9185-901a8ce4ee44",
        "outputId": "9cb42ac0-e342-48f3-a2b2-07bfeafe0e53"
      },
      "outputs": [
        {
          "data": {
            "text/plain": [
              "datetime.date(2024, 8, 26)"
            ]
          },
          "execution_count": 99,
          "metadata": {},
          "output_type": "execute_result"
        }
      ],
      "source": [
        " current_date + timedelta(days = -1)\n"
      ]
    },
    {
      "cell_type": "code",
      "execution_count": null,
      "id": "843f5b18-d832-4af8-900a-915c06192241",
      "metadata": {
        "id": "843f5b18-d832-4af8-900a-915c06192241",
        "outputId": "c66172ee-b588-4c78-9bce-90c245e17b99"
      },
      "outputs": [
        {
          "data": {
            "text/plain": [
              "datetime.date(2024, 8, 27)"
            ]
          },
          "execution_count": 105,
          "metadata": {},
          "output_type": "execute_result"
        }
      ],
      "source": [
        "a = date.today()\n",
        "a"
      ]
    },
    {
      "cell_type": "code",
      "execution_count": null,
      "id": "391ded6d-db9c-4776-8460-4adbec92a98d",
      "metadata": {
        "id": "391ded6d-db9c-4776-8460-4adbec92a98d",
        "outputId": "b4fa28cb-49b0-4128-c87e-c3f087794a1a"
      },
      "outputs": [
        {
          "data": {
            "text/plain": [
              "27"
            ]
          },
          "execution_count": 107,
          "metadata": {},
          "output_type": "execute_result"
        }
      ],
      "source": [
        "a.day"
      ]
    },
    {
      "cell_type": "code",
      "execution_count": null,
      "id": "e48c6975-8d77-43f9-b59c-d266616dbfc6",
      "metadata": {
        "id": "e48c6975-8d77-43f9-b59c-d266616dbfc6",
        "outputId": "a8f07baa-2c97-4f8a-cf11-8283e62afe48"
      },
      "outputs": [
        {
          "data": {
            "text/plain": [
              "8"
            ]
          },
          "execution_count": 109,
          "metadata": {},
          "output_type": "execute_result"
        }
      ],
      "source": [
        "a.month"
      ]
    },
    {
      "cell_type": "code",
      "execution_count": null,
      "id": "0bbaa5ce-b789-4587-9f7d-987514fab7a8",
      "metadata": {
        "id": "0bbaa5ce-b789-4587-9f7d-987514fab7a8",
        "outputId": "7be83bdd-1b93-44ad-a248-2655f32408f6"
      },
      "outputs": [
        {
          "data": {
            "text/plain": [
              "2024"
            ]
          },
          "execution_count": 111,
          "metadata": {},
          "output_type": "execute_result"
        }
      ],
      "source": [
        "a.year"
      ]
    },
    {
      "cell_type": "markdown",
      "id": "e3302da5-568a-44fa-aed7-dfd3f70c9250",
      "metadata": {
        "id": "e3302da5-568a-44fa-aed7-dfd3f70c9250"
      },
      "source": [
        "#### Function\n",
        "\n",
        "- A function is a block of organized code written to carry out a specified task.\n",
        "\n",
        "- Functions help break our program into smaller and modular chunks for better readability.\n",
        "\n",
        "- Information can be passed into a function as arguments."
      ]
    },
    {
      "cell_type": "markdown",
      "id": "2950036d-4747-4d66-94be-35d87df83476",
      "metadata": {
        "id": "2950036d-4747-4d66-94be-35d87df83476"
      },
      "source": [
        "2 types of function\n",
        "\n",
        "- Built in function\n",
        "- User defined function"
      ]
    },
    {
      "cell_type": "code",
      "execution_count": null,
      "id": "223d99d6-d251-49c5-839b-1e741eac1229",
      "metadata": {
        "id": "223d99d6-d251-49c5-839b-1e741eac1229"
      },
      "outputs": [],
      "source": [
        "def fucntion_name():\n",
        "    print('First Program')"
      ]
    },
    {
      "cell_type": "code",
      "execution_count": null,
      "id": "6a7ccd50-ab5b-4740-acee-0ad4fdb12691",
      "metadata": {
        "id": "6a7ccd50-ab5b-4740-acee-0ad4fdb12691",
        "outputId": "b0ff65d6-bf9c-4a2f-9c7f-d2ae78934e3a"
      },
      "outputs": [
        {
          "name": "stdout",
          "output_type": "stream",
          "text": [
            "First Program\n"
          ]
        }
      ],
      "source": [
        "# we need to call the function to execute the block of code\n",
        "fucntion_name()"
      ]
    },
    {
      "cell_type": "code",
      "execution_count": null,
      "id": "9206b473-17ae-485a-9534-a96a63c2ac9d",
      "metadata": {
        "id": "9206b473-17ae-485a-9534-a96a63c2ac9d",
        "outputId": "ec966e36-0236-4bef-898f-9c009480a027"
      },
      "outputs": [
        {
          "name": "stdout",
          "output_type": "stream",
          "text": [
            "The sum of 2 numbers 5\n"
          ]
        }
      ],
      "source": [
        "# returns the add of 2 no's 2 and 3\n",
        "def f1():\n",
        "    a = 2\n",
        "    b = 3\n",
        "    print('The sum of 2 numbers',a+b)\n",
        "f1()"
      ]
    },
    {
      "cell_type": "code",
      "execution_count": null,
      "id": "5efea07b-4d6e-46a9-bc61-1e9ce6324caf",
      "metadata": {
        "id": "5efea07b-4d6e-46a9-bc61-1e9ce6324caf",
        "outputId": "542cf5c4-9b6c-46b8-8728-91d3b7ec74b2"
      },
      "outputs": [
        {
          "name": "stdout",
          "output_type": "stream",
          "text": [
            "3\n"
          ]
        }
      ],
      "source": [
        "a=1\n",
        "b=2\n",
        "def addition():\n",
        "    print(a+b)\n",
        "addition()\n"
      ]
    },
    {
      "cell_type": "markdown",
      "id": "517a2609-053a-4d0d-8d54-101d4b8d4dbb",
      "metadata": {
        "id": "517a2609-053a-4d0d-8d54-101d4b8d4dbb"
      },
      "source": [
        "### Parameter / Arguement\n",
        "\n",
        "- A parameter is the variable listed inside the parentheses in the function definition.\n",
        "\n",
        "- An argument is the value that is sent to the function when it is called."
      ]
    },
    {
      "cell_type": "code",
      "execution_count": null,
      "id": "6b9e1614-2497-46d1-931c-bff966bce763",
      "metadata": {
        "id": "6b9e1614-2497-46d1-931c-bff966bce763",
        "outputId": "ee8e1f4c-39d7-4ee4-a744-7e3f2efd563c"
      },
      "outputs": [
        {
          "name": "stdin",
          "output_type": "stream",
          "text": [
            " 10\n",
            " 5\n"
          ]
        },
        {
          "name": "stdout",
          "output_type": "stream",
          "text": [
            "The sum of 2 numbers 15\n"
          ]
        }
      ],
      "source": [
        "# def function_name(parameters)\n",
        "def f2(a,b):\n",
        "    print('The sum of 2 numbers',a+b)\n",
        "\n",
        "a = int(input())\n",
        "b = int(input())\n",
        "f2(a,b)"
      ]
    },
    {
      "cell_type": "code",
      "execution_count": null,
      "id": "a3805e92-e143-4912-a1ca-480fd355bf9e",
      "metadata": {
        "id": "a3805e92-e143-4912-a1ca-480fd355bf9e",
        "outputId": "76927733-7034-44e6-f4e7-28d115697f16"
      },
      "outputs": [
        {
          "name": "stdout",
          "output_type": "stream",
          "text": [
            "The sum of 2 numbers 5\n"
          ]
        }
      ],
      "source": [
        "f2(2,3)"
      ]
    },
    {
      "cell_type": "code",
      "execution_count": null,
      "id": "bc2b704d-0df3-4f80-b497-4df119fa7f93",
      "metadata": {
        "id": "bc2b704d-0df3-4f80-b497-4df119fa7f93",
        "outputId": "69396dc3-6dcd-4f8e-eb68-6bf2c786c3aa"
      },
      "outputs": [
        {
          "name": "stdin",
          "output_type": "stream",
          "text": [
            " 10\n"
          ]
        },
        {
          "name": "stdout",
          "output_type": "stream",
          "text": [
            "10 is an even number\n"
          ]
        }
      ],
      "source": [
        "# write a function f3 which accepts a parameter 'N' and check whether n is even or odd\n",
        "def f3(n):\n",
        "    if (n%2==0):\n",
        "          print(n, 'is an even number')\n",
        "    else:\n",
        "          print(n, 'is a odd number')\n",
        "n= int(input())\n",
        "f3(n)"
      ]
    },
    {
      "cell_type": "code",
      "execution_count": null,
      "id": "c104575d-260e-46da-9721-1248a48c30ab",
      "metadata": {
        "id": "c104575d-260e-46da-9721-1248a48c30ab",
        "outputId": "8d9655fb-3f86-41b7-8abd-5fb6e3a3c4c6"
      },
      "outputs": [
        {
          "name": "stdout",
          "output_type": "stream",
          "text": [
            "2\n",
            "4\n",
            "6\n"
          ]
        }
      ],
      "source": [
        "l = [1,2,3,4,5,6]\n",
        "def f4(l):\n",
        "    for i in l:\n",
        "        if i%2==0:\n",
        "            print(i)\n",
        "f4(l)"
      ]
    },
    {
      "cell_type": "code",
      "execution_count": null,
      "id": "e54e834e-1cde-4c89-8e78-f0c047b12ffe",
      "metadata": {
        "id": "e54e834e-1cde-4c89-8e78-f0c047b12ffe",
        "outputId": "e9b65586-af26-4f06-db39-c44616eb33a7"
      },
      "outputs": [
        {
          "data": {
            "text/plain": [
              "[2, 4, 6]"
            ]
          },
          "execution_count": 148,
          "metadata": {},
          "output_type": "execute_result"
        }
      ],
      "source": [
        "l = [1,2,3,4,5,6]\n",
        "def f4(l):\n",
        "    l1=[]\n",
        "    for i in l:\n",
        "        if i%2==0:\n",
        "            l1.append(i)\n",
        "    return l1\n",
        "f4(l)"
      ]
    },
    {
      "cell_type": "markdown",
      "id": "7f7fe4d5-601e-4664-bc01-b9e104ce67cb",
      "metadata": {
        "id": "7f7fe4d5-601e-4664-bc01-b9e104ce67cb"
      },
      "source": [
        "4 types of functions\n",
        "\n",
        "1. function without parameter and without return value\n",
        "\n",
        "2. function with parameter and without return value\n",
        "\n",
        "3. function with parameter and with return value\n",
        "\n",
        "4. function without parameter with return value"
      ]
    },
    {
      "cell_type": "code",
      "execution_count": null,
      "id": "05f3bd0f-e892-42d0-83d2-d071babbba48",
      "metadata": {
        "id": "05f3bd0f-e892-42d0-83d2-d071babbba48",
        "outputId": "11851550-9a69-4769-ac50-f47e9b65ede9"
      },
      "outputs": [
        {
          "name": "stdout",
          "output_type": "stream",
          "text": [
            "Hello.\n"
          ]
        }
      ],
      "source": [
        "# function without parameter and without return value\n",
        "def f():\n",
        "    print('Hello.')\n",
        "f()"
      ]
    },
    {
      "cell_type": "code",
      "execution_count": null,
      "id": "5117e2ce-18f6-4e03-b065-db59e3882907",
      "metadata": {
        "id": "5117e2ce-18f6-4e03-b065-db59e3882907",
        "outputId": "e887a633-8a14-4479-e962-117958c6fed7"
      },
      "outputs": [
        {
          "name": "stdout",
          "output_type": "stream",
          "text": [
            "Hello, World!\n"
          ]
        }
      ],
      "source": [
        "def Abhinav():\n",
        "    print(\"Hello, World!\")\n",
        "Abhinav()"
      ]
    },
    {
      "cell_type": "code",
      "execution_count": null,
      "id": "3faaf5c1-bd72-40fe-ba89-57ddabcebf94",
      "metadata": {
        "id": "3faaf5c1-bd72-40fe-ba89-57ddabcebf94",
        "outputId": "045a5cd6-9297-437f-f9f7-842929d4ed02"
      },
      "outputs": [
        {
          "name": "stdout",
          "output_type": "stream",
          "text": [
            "No parameter no return value\n"
          ]
        }
      ],
      "source": [
        "def f1():\n",
        "    print('No parameter no return value')\n",
        "\n",
        "f1()"
      ]
    },
    {
      "cell_type": "code",
      "execution_count": null,
      "id": "49211dee-85c0-49cc-9161-23447545807c",
      "metadata": {
        "id": "49211dee-85c0-49cc-9161-23447545807c",
        "outputId": "8cb50978-529e-47c3-ef7e-75bd57ebf902"
      },
      "outputs": [
        {
          "name": "stdin",
          "output_type": "stream",
          "text": [
            " Lakshmi\n"
          ]
        },
        {
          "name": "stdout",
          "output_type": "stream",
          "text": [
            "Hello Lakshmi\n"
          ]
        }
      ],
      "source": [
        "# function with parameter and without return value\n",
        "def f(n):\n",
        "    print('Hello',n)\n",
        "\n",
        "n = str(input())\n",
        "f(n)"
      ]
    },
    {
      "cell_type": "code",
      "execution_count": null,
      "id": "d6aeb169-8ed8-48b6-8da2-9fe15a1199fb",
      "metadata": {
        "id": "d6aeb169-8ed8-48b6-8da2-9fe15a1199fb",
        "outputId": "bf01d202-2831-42e1-c85f-742092bd6888"
      },
      "outputs": [
        {
          "name": "stdin",
          "output_type": "stream",
          "text": [
            " 1\n"
          ]
        },
        {
          "name": "stdout",
          "output_type": "stream",
          "text": [
            "positive\n"
          ]
        }
      ],
      "source": [
        "def pos(n):\n",
        "    if n < 0:\n",
        "        print('negative')\n",
        "    elif n>0:\n",
        "        print('positive')\n",
        "    else:\n",
        "        print('zero')\n",
        "n = int(input())\n",
        "pos(n)"
      ]
    },
    {
      "cell_type": "code",
      "execution_count": null,
      "id": "8d174cbc-d827-4251-a0ad-7902c7d3143c",
      "metadata": {
        "id": "8d174cbc-d827-4251-a0ad-7902c7d3143c",
        "outputId": "2d008023-edf0-4098-8159-ca0acfc9a6e2"
      },
      "outputs": [
        {
          "data": {
            "text/plain": [
              "7"
            ]
          },
          "execution_count": 26,
          "metadata": {},
          "output_type": "execute_result"
        }
      ],
      "source": [
        "#  function with parameter and with return value\n",
        "def fun(a,b):\n",
        "    c=a+b\n",
        "    return c\n",
        "fun(3,4)\n"
      ]
    },
    {
      "cell_type": "code",
      "execution_count": null,
      "id": "e3fc071a-497a-4a63-8a65-40528ea9a6aa",
      "metadata": {
        "id": "e3fc071a-497a-4a63-8a65-40528ea9a6aa",
        "outputId": "85ba8417-04c7-4aab-ae5b-25347fbe774b"
      },
      "outputs": [
        {
          "data": {
            "text/plain": [
              "5"
            ]
          },
          "execution_count": 30,
          "metadata": {},
          "output_type": "execute_result"
        }
      ],
      "source": [
        "def add_numbers(a, b):\n",
        "    return a + b\n",
        "add_numbers(2,3)"
      ]
    },
    {
      "cell_type": "code",
      "execution_count": null,
      "id": "7c1f1fc7-96bc-4897-972d-2910a0daf3e2",
      "metadata": {
        "id": "7c1f1fc7-96bc-4897-972d-2910a0daf3e2"
      },
      "outputs": [],
      "source": [
        "def fstr(s):\n",
        "    return s[::-1]"
      ]
    },
    {
      "cell_type": "code",
      "execution_count": null,
      "id": "8ef2b0f2-6ee9-47a3-b896-9ea558f31a7d",
      "metadata": {
        "id": "8ef2b0f2-6ee9-47a3-b896-9ea558f31a7d",
        "outputId": "3fa470dc-5b53-4fe2-9800-da7e6fab554d"
      },
      "outputs": [
        {
          "name": "stdin",
          "output_type": "stream",
          "text": [
            " MoM\n"
          ]
        },
        {
          "data": {
            "text/plain": [
              "'MoM'"
            ]
          },
          "execution_count": 48,
          "metadata": {},
          "output_type": "execute_result"
        }
      ],
      "source": [
        "s = str(input())\n",
        "fstr(s)"
      ]
    },
    {
      "cell_type": "code",
      "execution_count": null,
      "id": "0c298215-5b6a-4ad4-b499-e9c29415676a",
      "metadata": {
        "id": "0c298215-5b6a-4ad4-b499-e9c29415676a",
        "outputId": "73334b61-6902-4053-9fc2-838e5b3028f2"
      },
      "outputs": [
        {
          "name": "stdout",
          "output_type": "stream",
          "text": [
            "Palindrome\n"
          ]
        }
      ],
      "source": [
        "if s == fstr(s):\n",
        "    print('Palindrome')\n",
        "else:\n",
        "    print('not palindrome')"
      ]
    },
    {
      "cell_type": "markdown",
      "id": "7174efca-af42-4095-895b-12b87431881f",
      "metadata": {
        "id": "7174efca-af42-4095-895b-12b87431881f"
      },
      "source": []
    },
    {
      "cell_type": "code",
      "execution_count": null,
      "id": "cef0ec55-284d-46a9-b9de-8ded5b906346",
      "metadata": {
        "id": "cef0ec55-284d-46a9-b9de-8ded5b906346",
        "outputId": "2d93623b-7dab-4636-92ab-654f4bab9e6f"
      },
      "outputs": [
        {
          "data": {
            "text/plain": [
              "False"
            ]
          },
          "execution_count": 53,
          "metadata": {},
          "output_type": "execute_result"
        }
      ],
      "source": [
        "# function without parameter with return value\n",
        "\n",
        "def f1():\n",
        "    a = 10\n",
        "    b = 20\n",
        "    return a>b\n",
        "f1()"
      ]
    },
    {
      "cell_type": "code",
      "execution_count": null,
      "id": "21833ce6-3ecd-4685-8388-572311c43d08",
      "metadata": {
        "id": "21833ce6-3ecd-4685-8388-572311c43d08",
        "outputId": "cf94dfb1-b602-4c88-dff5-bcb68245d808"
      },
      "outputs": [
        {
          "data": {
            "text/plain": [
              "'Hello, World!'"
            ]
          },
          "execution_count": 55,
          "metadata": {},
          "output_type": "execute_result"
        }
      ],
      "source": [
        "def get_greeting():\n",
        "    return \"Hello, World!\"\n",
        "\n",
        "get_greeting()"
      ]
    },
    {
      "cell_type": "code",
      "execution_count": null,
      "id": "5ab9be7c-98bc-41df-ae39-df2d336363cb",
      "metadata": {
        "id": "5ab9be7c-98bc-41df-ae39-df2d336363cb",
        "outputId": "5059cc46-c7a8-4f19-cc57-636514370685"
      },
      "outputs": [
        {
          "name": "stdin",
          "output_type": "stream",
          "text": [
            " 18\n"
          ]
        },
        {
          "name": "stdout",
          "output_type": "stream",
          "text": [
            "major\n"
          ]
        }
      ],
      "source": [
        "def age():\n",
        "    age = int(input())\n",
        "    if age >= 18:\n",
        "        print('major')\n",
        "    else:\n",
        "        print('minor')\n",
        "\n",
        "age()\n"
      ]
    },
    {
      "cell_type": "markdown",
      "id": "c2526c26-a709-412e-9d14-8c3e2f1390f0",
      "metadata": {
        "id": "c2526c26-a709-412e-9d14-8c3e2f1390f0"
      },
      "source": [
        "### Lambda function\n",
        "\n",
        "1. A lambda function is an anonymous  function i.e  function without a name\n",
        "\n",
        "2. We use lambda fucntin when we require a nameless function stored for shorter period of time\n",
        "\n",
        "3. These lambda function can take any number of parameters and compute the necessary condition\n"
      ]
    },
    {
      "cell_type": "code",
      "execution_count": null,
      "id": "8bc0a0ba-7c9e-4a24-ab02-3ee2685254da",
      "metadata": {
        "id": "8bc0a0ba-7c9e-4a24-ab02-3ee2685254da"
      },
      "outputs": [],
      "source": [
        "# lambda parameters : expression\n",
        "# return a+b\n",
        "\n",
        "var = lambda a,b : a+b"
      ]
    },
    {
      "cell_type": "code",
      "execution_count": null,
      "id": "e503a009-fec7-4362-a4ff-a6f59bd90630",
      "metadata": {
        "id": "e503a009-fec7-4362-a4ff-a6f59bd90630",
        "outputId": "31a1212f-7f13-4a5c-bbf3-24bc4ef0fa23"
      },
      "outputs": [
        {
          "name": "stdin",
          "output_type": "stream",
          "text": [
            " 10\n",
            " 10\n"
          ]
        },
        {
          "data": {
            "text/plain": [
              "20"
            ]
          },
          "execution_count": 62,
          "metadata": {},
          "output_type": "execute_result"
        }
      ],
      "source": [
        "# we are calling the lambda fucntion with the help of the variable name\n",
        "a = int(input())\n",
        "b = int(input())\n",
        "var(a,b)"
      ]
    },
    {
      "cell_type": "code",
      "execution_count": null,
      "id": "51fe3f00-fb19-4ebb-bd50-53dcaa5eb979",
      "metadata": {
        "id": "51fe3f00-fb19-4ebb-bd50-53dcaa5eb979",
        "outputId": "63d405d7-ef09-49b4-dfa6-d39926a5b130"
      },
      "outputs": [
        {
          "name": "stdin",
          "output_type": "stream",
          "text": [
            " 10\n",
            " 10\n",
            " 10\n"
          ]
        },
        {
          "data": {
            "text/plain": [
              "30"
            ]
          },
          "execution_count": 68,
          "metadata": {},
          "output_type": "execute_result"
        }
      ],
      "source": [
        "# add of 3 numbers\n",
        "var1 = lambda a,b,c:a+b+c\n",
        "a = int(input())\n",
        "b = int(input())\n",
        "c = int(input())\n",
        "var1(a,b,c)\n"
      ]
    },
    {
      "cell_type": "code",
      "execution_count": null,
      "id": "90b30fd0-70df-4d18-b92a-40fbf0c0e651",
      "metadata": {
        "id": "90b30fd0-70df-4d18-b92a-40fbf0c0e651",
        "outputId": "e1fb6e3f-dc94-48ae-aa9a-1f03c29c3ecc"
      },
      "outputs": [
        {
          "data": {
            "text/plain": [
              "4"
            ]
          },
          "execution_count": 72,
          "metadata": {},
          "output_type": "execute_result"
        }
      ],
      "source": [
        "# SQUARE of a number\n",
        "var2 = lambda a : a**2\n",
        "var2(2)"
      ]
    },
    {
      "cell_type": "code",
      "execution_count": null,
      "id": "18eb8c11-01f3-4516-9c4a-a14f2d38f325",
      "metadata": {
        "id": "18eb8c11-01f3-4516-9c4a-a14f2d38f325",
        "outputId": "76755eb0-cc95-4a3d-9326-a6aa2fabf838"
      },
      "outputs": [
        {
          "data": {
            "text/plain": [
              "'Not Equal'"
            ]
          },
          "execution_count": 80,
          "metadata": {},
          "output_type": "execute_result"
        }
      ],
      "source": [
        "### equality of 2 numbers\n",
        "var3 = lambda a,b: 'Equal' if a==b else 'Not Equal'\n",
        "var3(2,3)"
      ]
    },
    {
      "cell_type": "code",
      "execution_count": null,
      "id": "cabeba73-6fc0-4d89-9882-b12bf981a521",
      "metadata": {
        "id": "cabeba73-6fc0-4d89-9882-b12bf981a521",
        "outputId": "058c48fb-8924-4a7e-8d98-13f4bcbb0832"
      },
      "outputs": [
        {
          "name": "stdin",
          "output_type": "stream",
          "text": [
            "Enter number 1: 6\n"
          ]
        },
        {
          "data": {
            "text/plain": [
              "'Even'"
            ]
          },
          "execution_count": 84,
          "metadata": {},
          "output_type": "execute_result"
        }
      ],
      "source": [
        "## even or odd\n",
        "var5 = lambda a  : 'Even' if a%2==0 else \"Odd\"\n",
        "var1=int(input(\"Enter number 1:\"))\n",
        "var5(var1)"
      ]
    },
    {
      "cell_type": "code",
      "execution_count": null,
      "id": "183696ae-a5a2-4401-8738-7edc26f2924e",
      "metadata": {
        "id": "183696ae-a5a2-4401-8738-7edc26f2924e",
        "outputId": "bd49b9ab-0d9a-4c8a-ed8a-6c7f21c5415e"
      },
      "outputs": [
        {
          "data": {
            "text/plain": [
              "'positive'"
            ]
          },
          "execution_count": 90,
          "metadata": {},
          "output_type": "execute_result"
        }
      ],
      "source": [
        "## pos, neg or a zero\n",
        "var6 = lambda a: 'positive'  if a>0 else ('Negative' if a<0 else 'zero')\n",
        "var6(1)"
      ]
    },
    {
      "cell_type": "code",
      "execution_count": null,
      "id": "ee78ac18-b865-4b5f-854c-afa99525c12f",
      "metadata": {
        "id": "ee78ac18-b865-4b5f-854c-afa99525c12f",
        "outputId": "621d9de4-bf70-4ce2-8baa-dbca6d1e2cec"
      },
      "outputs": [
        {
          "name": "stdin",
          "output_type": "stream",
          "text": [
            "enter the score:  44\n"
          ]
        },
        {
          "data": {
            "text/plain": [
              "'D'"
            ]
          },
          "execution_count": 107,
          "metadata": {},
          "output_type": "execute_result"
        }
      ],
      "source": [
        "# score >=90 A\n",
        "# score >=80 B\n",
        "# score >=70 C\n",
        "# else D\n",
        "var7 = lambda score : 'A' if score >= 90 else('B' if score>= 80 else('C' if score >= 70 else 'D'))\n",
        "score = float(input('enter the score: '))\n",
        "\n",
        "var7(score)\n"
      ]
    },
    {
      "cell_type": "markdown",
      "id": "2b90a287-1262-4fb2-a32f-c4f9ff5a9230",
      "metadata": {
        "id": "2b90a287-1262-4fb2-a32f-c4f9ff5a9230"
      },
      "source": [
        "### Filter function\n",
        "\n",
        "- The filter() function filters the sequence with the help of fuction\n",
        "\n",
        "- i.e the function gets applied on each and every element of the sequence and validates whther is true or false\n",
        "\n",
        "- syntax : filter(function, sequence)"
      ]
    },
    {
      "cell_type": "code",
      "execution_count": null,
      "id": "f5adca91-e0fc-4871-b4eb-2c537f7d0faf",
      "metadata": {
        "id": "f5adca91-e0fc-4871-b4eb-2c537f7d0faf",
        "outputId": "d93b4a38-12e8-42c1-a91c-56d4639afb78"
      },
      "outputs": [
        {
          "data": {
            "text/plain": [
              "[2, 4, 6, 8, 10]"
            ]
          },
          "execution_count": 117,
          "metadata": {},
          "output_type": "execute_result"
        }
      ],
      "source": [
        "# even or odd\n",
        "#lambda\n",
        "l = [1,2,3,4,5,6,7,8,9,10]\n",
        "list(filter(lambda i : i%2==0,l))"
      ]
    },
    {
      "cell_type": "code",
      "execution_count": null,
      "id": "c497e572-6f72-45fd-9703-1829a20b692b",
      "metadata": {
        "id": "c497e572-6f72-45fd-9703-1829a20b692b",
        "outputId": "6111060a-f435-4e22-c99b-b208db8ea003"
      },
      "outputs": [
        {
          "data": {
            "text/plain": [
              "[2, 4, 6, 8, 10]"
            ]
          },
          "execution_count": 119,
          "metadata": {},
          "output_type": "execute_result"
        }
      ],
      "source": [
        "# def\n",
        "def even(i):\n",
        "    return i%2==0\n",
        "list(filter(even,l))"
      ]
    },
    {
      "cell_type": "code",
      "execution_count": null,
      "id": "8ac45871-542d-4806-a1e0-49cb393a659c",
      "metadata": {
        "id": "8ac45871-542d-4806-a1e0-49cb393a659c",
        "outputId": "c90a92c5-6d56-4977-a523-0b956ff22307"
      },
      "outputs": [
        {
          "data": {
            "text/plain": [
              "[-2, -1]"
            ]
          },
          "execution_count": 121,
          "metadata": {},
          "output_type": "execute_result"
        }
      ],
      "source": [
        "# Filter negative numbers\n",
        "numbers = [-2, -1, 0, 1, 2, 3, 4, 5]\n",
        "\n",
        "list(filter(lambda i : i <0 ,numbers))"
      ]
    },
    {
      "cell_type": "code",
      "execution_count": null,
      "id": "42319ddf-03a7-4efa-83a0-d6bc1fad9370",
      "metadata": {
        "id": "42319ddf-03a7-4efa-83a0-d6bc1fad9370",
        "outputId": "4a1e3a4e-a9b3-4490-8446-25cb0931f337"
      },
      "outputs": [
        {
          "data": {
            "text/plain": [
              "7.5"
            ]
          },
          "execution_count": 125,
          "metadata": {},
          "output_type": "execute_result"
        }
      ],
      "source": [
        "# find the avg of the list\n",
        "# and print those values which are greater than the average value\n",
        "l1 = [10, 5, 8, 12, 3, 7]\n",
        "sum(l1)/len(l1)"
      ]
    },
    {
      "cell_type": "code",
      "execution_count": null,
      "id": "8f9e1513-49dd-485e-a7e8-adc58cf5bf3c",
      "metadata": {
        "id": "8f9e1513-49dd-485e-a7e8-adc58cf5bf3c",
        "outputId": "793d5df2-8d8a-4903-c2d4-69ba6b30a02f"
      },
      "outputs": [
        {
          "data": {
            "text/plain": [
              "[10, 8, 12]"
            ]
          },
          "execution_count": 127,
          "metadata": {},
          "output_type": "execute_result"
        }
      ],
      "source": [
        "list(filter(lambda i: i > (sum(l1)/len(l1)),l1))"
      ]
    },
    {
      "cell_type": "code",
      "execution_count": null,
      "id": "6557a094-273c-4901-9d06-936c9bc88f17",
      "metadata": {
        "id": "6557a094-273c-4901-9d06-936c9bc88f17",
        "outputId": "f221df14-3294-421e-9bb1-24680889b3bf"
      },
      "outputs": [
        {
          "data": {
            "text/plain": [
              "[10, 8, 12]"
            ]
          },
          "execution_count": 131,
          "metadata": {},
          "output_type": "execute_result"
        }
      ],
      "source": [
        "x=sum(l1)/len(l1)\n",
        "list(filter(lambda i : i>=x,l1))"
      ]
    },
    {
      "cell_type": "code",
      "execution_count": null,
      "id": "ea505c7e-3697-4597-8ec4-c472936ebbee",
      "metadata": {
        "id": "ea505c7e-3697-4597-8ec4-c472936ebbee"
      },
      "outputs": [],
      "source": []
    },
    {
      "cell_type": "markdown",
      "id": "fde02885-110e-484d-a679-09cb6b8ed4ba",
      "metadata": {
        "id": "fde02885-110e-484d-a679-09cb6b8ed4ba"
      },
      "source": [
        "### Map functin\n",
        "\n",
        "- map the entire function's functionality to each and every element of the sequence\n",
        "\n",
        "- map(function,squence)\n",
        "\n"
      ]
    },
    {
      "cell_type": "code",
      "execution_count": null,
      "id": "dd86f148-032c-4f89-b66e-843e58e728f5",
      "metadata": {
        "id": "dd86f148-032c-4f89-b66e-843e58e728f5",
        "outputId": "510b3762-c323-42d7-8f77-ec35be042013"
      },
      "outputs": [
        {
          "data": {
            "text/plain": [
              "[2, 3, 4, 5]"
            ]
          },
          "execution_count": 135,
          "metadata": {},
          "output_type": "execute_result"
        }
      ],
      "source": [
        "#out = [2,3,4,5]\n",
        "l = [1,2,3,4]\n",
        "list(map(lambda a:a+1,l))"
      ]
    },
    {
      "cell_type": "code",
      "execution_count": null,
      "id": "0a3ae09e-1ef3-4535-b678-16c27d57046a",
      "metadata": {
        "id": "0a3ae09e-1ef3-4535-b678-16c27d57046a",
        "outputId": "8c96aa11-1676-4845-d211-0ca2145e30c6"
      },
      "outputs": [
        {
          "data": {
            "text/plain": [
              "[2, 4, 6, 8]"
            ]
          },
          "execution_count": 137,
          "metadata": {},
          "output_type": "execute_result"
        }
      ],
      "source": [
        "# double of all the values\n",
        "l = [1,2,3,4]\n",
        "list(map(lambda a:a *2,l))"
      ]
    },
    {
      "cell_type": "code",
      "execution_count": null,
      "id": "bcee46aa-1d57-4ca6-add2-9b326f0c095d",
      "metadata": {
        "id": "bcee46aa-1d57-4ca6-add2-9b326f0c095d",
        "outputId": "f9c88dfd-07fb-4da8-b365-3e45e38c8aa9"
      },
      "outputs": [
        {
          "data": {
            "text/plain": [
              "[3, 5, 7, 9]"
            ]
          },
          "execution_count": 139,
          "metadata": {},
          "output_type": "execute_result"
        }
      ],
      "source": [
        "# add two lists using map and lambda\n",
        "i = [1,2,3,4]\n",
        "j = [2,3,4,5]\n",
        "\n",
        "list(map(lambda a,b: a+b, i,j))"
      ]
    },
    {
      "cell_type": "code",
      "execution_count": null,
      "id": "7ab4eb8d-47ba-49a7-bb55-8edf32153eb7",
      "metadata": {
        "id": "7ab4eb8d-47ba-49a7-bb55-8edf32153eb7",
        "outputId": "040518bc-44c1-43ae-c0ba-0fa7c9149828"
      },
      "outputs": [
        {
          "data": {
            "text/plain": [
              "['PYTHON', 'CDS', 'CDE', 'CDS']"
            ]
          },
          "execution_count": 141,
          "metadata": {},
          "output_type": "execute_result"
        }
      ],
      "source": [
        "c = ['Python','Cds','Cde','Cds']\n",
        "# output should have all the values in the upper case\n",
        "\n",
        "list(map(lambda i:i.upper(),c))"
      ]
    },
    {
      "cell_type": "code",
      "execution_count": null,
      "id": "3553985b-32e8-40bd-884e-7c643df79699",
      "metadata": {
        "id": "3553985b-32e8-40bd-884e-7c643df79699"
      },
      "outputs": [],
      "source": [
        "# Check for odd and even\n",
        "numbers = [1, 2, 3, 4, 5]\n",
        "#Task"
      ]
    },
    {
      "cell_type": "code",
      "execution_count": null,
      "id": "98060620-0106-4276-b1cc-0596fb76e49e",
      "metadata": {
        "id": "98060620-0106-4276-b1cc-0596fb76e49e",
        "outputId": "84e527f9-28cd-4f47-a75e-32f5a25dd634"
      },
      "outputs": [
        {
          "data": {
            "text/plain": [
              "['odd', 'even', 'odd', 'even', 'odd']"
            ]
          },
          "execution_count": 147,
          "metadata": {},
          "output_type": "execute_result"
        }
      ],
      "source": [
        "list(map(lambda i: 'even' if i%2==0 else 'odd',numbers))\n"
      ]
    },
    {
      "cell_type": "code",
      "execution_count": null,
      "id": "3ebb3521-fca3-474e-ab66-dc13bffa03aa",
      "metadata": {
        "id": "3ebb3521-fca3-474e-ab66-dc13bffa03aa"
      },
      "outputs": [],
      "source": []
    },
    {
      "cell_type": "markdown",
      "id": "9eee19d1-f512-4d53-b4f1-42d2df172eae",
      "metadata": {
        "id": "9eee19d1-f512-4d53-b4f1-42d2df172eae"
      },
      "source": [
        "### Reduce functin\n",
        "\n",
        "- reduce(function , sequence)\n",
        "\n",
        "- the entire functin is applied to all the values of the sequencr and reduce it to single value\n",
        "\n",
        "- This function is defined in “functools” module."
      ]
    },
    {
      "cell_type": "code",
      "execution_count": null,
      "id": "51b09302-bf6a-40b2-9056-dd3fc7c6dfed",
      "metadata": {
        "id": "51b09302-bf6a-40b2-9056-dd3fc7c6dfed",
        "outputId": "d681bda8-7813-40ea-b473-7e07d67a2ddd"
      },
      "outputs": [
        {
          "data": {
            "text/plain": [
              "21"
            ]
          },
          "execution_count": 157,
          "metadata": {},
          "output_type": "execute_result"
        }
      ],
      "source": [
        "import functools\n",
        "l = [1,2,3,4,5,6]\n",
        "functools.reduce(lambda i,j: i+j , l)"
      ]
    },
    {
      "cell_type": "code",
      "execution_count": null,
      "id": "1b0d3eab-c501-440f-98ed-b4c7763406b4",
      "metadata": {
        "id": "1b0d3eab-c501-440f-98ed-b4c7763406b4"
      },
      "outputs": [],
      "source": [
        "1+2)+3)+4)+5)+6"
      ]
    },
    {
      "cell_type": "code",
      "execution_count": null,
      "id": "39336e4d-067f-4911-8658-1b96682596aa",
      "metadata": {
        "id": "39336e4d-067f-4911-8658-1b96682596aa",
        "outputId": "37489d9e-73ae-4571-88e0-3229ba563144"
      },
      "outputs": [
        {
          "data": {
            "text/plain": [
              "1"
            ]
          },
          "execution_count": 161,
          "metadata": {},
          "output_type": "execute_result"
        }
      ],
      "source": [
        "l = [1,2,3,4,5,6]\n",
        "functools.reduce(lambda i,j:  i  if i<j else j,l)"
      ]
    },
    {
      "cell_type": "code",
      "execution_count": null,
      "id": "87319a28-4803-4740-9dea-b2ab7440e35d",
      "metadata": {
        "id": "87319a28-4803-4740-9dea-b2ab7440e35d",
        "outputId": "c8e1b62e-42d2-4dca-b587-9e149c3f300e"
      },
      "outputs": [
        {
          "data": {
            "text/plain": [
              "[10, 8, 12]"
            ]
          },
          "execution_count": 165,
          "metadata": {},
          "output_type": "execute_result"
        }
      ],
      "source": [
        "l1=[10,5,8,12,3,7]\n",
        "list(filter(lambda i: i > (sum(l1)/len(l1)),l1))\n"
      ]
    },
    {
      "cell_type": "code",
      "execution_count": null,
      "id": "96e78378-0120-448f-85f9-9e9b6f90eccd",
      "metadata": {
        "id": "96e78378-0120-448f-85f9-9e9b6f90eccd"
      },
      "outputs": [],
      "source": []
    }
  ],
  "metadata": {
    "kernelspec": {
      "display_name": "Python 3 (ipykernel)",
      "language": "python",
      "name": "python3"
    },
    "language_info": {
      "codemirror_mode": {
        "name": "ipython",
        "version": 3
      },
      "file_extension": ".py",
      "mimetype": "text/x-python",
      "name": "python",
      "nbconvert_exporter": "python",
      "pygments_lexer": "ipython3",
      "version": "3.12.4"
    },
    "colab": {
      "provenance": [],
      "include_colab_link": true
    }
  },
  "nbformat": 4,
  "nbformat_minor": 5
}