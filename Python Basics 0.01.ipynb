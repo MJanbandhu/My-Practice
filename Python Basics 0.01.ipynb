{
 "cells": [
  {
   "cell_type": "markdown",
   "id": "e61d26cc",
   "metadata": {},
   "source": [
    "# hi"
   ]
  },
  {
   "cell_type": "code",
   "execution_count": 2,
   "id": "56f7c2c4",
   "metadata": {},
   "outputs": [],
   "source": [
    "pro= lambda ev_odd: \"Even\" if ev_odd %2==0 else \"Odd\""
   ]
  },
  {
   "cell_type": "code",
   "execution_count": 3,
   "id": "6198381a",
   "metadata": {},
   "outputs": [
    {
     "data": {
      "text/plain": [
       "'Odd'"
      ]
     },
     "execution_count": 3,
     "metadata": {},
     "output_type": "execute_result"
    }
   ],
   "source": [
    "pro(5)"
   ]
  },
  {
   "cell_type": "code",
   "execution_count": 4,
   "id": "40db8ecf",
   "metadata": {},
   "outputs": [],
   "source": [
    "list1=[5,8,6,4,9,5,2,1,6,9,7,2,4,8]"
   ]
  },
  {
   "cell_type": "code",
   "execution_count": 5,
   "id": "cf47ad22",
   "metadata": {},
   "outputs": [],
   "source": [
    "pro= map(lambda ev_odd: \"Even\" if ev_odd %2==0 else \"Odd\",list1)"
   ]
  },
  {
   "cell_type": "code",
   "execution_count": 6,
   "id": "82ce609d",
   "metadata": {},
   "outputs": [
    {
     "name": "stdout",
     "output_type": "stream",
     "text": [
      "['Odd', 'Even', 'Even', 'Even', 'Odd', 'Odd', 'Even', 'Odd', 'Even', 'Odd', 'Odd', 'Even', 'Even', 'Even']\n"
     ]
    }
   ],
   "source": [
    "print(list(pro))"
   ]
  },
  {
   "cell_type": "code",
   "execution_count": 67,
   "id": "a3880c0c",
   "metadata": {},
   "outputs": [],
   "source": [
    "def ev_od(number):\n",
    "    if list1%2==0:\n",
    "        print(\"Even Number\")\n",
    "        \n",
    "    else:\n",
    "        print(\"Odd number\")"
   ]
  },
  {
   "cell_type": "code",
   "execution_count": 18,
   "id": "4442c170",
   "metadata": {},
   "outputs": [],
   "source": [
    "def ev_od(number):\n",
    "    if number % 2 == 0:\n",
    "        print(\"Even Number\")\n",
    "    else:\n",
    "        print(\"Odd Number\")"
   ]
  },
  {
   "cell_type": "code",
   "execution_count": 20,
   "id": "2f4ba8e9",
   "metadata": {},
   "outputs": [
    {
     "name": "stdout",
     "output_type": "stream",
     "text": [
      "Odd Number\n",
      "None\n",
      "Even Number\n",
      "None\n",
      "Even Number\n",
      "None\n",
      "Even Number\n",
      "None\n",
      "Odd Number\n",
      "None\n",
      "Odd Number\n",
      "None\n",
      "Even Number\n",
      "None\n",
      "Odd Number\n",
      "None\n",
      "Even Number\n",
      "None\n",
      "Odd Number\n",
      "None\n",
      "Odd Number\n",
      "None\n",
      "Even Number\n",
      "None\n",
      "Even Number\n",
      "None\n",
      "Even Number\n",
      "None\n"
     ]
    }
   ],
   "source": [
    "for num in list1:\n",
    "    print(ev_od(num))"
   ]
  },
  {
   "cell_type": "code",
   "execution_count": 17,
   "id": "c10021db",
   "metadata": {},
   "outputs": [
    {
     "name": "stdout",
     "output_type": "stream",
     "text": [
      "odd\n",
      "Even\n",
      "Even\n",
      "Even\n",
      "odd\n",
      "odd\n",
      "Even\n",
      "odd\n",
      "Even\n",
      "odd\n",
      "odd\n",
      "Even\n",
      "Even\n",
      "Even\n"
     ]
    }
   ],
   "source": [
    "for number in list1:\n",
    "    if number%2==0:\n",
    "        print(\"Even\")\n",
    "    else:\n",
    "        print(\"odd\")"
   ]
  },
  {
   "cell_type": "code",
   "execution_count": null,
   "id": "6c9431e6",
   "metadata": {},
   "outputs": [],
   "source": [
    "list1 = [5, 8, 6, 4, 9, 5, 2, 1, 6, 9, 7, 2, 4, 8]\n",
    "\n",
    "for number in list1:\n",
    "    if number % 2 == 0:  # Use 'number' instead of 'list1'\n",
    "        print(\"Even\")\n",
    "    else:\n",
    "        print(\"Odd\")"
   ]
  },
  {
   "cell_type": "code",
   "execution_count": null,
   "id": "d85e8f7e",
   "metadata": {},
   "outputs": [],
   "source": []
  },
  {
   "cell_type": "code",
   "execution_count": 21,
   "id": "43347012",
   "metadata": {},
   "outputs": [
    {
     "data": {
      "text/plain": [
       "[5, 8, 6, 4, 9, 5, 2, 1, 6, 9, 7, 2, 4, 8]"
      ]
     },
     "execution_count": 21,
     "metadata": {},
     "output_type": "execute_result"
    }
   ],
   "source": [
    "list1"
   ]
  },
  {
   "cell_type": "code",
   "execution_count": 22,
   "id": "f4fbad4b",
   "metadata": {},
   "outputs": [],
   "source": [
    "list1.append(50)"
   ]
  },
  {
   "cell_type": "code",
   "execution_count": 23,
   "id": "743f757a",
   "metadata": {},
   "outputs": [
    {
     "data": {
      "text/plain": [
       "[5, 8, 6, 4, 9, 5, 2, 1, 6, 9, 7, 2, 4, 8, 50]"
      ]
     },
     "execution_count": 23,
     "metadata": {},
     "output_type": "execute_result"
    }
   ],
   "source": [
    "list1"
   ]
  },
  {
   "cell_type": "code",
   "execution_count": 24,
   "id": "12499efb",
   "metadata": {},
   "outputs": [],
   "source": [
    "list1.insert(3,70)"
   ]
  },
  {
   "cell_type": "code",
   "execution_count": 25,
   "id": "4b61ffe9",
   "metadata": {},
   "outputs": [
    {
     "data": {
      "text/plain": [
       "[5, 8, 6, 70, 4, 9, 5, 2, 1, 6, 9, 7, 2, 4, 8, 50]"
      ]
     },
     "execution_count": 25,
     "metadata": {},
     "output_type": "execute_result"
    }
   ],
   "source": [
    "list1"
   ]
  },
  {
   "cell_type": "code",
   "execution_count": 28,
   "id": "650f63bd",
   "metadata": {},
   "outputs": [
    {
     "data": {
      "text/plain": [
       "[5, 4, 1, 2]"
      ]
     },
     "execution_count": 28,
     "metadata": {},
     "output_type": "execute_result"
    }
   ],
   "source": [
    "list1[::4]"
   ]
  },
  {
   "cell_type": "code",
   "execution_count": 29,
   "id": "340e1fde",
   "metadata": {},
   "outputs": [
    {
     "data": {
      "text/plain": [
       "9"
      ]
     },
     "execution_count": 29,
     "metadata": {},
     "output_type": "execute_result"
    }
   ],
   "source": [
    "list1.pop(5)"
   ]
  },
  {
   "cell_type": "code",
   "execution_count": 30,
   "id": "eb6221e0",
   "metadata": {},
   "outputs": [
    {
     "data": {
      "text/plain": [
       "[5, 8, 6, 70, 4, 5, 2, 1, 6, 9, 7, 2, 4, 8, 50]"
      ]
     },
     "execution_count": 30,
     "metadata": {},
     "output_type": "execute_result"
    }
   ],
   "source": [
    "list1"
   ]
  },
  {
   "cell_type": "code",
   "execution_count": 31,
   "id": "fc07ca27",
   "metadata": {},
   "outputs": [
    {
     "data": {
      "text/plain": [
       "1"
      ]
     },
     "execution_count": 31,
     "metadata": {},
     "output_type": "execute_result"
    }
   ],
   "source": [
    "min(list1)"
   ]
  },
  {
   "cell_type": "code",
   "execution_count": 32,
   "id": "88b9c74d",
   "metadata": {},
   "outputs": [
    {
     "data": {
      "text/plain": [
       "70"
      ]
     },
     "execution_count": 32,
     "metadata": {},
     "output_type": "execute_result"
    }
   ],
   "source": [
    "max(list1)"
   ]
  },
  {
   "cell_type": "code",
   "execution_count": 33,
   "id": "bdeb4ab5",
   "metadata": {},
   "outputs": [
    {
     "data": {
      "text/plain": [
       "15"
      ]
     },
     "execution_count": 33,
     "metadata": {},
     "output_type": "execute_result"
    }
   ],
   "source": [
    "len(list1)"
   ]
  },
  {
   "cell_type": "code",
   "execution_count": 34,
   "id": "d6eff004",
   "metadata": {},
   "outputs": [
    {
     "data": {
      "text/plain": [
       "187"
      ]
     },
     "execution_count": 34,
     "metadata": {},
     "output_type": "execute_result"
    }
   ],
   "source": [
    "sum(list1)"
   ]
  },
  {
   "cell_type": "code",
   "execution_count": 36,
   "id": "37793337",
   "metadata": {},
   "outputs": [
    {
     "data": {
      "text/plain": [
       "list"
      ]
     },
     "execution_count": 36,
     "metadata": {},
     "output_type": "execute_result"
    }
   ],
   "source": [
    "type(list1)"
   ]
  },
  {
   "cell_type": "code",
   "execution_count": 1,
   "id": "e9a1106f",
   "metadata": {},
   "outputs": [],
   "source": [
    "str1=\"Mohit Janbandhu 12345\""
   ]
  },
  {
   "cell_type": "code",
   "execution_count": 38,
   "id": "28899b85",
   "metadata": {},
   "outputs": [
    {
     "data": {
      "text/plain": [
       "str"
      ]
     },
     "execution_count": 38,
     "metadata": {},
     "output_type": "execute_result"
    }
   ],
   "source": [
    "type(str1)"
   ]
  },
  {
   "cell_type": "markdown",
   "id": "27f4d7b5",
   "metadata": {},
   "source": [
    "# Vowels"
   ]
  },
  {
   "cell_type": "code",
   "execution_count": 40,
   "id": "2297f77f",
   "metadata": {},
   "outputs": [],
   "source": [
    "vowels='aeiouAEIOU'"
   ]
  },
  {
   "cell_type": "code",
   "execution_count": 42,
   "id": "beb9c37a",
   "metadata": {},
   "outputs": [
    {
     "name": "stdout",
     "output_type": "stream",
     "text": [
      "o\n",
      "i\n",
      "a\n",
      "a\n",
      "u\n"
     ]
    }
   ],
   "source": [
    "for char in str1:\n",
    "    if char in vowels:\n",
    "        print(char)"
   ]
  },
  {
   "cell_type": "code",
   "execution_count": 44,
   "id": "5b7599eb",
   "metadata": {},
   "outputs": [
    {
     "name": "stdout",
     "output_type": "stream",
     "text": [
      "o i a a u "
     ]
    }
   ],
   "source": [
    "for char in str1:\n",
    "    if char in vowels:\n",
    "        print(char, end=' ')"
   ]
  },
  {
   "cell_type": "code",
   "execution_count": 61,
   "id": "6360ed50",
   "metadata": {},
   "outputs": [
    {
     "name": "stdout",
     "output_type": "stream",
     "text": [
      "Enter Value for checking whether It is Even or Odd6\n",
      "6 it is Even Number \n"
     ]
    }
   ],
   "source": [
    "inpt= int(input(\"Enter Value for checking whether It is Even or Odd\"))\n",
    "\n",
    "if inpt%2 ==0:\n",
    "    print('{} it is Even Number '. format(inpt))\n",
    "    \n",
    "else:\n",
    "    print(inpt,\"Odd number\")"
   ]
  },
  {
   "cell_type": "code",
   "execution_count": null,
   "id": "0c249255",
   "metadata": {},
   "outputs": [],
   "source": []
  },
  {
   "cell_type": "code",
   "execution_count": 62,
   "id": "594c8070",
   "metadata": {},
   "outputs": [],
   "source": [
    "list1=[1,5,8,4,6,9,7,4,7]"
   ]
  },
  {
   "cell_type": "code",
   "execution_count": 68,
   "id": "a986c25b",
   "metadata": {},
   "outputs": [],
   "source": [
    "def ev_od(number):\n",
    "    for number in list1:\n",
    "        if number % 2==0:\n",
    "            print(\"even\")\n",
    "            \n",
    "        else:\n",
    "            print('odd')"
   ]
  },
  {
   "cell_type": "code",
   "execution_count": 69,
   "id": "3ce04f2e",
   "metadata": {},
   "outputs": [
    {
     "name": "stdout",
     "output_type": "stream",
     "text": [
      "odd\n",
      "odd\n",
      "even\n",
      "even\n",
      "even\n",
      "odd\n",
      "odd\n",
      "even\n",
      "odd\n"
     ]
    }
   ],
   "source": [
    " ev_od(list1)"
   ]
  },
  {
   "cell_type": "code",
   "execution_count": 2,
   "id": "f67c235e",
   "metadata": {},
   "outputs": [],
   "source": [
    "upper_latter=[]\n",
    "lower_latter=[]\n",
    "digits=[]"
   ]
  },
  {
   "cell_type": "code",
   "execution_count": 4,
   "id": "ce6a99b0",
   "metadata": {},
   "outputs": [
    {
     "ename": "TypeError",
     "evalue": "'int' object is not iterable",
     "output_type": "error",
     "traceback": [
      "\u001b[1;31m---------------------------------------------------------------------------\u001b[0m",
      "\u001b[1;31mTypeError\u001b[0m                                 Traceback (most recent call last)",
      "Cell \u001b[1;32mIn[4], line 3\u001b[0m\n\u001b[0;32m      1\u001b[0m \u001b[38;5;28;01mfor\u001b[39;00m char \u001b[38;5;129;01min\u001b[39;00m str1:\n\u001b[0;32m      2\u001b[0m     \u001b[38;5;28;01mif\u001b[39;00m char\u001b[38;5;241m.\u001b[39misupper():\n\u001b[1;32m----> 3\u001b[0m         upper_latter \u001b[38;5;241m+\u001b[39m\u001b[38;5;241m=\u001b[39m\u001b[38;5;241m1\u001b[39m\n\u001b[0;32m      5\u001b[0m     \u001b[38;5;28;01melif\u001b[39;00m char\u001b[38;5;241m.\u001b[39mislower():\n\u001b[0;32m      6\u001b[0m         lower_latter \u001b[38;5;241m+\u001b[39m\u001b[38;5;241m=\u001b[39m\u001b[38;5;241m1\u001b[39m\n",
      "\u001b[1;31mTypeError\u001b[0m: 'int' object is not iterable"
     ]
    }
   ],
   "source": [
    "for char in str1:\n",
    "    if char.isupper():\n",
    "        upper_latter +=1\n",
    "        \n",
    "    elif char.islower():\n",
    "        lower_latter +=1\n",
    "        \n",
    "    elif char.isdigit():\n",
    "        digits +=1"
   ]
  },
  {
   "cell_type": "code",
   "execution_count": 74,
   "id": "669435e6",
   "metadata": {},
   "outputs": [
    {
     "name": "stdout",
     "output_type": "stream",
     "text": [
      "3\n"
     ]
    }
   ],
   "source": [
    "print(upper_latter)"
   ]
  },
  {
   "cell_type": "code",
   "execution_count": 6,
   "id": "d0fa2fb6",
   "metadata": {},
   "outputs": [],
   "source": [
    "upper_lat=[]\n",
    "lower_lat=[]\n",
    "digits=[]\n"
   ]
  },
  {
   "cell_type": "code",
   "execution_count": 7,
   "id": "28437625",
   "metadata": {},
   "outputs": [
    {
     "ename": "TypeError",
     "evalue": "'int' object is not iterable",
     "output_type": "error",
     "traceback": [
      "\u001b[1;31m---------------------------------------------------------------------------\u001b[0m",
      "\u001b[1;31mTypeError\u001b[0m                                 Traceback (most recent call last)",
      "Cell \u001b[1;32mIn[7], line 3\u001b[0m\n\u001b[0;32m      1\u001b[0m \u001b[38;5;28;01mfor\u001b[39;00m char \u001b[38;5;129;01min\u001b[39;00m str1:\n\u001b[0;32m      2\u001b[0m     \u001b[38;5;28;01mif\u001b[39;00m char\u001b[38;5;241m.\u001b[39misupper():\n\u001b[1;32m----> 3\u001b[0m         upper_lat\u001b[38;5;241m+\u001b[39m\u001b[38;5;241m=\u001b[39m\u001b[38;5;241m1\u001b[39m\n\u001b[0;32m      5\u001b[0m     \u001b[38;5;28;01melif\u001b[39;00m char\u001b[38;5;241m.\u001b[39mislower():\n\u001b[0;32m      6\u001b[0m         lower_lat\u001b[38;5;241m+\u001b[39m\u001b[38;5;241m=\u001b[39m\u001b[38;5;241m1\u001b[39m\n",
      "\u001b[1;31mTypeError\u001b[0m: 'int' object is not iterable"
     ]
    }
   ],
   "source": [
    "for char in str1:\n",
    "    if char.isupper():\n",
    "        upper_lat+=1\n",
    "    \n",
    "    elif char.islower():\n",
    "        lower_lat+=1\n",
    "    \n",
    "    elif char.isdigit():\n",
    "        digits+=1"
   ]
  },
  {
   "cell_type": "code",
   "execution_count": 8,
   "id": "c4441c9f",
   "metadata": {},
   "outputs": [],
   "source": [
    "str2=\"Mohit Janbandhu 1234\""
   ]
  },
  {
   "cell_type": "code",
   "execution_count": 9,
   "id": "bc99d18e",
   "metadata": {},
   "outputs": [],
   "source": [
    "upp_lat =[]\n",
    "low_lat =[]\n",
    "digits = []"
   ]
  },
  {
   "cell_type": "code",
   "execution_count": 10,
   "id": "b89687f0",
   "metadata": {},
   "outputs": [
    {
     "ename": "TypeError",
     "evalue": "'int' object is not iterable",
     "output_type": "error",
     "traceback": [
      "\u001b[1;31m---------------------------------------------------------------------------\u001b[0m",
      "\u001b[1;31mTypeError\u001b[0m                                 Traceback (most recent call last)",
      "Cell \u001b[1;32mIn[10], line 3\u001b[0m\n\u001b[0;32m      1\u001b[0m \u001b[38;5;28;01mfor\u001b[39;00m char \u001b[38;5;129;01min\u001b[39;00m str2:\n\u001b[0;32m      2\u001b[0m     \u001b[38;5;28;01mif\u001b[39;00m char\u001b[38;5;241m.\u001b[39misupper():\n\u001b[1;32m----> 3\u001b[0m         upp_lat \u001b[38;5;241m+\u001b[39m\u001b[38;5;241m=\u001b[39m\u001b[38;5;241m1\u001b[39m\n\u001b[0;32m      5\u001b[0m     \u001b[38;5;28;01melif\u001b[39;00m char\u001b[38;5;241m.\u001b[39mislower():\n\u001b[0;32m      6\u001b[0m         low_lat \u001b[38;5;241m+\u001b[39m\u001b[38;5;241m=\u001b[39m\u001b[38;5;241m1\u001b[39m\n",
      "\u001b[1;31mTypeError\u001b[0m: 'int' object is not iterable"
     ]
    }
   ],
   "source": [
    "for char in str2:\n",
    "    if char.isupper():\n",
    "        upp_lat +=1\n",
    "        \n",
    "    elif char.islower():\n",
    "        low_lat +=1\n",
    "        \n",
    "    elif char.isdigit():\n",
    "        digits +=1"
   ]
  },
  {
   "cell_type": "code",
   "execution_count": 11,
   "id": "545997dd",
   "metadata": {},
   "outputs": [
    {
     "name": "stdout",
     "output_type": "stream",
     "text": [
      "Uppercase Letters: 2\n",
      "Lowercase Letters: 12\n",
      "Digits: 4\n"
     ]
    }
   ],
   "source": [
    "str2 = \"Mohit Janbandhu 1234\"\n",
    "upp_lat = 0  # Counter for uppercase letters\n",
    "low_lat = 0  # Counter for lowercase letters\n",
    "digits = 0   # Counter for digits\n",
    "\n",
    "for char in str2:\n",
    "    if char.isupper():\n",
    "        upp_lat += 1\n",
    "    elif char.islower():\n",
    "        low_lat += 1\n",
    "    elif char.isdigit():\n",
    "        digits += 1\n",
    "\n",
    "print(f\"Uppercase Letters: {upp_lat}\")\n",
    "print(f\"Lowercase Letters: {low_lat}\")\n",
    "print(f\"Digits: {digits}\")"
   ]
  },
  {
   "cell_type": "code",
   "execution_count": 20,
   "id": "0277ace5",
   "metadata": {},
   "outputs": [],
   "source": [
    "upp_lat=0\n",
    "low_lat=0\n",
    "dig=0"
   ]
  },
  {
   "cell_type": "code",
   "execution_count": 21,
   "id": "609199bd",
   "metadata": {},
   "outputs": [],
   "source": [
    "for char in str1:\n",
    "    if char.isupper():\n",
    "        upp_lat +=1\n",
    "        \n",
    "    elif char.islower():\n",
    "        low_lat +=1\n",
    "        \n",
    "    elif char.isdigit():\n",
    "        dig +=1"
   ]
  },
  {
   "cell_type": "code",
   "execution_count": 26,
   "id": "f5354283",
   "metadata": {},
   "outputs": [
    {
     "name": "stdout",
     "output_type": "stream",
     "text": [
      "Uppercase Letters  2\n",
      "Lowercase Latters 12\n",
      "The digits are 5\n"
     ]
    }
   ],
   "source": [
    "print(\"Uppercase Letters \",upp_lat)\n",
    "print(f\"Lowercase Latters {low_lat}\")\n",
    "#print(\"The digits are \".format(dig))\n",
    "print(f\"The digits are {dig}\")"
   ]
  },
  {
   "cell_type": "code",
   "execution_count": 23,
   "id": "eee080d7",
   "metadata": {},
   "outputs": [
    {
     "data": {
      "text/plain": [
       "'Mohit Janbandhu 12345'"
      ]
     },
     "execution_count": 23,
     "metadata": {},
     "output_type": "execute_result"
    }
   ],
   "source": [
    "str1"
   ]
  },
  {
   "cell_type": "code",
   "execution_count": null,
   "id": "b8ee70f9",
   "metadata": {},
   "outputs": [],
   "source": []
  },
  {
   "cell_type": "code",
   "execution_count": null,
   "id": "db93d3c5",
   "metadata": {},
   "outputs": [],
   "source": []
  },
  {
   "cell_type": "code",
   "execution_count": 27,
   "id": "8a80929f",
   "metadata": {},
   "outputs": [],
   "source": [
    "class Human():\n",
    "    def male():\n",
    "        print(\"Short Hair\")\n",
    "        \n",
    "    def female():\n",
    "        print(\"Long Hair\")"
   ]
  },
  {
   "cell_type": "code",
   "execution_count": 29,
   "id": "0d45ee39",
   "metadata": {},
   "outputs": [
    {
     "name": "stdout",
     "output_type": "stream",
     "text": [
      "Short Hair\n"
     ]
    }
   ],
   "source": [
    "Human.male()"
   ]
  },
  {
   "cell_type": "markdown",
   "id": "8027c2f6",
   "metadata": {},
   "source": [
    "We can Use self also in function"
   ]
  },
  {
   "cell_type": "code",
   "execution_count": null,
   "id": "04c8eca0",
   "metadata": {},
   "outputs": [],
   "source": [
    "str1.startswith(M)"
   ]
  },
  {
   "cell_type": "code",
   "execution_count": null,
   "id": "a0099480",
   "metadata": {},
   "outputs": [],
   "source": []
  },
  {
   "cell_type": "code",
   "execution_count": null,
   "id": "15933329",
   "metadata": {},
   "outputs": [],
   "source": []
  },
  {
   "cell_type": "code",
   "execution_count": null,
   "id": "3fb35618",
   "metadata": {},
   "outputs": [],
   "source": []
  },
  {
   "cell_type": "code",
   "execution_count": null,
   "id": "fdf6cc94",
   "metadata": {},
   "outputs": [],
   "source": []
  },
  {
   "cell_type": "code",
   "execution_count": null,
   "id": "ed46155c",
   "metadata": {},
   "outputs": [],
   "source": []
  }
 ],
 "metadata": {
  "kernelspec": {
   "display_name": "Python 3 (ipykernel)",
   "language": "python",
   "name": "python3"
  },
  "language_info": {
   "codemirror_mode": {
    "name": "ipython",
    "version": 3
   },
   "file_extension": ".py",
   "mimetype": "text/x-python",
   "name": "python",
   "nbconvert_exporter": "python",
   "pygments_lexer": "ipython3",
   "version": "3.10.9"
  }
 },
 "nbformat": 4,
 "nbformat_minor": 5
}
