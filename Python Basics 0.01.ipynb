{
 "cells": [
  {
   "cell_type": "markdown",
   "id": "718e1db1",
   "metadata": {},
   "source": [
    "# hi"
   ]
  },
  {
   "cell_type": "code",
   "execution_count": 2,
   "id": "1d96098d",
   "metadata": {},
   "outputs": [],
   "source": [
    "pro= lambda ev_odd: \"Even\" if ev_odd %2==0 else \"Odd\""
   ]
  },
  {
   "cell_type": "code",
   "execution_count": 3,
   "id": "cb5fbeef",
   "metadata": {},
   "outputs": [
    {
     "data": {
      "text/plain": [
       "'Odd'"
      ]
     },
     "execution_count": 3,
     "metadata": {},
     "output_type": "execute_result"
    }
   ],
   "source": [
    "pro(5)"
   ]
  },
  {
   "cell_type": "code",
   "execution_count": 4,
   "id": "720f68e5",
   "metadata": {},
   "outputs": [],
   "source": [
    "list1=[5,8,6,4,9,5,2,1,6,9,7,2,4,8]"
   ]
  },
  {
   "cell_type": "code",
   "execution_count": 5,
   "id": "894ee3e5",
   "metadata": {},
   "outputs": [],
   "source": [
    "pro= map(lambda ev_odd: \"Even\" if ev_odd %2==0 else \"Odd\",list1)"
   ]
  },
  {
   "cell_type": "code",
   "execution_count": 6,
   "id": "2ab41bbf",
   "metadata": {},
   "outputs": [
    {
     "name": "stdout",
     "output_type": "stream",
     "text": [
      "['Odd', 'Even', 'Even', 'Even', 'Odd', 'Odd', 'Even', 'Odd', 'Even', 'Odd', 'Odd', 'Even', 'Even', 'Even']\n"
     ]
    }
   ],
   "source": [
    "print(list(pro))"
   ]
  },
  {
   "cell_type": "code",
   "execution_count": 67,
   "id": "db6feb1d",
   "metadata": {},
   "outputs": [],
   "source": [
    "def ev_od(number):\n",
    "    if list1%2==0:\n",
    "        print(\"Even Number\")\n",
    "        \n",
    "    else:\n",
    "        print(\"Odd number\")"
   ]
  },
  {
   "cell_type": "code",
   "execution_count": 18,
   "id": "03810701",
   "metadata": {},
   "outputs": [],
   "source": [
    "def ev_od(number):\n",
    "    if number % 2 == 0:\n",
    "        print(\"Even Number\")\n",
    "    else:\n",
    "        print(\"Odd Number\")"
   ]
  },
  {
   "cell_type": "code",
   "execution_count": 20,
   "id": "d47634c5",
   "metadata": {},
   "outputs": [
    {
     "name": "stdout",
     "output_type": "stream",
     "text": [
      "Odd Number\n",
      "None\n",
      "Even Number\n",
      "None\n",
      "Even Number\n",
      "None\n",
      "Even Number\n",
      "None\n",
      "Odd Number\n",
      "None\n",
      "Odd Number\n",
      "None\n",
      "Even Number\n",
      "None\n",
      "Odd Number\n",
      "None\n",
      "Even Number\n",
      "None\n",
      "Odd Number\n",
      "None\n",
      "Odd Number\n",
      "None\n",
      "Even Number\n",
      "None\n",
      "Even Number\n",
      "None\n",
      "Even Number\n",
      "None\n"
     ]
    }
   ],
   "source": [
    "for num in list1:\n",
    "    print(ev_od(num))"
   ]
  },
  {
   "cell_type": "code",
   "execution_count": 17,
   "id": "59f6a92c",
   "metadata": {},
   "outputs": [
    {
     "name": "stdout",
     "output_type": "stream",
     "text": [
      "odd\n",
      "Even\n",
      "Even\n",
      "Even\n",
      "odd\n",
      "odd\n",
      "Even\n",
      "odd\n",
      "Even\n",
      "odd\n",
      "odd\n",
      "Even\n",
      "Even\n",
      "Even\n"
     ]
    }
   ],
   "source": [
    "for number in list1:\n",
    "    if number%2==0:\n",
    "        print(\"Even\")\n",
    "    else:\n",
    "        print(\"odd\")"
   ]
  },
  {
   "cell_type": "code",
   "execution_count": null,
   "id": "3177c610",
   "metadata": {},
   "outputs": [],
   "source": [
    "list1 = [5, 8, 6, 4, 9, 5, 2, 1, 6, 9, 7, 2, 4, 8]\n",
    "\n",
    "for number in list1:\n",
    "    if number % 2 == 0:  # Use 'number' instead of 'list1'\n",
    "        print(\"Even\")\n",
    "    else:\n",
    "        print(\"Odd\")"
   ]
  },
  {
   "cell_type": "code",
   "execution_count": null,
   "id": "d7e03ee0",
   "metadata": {},
   "outputs": [],
   "source": []
  },
  {
   "cell_type": "code",
   "execution_count": 21,
   "id": "51965c14",
   "metadata": {},
   "outputs": [
    {
     "data": {
      "text/plain": [
       "[5, 8, 6, 4, 9, 5, 2, 1, 6, 9, 7, 2, 4, 8]"
      ]
     },
     "execution_count": 21,
     "metadata": {},
     "output_type": "execute_result"
    }
   ],
   "source": [
    "list1"
   ]
  },
  {
   "cell_type": "code",
   "execution_count": 22,
   "id": "aa81a8ba",
   "metadata": {},
   "outputs": [],
   "source": [
    "list1.append(50)"
   ]
  },
  {
   "cell_type": "code",
   "execution_count": 23,
   "id": "9f08afe7",
   "metadata": {},
   "outputs": [
    {
     "data": {
      "text/plain": [
       "[5, 8, 6, 4, 9, 5, 2, 1, 6, 9, 7, 2, 4, 8, 50]"
      ]
     },
     "execution_count": 23,
     "metadata": {},
     "output_type": "execute_result"
    }
   ],
   "source": [
    "list1"
   ]
  },
  {
   "cell_type": "code",
   "execution_count": 24,
   "id": "86185848",
   "metadata": {},
   "outputs": [],
   "source": [
    "list1.insert(3,70)"
   ]
  },
  {
   "cell_type": "code",
   "execution_count": 25,
   "id": "f1370a86",
   "metadata": {},
   "outputs": [
    {
     "data": {
      "text/plain": [
       "[5, 8, 6, 70, 4, 9, 5, 2, 1, 6, 9, 7, 2, 4, 8, 50]"
      ]
     },
     "execution_count": 25,
     "metadata": {},
     "output_type": "execute_result"
    }
   ],
   "source": [
    "list1"
   ]
  },
  {
   "cell_type": "code",
   "execution_count": 28,
   "id": "e2b44e10",
   "metadata": {},
   "outputs": [
    {
     "data": {
      "text/plain": [
       "[5, 4, 1, 2]"
      ]
     },
     "execution_count": 28,
     "metadata": {},
     "output_type": "execute_result"
    }
   ],
   "source": [
    "list1[::4]"
   ]
  },
  {
   "cell_type": "code",
   "execution_count": 29,
   "id": "07f21bb9",
   "metadata": {},
   "outputs": [
    {
     "data": {
      "text/plain": [
       "9"
      ]
     },
     "execution_count": 29,
     "metadata": {},
     "output_type": "execute_result"
    }
   ],
   "source": [
    "list1.pop(5)"
   ]
  },
  {
   "cell_type": "code",
   "execution_count": 30,
   "id": "e1dba45f",
   "metadata": {},
   "outputs": [
    {
     "data": {
      "text/plain": [
       "[5, 8, 6, 70, 4, 5, 2, 1, 6, 9, 7, 2, 4, 8, 50]"
      ]
     },
     "execution_count": 30,
     "metadata": {},
     "output_type": "execute_result"
    }
   ],
   "source": [
    "list1"
   ]
  },
  {
   "cell_type": "code",
   "execution_count": 31,
   "id": "5833c97b",
   "metadata": {},
   "outputs": [
    {
     "data": {
      "text/plain": [
       "1"
      ]
     },
     "execution_count": 31,
     "metadata": {},
     "output_type": "execute_result"
    }
   ],
   "source": [
    "min(list1)"
   ]
  },
  {
   "cell_type": "code",
   "execution_count": 32,
   "id": "f8f2e3ed",
   "metadata": {},
   "outputs": [
    {
     "data": {
      "text/plain": [
       "70"
      ]
     },
     "execution_count": 32,
     "metadata": {},
     "output_type": "execute_result"
    }
   ],
   "source": [
    "max(list1)"
   ]
  },
  {
   "cell_type": "code",
   "execution_count": 33,
   "id": "53cb7846",
   "metadata": {},
   "outputs": [
    {
     "data": {
      "text/plain": [
       "15"
      ]
     },
     "execution_count": 33,
     "metadata": {},
     "output_type": "execute_result"
    }
   ],
   "source": [
    "len(list1)"
   ]
  },
  {
   "cell_type": "code",
   "execution_count": 34,
   "id": "90a428d8",
   "metadata": {},
   "outputs": [
    {
     "data": {
      "text/plain": [
       "187"
      ]
     },
     "execution_count": 34,
     "metadata": {},
     "output_type": "execute_result"
    }
   ],
   "source": [
    "sum(list1)"
   ]
  },
  {
   "cell_type": "code",
   "execution_count": 36,
   "id": "cba7fb26",
   "metadata": {},
   "outputs": [
    {
     "data": {
      "text/plain": [
       "list"
      ]
     },
     "execution_count": 36,
     "metadata": {},
     "output_type": "execute_result"
    }
   ],
   "source": [
    "type(list1)"
   ]
  },
  {
   "cell_type": "code",
   "execution_count": 1,
   "id": "89d7bae5",
   "metadata": {},
   "outputs": [],
   "source": [
    "str1=\"Mohit Janbandhu 12345\""
   ]
  },
  {
   "cell_type": "code",
   "execution_count": 38,
   "id": "73d89859",
   "metadata": {},
   "outputs": [
    {
     "data": {
      "text/plain": [
       "str"
      ]
     },
     "execution_count": 38,
     "metadata": {},
     "output_type": "execute_result"
    }
   ],
   "source": [
    "type(str1)"
   ]
  },
  {
   "cell_type": "markdown",
   "id": "174bd416",
   "metadata": {},
   "source": [
    "# Vowels"
   ]
  },
  {
   "cell_type": "code",
   "execution_count": 40,
   "id": "a14b660f",
   "metadata": {},
   "outputs": [],
   "source": [
    "vowels='aeiouAEIOU'"
   ]
  },
  {
   "cell_type": "code",
   "execution_count": 42,
   "id": "80bbe15c",
   "metadata": {},
   "outputs": [
    {
     "name": "stdout",
     "output_type": "stream",
     "text": [
      "o\n",
      "i\n",
      "a\n",
      "a\n",
      "u\n"
     ]
    }
   ],
   "source": [
    "for char in str1:\n",
    "    if char in vowels:\n",
    "        print(char)"
   ]
  },
  {
   "cell_type": "code",
   "execution_count": 44,
   "id": "ad1d194a",
   "metadata": {},
   "outputs": [
    {
     "name": "stdout",
     "output_type": "stream",
     "text": [
      "o i a a u "
     ]
    }
   ],
   "source": [
    "for char in str1:\n",
    "    if char in vowels:\n",
    "        print(char, end=' ')"
   ]
  },
  {
   "cell_type": "code",
   "execution_count": 61,
   "id": "544da64a",
   "metadata": {},
   "outputs": [
    {
     "name": "stdout",
     "output_type": "stream",
     "text": [
      "Enter Value for checking whether It is Even or Odd6\n",
      "6 it is Even Number \n"
     ]
    }
   ],
   "source": [
    "inpt= int(input(\"Enter Value for checking whether It is Even or Odd\"))\n",
    "\n",
    "if inpt%2 ==0:\n",
    "    print('{} it is Even Number '. format(inpt))\n",
    "    \n",
    "else:\n",
    "    print(inpt,\"Odd number\")"
   ]
  },
  {
   "cell_type": "code",
   "execution_count": null,
   "id": "05979f34",
   "metadata": {},
   "outputs": [],
   "source": []
  },
  {
   "cell_type": "code",
   "execution_count": 62,
   "id": "3f36775f",
   "metadata": {},
   "outputs": [],
   "source": [
    "list1=[1,5,8,4,6,9,7,4,7]"
   ]
  },
  {
   "cell_type": "code",
   "execution_count": 68,
   "id": "7d449376",
   "metadata": {},
   "outputs": [],
   "source": [
    "def ev_od(number):\n",
    "    for number in list1:\n",
    "        if number % 2==0:\n",
    "            print(\"even\")\n",
    "            \n",
    "        else:\n",
    "            print('odd')"
   ]
  },
  {
   "cell_type": "code",
   "execution_count": 69,
   "id": "322e1903",
   "metadata": {},
   "outputs": [
    {
     "name": "stdout",
     "output_type": "stream",
     "text": [
      "odd\n",
      "odd\n",
      "even\n",
      "even\n",
      "even\n",
      "odd\n",
      "odd\n",
      "even\n",
      "odd\n"
     ]
    }
   ],
   "source": [
    " ev_od(list1)"
   ]
  },
  {
   "cell_type": "code",
   "execution_count": 2,
   "id": "cd25f90a",
   "metadata": {},
   "outputs": [],
   "source": [
    "upper_latter=[]\n",
    "lower_latter=[]\n",
    "digits=[]"
   ]
  },
  {
   "cell_type": "code",
   "execution_count": 4,
   "id": "d465849e",
   "metadata": {},
   "outputs": [
    {
     "ename": "TypeError",
     "evalue": "'int' object is not iterable",
     "output_type": "error",
     "traceback": [
      "\u001b[1;31m---------------------------------------------------------------------------\u001b[0m",
      "\u001b[1;31mTypeError\u001b[0m                                 Traceback (most recent call last)",
      "Cell \u001b[1;32mIn[4], line 3\u001b[0m\n\u001b[0;32m      1\u001b[0m \u001b[38;5;28;01mfor\u001b[39;00m char \u001b[38;5;129;01min\u001b[39;00m str1:\n\u001b[0;32m      2\u001b[0m     \u001b[38;5;28;01mif\u001b[39;00m char\u001b[38;5;241m.\u001b[39misupper():\n\u001b[1;32m----> 3\u001b[0m         upper_latter \u001b[38;5;241m+\u001b[39m\u001b[38;5;241m=\u001b[39m\u001b[38;5;241m1\u001b[39m\n\u001b[0;32m      5\u001b[0m     \u001b[38;5;28;01melif\u001b[39;00m char\u001b[38;5;241m.\u001b[39mislower():\n\u001b[0;32m      6\u001b[0m         lower_latter \u001b[38;5;241m+\u001b[39m\u001b[38;5;241m=\u001b[39m\u001b[38;5;241m1\u001b[39m\n",
      "\u001b[1;31mTypeError\u001b[0m: 'int' object is not iterable"
     ]
    }
   ],
   "source": [
    "for char in str1:\n",
    "    if char.isupper():\n",
    "        upper_latter +=1\n",
    "        \n",
    "    elif char.islower():\n",
    "        lower_latter +=1\n",
    "        \n",
    "    elif char.isdigit():\n",
    "        digits +=1"
   ]
  },
  {
   "cell_type": "code",
   "execution_count": 74,
   "id": "9fff96b3",
   "metadata": {},
   "outputs": [
    {
     "name": "stdout",
     "output_type": "stream",
     "text": [
      "3\n"
     ]
    }
   ],
   "source": [
    "print(upper_latter)"
   ]
  },
  {
   "cell_type": "code",
   "execution_count": 6,
   "id": "d29c97fe",
   "metadata": {},
   "outputs": [],
   "source": [
    "upper_lat=[]\n",
    "lower_lat=[]\n",
    "digits=[]\n"
   ]
  },
  {
   "cell_type": "code",
   "execution_count": 7,
   "id": "07c9ddf3",
   "metadata": {},
   "outputs": [
    {
     "ename": "TypeError",
     "evalue": "'int' object is not iterable",
     "output_type": "error",
     "traceback": [
      "\u001b[1;31m---------------------------------------------------------------------------\u001b[0m",
      "\u001b[1;31mTypeError\u001b[0m                                 Traceback (most recent call last)",
      "Cell \u001b[1;32mIn[7], line 3\u001b[0m\n\u001b[0;32m      1\u001b[0m \u001b[38;5;28;01mfor\u001b[39;00m char \u001b[38;5;129;01min\u001b[39;00m str1:\n\u001b[0;32m      2\u001b[0m     \u001b[38;5;28;01mif\u001b[39;00m char\u001b[38;5;241m.\u001b[39misupper():\n\u001b[1;32m----> 3\u001b[0m         upper_lat\u001b[38;5;241m+\u001b[39m\u001b[38;5;241m=\u001b[39m\u001b[38;5;241m1\u001b[39m\n\u001b[0;32m      5\u001b[0m     \u001b[38;5;28;01melif\u001b[39;00m char\u001b[38;5;241m.\u001b[39mislower():\n\u001b[0;32m      6\u001b[0m         lower_lat\u001b[38;5;241m+\u001b[39m\u001b[38;5;241m=\u001b[39m\u001b[38;5;241m1\u001b[39m\n",
      "\u001b[1;31mTypeError\u001b[0m: 'int' object is not iterable"
     ]
    }
   ],
   "source": [
    "for char in str1:\n",
    "    if char.isupper():\n",
    "        upper_lat+=1\n",
    "    \n",
    "    elif char.islower():\n",
    "        lower_lat+=1\n",
    "    \n",
    "    elif char.isdigit():\n",
    "        digits+=1"
   ]
  },
  {
   "cell_type": "code",
   "execution_count": 8,
   "id": "a541718b",
   "metadata": {},
   "outputs": [],
   "source": [
    "str2=\"Mohit Janbandhu 1234\""
   ]
  },
  {
   "cell_type": "code",
   "execution_count": 9,
   "id": "a3c04a22",
   "metadata": {},
   "outputs": [],
   "source": [
    "upp_lat =[]\n",
    "low_lat =[]\n",
    "digits = []"
   ]
  },
  {
   "cell_type": "code",
   "execution_count": 10,
   "id": "5489d938",
   "metadata": {},
   "outputs": [
    {
     "ename": "TypeError",
     "evalue": "'int' object is not iterable",
     "output_type": "error",
     "traceback": [
      "\u001b[1;31m---------------------------------------------------------------------------\u001b[0m",
      "\u001b[1;31mTypeError\u001b[0m                                 Traceback (most recent call last)",
      "Cell \u001b[1;32mIn[10], line 3\u001b[0m\n\u001b[0;32m      1\u001b[0m \u001b[38;5;28;01mfor\u001b[39;00m char \u001b[38;5;129;01min\u001b[39;00m str2:\n\u001b[0;32m      2\u001b[0m     \u001b[38;5;28;01mif\u001b[39;00m char\u001b[38;5;241m.\u001b[39misupper():\n\u001b[1;32m----> 3\u001b[0m         upp_lat \u001b[38;5;241m+\u001b[39m\u001b[38;5;241m=\u001b[39m\u001b[38;5;241m1\u001b[39m\n\u001b[0;32m      5\u001b[0m     \u001b[38;5;28;01melif\u001b[39;00m char\u001b[38;5;241m.\u001b[39mislower():\n\u001b[0;32m      6\u001b[0m         low_lat \u001b[38;5;241m+\u001b[39m\u001b[38;5;241m=\u001b[39m\u001b[38;5;241m1\u001b[39m\n",
      "\u001b[1;31mTypeError\u001b[0m: 'int' object is not iterable"
     ]
    }
   ],
   "source": [
    "for char in str2:\n",
    "    if char.isupper():\n",
    "        upp_lat +=1\n",
    "        \n",
    "    elif char.islower():\n",
    "        low_lat +=1\n",
    "        \n",
    "    elif char.isdigit():\n",
    "        digits +=1"
   ]
  },
  {
   "cell_type": "code",
   "execution_count": 11,
   "id": "6b8984a1",
   "metadata": {},
   "outputs": [
    {
     "name": "stdout",
     "output_type": "stream",
     "text": [
      "Uppercase Letters: 2\n",
      "Lowercase Letters: 12\n",
      "Digits: 4\n"
     ]
    }
   ],
   "source": [
    "str2 = \"Mohit Janbandhu 1234\"\n",
    "upp_lat = 0  # Counter for uppercase letters\n",
    "low_lat = 0  # Counter for lowercase letters\n",
    "digits = 0   # Counter for digits\n",
    "\n",
    "for char in str2:\n",
    "    if char.isupper():\n",
    "        upp_lat += 1\n",
    "    elif char.islower():\n",
    "        low_lat += 1\n",
    "    elif char.isdigit():\n",
    "        digits += 1\n",
    "\n",
    "print(f\"Uppercase Letters: {upp_lat}\")\n",
    "print(f\"Lowercase Letters: {low_lat}\")\n",
    "print(f\"Digits: {digits}\")"
   ]
  },
  {
   "cell_type": "code",
   "execution_count": 20,
   "id": "d297e762",
   "metadata": {},
   "outputs": [],
   "source": [
    "upp_lat=0\n",
    "low_lat=0\n",
    "dig=0"
   ]
  },
  {
   "cell_type": "code",
   "execution_count": 21,
   "id": "220aa525",
   "metadata": {},
   "outputs": [],
   "source": [
    "for char in str1:\n",
    "    if char.isupper():\n",
    "        upp_lat +=1\n",
    "        \n",
    "    elif char.islower():\n",
    "        low_lat +=1\n",
    "        \n",
    "    elif char.isdigit():\n",
    "        dig +=1"
   ]
  },
  {
   "cell_type": "code",
   "execution_count": 26,
   "id": "6c14f581",
   "metadata": {},
   "outputs": [
    {
     "name": "stdout",
     "output_type": "stream",
     "text": [
      "Uppercase Letters  2\n",
      "Lowercase Latters 12\n",
      "The digits are 5\n"
     ]
    }
   ],
   "source": [
    "print(\"Uppercase Letters \",upp_lat)\n",
    "print(f\"Lowercase Latters {low_lat}\")\n",
    "#print(\"The digits are \".format(dig))\n",
    "print(f\"The digits are {dig}\")"
   ]
  },
  {
   "cell_type": "code",
   "execution_count": 23,
   "id": "b207a6b2",
   "metadata": {},
   "outputs": [
    {
     "data": {
      "text/plain": [
       "'Mohit Janbandhu 12345'"
      ]
     },
     "execution_count": 23,
     "metadata": {},
     "output_type": "execute_result"
    }
   ],
   "source": [
    "str1"
   ]
  },
  {
   "cell_type": "code",
   "execution_count": null,
   "id": "146a457d",
   "metadata": {},
   "outputs": [],
   "source": []
  },
  {
   "cell_type": "code",
   "execution_count": null,
   "id": "246fcdeb",
   "metadata": {},
   "outputs": [],
   "source": []
  },
  {
   "cell_type": "code",
   "execution_count": 27,
   "id": "7ba5fb61",
   "metadata": {},
   "outputs": [],
   "source": [
    "class Human():\n",
    "    def male():\n",
    "        print(\"Short Hair\")\n",
    "        \n",
    "    def female():\n",
    "        print(\"Long Hair\")"
   ]
  },
  {
   "cell_type": "code",
   "execution_count": 29,
   "id": "7ba95bc4",
   "metadata": {},
   "outputs": [
    {
     "name": "stdout",
     "output_type": "stream",
     "text": [
      "Short Hair\n"
     ]
    }
   ],
   "source": [
    "Human.male()"
   ]
  },
  {
   "cell_type": "markdown",
   "id": "84b6ee58",
   "metadata": {},
   "source": [
    "We can Use self also in function"
   ]
  },
  {
   "cell_type": "code",
   "execution_count": 31,
   "id": "08cabaa1",
   "metadata": {},
   "outputs": [
    {
     "data": {
      "text/plain": [
       "True"
      ]
     },
     "execution_count": 31,
     "metadata": {},
     "output_type": "execute_result"
    }
   ],
   "source": [
    "str1.startswith(\"M\")"
   ]
  },
  {
   "cell_type": "code",
   "execution_count": null,
   "id": "166d030c",
   "metadata": {},
   "outputs": [],
   "source": []
  },
  {
   "cell_type": "code",
   "execution_count": 3,
   "id": "8f77a5d4",
   "metadata": {},
   "outputs": [
    {
     "name": "stdout",
     "output_type": "stream",
     "text": [
      "10\n",
      "9\n",
      "8\n",
      "7\n",
      "6\n",
      "5\n",
      "4\n",
      "3\n",
      "2\n",
      "1\n"
     ]
    }
   ],
   "source": [
    "for i in range (10,0,-1):\n",
    "    print(i)"
   ]
  },
  {
   "cell_type": "code",
   "execution_count": 7,
   "id": "a69d3fad",
   "metadata": {},
   "outputs": [
    {
     "name": "stdout",
     "output_type": "stream",
     "text": [
      "0\n",
      "1\n",
      "2\n",
      "3\n",
      "4\n",
      "5\n",
      "6\n",
      "7\n",
      "8\n",
      "9\n",
      "10\n"
     ]
    }
   ],
   "source": [
    "i=0\n",
    "while i<=10:\n",
    "    print(i)\n",
    "    \n",
    "    i=i+1"
   ]
  },
  {
   "cell_type": "code",
   "execution_count": 8,
   "id": "029fdec4",
   "metadata": {},
   "outputs": [
    {
     "data": {
      "text/plain": [
       "11"
      ]
     },
     "execution_count": 8,
     "metadata": {},
     "output_type": "execute_result"
    }
   ],
   "source": [
    "i"
   ]
  },
  {
   "cell_type": "code",
   "execution_count": 12,
   "id": "b8f2dfa5",
   "metadata": {},
   "outputs": [
    {
     "name": "stdout",
     "output_type": "stream",
     "text": [
      "10\n",
      "9\n",
      "8\n",
      "7\n",
      "6\n",
      "5\n",
      "4\n",
      "3\n",
      "2\n",
      "1\n",
      "0\n"
     ]
    }
   ],
   "source": [
    "i=10\n",
    "while i>=0:\n",
    "    print(i)\n",
    "    \n",
    "    i=i-1"
   ]
  },
  {
   "cell_type": "code",
   "execution_count": 13,
   "id": "0ae5f7cc",
   "metadata": {},
   "outputs": [
    {
     "name": "stdout",
     "output_type": "stream",
     "text": [
      "10\n",
      "9\n",
      "8\n",
      "7\n",
      "6\n",
      "5\n",
      "4\n",
      "3\n",
      "2\n",
      "1\n",
      "0\n"
     ]
    }
   ],
   "source": [
    "j=10\n",
    "while j>=0:\n",
    "    print(j)\n",
    "    \n",
    "    j=j-1"
   ]
  },
  {
   "cell_type": "markdown",
   "id": "1be3a7a8",
   "metadata": {},
   "source": [
    "j+=1\n"
   ]
  },
  {
   "cell_type": "code",
   "execution_count": null,
   "id": "619692bc",
   "metadata": {},
   "outputs": [],
   "source": []
  },
  {
   "cell_type": "code",
   "execution_count": 1,
   "id": "739bc591",
   "metadata": {},
   "outputs": [
    {
     "name": "stdout",
     "output_type": "stream",
     "text": [
      "1\n",
      "2\n",
      "3\n",
      "4\n",
      "5\n",
      "6\n",
      "7\n",
      "8\n",
      "9\n",
      "10\n"
     ]
    }
   ],
   "source": [
    "i=1\n",
    "while i<=10:\n",
    "    print(i)\n",
    "    \n",
    "    i=i+1"
   ]
  },
  {
   "cell_type": "code",
   "execution_count": 2,
   "id": "0ad40a63",
   "metadata": {},
   "outputs": [
    {
     "name": "stdout",
     "output_type": "stream",
     "text": [
      "10\n",
      "9\n",
      "8\n",
      "7\n",
      "6\n",
      "5\n",
      "4\n",
      "3\n",
      "2\n",
      "1\n"
     ]
    }
   ],
   "source": [
    "j=10\n",
    "while j>=1:\n",
    "    print(j)\n",
    "    \n",
    "    j=j-1"
   ]
  },
  {
   "cell_type": "code",
   "execution_count": 6,
   "id": "913177f0",
   "metadata": {},
   "outputs": [
    {
     "name": "stdout",
     "output_type": "stream",
     "text": [
      "10\n",
      "9\n",
      "8\n",
      "7\n",
      "6\n",
      "5\n",
      "4\n",
      "3\n",
      "2\n",
      "1\n"
     ]
    }
   ],
   "source": [
    "for i in range (10,0,-1):\n",
    "    print(i)"
   ]
  },
  {
   "cell_type": "code",
   "execution_count": 7,
   "id": "b82e2ac4",
   "metadata": {},
   "outputs": [],
   "source": [
    "str1=\"Mohit Janbandhu 1234\""
   ]
  },
  {
   "cell_type": "code",
   "execution_count": 8,
   "id": "e9c3512a",
   "metadata": {},
   "outputs": [],
   "source": [
    "upper_lat=0\n",
    "lower_lat=0\n",
    "digits=0\n",
    "\n",
    "for char in str1:\n",
    "    if char.isupper():\n",
    "        upper_lat +=1\n",
    "        \n",
    "    elif char.islower():\n",
    "        lower_lat +=1\n",
    "        \n",
    "    elif char.isdigit():\n",
    "        digits +=1"
   ]
  },
  {
   "cell_type": "code",
   "execution_count": 21,
   "id": "a9266f60",
   "metadata": {},
   "outputs": [
    {
     "name": "stdout",
     "output_type": "stream",
     "text": [
      "The Uppercase latters are 2\n",
      "The Lowercase Lateers are 12\n",
      "The digits are 4\n"
     ]
    }
   ],
   "source": [
    "print(\"The Uppercase latters are\",upper_lat)\n",
    "print(f\"The Lowercase Lateers are {lower_lat}\")\n",
    "print(\"The digits are {}\".format(digits))"
   ]
  },
  {
   "cell_type": "markdown",
   "id": "5cc34fa9",
   "metadata": {},
   "source": [
    "# Radius"
   ]
  },
  {
   "cell_type": "code",
   "execution_count": 24,
   "id": "363d4986",
   "metadata": {},
   "outputs": [
    {
     "name": "stdout",
     "output_type": "stream",
     "text": [
      "Enter the number5\n"
     ]
    }
   ],
   "source": [
    "radius= int(input(\"Enter the number\"))\n",
    "\n",
    "import math\n",
    "circle= math.pi*radius**2"
   ]
  },
  {
   "cell_type": "code",
   "execution_count": 25,
   "id": "39d2f453",
   "metadata": {},
   "outputs": [
    {
     "name": "stdout",
     "output_type": "stream",
     "text": [
      "78.53981633974483\n"
     ]
    }
   ],
   "source": [
    "print(circle)"
   ]
  },
  {
   "cell_type": "code",
   "execution_count": 26,
   "id": "0f1d0219",
   "metadata": {},
   "outputs": [
    {
     "name": "stdout",
     "output_type": "stream",
     "text": [
      "3.141592653589793\n"
     ]
    }
   ],
   "source": [
    "print(math.pi)"
   ]
  },
  {
   "cell_type": "code",
   "execution_count": 28,
   "id": "b0f68365",
   "metadata": {},
   "outputs": [],
   "source": [
    "cir=3.14*radius**2"
   ]
  },
  {
   "cell_type": "code",
   "execution_count": 29,
   "id": "d5e0d2dd",
   "metadata": {},
   "outputs": [
    {
     "data": {
      "text/plain": [
       "78.5"
      ]
     },
     "execution_count": 29,
     "metadata": {},
     "output_type": "execute_result"
    }
   ],
   "source": [
    "cir"
   ]
  },
  {
   "cell_type": "markdown",
   "id": "d3d45f6a",
   "metadata": {},
   "source": [
    "# Hello"
   ]
  },
  {
   "cell_type": "code",
   "execution_count": 33,
   "id": "a844f5c5",
   "metadata": {},
   "outputs": [],
   "source": [
    "str2=\"Hello from Mohit Janbandhu\""
   ]
  },
  {
   "cell_type": "code",
   "execution_count": 34,
   "id": "c2993c80",
   "metadata": {},
   "outputs": [
    {
     "data": {
      "text/plain": [
       "'Hello from Mohit Janbandhu'"
      ]
     },
     "execution_count": 34,
     "metadata": {},
     "output_type": "execute_result"
    }
   ],
   "source": [
    "str2"
   ]
  },
  {
   "cell_type": "code",
   "execution_count": 38,
   "id": "56dac358",
   "metadata": {},
   "outputs": [
    {
     "data": {
      "text/plain": [
       "['Hello', 'from', 'Mohit', 'Janbandhu']"
      ]
     },
     "execution_count": 38,
     "metadata": {},
     "output_type": "execute_result"
    }
   ],
   "source": [
    "str3=str2.split()\n",
    "str3"
   ]
  },
  {
   "cell_type": "code",
   "execution_count": 40,
   "id": "660af5d2",
   "metadata": {},
   "outputs": [
    {
     "data": {
      "text/plain": [
       "'f'"
      ]
     },
     "execution_count": 40,
     "metadata": {},
     "output_type": "execute_result"
    }
   ],
   "source": [
    "str2[6]"
   ]
  },
  {
   "cell_type": "code",
   "execution_count": 43,
   "id": "7c417e42",
   "metadata": {},
   "outputs": [
    {
     "data": {
      "text/plain": [
       "['Janbandhu', 'Mohit', 'from', 'Hello']"
      ]
     },
     "execution_count": 43,
     "metadata": {},
     "output_type": "execute_result"
    }
   ],
   "source": [
    "str4=str3[::-1]\n",
    "str4"
   ]
  },
  {
   "cell_type": "code",
   "execution_count": 44,
   "id": "fa65dc70",
   "metadata": {},
   "outputs": [
    {
     "data": {
      "text/plain": [
       "'Janbandhu Mohit from Hello'"
      ]
     },
     "execution_count": 44,
     "metadata": {},
     "output_type": "execute_result"
    }
   ],
   "source": [
    "str5=\" \".join(str4)\n",
    "str5"
   ]
  },
  {
   "cell_type": "code",
   "execution_count": 45,
   "id": "caf7b7b9",
   "metadata": {},
   "outputs": [
    {
     "data": {
      "text/plain": [
       "'uhdnabnaJ tihoM morf olleH'"
      ]
     },
     "execution_count": 45,
     "metadata": {},
     "output_type": "execute_result"
    }
   ],
   "source": [
    "str2[::-1]"
   ]
  },
  {
   "cell_type": "code",
   "execution_count": 49,
   "id": "6ec5252b",
   "metadata": {},
   "outputs": [
    {
     "data": {
      "text/plain": [
       "'uhdnab'"
      ]
     },
     "execution_count": 49,
     "metadata": {},
     "output_type": "execute_result"
    }
   ],
   "source": [
    "str2[:-7:-1]"
   ]
  },
  {
   "cell_type": "code",
   "execution_count": 50,
   "id": "8d0e0922",
   "metadata": {},
   "outputs": [
    {
     "data": {
      "text/plain": [
       "'uhdnabnaJ tih'"
      ]
     },
     "execution_count": 50,
     "metadata": {},
     "output_type": "execute_result"
    }
   ],
   "source": [
    "str2[:12:-1]"
   ]
  },
  {
   "cell_type": "code",
   "execution_count": 51,
   "id": "0861158d",
   "metadata": {},
   "outputs": [
    {
     "data": {
      "text/plain": [
       "'u'"
      ]
     },
     "execution_count": 51,
     "metadata": {},
     "output_type": "execute_result"
    }
   ],
   "source": [
    "max(str2)"
   ]
  },
  {
   "cell_type": "code",
   "execution_count": 52,
   "id": "5bfb1ba3",
   "metadata": {},
   "outputs": [
    {
     "data": {
      "text/plain": [
       "' '"
      ]
     },
     "execution_count": 52,
     "metadata": {},
     "output_type": "execute_result"
    }
   ],
   "source": [
    "min(str2)"
   ]
  },
  {
   "cell_type": "code",
   "execution_count": 55,
   "id": "b5d0196c",
   "metadata": {},
   "outputs": [
    {
     "ename": "TypeError",
     "evalue": "unsupported operand type(s) for +: 'int' and 'str'",
     "output_type": "error",
     "traceback": [
      "\u001b[1;31m---------------------------------------------------------------------------\u001b[0m",
      "\u001b[1;31mTypeError\u001b[0m                                 Traceback (most recent call last)",
      "Cell \u001b[1;32mIn[55], line 1\u001b[0m\n\u001b[1;32m----> 1\u001b[0m \u001b[38;5;28;43msum\u001b[39;49m\u001b[43m(\u001b[49m\u001b[43mstr7\u001b[49m\u001b[43m)\u001b[49m\n",
      "\u001b[1;31mTypeError\u001b[0m: unsupported operand type(s) for +: 'int' and 'str'"
     ]
    }
   ],
   "source": [
    "sum(str7)"
   ]
  },
  {
   "cell_type": "code",
   "execution_count": 58,
   "id": "4bdd2171",
   "metadata": {},
   "outputs": [],
   "source": [
    "str7=\"5 \""
   ]
  },
  {
   "cell_type": "code",
   "execution_count": 59,
   "id": "75d16d5a",
   "metadata": {},
   "outputs": [],
   "source": [
    "str8=float(str7)"
   ]
  },
  {
   "cell_type": "code",
   "execution_count": 60,
   "id": "056f06d0",
   "metadata": {},
   "outputs": [
    {
     "data": {
      "text/plain": [
       "5.0"
      ]
     },
     "execution_count": 60,
     "metadata": {},
     "output_type": "execute_result"
    }
   ],
   "source": [
    "str8"
   ]
  },
  {
   "cell_type": "markdown",
   "id": "f4143419",
   "metadata": {},
   "source": [
    "# print 0945626"
   ]
  },
  {
   "cell_type": "code",
   "execution_count": 63,
   "id": "d7954102",
   "metadata": {},
   "outputs": [],
   "source": [
    "num= \"0945626\""
   ]
  },
  {
   "cell_type": "markdown",
   "id": "2bbb8b5b",
   "metadata": {},
   "source": [
    "mo\n"
   ]
  },
  {
   "cell_type": "code",
   "execution_count": 67,
   "id": "7ced631e",
   "metadata": {},
   "outputs": [
    {
     "data": {
      "text/plain": [
       "'6265490'"
      ]
     },
     "execution_count": 67,
     "metadata": {},
     "output_type": "execute_result"
    }
   ],
   "source": [
    "nu=num[::-1]\n",
    "nu"
   ]
  },
  {
   "cell_type": "code",
   "execution_count": 68,
   "id": "c4007462",
   "metadata": {},
   "outputs": [
    {
     "ename": "SyntaxError",
     "evalue": "leading zeros in decimal integer literals are not permitted; use an 0o prefix for octal integers (3374192566.py, line 1)",
     "output_type": "error",
     "traceback": [
      "\u001b[1;36m  Cell \u001b[1;32mIn[68], line 1\u001b[1;36m\u001b[0m\n\u001b[1;33m    nume=0945626\u001b[0m\n\u001b[1;37m         ^\u001b[0m\n\u001b[1;31mSyntaxError\u001b[0m\u001b[1;31m:\u001b[0m leading zeros in decimal integer literals are not permitted; use an 0o prefix for octal integers\n"
     ]
    }
   ],
   "source": [
    "nume=0945626\n",
    "str1=str(nume)"
   ]
  },
  {
   "cell_type": "code",
   "execution_count": 70,
   "id": "0ae301d4",
   "metadata": {},
   "outputs": [
    {
     "ename": "SyntaxError",
     "evalue": "leading zeros in decimal integer literals are not permitted; use an 0o prefix for octal integers (1028713385.py, line 1)",
     "output_type": "error",
     "traceback": [
      "\u001b[1;36m  Cell \u001b[1;32mIn[70], line 1\u001b[1;36m\u001b[0m\n\u001b[1;33m    num = 0945626  # Leading zeroes are not preserved in integers\u001b[0m\n\u001b[1;37m          ^\u001b[0m\n\u001b[1;31mSyntaxError\u001b[0m\u001b[1;31m:\u001b[0m leading zeros in decimal integer literals are not permitted; use an 0o prefix for octal integers\n"
     ]
    }
   ],
   "source": [
    "num = 0945626  # Leading zeroes are not preserved in integers\n",
    "reversed_num = int(str(num)[::-1])  # Reverse the digits and convert back to an integer\n",
    "print(reversed_num)"
   ]
  },
  {
   "cell_type": "code",
   "execution_count": 98,
   "id": "f489349d",
   "metadata": {},
   "outputs": [],
   "source": [
    "A=1390"
   ]
  },
  {
   "cell_type": "code",
   "execution_count": 99,
   "id": "fd31b151",
   "metadata": {},
   "outputs": [],
   "source": [
    "str1=str(A)"
   ]
  },
  {
   "cell_type": "code",
   "execution_count": 100,
   "id": "4a8c80da",
   "metadata": {},
   "outputs": [],
   "source": [
    "RevInt=str1[::-1]"
   ]
  },
  {
   "cell_type": "code",
   "execution_count": 101,
   "id": "36d3afa2",
   "metadata": {},
   "outputs": [],
   "source": [
    "inefor=int(RevInt)"
   ]
  },
  {
   "cell_type": "code",
   "execution_count": 83,
   "id": "c9d6f2fb",
   "metadata": {},
   "outputs": [
    {
     "name": "stdout",
     "output_type": "stream",
     "text": [
      "this is the 0 931\n"
     ]
    }
   ],
   "source": [
    "print(\"this is the 0\",inefor)"
   ]
  },
  {
   "cell_type": "code",
   "execution_count": 105,
   "id": "168e7883",
   "metadata": {},
   "outputs": [],
   "source": [
    "formatted_output = f\"{ inefor:0{len(str1)}d}\""
   ]
  },
  {
   "cell_type": "code",
   "execution_count": 106,
   "id": "452a3cca",
   "metadata": {},
   "outputs": [
    {
     "name": "stdout",
     "output_type": "stream",
     "text": [
      "0931\n"
     ]
    }
   ],
   "source": [
    "print(formatted_output)"
   ]
  },
  {
   "cell_type": "code",
   "execution_count": 107,
   "id": "c9b6495f",
   "metadata": {},
   "outputs": [],
   "source": [
    "for_out= f\"{ inefor:0{len(str1)}d}\""
   ]
  },
  {
   "cell_type": "code",
   "execution_count": 108,
   "id": "e30acd18",
   "metadata": {},
   "outputs": [
    {
     "data": {
      "text/plain": [
       "'0931'"
      ]
     },
     "execution_count": 108,
     "metadata": {},
     "output_type": "execute_result"
    }
   ],
   "source": [
    "for_out"
   ]
  },
  {
   "cell_type": "code",
   "execution_count": 109,
   "id": "5ea4b812",
   "metadata": {},
   "outputs": [
    {
     "data": {
      "text/plain": [
       "str"
      ]
     },
     "execution_count": 109,
     "metadata": {},
     "output_type": "execute_result"
    }
   ],
   "source": [
    "type(for_out)"
   ]
  },
  {
   "cell_type": "code",
   "execution_count": 115,
   "id": "221903b9",
   "metadata": {},
   "outputs": [],
   "source": [
    "no_no=f\"{inefor:0{len(str1)}d}\""
   ]
  },
  {
   "cell_type": "code",
   "execution_count": 116,
   "id": "715f3291",
   "metadata": {},
   "outputs": [
    {
     "data": {
      "text/plain": [
       "'0931'"
      ]
     },
     "execution_count": 116,
     "metadata": {},
     "output_type": "execute_result"
    }
   ],
   "source": [
    "no_no"
   ]
  },
  {
   "cell_type": "code",
   "execution_count": 117,
   "id": "5ce27eb9",
   "metadata": {},
   "outputs": [],
   "source": [
    "B=65489"
   ]
  },
  {
   "cell_type": "code",
   "execution_count": 118,
   "id": "d62f9708",
   "metadata": {},
   "outputs": [],
   "source": [
    "import numpy as np\n",
    "bu= np.array(B)"
   ]
  },
  {
   "cell_type": "code",
   "execution_count": 119,
   "id": "55b92375",
   "metadata": {},
   "outputs": [
    {
     "data": {
      "text/plain": [
       "array(65489)"
      ]
     },
     "execution_count": 119,
     "metadata": {},
     "output_type": "execute_result"
    }
   ],
   "source": [
    "bu"
   ]
  },
  {
   "cell_type": "markdown",
   "id": "15c8da51",
   "metadata": {},
   "source": [
    "# Random"
   ]
  },
  {
   "cell_type": "code",
   "execution_count": null,
   "id": "1b07e207",
   "metadata": {},
   "outputs": [],
   "source": []
  }
 ],
 "metadata": {
  "kernelspec": {
   "display_name": "Python 3 (ipykernel)",
   "language": "python",
   "name": "python3"
  },
  "language_info": {
   "codemirror_mode": {
    "name": "ipython",
    "version": 3
   },
   "file_extension": ".py",
   "mimetype": "text/x-python",
   "name": "python",
   "nbconvert_exporter": "python",
   "pygments_lexer": "ipython3",
   "version": "3.10.9"
  }
 },
 "nbformat": 4,
 "nbformat_minor": 5
}
