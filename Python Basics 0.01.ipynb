{
 "cells": [
  {
   "cell_type": "markdown",
   "id": "68f0ecd8",
   "metadata": {},
   "source": [
    "# hi"
   ]
  },
  {
   "cell_type": "code",
   "execution_count": 2,
   "id": "ee1d8a0e",
   "metadata": {},
   "outputs": [],
   "source": [
    "pro= lambda ev_odd: \"Even\" if ev_odd %2==0 else \"Odd\""
   ]
  },
  {
   "cell_type": "code",
   "execution_count": 3,
   "id": "966601fa",
   "metadata": {},
   "outputs": [
    {
     "data": {
      "text/plain": [
       "'Odd'"
      ]
     },
     "execution_count": 3,
     "metadata": {},
     "output_type": "execute_result"
    }
   ],
   "source": [
    "pro(5)"
   ]
  },
  {
   "cell_type": "code",
   "execution_count": 4,
   "id": "a813f697",
   "metadata": {},
   "outputs": [],
   "source": [
    "list1=[5,8,6,4,9,5,2,1,6,9,7,2,4,8]"
   ]
  },
  {
   "cell_type": "code",
   "execution_count": 5,
   "id": "fdc86461",
   "metadata": {},
   "outputs": [],
   "source": [
    "pro= map(lambda ev_odd: \"Even\" if ev_odd %2==0 else \"Odd\",list1)"
   ]
  },
  {
   "cell_type": "code",
   "execution_count": 6,
   "id": "ae015142",
   "metadata": {},
   "outputs": [
    {
     "name": "stdout",
     "output_type": "stream",
     "text": [
      "['Odd', 'Even', 'Even', 'Even', 'Odd', 'Odd', 'Even', 'Odd', 'Even', 'Odd', 'Odd', 'Even', 'Even', 'Even']\n"
     ]
    }
   ],
   "source": [
    "print(list(pro))"
   ]
  },
  {
   "cell_type": "code",
   "execution_count": 11,
   "id": "fa4e0b89",
   "metadata": {},
   "outputs": [],
   "source": [
    "def ev_od(number):\n",
    "    if list1%2==0:\n",
    "        print(\"Even Number\")\n",
    "        \n",
    "    else:\n",
    "        print(\"Odd number\")"
   ]
  },
  {
   "cell_type": "code",
   "execution_count": 18,
   "id": "c59db7ac",
   "metadata": {},
   "outputs": [],
   "source": [
    "def ev_od(number):\n",
    "    if number % 2 == 0:\n",
    "        print(\"Even Number\")\n",
    "    else:\n",
    "        print(\"Odd Number\")"
   ]
  },
  {
   "cell_type": "code",
   "execution_count": 20,
   "id": "dc04e302",
   "metadata": {},
   "outputs": [
    {
     "name": "stdout",
     "output_type": "stream",
     "text": [
      "Odd Number\n",
      "None\n",
      "Even Number\n",
      "None\n",
      "Even Number\n",
      "None\n",
      "Even Number\n",
      "None\n",
      "Odd Number\n",
      "None\n",
      "Odd Number\n",
      "None\n",
      "Even Number\n",
      "None\n",
      "Odd Number\n",
      "None\n",
      "Even Number\n",
      "None\n",
      "Odd Number\n",
      "None\n",
      "Odd Number\n",
      "None\n",
      "Even Number\n",
      "None\n",
      "Even Number\n",
      "None\n",
      "Even Number\n",
      "None\n"
     ]
    }
   ],
   "source": [
    "for num in list1:\n",
    "    print(ev_od(num))"
   ]
  },
  {
   "cell_type": "code",
   "execution_count": 17,
   "id": "f9889183",
   "metadata": {},
   "outputs": [
    {
     "name": "stdout",
     "output_type": "stream",
     "text": [
      "odd\n",
      "Even\n",
      "Even\n",
      "Even\n",
      "odd\n",
      "odd\n",
      "Even\n",
      "odd\n",
      "Even\n",
      "odd\n",
      "odd\n",
      "Even\n",
      "Even\n",
      "Even\n"
     ]
    }
   ],
   "source": [
    "for number in list1:\n",
    "    if number%2==0:\n",
    "        print(\"Even\")\n",
    "    else:\n",
    "        print(\"odd\")"
   ]
  },
  {
   "cell_type": "code",
   "execution_count": null,
   "id": "f32b43c8",
   "metadata": {},
   "outputs": [],
   "source": [
    "list1 = [5, 8, 6, 4, 9, 5, 2, 1, 6, 9, 7, 2, 4, 8]\n",
    "\n",
    "for number in list1:\n",
    "    if number % 2 == 0:  # Use 'number' instead of 'list1'\n",
    "        print(\"Even\")\n",
    "    else:\n",
    "        print(\"Odd\")"
   ]
  }
 ],
 "metadata": {
  "kernelspec": {
   "display_name": "Python 3 (ipykernel)",
   "language": "python",
   "name": "python3"
  },
  "language_info": {
   "codemirror_mode": {
    "name": "ipython",
    "version": 3
   },
   "file_extension": ".py",
   "mimetype": "text/x-python",
   "name": "python",
   "nbconvert_exporter": "python",
   "pygments_lexer": "ipython3",
   "version": "3.10.9"
  }
 },
 "nbformat": 4,
 "nbformat_minor": 5
}
