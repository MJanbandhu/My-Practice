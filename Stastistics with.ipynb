{
 "cells": [
  {
   "cell_type": "code",
   "execution_count": 2,
   "id": "9ca69ae3",
   "metadata": {},
   "outputs": [],
   "source": [
    "import numpy as np\n",
    "import pandas as pd\n",
    "import seaborn as sns\n"
   ]
  },
  {
   "cell_type": "code",
   "execution_count": 3,
   "id": "5f28ecc4",
   "metadata": {},
   "outputs": [],
   "source": [
    "data= sns.load_dataset('iris')"
   ]
  },
  {
   "cell_type": "markdown",
   "id": "ccbfa02e",
   "metadata": {},
   "source": [
    "# Hypothesis Testing"
   ]
  },
  {
   "cell_type": "code",
   "execution_count": 5,
   "id": "5e65d9ee",
   "metadata": {},
   "outputs": [],
   "source": [
    "# z test\n",
    "data=[45,40,40,45,50,29,40,41,42,45,40,40,45,50,29,40,41,42,\n",
    "     45,40,40,45,50,29,40,41,42,45,40,40,45,50,29,40,41,42,\n",
    "     45,40,40,45,50,29,40,41,42,45,40,40,45,50,29,40,41,42]"
   ]
  },
  {
   "cell_type": "code",
   "execution_count": 10,
   "id": "be769f79",
   "metadata": {},
   "outputs": [],
   "source": [
    "from statsmodels.stats.weightstats import ztest"
   ]
  },
  {
   "cell_type": "code",
   "execution_count": 12,
   "id": "c6ea33d2",
   "metadata": {},
   "outputs": [],
   "source": [
    "from statsmodels.stats.weightstats import ztest"
   ]
  },
  {
   "cell_type": "code",
   "execution_count": 13,
   "id": "20108823",
   "metadata": {},
   "outputs": [],
   "source": [
    "m=ztest(data,value=35)"
   ]
  },
  {
   "cell_type": "code",
   "execution_count": 14,
   "id": "6da6ac5b",
   "metadata": {},
   "outputs": [
    {
     "data": {
      "text/plain": [
       "(8.578371730023221, 9.62255415335246e-18)"
      ]
     },
     "execution_count": 14,
     "metadata": {},
     "output_type": "execute_result"
    }
   ],
   "source": [
    "m"
   ]
  },
  {
   "cell_type": "code",
   "execution_count": 15,
   "id": "cc35fd35",
   "metadata": {},
   "outputs": [],
   "source": [
    "z,p=ztest(data,value=35)"
   ]
  },
  {
   "cell_type": "code",
   "execution_count": 17,
   "id": "b50ef334",
   "metadata": {},
   "outputs": [
    {
     "name": "stdout",
     "output_type": "stream",
     "text": [
      "z= 8.578371730023221 p= 9.62255415335246e-18\n"
     ]
    }
   ],
   "source": [
    "print(\"z=\",z,\"p=\",p)"
   ]
  },
  {
   "cell_type": "code",
   "execution_count": 18,
   "id": "de0c7908",
   "metadata": {},
   "outputs": [],
   "source": [
    "from statsmodels.stats.weightstats import stats"
   ]
  },
  {
   "cell_type": "code",
   "execution_count": 19,
   "id": "94496025",
   "metadata": {},
   "outputs": [],
   "source": [
    "#TTest"
   ]
  },
  {
   "cell_type": "code",
   "execution_count": 20,
   "id": "e7012d9e",
   "metadata": {},
   "outputs": [],
   "source": [
    "from scipy import stats"
   ]
  },
  {
   "cell_type": "code",
   "execution_count": 23,
   "id": "43d57716",
   "metadata": {},
   "outputs": [],
   "source": [
    "t,p=stats.ttest_1samp(data,45)"
   ]
  },
  {
   "cell_type": "code",
   "execution_count": 24,
   "id": "341f84b9",
   "metadata": {},
   "outputs": [
    {
     "name": "stdout",
     "output_type": "stream",
     "text": [
      "T= -4.966425738434491 p= 7.473035463245497e-06\n"
     ]
    }
   ],
   "source": [
    "print(\"T=\",t,\"p=\",p)"
   ]
  },
  {
   "cell_type": "code",
   "execution_count": 25,
   "id": "92108de9",
   "metadata": {},
   "outputs": [],
   "source": [
    "data=[14,14,16,13,12,17,15,14,15,13,15,14]"
   ]
  },
  {
   "cell_type": "code",
   "execution_count": 26,
   "id": "70cacad9",
   "metadata": {},
   "outputs": [],
   "source": [
    "from scipy import stats"
   ]
  },
  {
   "cell_type": "code",
   "execution_count": 27,
   "id": "f0f298cf",
   "metadata": {},
   "outputs": [],
   "source": [
    "t,p= stats.ttest_1samp(data,15)"
   ]
  },
  {
   "cell_type": "code",
   "execution_count": 28,
   "id": "bb24d39c",
   "metadata": {},
   "outputs": [
    {
     "name": "stdout",
     "output_type": "stream",
     "text": [
      "T= -1.6848470783484626 p= 0.12014460742498101\n"
     ]
    }
   ],
   "source": [
    "print(\"T=\",t,\"p=\",p)"
   ]
  },
  {
   "cell_type": "code",
   "execution_count": 29,
   "id": "5b553aea",
   "metadata": {},
   "outputs": [
    {
     "ename": "NameError",
     "evalue": "name 'A' is not defined",
     "output_type": "error",
     "traceback": [
      "\u001b[1;31m---------------------------------------------------------------------------\u001b[0m",
      "\u001b[1;31mNameError\u001b[0m                                 Traceback (most recent call last)",
      "Cell \u001b[1;32mIn[29], line 1\u001b[0m\n\u001b[1;32m----> 1\u001b[0m p\u001b[38;5;241m>\u001b[39m\u001b[43mA\u001b[49m\n",
      "\u001b[1;31mNameError\u001b[0m: name 'A' is not defined"
     ]
    }
   ],
   "source": [
    "p>A"
   ]
  },
  {
   "cell_type": "code",
   "execution_count": 30,
   "id": "6e39879e",
   "metadata": {},
   "outputs": [],
   "source": [
    "pre_test=[88,82,93,75,72,81,67,91,83,79,80,90,91]\n",
    "\n",
    "post_test=[91,84,88,90,87,92,95,78,89,84,93,94,98]"
   ]
  },
  {
   "cell_type": "code",
   "execution_count": 31,
   "id": "6dc31798",
   "metadata": {},
   "outputs": [],
   "source": [
    "t,p= stats.ttest_rel(pre_test ,post_test)"
   ]
  },
  {
   "cell_type": "code",
   "execution_count": 32,
   "id": "ecf37d2a",
   "metadata": {},
   "outputs": [
    {
     "name": "stdout",
     "output_type": "stream",
     "text": [
      "T= -2.503112816173455 p= 0.027756426983475475\n"
     ]
    }
   ],
   "source": [
    "print(\"T=\",t,\"p=\",p)"
   ]
  },
  {
   "cell_type": "code",
   "execution_count": 33,
   "id": "e34012c2",
   "metadata": {},
   "outputs": [],
   "source": [
    "from scipy import stats"
   ]
  },
  {
   "cell_type": "markdown",
   "id": "6d81800d",
   "metadata": {},
   "source": [
    "# --------------------------------------------------------"
   ]
  },
  {
   "cell_type": "markdown",
   "id": "db55b5e4",
   "metadata": {},
   "source": [
    "# Anova"
   ]
  },
  {
   "cell_type": "code",
   "execution_count": 36,
   "id": "11ad6959",
   "metadata": {},
   "outputs": [],
   "source": [
    "g1=[85,86,88,75,78,94,98,79,71,80]\n",
    "g2=[91,92,65,74,72,69,80,81,56,86]\n",
    "g3=[91,92,65,74,72,69,80,81,56,86]"
   ]
  },
  {
   "cell_type": "code",
   "execution_count": 38,
   "id": "7e6bc917",
   "metadata": {},
   "outputs": [],
   "source": [
    "from scipy.stats import f_oneway"
   ]
  },
  {
   "cell_type": "code",
   "execution_count": 39,
   "id": "b2deec07",
   "metadata": {},
   "outputs": [],
   "source": [
    "anova,p= f_oneway(g1,g2,g3)"
   ]
  },
  {
   "cell_type": "code",
   "execution_count": 40,
   "id": "291fb497",
   "metadata": {},
   "outputs": [
    {
     "name": "stdout",
     "output_type": "stream",
     "text": [
      "Annova= 1.361245584194688 p= 0.273376088920739\n"
     ]
    }
   ],
   "source": [
    "print(\"Annova=\",anova,\"p=\",p)"
   ]
  },
  {
   "cell_type": "code",
   "execution_count": null,
   "id": "6980f00a",
   "metadata": {},
   "outputs": [],
   "source": []
  }
 ],
 "metadata": {
  "kernelspec": {
   "display_name": "Python 3 (ipykernel)",
   "language": "python",
   "name": "python3"
  },
  "language_info": {
   "codemirror_mode": {
    "name": "ipython",
    "version": 3
   },
   "file_extension": ".py",
   "mimetype": "text/x-python",
   "name": "python",
   "nbconvert_exporter": "python",
   "pygments_lexer": "ipython3",
   "version": "3.10.9"
  }
 },
 "nbformat": 4,
 "nbformat_minor": 5
}
