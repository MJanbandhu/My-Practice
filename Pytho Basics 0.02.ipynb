{
 "cells": [
  {
   "cell_type": "code",
   "execution_count": null,
   "id": "2fa58964",
   "metadata": {},
   "outputs": [],
   "source": [
    "list1=[4,8,6,5,98,11,2,33,8,2,6,9,5,1,2,65,9]"
   ]
  },
  {
   "cell_type": "code",
   "execution_count": null,
   "id": "9dd6519c",
   "metadata": {},
   "outputs": [],
   "source": [
    "list2=list1.sort()"
   ]
  },
  {
   "cell_type": "code",
   "execution_count": null,
   "id": "c09169e5",
   "metadata": {},
   "outputs": [],
   "source": [
    "print(list1)\n",
    "print(list2)"
   ]
  },
  {
   "cell_type": "code",
   "execution_count": null,
   "id": "887f5025",
   "metadata": {},
   "outputs": [],
   "source": [
    "list1.append(100)"
   ]
  },
  {
   "cell_type": "code",
   "execution_count": null,
   "id": "26f7e38b",
   "metadata": {},
   "outputs": [],
   "source": [
    "print(list1)"
   ]
  },
  {
   "cell_type": "code",
   "execution_count": null,
   "id": "8bfb2215",
   "metadata": {},
   "outputs": [],
   "source": [
    "list1.insert(3,50)"
   ]
  },
  {
   "cell_type": "code",
   "execution_count": null,
   "id": "67fa1a82",
   "metadata": {},
   "outputs": [],
   "source": [
    "print(list1)"
   ]
  },
  {
   "cell_type": "code",
   "execution_count": null,
   "id": "24e7117d",
   "metadata": {},
   "outputs": [],
   "source": [
    "list1.pop(3)"
   ]
  },
  {
   "cell_type": "code",
   "execution_count": null,
   "id": "d6067aa2",
   "metadata": {},
   "outputs": [],
   "source": [
    "print(list1)"
   ]
  },
  {
   "cell_type": "code",
   "execution_count": null,
   "id": "1983e39a",
   "metadata": {},
   "outputs": [],
   "source": [
    "list1.remove(100)"
   ]
  },
  {
   "cell_type": "code",
   "execution_count": null,
   "id": "01577a8a",
   "metadata": {},
   "outputs": [],
   "source": [
    "\n",
    "print(list1)"
   ]
  },
  {
   "cell_type": "code",
   "execution_count": null,
   "id": "a44e2aca",
   "metadata": {},
   "outputs": [],
   "source": [
    "tup=tuple(list1)"
   ]
  },
  {
   "cell_type": "code",
   "execution_count": null,
   "id": "ff0e7775",
   "metadata": {},
   "outputs": [],
   "source": [
    "type(tup)"
   ]
  },
  {
   "cell_type": "code",
   "execution_count": null,
   "id": "a2aea764",
   "metadata": {},
   "outputs": [],
   "source": [
    "tup"
   ]
  },
  {
   "cell_type": "code",
   "execution_count": null,
   "id": "89a2f94d",
   "metadata": {},
   "outputs": [],
   "source": [
    "tup.count(2)"
   ]
  },
  {
   "cell_type": "code",
   "execution_count": null,
   "id": "2f88982b",
   "metadata": {},
   "outputs": [],
   "source": [
    "min(tup)"
   ]
  },
  {
   "cell_type": "code",
   "execution_count": null,
   "id": "1722c25b",
   "metadata": {},
   "outputs": [],
   "source": [
    "max(tup)"
   ]
  },
  {
   "cell_type": "code",
   "execution_count": null,
   "id": "7657adf3",
   "metadata": {},
   "outputs": [],
   "source": [
    "sum(tup)"
   ]
  },
  {
   "cell_type": "code",
   "execution_count": null,
   "id": "10d39f7b",
   "metadata": {},
   "outputs": [],
   "source": [
    "set1=set(tup)"
   ]
  },
  {
   "cell_type": "code",
   "execution_count": null,
   "id": "84589c77",
   "metadata": {},
   "outputs": [],
   "source": [
    "type(set1)"
   ]
  },
  {
   "cell_type": "code",
   "execution_count": null,
   "id": "8101785d",
   "metadata": {},
   "outputs": [],
   "source": [
    "set1"
   ]
  },
  {
   "cell_type": "code",
   "execution_count": null,
   "id": "645fcd36",
   "metadata": {},
   "outputs": [],
   "source": [
    "set1.add(100)"
   ]
  },
  {
   "cell_type": "code",
   "execution_count": null,
   "id": "81d6ac88",
   "metadata": {},
   "outputs": [],
   "source": [
    "set1"
   ]
  },
  {
   "cell_type": "markdown",
   "id": "9b115cf1",
   "metadata": {},
   "source": [
    "# class student"
   ]
  },
  {
   "cell_type": "code",
   "execution_count": 1,
   "id": "05570487",
   "metadata": {},
   "outputs": [],
   "source": [
    "class students:\n",
    "    def __init__(self,name,div,rollno):\n",
    "        self.name=name\n",
    "        self.div=div\n",
    "        self.rollno=rollno\n",
    "        \n",
    "    def __init__(self):\n",
    "        print(self.name,self.div,self.rollno)\n",
    "        \n",
    "\n"
   ]
  },
  {
   "cell_type": "code",
   "execution_count": 2,
   "id": "39e1b644",
   "metadata": {},
   "outputs": [],
   "source": [
    "s1=(\"Mohit\",\"A\",35)\n",
    "s2=(\"Someone\",\"B\",36)\n",
    "    \n"
   ]
  },
  {
   "cell_type": "code",
   "execution_count": 8,
   "id": "f350ae39",
   "metadata": {},
   "outputs": [
    {
     "ename": "AttributeError",
     "evalue": "type object 'students' has no attribute 'school'",
     "output_type": "error",
     "traceback": [
      "\u001b[1;31m---------------------------------------------------------------------------\u001b[0m",
      "\u001b[1;31mAttributeError\u001b[0m                            Traceback (most recent call last)",
      "Cell \u001b[1;32mIn[8], line 1\u001b[0m\n\u001b[1;32m----> 1\u001b[0m \u001b[43mstudents\u001b[49m\u001b[38;5;241;43m.\u001b[39;49m\u001b[43mschool\u001b[49m()\n",
      "\u001b[1;31mAttributeError\u001b[0m: type object 'students' has no attribute 'school'"
     ]
    }
   ],
   "source": [
    "students.school()"
   ]
  },
  {
   "cell_type": "code",
   "execution_count": 5,
   "id": "f86b1c09",
   "metadata": {},
   "outputs": [
    {
     "data": {
      "text/plain": [
       "('Mohit', 'A', 35)"
      ]
     },
     "execution_count": 5,
     "metadata": {},
     "output_type": "execute_result"
    }
   ],
   "source": [
    "s1"
   ]
  },
  {
   "cell_type": "code",
   "execution_count": null,
   "id": "684f3b66",
   "metadata": {},
   "outputs": [],
   "source": []
  },
  {
   "cell_type": "code",
   "execution_count": null,
   "id": "c73b59dd",
   "metadata": {},
   "outputs": [],
   "source": []
  },
  {
   "cell_type": "code",
   "execution_count": null,
   "id": "c34cbf2e",
   "metadata": {},
   "outputs": [],
   "source": [
    "student.school\n",
    "s1.school"
   ]
  },
  {
   "cell_type": "code",
   "execution_count": null,
   "id": "8752ce34",
   "metadata": {},
   "outputs": [],
   "source": [
    "class Student:\n",
    "    school = \"XYZ School\"  # Class variable\n",
    "\n",
    "    def __init__(self, name, div, rollno):\n",
    "        self.name = name\n",
    "        self.div = div\n",
    "        self.rollno = rollno\n",
    "        \n",
    "    def display_info(self):\n",
    "        # Method to display student information\n",
    "        print(self.name, self.div, self.rollno)\n",
    "        \n",
    "# Create instances of the Student class\n",
    "s1 = Student(\"Mohit\", \"A\", 35)\n",
    "s2 = Student(\"Someone\", \"B\", 36)\n",
    "\n",
    "# Accessing the class variable 'school'\n",
    "Student.school # Access through class\n",
    "\n",
    "# Accessing the class variable 'school' via an instance\n",
    "print(s1.school)  # Access through instance"
   ]
  },
  {
   "cell_type": "code",
   "execution_count": 9,
   "id": "c627ab4f",
   "metadata": {},
   "outputs": [
    {
     "ename": "AttributeError",
     "evalue": "'tuple' object has no attribute 'student'",
     "output_type": "error",
     "traceback": [
      "\u001b[1;31m---------------------------------------------------------------------------\u001b[0m",
      "\u001b[1;31mAttributeError\u001b[0m                            Traceback (most recent call last)",
      "Cell \u001b[1;32mIn[9], line 1\u001b[0m\n\u001b[1;32m----> 1\u001b[0m \u001b[43ms1\u001b[49m\u001b[38;5;241;43m.\u001b[39;49m\u001b[43mstudent\u001b[49m()\n",
      "\u001b[1;31mAttributeError\u001b[0m: 'tuple' object has no attribute 'student'"
     ]
    }
   ],
   "source": [
    "s1.student()"
   ]
  },
  {
   "cell_type": "code",
   "execution_count": null,
   "id": "40e4b4b1",
   "metadata": {},
   "outputs": [],
   "source": []
  },
  {
   "cell_type": "markdown",
   "id": "7103099c",
   "metadata": {},
   "source": [
    "# Object-Oriented Programming (OOP) \n",
    "concepts such as Abstraction, Encapsulation, Inheritance, and Polymorphism in a basic and easy-to-understand way.\n",
    "Program Example:\n",
    "\n"
   ]
  },
  {
   "cell_type": "code",
   "execution_count": 7,
   "id": "766a49bf",
   "metadata": {},
   "outputs": [
    {
     "name": "stdout",
     "output_type": "stream",
     "text": [
      "The dog Buddy barks: woof\n",
      "Buddy is a Golden Retriever dog.\n",
      "The cat Whiskers meows: meow\n",
      "Whiskers is a black cat.\n"
     ]
    }
   ],
   "source": [
    "# Base class (Encapsulation)\n",
    "class Animal:\n",
    "    def __init__(self, name, sound):\n",
    "        self.name = name  # Encapsulated attribute\n",
    "        self.sound = sound  # Encapsulated attribute\n",
    "    \n",
    "    def make_sound(self):  # Method (Abstraction)\n",
    "        print(f\"{self.name} makes a {self.sound} sound\")\n",
    "\n",
    "# Derived class (Inheritance & Polymorphism)\n",
    "class Dog(Animal):\n",
    "    def __init__(self, name, sound, breed):\n",
    "        super().__init__(name, sound)  # Inheritance: Calling the parent class constructor\n",
    "        self.breed = breed  # New attribute in Dog class\n",
    "\n",
    "    def make_sound(self):  # Method Overriding (Polymorphism)\n",
    "        print(f\"The dog {self.name} barks: {self.sound}\")\n",
    "    \n",
    "    def display_breed(self):\n",
    "        print(f\"{self.name} is a {self.breed} dog.\")\n",
    "\n",
    "# Derived class (Inheritance & Polymorphism)\n",
    "class Cat(Animal):\n",
    "    def __init__(self, name, sound, color):\n",
    "        super().__init__(name, sound)  # Inheritance: Calling the parent class constructor\n",
    "        self.color = color  # New attribute in Cat class\n",
    "\n",
    "    def make_sound(self):  # Method Overriding (Polymorphism)\n",
    "        print(f\"The cat {self.name} meows: {self.sound}\")\n",
    "    \n",
    "    def display_color(self):\n",
    "        print(f\"{self.name} is a {self.color} cat.\")\n",
    "\n",
    "# Creating objects (Instances)\n",
    "dog = Dog(\"Buddy\", \"woof\", \"Golden Retriever\")\n",
    "cat = Cat(\"Whiskers\", \"meow\", \"black\")\n",
    "\n",
    "# Accessing encapsulated methods and attributes\n",
    "dog.make_sound()  # Polymorphism: Dog's make_sound method\n",
    "dog.display_breed()  # Dog-specific behavior\n",
    "\n",
    "cat.make_sound()  # Polymorphism: Cat's make_sound method\n",
    "cat.display_color()  # Cat-specific behavior"
   ]
  },
  {
   "cell_type": "markdown",
   "id": "cd4c53f3",
   "metadata": {},
   "source": [
    "# ---------------------------------------------------"
   ]
  },
  {
   "cell_type": "code",
   "execution_count": 13,
   "id": "0f683a6d",
   "metadata": {},
   "outputs": [
    {
     "name": "stdout",
     "output_type": "stream",
     "text": [
      "Enter the number5\n"
     ]
    }
   ],
   "source": [
    "num= list(map(int,input(\"Enter the number\").split()))\n"
   ]
  },
  {
   "cell_type": "code",
   "execution_count": 25,
   "id": "f9405f4f",
   "metadata": {},
   "outputs": [
    {
     "name": "stdout",
     "output_type": "stream",
     "text": [
      "Enter the number5\n"
     ]
    }
   ],
   "source": [
    "num= list(map(int,input(\"Enter the number\").split()))\n",
    "def ev_odd(number):\n",
    "    if number%2==0:\n",
    "        print(\"Even\")\n",
    "    else:\n",
    "        print(\"Odd\")"
   ]
  },
  {
   "cell_type": "code",
   "execution_count": 23,
   "id": "5fb659ed",
   "metadata": {},
   "outputs": [
    {
     "name": "stdout",
     "output_type": "stream",
     "text": [
      "Odd\n",
      "None\n"
     ]
    }
   ],
   "source": [
    "for number in num:\n",
    "    print(ev_odd(number))"
   ]
  },
  {
   "cell_type": "code",
   "execution_count": 26,
   "id": "c6b388ef",
   "metadata": {},
   "outputs": [
    {
     "ename": "NameError",
     "evalue": "name 'even_num' is not defined",
     "output_type": "error",
     "traceback": [
      "\u001b[1;31m---------------------------------------------------------------------------\u001b[0m",
      "\u001b[1;31mNameError\u001b[0m                                 Traceback (most recent call last)",
      "Cell \u001b[1;32mIn[26], line 2\u001b[0m\n\u001b[0;32m      1\u001b[0m \u001b[38;5;28;01mfor\u001b[39;00m number \u001b[38;5;129;01min\u001b[39;00m num:\n\u001b[1;32m----> 2\u001b[0m     \u001b[43meven_num\u001b[49m(number)\n",
      "\u001b[1;31mNameError\u001b[0m: name 'even_num' is not defined"
     ]
    }
   ],
   "source": [
    "for number in num:\n",
    "    even_num(number)"
   ]
  },
  {
   "cell_type": "code",
   "execution_count": null,
   "id": "884f7646",
   "metadata": {},
   "outputs": [],
   "source": []
  }
 ],
 "metadata": {
  "kernelspec": {
   "display_name": "Python 3 (ipykernel)",
   "language": "python",
   "name": "python3"
  },
  "language_info": {
   "codemirror_mode": {
    "name": "ipython",
    "version": 3
   },
   "file_extension": ".py",
   "mimetype": "text/x-python",
   "name": "python",
   "nbconvert_exporter": "python",
   "pygments_lexer": "ipython3",
   "version": "3.10.9"
  }
 },
 "nbformat": 4,
 "nbformat_minor": 5
}
