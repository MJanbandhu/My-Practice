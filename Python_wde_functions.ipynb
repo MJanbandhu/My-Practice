{
  "cells": [
    {
      "cell_type": "markdown",
      "metadata": {
        "id": "view-in-github",
        "colab_type": "text"
      },
      "source": [
        "<a href=\"https://colab.research.google.com/github/MJanbandhu/My-Practice/blob/main/Python_wde_functions.ipynb\" target=\"_parent\"><img src=\"https://colab.research.google.com/assets/colab-badge.svg\" alt=\"Open In Colab\"/></a>"
      ]
    },
    {
      "cell_type": "markdown",
      "id": "5a7567de-8c4e-4721-ba41-a86de7113dc3",
      "metadata": {
        "id": "5a7567de-8c4e-4721-ba41-a86de7113dc3"
      },
      "source": [
        "#### Python\n",
        "\n",
        "- Python is a programming language created by Guido van Rossum in 1991\n",
        "- easy , versatile , simple , open source"
      ]
    },
    {
      "cell_type": "markdown",
      "id": "12461e42-76ba-4afe-9369-2a7ccad9af2c",
      "metadata": {
        "id": "12461e42-76ba-4afe-9369-2a7ccad9af2c"
      },
      "source": [
        "#### Variable\n",
        "- storage containers , store the value in the memory\n",
        "- syntax : variable_name = value"
      ]
    },
    {
      "cell_type": "code",
      "execution_count": null,
      "id": "793703db-d2ea-4254-810e-a94eb47bbfe1",
      "metadata": {
        "id": "793703db-d2ea-4254-810e-a94eb47bbfe1"
      },
      "outputs": [],
      "source": [
        "a = 3"
      ]
    },
    {
      "cell_type": "code",
      "execution_count": null,
      "id": "6f2346d6-199d-47da-82b0-5bc2455f2828",
      "metadata": {
        "id": "6f2346d6-199d-47da-82b0-5bc2455f2828"
      },
      "outputs": [],
      "source": [
        "b = 2"
      ]
    },
    {
      "cell_type": "code",
      "execution_count": null,
      "id": "ab831623-212b-4dd3-a5e7-5c216f33bce4",
      "metadata": {
        "id": "ab831623-212b-4dd3-a5e7-5c216f33bce4",
        "outputId": "75aa18b4-b750-462e-c5d8-9f7b2028fa33"
      },
      "outputs": [
        {
          "name": "stdout",
          "output_type": "stream",
          "text": [
            "The value entered is  2\n"
          ]
        }
      ],
      "source": [
        "print('The value entered is ',b)"
      ]
    },
    {
      "cell_type": "code",
      "execution_count": null,
      "id": "e6404b90-ae82-4db0-b008-eccf6edf4fef",
      "metadata": {
        "id": "e6404b90-ae82-4db0-b008-eccf6edf4fef",
        "outputId": "6117f2da-e46e-4f73-fd99-5ff3cd5a4b4d"
      },
      "outputs": [
        {
          "name": "stdout",
          "output_type": "stream",
          "text": [
            "The value enteres is 3 and 2\n"
          ]
        }
      ],
      "source": [
        "print('The value enteres is',a ,'and',b)"
      ]
    },
    {
      "cell_type": "code",
      "execution_count": null,
      "id": "7295526d-5e30-4e41-846e-2fc1d52623da",
      "metadata": {
        "id": "7295526d-5e30-4e41-846e-2fc1d52623da",
        "outputId": "d189585c-b997-4530-b398-36a5efe58662"
      },
      "outputs": [
        {
          "name": "stdout",
          "output_type": "stream",
          "text": [
            "The result is 30\n"
          ]
        }
      ],
      "source": [
        "a = 10\n",
        "b = 20\n",
        "c = a + b\n",
        "print('The result is',c)"
      ]
    },
    {
      "cell_type": "code",
      "execution_count": null,
      "id": "be0250a3-4acf-46f7-a183-2ec95cdf72a7",
      "metadata": {
        "id": "be0250a3-4acf-46f7-a183-2ec95cdf72a7",
        "outputId": "3c82580b-79e1-4a83-e9b0-907a663a7daf"
      },
      "outputs": [
        {
          "name": "stdout",
          "output_type": "stream",
          "text": [
            "The result is  -10\n"
          ]
        }
      ],
      "source": [
        "d = a - b\n",
        "print('The result is ', d)"
      ]
    },
    {
      "cell_type": "code",
      "execution_count": null,
      "id": "44358e02-37aa-4003-8420-46d632755efe",
      "metadata": {
        "id": "44358e02-37aa-4003-8420-46d632755efe",
        "outputId": "318a0dbc-7dde-4bc4-f0f8-368485e3550a"
      },
      "outputs": [
        {
          "name": "stdout",
          "output_type": "stream",
          "text": [
            "-10\n",
            "200\n"
          ]
        }
      ],
      "source": [
        "d = a - b\n",
        "e = a * b\n",
        "print(d)\n",
        "print(e)"
      ]
    },
    {
      "cell_type": "markdown",
      "id": "32a74d60-b832-4e6c-8ca0-a95d65d6f116",
      "metadata": {
        "id": "32a74d60-b832-4e6c-8ca0-a95d65d6f116"
      },
      "source": [
        "##### Rules of naming a variable"
      ]
    },
    {
      "cell_type": "markdown",
      "id": "4d8f8055-ec8f-40bf-acba-08642a1a01d2",
      "metadata": {
        "id": "4d8f8055-ec8f-40bf-acba-08642a1a01d2"
      },
      "source": [
        "###### 1.Variables cannot start with a number"
      ]
    },
    {
      "cell_type": "code",
      "execution_count": null,
      "id": "5e2b9c76-4cd2-4129-b0a5-245cb00d9392",
      "metadata": {
        "id": "5e2b9c76-4cd2-4129-b0a5-245cb00d9392",
        "outputId": "6cead5bd-ba43-4168-d2fd-105f6a8d75b6"
      },
      "outputs": [
        {
          "ename": "SyntaxError",
          "evalue": "cannot assign to literal here. Maybe you meant '==' instead of '='? (2881337615.py, line 1)",
          "output_type": "error",
          "traceback": [
            "\u001b[1;36m  Cell \u001b[1;32mIn[39], line 1\u001b[1;36m\u001b[0m\n\u001b[1;33m    1 = 10\u001b[0m\n\u001b[1;37m    ^\u001b[0m\n\u001b[1;31mSyntaxError\u001b[0m\u001b[1;31m:\u001b[0m cannot assign to literal here. Maybe you meant '==' instead of '='?\n"
          ]
        }
      ],
      "source": [
        "1 = 10"
      ]
    },
    {
      "cell_type": "code",
      "execution_count": null,
      "id": "c36d0615-97f8-424f-b7a9-f6acfaae199d",
      "metadata": {
        "id": "c36d0615-97f8-424f-b7a9-f6acfaae199d"
      },
      "outputs": [],
      "source": [
        "a1 = 10"
      ]
    },
    {
      "cell_type": "markdown",
      "id": "e5fa6b44-9a42-47ab-beff-1cd7a637447b",
      "metadata": {
        "id": "e5fa6b44-9a42-47ab-beff-1cd7a637447b"
      },
      "source": [
        "###### 2. Variables cannot have any special character other than '_'"
      ]
    },
    {
      "cell_type": "code",
      "execution_count": null,
      "id": "821f9184-581e-4f41-84a3-e6b1888bfd95",
      "metadata": {
        "id": "821f9184-581e-4f41-84a3-e6b1888bfd95",
        "outputId": "e176d7cc-2881-4b31-ab25-1181e7ea35da"
      },
      "outputs": [
        {
          "ename": "SyntaxError",
          "evalue": "invalid syntax (318979561.py, line 1)",
          "output_type": "error",
          "traceback": [
            "\u001b[1;36m  Cell \u001b[1;32mIn[45], line 1\u001b[1;36m\u001b[0m\n\u001b[1;33m    a$ = 10\u001b[0m\n\u001b[1;37m     ^\u001b[0m\n\u001b[1;31mSyntaxError\u001b[0m\u001b[1;31m:\u001b[0m invalid syntax\n"
          ]
        }
      ],
      "source": [
        "a$ = 10"
      ]
    },
    {
      "cell_type": "code",
      "execution_count": null,
      "id": "4eb5bd13-e61d-4e36-a311-b0cb47da76d7",
      "metadata": {
        "id": "4eb5bd13-e61d-4e36-a311-b0cb47da76d7"
      },
      "outputs": [],
      "source": [
        "_a = 10"
      ]
    },
    {
      "cell_type": "code",
      "execution_count": null,
      "id": "2627245e-bacd-4490-982a-7d29bb431d47",
      "metadata": {
        "id": "2627245e-bacd-4490-982a-7d29bb431d47"
      },
      "outputs": [],
      "source": [
        "a_ = 10"
      ]
    },
    {
      "cell_type": "code",
      "execution_count": null,
      "id": "3a92ce7e-2cb1-46d7-860d-d0bb599c8cb7",
      "metadata": {
        "id": "3a92ce7e-2cb1-46d7-860d-d0bb599c8cb7"
      },
      "outputs": [],
      "source": [
        "a_a = 10"
      ]
    },
    {
      "cell_type": "markdown",
      "id": "58eee330-edee-438a-a70d-877d99548c84",
      "metadata": {
        "id": "58eee330-edee-438a-a70d-877d99548c84"
      },
      "source": [
        "###### 3. Variables cannot have space between them"
      ]
    },
    {
      "cell_type": "code",
      "execution_count": null,
      "id": "f1edfc6b-cd08-4c9c-a867-e0fc9f605927",
      "metadata": {
        "id": "f1edfc6b-cd08-4c9c-a867-e0fc9f605927",
        "outputId": "fe8edcb1-62a0-4b2c-9179-449ef95eb9ce"
      },
      "outputs": [
        {
          "ename": "SyntaxError",
          "evalue": "invalid syntax (1785724201.py, line 1)",
          "output_type": "error",
          "traceback": [
            "\u001b[1;36m  Cell \u001b[1;32mIn[54], line 1\u001b[1;36m\u001b[0m\n\u001b[1;33m    my name = 'Lakshmi'\u001b[0m\n\u001b[1;37m       ^\u001b[0m\n\u001b[1;31mSyntaxError\u001b[0m\u001b[1;31m:\u001b[0m invalid syntax\n"
          ]
        }
      ],
      "source": [
        "my name = 'Lakshmi'"
      ]
    },
    {
      "cell_type": "code",
      "execution_count": null,
      "id": "e1f1150e-f0d3-4321-9f23-c06d51e2947c",
      "metadata": {
        "id": "e1f1150e-f0d3-4321-9f23-c06d51e2947c"
      },
      "outputs": [],
      "source": [
        "my_name = 'Lakshmi'"
      ]
    },
    {
      "cell_type": "markdown",
      "id": "c2eae599-9f3d-43d1-9e77-eece44d3b666",
      "metadata": {
        "id": "c2eae599-9f3d-43d1-9e77-eece44d3b666"
      },
      "source": [
        "#### Keywords\n",
        "\n",
        "- reserved words ; pre defined meaning .\n",
        "- keywords cannot be taken as a identifier"
      ]
    },
    {
      "cell_type": "code",
      "execution_count": null,
      "id": "422e1280-2985-41c2-bb7d-cebb562d555d",
      "metadata": {
        "id": "422e1280-2985-41c2-bb7d-cebb562d555d",
        "outputId": "2ff577c7-8157-41c1-e2ce-cf0bd341c83e"
      },
      "outputs": [
        {
          "name": "stdout",
          "output_type": "stream",
          "text": [
            "The keyword list is  ['False', 'None', 'True', 'and', 'as', 'assert', 'async', 'await', 'break', 'class', 'continue', 'def', 'del', 'elif', 'else', 'except', 'finally', 'for', 'from', 'global', 'if', 'import', 'in', 'is', 'lambda', 'nonlocal', 'not', 'or', 'pass', 'raise', 'return', 'try', 'while', 'with', 'yield']\n"
          ]
        }
      ],
      "source": [
        "import keyword\n",
        "print('The keyword list is ',keyword.kwlist) #kw keyword list"
      ]
    },
    {
      "cell_type": "markdown",
      "id": "61531243-e5e8-44b2-9c5c-c6fae136f036",
      "metadata": {
        "id": "61531243-e5e8-44b2-9c5c-c6fae136f036"
      },
      "source": [
        "##### Identifier\n",
        "\n",
        "- is the name given to the entities like functions, varibles, class etc"
      ]
    },
    {
      "cell_type": "markdown",
      "id": "25d03c29-3d86-4aee-bbf5-5f9071980768",
      "metadata": {
        "id": "25d03c29-3d86-4aee-bbf5-5f9071980768"
      },
      "source": [
        "#### Comments\n",
        "\n",
        "- can be used to explain the code for more readability"
      ]
    },
    {
      "cell_type": "code",
      "execution_count": null,
      "id": "3526f6ab-0881-4145-a2f5-23141596ecc1",
      "metadata": {
        "id": "3526f6ab-0881-4145-a2f5-23141596ecc1"
      },
      "outputs": [],
      "source": [
        "b = 10 # The value 10 is assigned to the variable b\n",
        "\n",
        "# single single comment"
      ]
    },
    {
      "cell_type": "code",
      "execution_count": null,
      "id": "4bcd8644-825d-4f1b-a93b-51ed45702ccf",
      "metadata": {
        "id": "4bcd8644-825d-4f1b-a93b-51ed45702ccf"
      },
      "outputs": [],
      "source": [
        "# MUlti line comment\n",
        "'''\n",
        "Multi\n",
        "line\n",
        "comment\n",
        "'''\n",
        "b = 10"
      ]
    },
    {
      "cell_type": "code",
      "execution_count": null,
      "id": "05146cc5-614f-4b27-98ea-941b73fdafc5",
      "metadata": {
        "id": "05146cc5-614f-4b27-98ea-941b73fdafc5",
        "outputId": "695f5b8a-befc-4bcf-9cd7-dd2d61ec18a1"
      },
      "outputs": [
        {
          "data": {
            "text/plain": [
              "10"
            ]
          },
          "execution_count": 69,
          "metadata": {},
          "output_type": "execute_result"
        }
      ],
      "source": [
        "a = b = c = 10 # multiple variable assignment\n",
        "a"
      ]
    },
    {
      "cell_type": "code",
      "execution_count": null,
      "id": "8ba01f74-5b85-4742-9a9f-4fff3f099a43",
      "metadata": {
        "id": "8ba01f74-5b85-4742-9a9f-4fff3f099a43",
        "outputId": "916ceda1-d773-42a2-eaf3-05739d50e523"
      },
      "outputs": [
        {
          "data": {
            "text/plain": [
              "10"
            ]
          },
          "execution_count": 71,
          "metadata": {},
          "output_type": "execute_result"
        }
      ],
      "source": [
        "b"
      ]
    },
    {
      "cell_type": "code",
      "execution_count": null,
      "id": "b721038b-2de2-45d1-a8af-d376b633645d",
      "metadata": {
        "id": "b721038b-2de2-45d1-a8af-d376b633645d",
        "outputId": "0267de15-eb76-44fd-a892-a0aa3af78c5b"
      },
      "outputs": [
        {
          "data": {
            "text/plain": [
              "10"
            ]
          },
          "execution_count": 73,
          "metadata": {},
          "output_type": "execute_result"
        }
      ],
      "source": [
        "c"
      ]
    },
    {
      "cell_type": "code",
      "execution_count": null,
      "id": "ed727030-8935-4e3d-8471-a2777c5a39f6",
      "metadata": {
        "id": "ed727030-8935-4e3d-8471-a2777c5a39f6"
      },
      "outputs": [],
      "source": [
        "# x , y , and z -> 10, 20 30\n",
        "x , y , z = 10, 20 ,30\n",
        "x , y , z = 10,20,30"
      ]
    },
    {
      "cell_type": "code",
      "execution_count": null,
      "id": "061507f3-34af-4139-8f89-1ad7df5a73ae",
      "metadata": {
        "id": "061507f3-34af-4139-8f89-1ad7df5a73ae",
        "outputId": "3ea56272-f2eb-49af-ea8f-ff2c3bd4cc87"
      },
      "outputs": [
        {
          "data": {
            "text/plain": [
              "10"
            ]
          },
          "execution_count": 81,
          "metadata": {},
          "output_type": "execute_result"
        }
      ],
      "source": [
        "x"
      ]
    },
    {
      "cell_type": "code",
      "execution_count": null,
      "id": "7144e3af-6209-4308-8177-05a262623133",
      "metadata": {
        "id": "7144e3af-6209-4308-8177-05a262623133",
        "outputId": "0ce34b76-a599-4e33-b595-341ac7b07888"
      },
      "outputs": [
        {
          "data": {
            "text/plain": [
              "20"
            ]
          },
          "execution_count": 83,
          "metadata": {},
          "output_type": "execute_result"
        }
      ],
      "source": [
        "y"
      ]
    },
    {
      "cell_type": "code",
      "execution_count": null,
      "id": "c15fb3e6-7bf4-4191-8709-77649ea90d70",
      "metadata": {
        "id": "c15fb3e6-7bf4-4191-8709-77649ea90d70",
        "outputId": "654fbd13-a80b-4fab-82a6-f4f2b51afaaa"
      },
      "outputs": [
        {
          "data": {
            "text/plain": [
              "30"
            ]
          },
          "execution_count": 85,
          "metadata": {},
          "output_type": "execute_result"
        }
      ],
      "source": [
        "z"
      ]
    },
    {
      "cell_type": "markdown",
      "id": "63e2d089-78d2-41c0-8dcf-9dab9a7725d7",
      "metadata": {
        "id": "63e2d089-78d2-41c0-8dcf-9dab9a7725d7"
      },
      "source": [
        "![image.png](attachment:50699206-a375-4a0a-b155-7ee972f83338.png)"
      ]
    },
    {
      "cell_type": "code",
      "execution_count": null,
      "id": "378861cc-cf53-4be4-bd5f-5e9075768cb6",
      "metadata": {
        "id": "378861cc-cf53-4be4-bd5f-5e9075768cb6",
        "outputId": "8a858bbe-007a-4ca7-d873-bafc3ea91c17"
      },
      "outputs": [
        {
          "data": {
            "text/plain": [
              "int"
            ]
          },
          "execution_count": 89,
          "metadata": {},
          "output_type": "execute_result"
        }
      ],
      "source": [
        "a = 10\n",
        "type(a)"
      ]
    },
    {
      "cell_type": "code",
      "execution_count": null,
      "id": "f1953537-7555-41f3-bc70-dfb7d4fa06c3",
      "metadata": {
        "id": "f1953537-7555-41f3-bc70-dfb7d4fa06c3",
        "outputId": "f9b14590-368f-42ae-9524-1899b25929b4"
      },
      "outputs": [
        {
          "data": {
            "text/plain": [
              "float"
            ]
          },
          "execution_count": 91,
          "metadata": {},
          "output_type": "execute_result"
        }
      ],
      "source": [
        "b = 1.0\n",
        "type(b)"
      ]
    },
    {
      "cell_type": "code",
      "execution_count": null,
      "id": "91f69632-076e-4c9b-99dd-bbfee5494da6",
      "metadata": {
        "id": "91f69632-076e-4c9b-99dd-bbfee5494da6",
        "outputId": "80cbc3f6-ec50-4730-a07a-62739bb67181"
      },
      "outputs": [
        {
          "data": {
            "text/plain": [
              "str"
            ]
          },
          "execution_count": 93,
          "metadata": {},
          "output_type": "execute_result"
        }
      ],
      "source": [
        "c = 'PYTHON'\n",
        "type(c)"
      ]
    },
    {
      "cell_type": "code",
      "execution_count": null,
      "id": "97d49093-7aa6-4273-92cd-c62cd54c0470",
      "metadata": {
        "id": "97d49093-7aa6-4273-92cd-c62cd54c0470",
        "outputId": "8517c32a-e3d2-42d7-e9c0-f344f1933b12"
      },
      "outputs": [
        {
          "data": {
            "text/plain": [
              "bool"
            ]
          },
          "execution_count": 95,
          "metadata": {},
          "output_type": "execute_result"
        }
      ],
      "source": [
        "d = True\n",
        "type(d)"
      ]
    },
    {
      "cell_type": "code",
      "execution_count": null,
      "id": "50f05663-b3aa-470d-aadc-f1d6142f8393",
      "metadata": {
        "id": "50f05663-b3aa-470d-aadc-f1d6142f8393",
        "outputId": "730b9cb5-8b45-4ecf-b459-2b709a856075"
      },
      "outputs": [
        {
          "data": {
            "text/plain": [
              "complex"
            ]
          },
          "execution_count": 97,
          "metadata": {},
          "output_type": "execute_result"
        }
      ],
      "source": [
        "e = 10 + 5j\n",
        "type(e)"
      ]
    },
    {
      "cell_type": "code",
      "execution_count": null,
      "id": "2c3c00f3-38e3-4499-9f91-9016904572c7",
      "metadata": {
        "id": "2c3c00f3-38e3-4499-9f91-9016904572c7",
        "outputId": "b4710493-9266-434f-8dcd-486143dae995"
      },
      "outputs": [
        {
          "name": "stdout",
          "output_type": "stream",
          "text": [
            "Hello world\n"
          ]
        }
      ],
      "source": [
        "print('Hello world')"
      ]
    },
    {
      "cell_type": "code",
      "execution_count": null,
      "id": "6c4f439a-6031-4f02-9a18-c4aadaf8cf21",
      "metadata": {
        "id": "6c4f439a-6031-4f02-9a18-c4aadaf8cf21",
        "outputId": "ce04bcf6-5a68-487a-c441-77db15544fde"
      },
      "outputs": [
        {
          "name": "stdout",
          "output_type": "stream",
          "text": [
            "The area is  78.5\n"
          ]
        }
      ],
      "source": [
        "# write a program to compute area of a circle\n",
        "r = 5\n",
        "pi = 3.14\n",
        "area = pi * r * r\n",
        "print('The area is ',area)"
      ]
    },
    {
      "cell_type": "code",
      "execution_count": null,
      "id": "66ba8615-6846-44f3-9021-4e75742c4cb8",
      "metadata": {
        "id": "66ba8615-6846-44f3-9021-4e75742c4cb8",
        "outputId": "417ed2dd-ff18-4892-bb9e-ebd15585a901"
      },
      "outputs": [
        {
          "name": "stdin",
          "output_type": "stream",
          "text": [
            "enter the number 5\n"
          ]
        },
        {
          "name": "stdout",
          "output_type": "stream",
          "text": [
            "The area is  78.5\n"
          ]
        }
      ],
      "source": [
        "# user defined values\n",
        "# var_name = datatype(input())\n",
        "r = float(input('enter the number'))\n",
        "pi = 3.14\n",
        "area = pi * r * r\n",
        "print('The area is ',area)"
      ]
    },
    {
      "cell_type": "code",
      "execution_count": null,
      "id": "49532490-bfbd-465e-8c1f-4153a2df629d",
      "metadata": {
        "id": "49532490-bfbd-465e-8c1f-4153a2df629d",
        "outputId": "c30f785c-8482-4adb-9bcd-d7a61b268521"
      },
      "outputs": [
        {
          "name": "stdin",
          "output_type": "stream",
          "text": [
            "enter the number 10\n",
            "enter the number 10\n"
          ]
        },
        {
          "name": "stdout",
          "output_type": "stream",
          "text": [
            "20\n"
          ]
        }
      ],
      "source": [
        "# have a interger values (user defined ) and perfrom addtion operation\n",
        "a=int(input('enter the number'))\n",
        "b=int(input('enter the number'))\n",
        "c=a+b\n",
        "print(c)\n"
      ]
    },
    {
      "cell_type": "markdown",
      "id": "3d8741ff-6aaa-453d-8270-6b6f2ea13b0b",
      "metadata": {
        "id": "3d8741ff-6aaa-453d-8270-6b6f2ea13b0b"
      },
      "source": [
        "#### Typecasting\n",
        "* Type Casting is the method to convert the variable data type into a certain data\n",
        "type in order to the operation required to be performed by users.\n",
        "\n",
        "* There are 2 ways in which typecasting is performed.\n",
        "\n",
        "1) Autotypecasting\n",
        "\n",
        "\n",
        "2) Forced Typecasting"
      ]
    },
    {
      "cell_type": "markdown",
      "id": "832182b0-363e-4bbb-a3e1-9a47c77d7560",
      "metadata": {
        "id": "832182b0-363e-4bbb-a3e1-9a47c77d7560"
      },
      "source": [
        "##### Auto Typecasting\n",
        "-  The Python interpreter automatically converts one data type to another without any user involvement."
      ]
    },
    {
      "cell_type": "code",
      "execution_count": null,
      "id": "23195ae2-187e-434c-a363-2d97ee2861eb",
      "metadata": {
        "id": "23195ae2-187e-434c-a363-2d97ee2861eb",
        "outputId": "b015e425-c754-43d2-9da9-7f2469f21f57"
      },
      "outputs": [
        {
          "data": {
            "text/plain": [
              "10"
            ]
          },
          "execution_count": 113,
          "metadata": {},
          "output_type": "execute_result"
        }
      ],
      "source": [
        "4 + 5 + True  # 4 + 5 + 1"
      ]
    },
    {
      "cell_type": "code",
      "execution_count": null,
      "id": "11e97cc7-af61-4c88-b0dc-7968064df593",
      "metadata": {
        "id": "11e97cc7-af61-4c88-b0dc-7968064df593",
        "outputId": "09b5d212-e00d-4cfb-f062-5a6e3aa396fc"
      },
      "outputs": [
        {
          "data": {
            "text/plain": [
              "10"
            ]
          },
          "execution_count": 115,
          "metadata": {},
          "output_type": "execute_result"
        }
      ],
      "source": [
        "4 + 5 + True + False  # 5 + 4 + 1 + 0"
      ]
    },
    {
      "cell_type": "code",
      "execution_count": null,
      "id": "a5a06b3a-010c-4d19-88ce-ddd9341f61f0",
      "metadata": {
        "id": "a5a06b3a-010c-4d19-88ce-ddd9341f61f0",
        "outputId": "1ac0fcc7-46b8-442e-a231-4e2d9138c6c4"
      },
      "outputs": [
        {
          "data": {
            "text/plain": [
              "11.0"
            ]
          },
          "execution_count": 117,
          "metadata": {},
          "output_type": "execute_result"
        }
      ],
      "source": [
        "4 + 5 + True + 1.0"
      ]
    },
    {
      "cell_type": "code",
      "execution_count": null,
      "id": "b9ef7048-66d0-429d-a100-292a33afe3c8",
      "metadata": {
        "id": "b9ef7048-66d0-429d-a100-292a33afe3c8",
        "outputId": "89f50b82-e281-49bc-c45a-b7ed451c6174"
      },
      "outputs": [
        {
          "ename": "TypeError",
          "evalue": "unsupported operand type(s) for +: 'int' and 'str'",
          "output_type": "error",
          "traceback": [
            "\u001b[1;31m---------------------------------------------------------------------------\u001b[0m",
            "\u001b[1;31mTypeError\u001b[0m                                 Traceback (most recent call last)",
            "Cell \u001b[1;32mIn[119], line 1\u001b[0m\n\u001b[1;32m----> 1\u001b[0m \u001b[38;5;241m4\u001b[39m \u001b[38;5;241m+\u001b[39m \u001b[38;5;124m'\u001b[39m\u001b[38;5;124mPython\u001b[39m\u001b[38;5;124m'\u001b[39m\n",
            "\u001b[1;31mTypeError\u001b[0m: unsupported operand type(s) for +: 'int' and 'str'"
          ]
        }
      ],
      "source": [
        "4 + 'Python'"
      ]
    },
    {
      "cell_type": "code",
      "execution_count": null,
      "id": "aa8697f4-dbdf-4150-959c-33c055f4dae9",
      "metadata": {
        "id": "aa8697f4-dbdf-4150-959c-33c055f4dae9",
        "outputId": "0b8a4f6d-a0a4-40db-ad8d-e92ce53a899c"
      },
      "outputs": [
        {
          "data": {
            "text/plain": [
              "'4Python'"
            ]
          },
          "execution_count": 121,
          "metadata": {},
          "output_type": "execute_result"
        }
      ],
      "source": [
        "'4' + 'Python'"
      ]
    },
    {
      "cell_type": "markdown",
      "id": "943f8a99-9b7c-48e8-94d5-3347cf9e30cf",
      "metadata": {
        "id": "943f8a99-9b7c-48e8-94d5-3347cf9e30cf"
      },
      "source": [
        "##### Forced TypeCasting"
      ]
    },
    {
      "cell_type": "code",
      "execution_count": null,
      "id": "d2c2f4cb-4568-49d7-975c-e8703b7c672e",
      "metadata": {
        "id": "d2c2f4cb-4568-49d7-975c-e8703b7c672e"
      },
      "outputs": [],
      "source": [
        "a = 10"
      ]
    },
    {
      "cell_type": "code",
      "execution_count": null,
      "id": "6739e378-b691-4746-bda3-80ee291fdc6f",
      "metadata": {
        "id": "6739e378-b691-4746-bda3-80ee291fdc6f",
        "outputId": "a500f731-62aa-4b46-e5f3-5b1ab6cf9c0a"
      },
      "outputs": [
        {
          "data": {
            "text/plain": [
              "10.0"
            ]
          },
          "execution_count": 5,
          "metadata": {},
          "output_type": "execute_result"
        }
      ],
      "source": [
        "float(a)"
      ]
    },
    {
      "cell_type": "code",
      "execution_count": null,
      "id": "7f11aa37-756d-4c36-9fbd-4d5b8366c866",
      "metadata": {
        "id": "7f11aa37-756d-4c36-9fbd-4d5b8366c866",
        "outputId": "72ce80c1-4443-4f39-94fc-6e158c1258c8"
      },
      "outputs": [
        {
          "data": {
            "text/plain": [
              "True"
            ]
          },
          "execution_count": 7,
          "metadata": {},
          "output_type": "execute_result"
        }
      ],
      "source": [
        "bool(a)"
      ]
    },
    {
      "cell_type": "code",
      "execution_count": null,
      "id": "89154206-0803-4cba-967b-ddc2e420d995",
      "metadata": {
        "id": "89154206-0803-4cba-967b-ddc2e420d995",
        "outputId": "1246ee89-3479-4cf6-ace8-5100aae78a7b"
      },
      "outputs": [
        {
          "data": {
            "text/plain": [
              "'10'"
            ]
          },
          "execution_count": 9,
          "metadata": {},
          "output_type": "execute_result"
        }
      ],
      "source": [
        "str(a)"
      ]
    },
    {
      "cell_type": "code",
      "execution_count": null,
      "id": "63f5b50b-6a76-4b1f-b045-b69937a6f9b4",
      "metadata": {
        "id": "63f5b50b-6a76-4b1f-b045-b69937a6f9b4",
        "outputId": "7986c70a-6057-4982-cf7e-547dd53e2b46"
      },
      "outputs": [
        {
          "data": {
            "text/plain": [
              "True"
            ]
          },
          "execution_count": 11,
          "metadata": {},
          "output_type": "execute_result"
        }
      ],
      "source": [
        "bool(0.1)"
      ]
    },
    {
      "cell_type": "markdown",
      "id": "01c2d232-ca4e-4222-8f7c-5b7ef9916e97",
      "metadata": {
        "id": "01c2d232-ca4e-4222-8f7c-5b7ef9916e97"
      },
      "source": [
        "Task : float , str , bool try to do forced typecasting"
      ]
    },
    {
      "cell_type": "markdown",
      "id": "7a64166f-ae89-484e-8ce0-b9efc0aa4b3a",
      "metadata": {
        "id": "7a64166f-ae89-484e-8ce0-b9efc0aa4b3a"
      },
      "source": [
        "#### String and its functions"
      ]
    },
    {
      "cell_type": "code",
      "execution_count": null,
      "id": "8c1d5399-4ad1-442e-8e78-1f2b87d4d3e7",
      "metadata": {
        "id": "8c1d5399-4ad1-442e-8e78-1f2b87d4d3e7",
        "outputId": "07d2a592-f195-4a77-c90f-e7098ba94891"
      },
      "outputs": [
        {
          "name": "stdout",
          "output_type": "stream",
          "text": [
            "Hello world\n"
          ]
        }
      ],
      "source": [
        "s1 = \"Hello world\"\n",
        "print(s1)"
      ]
    },
    {
      "cell_type": "code",
      "execution_count": null,
      "id": "ec6c7dc4-a5f0-4b13-8101-a87396aad32e",
      "metadata": {
        "id": "ec6c7dc4-a5f0-4b13-8101-a87396aad32e",
        "outputId": "aab8c42c-1dd8-41c8-8d4e-851fc615d0ff"
      },
      "outputs": [
        {
          "name": "stdout",
          "output_type": "stream",
          "text": [
            "Welcome to python session\n"
          ]
        }
      ],
      "source": [
        "s2 = \"Welcome to python session\"\n",
        "print(s2)"
      ]
    },
    {
      "cell_type": "markdown",
      "id": "c1eb44b9-c1ad-488d-ba49-0aaf19cc63a0",
      "metadata": {
        "id": "c1eb44b9-c1ad-488d-ba49-0aaf19cc63a0"
      },
      "source": [
        "![image.png](attachment:d53685e7-2b8e-42dd-9c00-9fb671f32dc9.png)"
      ]
    },
    {
      "cell_type": "code",
      "execution_count": null,
      "id": "8c10ac9c-7207-4f28-a322-81540522ffed",
      "metadata": {
        "id": "8c10ac9c-7207-4f28-a322-81540522ffed",
        "outputId": "4824265a-6a8a-4a65-e08a-715a9f6bc403"
      },
      "outputs": [
        {
          "data": {
            "text/plain": [
              "'Hello world'"
            ]
          },
          "execution_count": 20,
          "metadata": {},
          "output_type": "execute_result"
        }
      ],
      "source": [
        "s1"
      ]
    },
    {
      "cell_type": "code",
      "execution_count": null,
      "id": "fe028ae1-6651-4234-863c-d768625f1d86",
      "metadata": {
        "id": "fe028ae1-6651-4234-863c-d768625f1d86",
        "outputId": "37d51705-da49-48d9-8b64-1bb351ecb46d"
      },
      "outputs": [
        {
          "data": {
            "text/plain": [
              "'H'"
            ]
          },
          "execution_count": 22,
          "metadata": {},
          "output_type": "execute_result"
        }
      ],
      "source": [
        "# string_name[index_number]\n",
        "s1[0]"
      ]
    },
    {
      "cell_type": "code",
      "execution_count": null,
      "id": "1d8658ad-6903-408e-b3a2-1123c06a42e9",
      "metadata": {
        "id": "1d8658ad-6903-408e-b3a2-1123c06a42e9",
        "outputId": "00859591-8677-47a1-c498-30a6b1ef10ae"
      },
      "outputs": [
        {
          "data": {
            "text/plain": [
              "'w'"
            ]
          },
          "execution_count": 24,
          "metadata": {},
          "output_type": "execute_result"
        }
      ],
      "source": [
        "s1[6]"
      ]
    },
    {
      "cell_type": "code",
      "execution_count": null,
      "id": "48fa1aa6-ef8c-4e8f-ac9e-1501e70fca96",
      "metadata": {
        "id": "48fa1aa6-ef8c-4e8f-ac9e-1501e70fca96",
        "outputId": "1e0d2109-2e83-4881-bcfe-36f36ce5d034"
      },
      "outputs": [
        {
          "data": {
            "text/plain": [
              "'d'"
            ]
          },
          "execution_count": 26,
          "metadata": {},
          "output_type": "execute_result"
        }
      ],
      "source": [
        "s1[-1]"
      ]
    },
    {
      "cell_type": "markdown",
      "id": "1d3938f6-10eb-4693-8be6-2401f2437850",
      "metadata": {
        "id": "1d3938f6-10eb-4693-8be6-2401f2437850"
      },
      "source": [
        "##### Slicing"
      ]
    },
    {
      "cell_type": "code",
      "execution_count": null,
      "id": "e2f6365d-32c3-497e-8112-66bd9474e12b",
      "metadata": {
        "id": "e2f6365d-32c3-497e-8112-66bd9474e12b",
        "outputId": "6d5877dd-362d-444b-b445-8131654f2242"
      },
      "outputs": [
        {
          "data": {
            "text/plain": [
              "'Hello world'"
            ]
          },
          "execution_count": 29,
          "metadata": {},
          "output_type": "execute_result"
        }
      ],
      "source": [
        "s1"
      ]
    },
    {
      "cell_type": "code",
      "execution_count": null,
      "id": "a2f34550-8295-4045-90e9-3a52249dc5be",
      "metadata": {
        "id": "a2f34550-8295-4045-90e9-3a52249dc5be",
        "outputId": "9da43dcf-f17b-4493-ee7e-67fb6e27b149"
      },
      "outputs": [
        {
          "data": {
            "text/plain": [
              "'Hello'"
            ]
          },
          "execution_count": 31,
          "metadata": {},
          "output_type": "execute_result"
        }
      ],
      "source": [
        "# str_name[start : end-1]\n",
        "s1[0:5]"
      ]
    },
    {
      "cell_type": "code",
      "execution_count": null,
      "id": "8b5cb68f-cbd3-4058-82d9-4b9e38652f1f",
      "metadata": {
        "id": "8b5cb68f-cbd3-4058-82d9-4b9e38652f1f",
        "outputId": "639bda34-6112-4ce4-8774-8bca1d430337"
      },
      "outputs": [
        {
          "data": {
            "text/plain": [
              "'world'"
            ]
          },
          "execution_count": 36,
          "metadata": {},
          "output_type": "execute_result"
        }
      ],
      "source": [
        "s1[6:11]"
      ]
    },
    {
      "cell_type": "code",
      "execution_count": null,
      "id": "744a592d-59c8-4cc5-97d6-1d826341656c",
      "metadata": {
        "id": "744a592d-59c8-4cc5-97d6-1d826341656c",
        "outputId": "df89fefa-cc90-46df-9a54-69d07476effe"
      },
      "outputs": [
        {
          "data": {
            "text/plain": [
              "'Hello '"
            ]
          },
          "execution_count": 47,
          "metadata": {},
          "output_type": "execute_result"
        }
      ],
      "source": [
        "s1[:6]  # by default slicing is started at 0 index"
      ]
    },
    {
      "cell_type": "code",
      "execution_count": null,
      "id": "0e51fedc-276d-4ff0-872f-cfec25d611a8",
      "metadata": {
        "id": "0e51fedc-276d-4ff0-872f-cfec25d611a8",
        "outputId": "4825bd01-7a25-4893-afd8-4024b801676e"
      },
      "outputs": [
        {
          "data": {
            "text/plain": [
              "'Hello world'"
            ]
          },
          "execution_count": 49,
          "metadata": {},
          "output_type": "execute_result"
        }
      ],
      "source": [
        "s1[0:] #by default slicing will end at last index"
      ]
    },
    {
      "cell_type": "code",
      "execution_count": null,
      "id": "30009d8d-e6b7-42ed-89c8-641c22b0134f",
      "metadata": {
        "id": "30009d8d-e6b7-42ed-89c8-641c22b0134f",
        "outputId": "fea3f9ce-0d2b-477e-8ee7-a28efd5cb75e"
      },
      "outputs": [
        {
          "data": {
            "text/plain": [
              "'Hello world'"
            ]
          },
          "execution_count": 51,
          "metadata": {},
          "output_type": "execute_result"
        }
      ],
      "source": [
        "s1[:] # start 0 position , end at last index value"
      ]
    },
    {
      "cell_type": "code",
      "execution_count": null,
      "id": "349e58ef-6206-45fa-b96f-f5b85395c047",
      "metadata": {
        "id": "349e58ef-6206-45fa-b96f-f5b85395c047",
        "outputId": "46b2752e-43cd-4168-f99f-78bd9c7e9258"
      },
      "outputs": [
        {
          "data": {
            "text/plain": [
              "'Hello world'"
            ]
          },
          "execution_count": 53,
          "metadata": {},
          "output_type": "execute_result"
        }
      ],
      "source": [
        "# [start, end , step]\n",
        "s1[::1]"
      ]
    },
    {
      "cell_type": "code",
      "execution_count": null,
      "id": "932b94c6-c988-4488-a6ef-3fb5c093e1ee",
      "metadata": {
        "id": "932b94c6-c988-4488-a6ef-3fb5c093e1ee",
        "outputId": "0ba014c2-94a6-46cb-bf2f-421c52d828ee"
      },
      "outputs": [
        {
          "data": {
            "text/plain": [
              "'dlrow olleH'"
            ]
          },
          "execution_count": 55,
          "metadata": {},
          "output_type": "execute_result"
        }
      ],
      "source": [
        "s1[::-1] # reverse a string using slicing"
      ]
    },
    {
      "cell_type": "code",
      "execution_count": null,
      "id": "3db55f27-72df-4e8b-918a-adada60e07a0",
      "metadata": {
        "id": "3db55f27-72df-4e8b-918a-adada60e07a0",
        "outputId": "38729a63-8abf-46cd-c253-76250edaef32"
      },
      "outputs": [
        {
          "data": {
            "text/plain": [
              "'Hlowrd'"
            ]
          },
          "execution_count": 61,
          "metadata": {},
          "output_type": "execute_result"
        }
      ],
      "source": [
        "s1[0:11:2]"
      ]
    },
    {
      "cell_type": "code",
      "execution_count": null,
      "id": "b7ad7c7a-5a40-4096-b41b-19521762a785",
      "metadata": {
        "id": "b7ad7c7a-5a40-4096-b41b-19521762a785",
        "outputId": "1387b530-c15f-41d9-ef4c-9cbabbe4605c"
      },
      "outputs": [
        {
          "data": {
            "text/plain": [
              "'drwolH'"
            ]
          },
          "execution_count": 59,
          "metadata": {},
          "output_type": "execute_result"
        }
      ],
      "source": [
        "s1[::-2]"
      ]
    },
    {
      "cell_type": "markdown",
      "id": "3cbcc105-33aa-411f-948e-f8269ee10482",
      "metadata": {
        "id": "3cbcc105-33aa-411f-948e-f8269ee10482"
      },
      "source": [
        "##### Strings are immutable\n",
        "\n",
        "- we cannot add, delete or update the strings once created"
      ]
    },
    {
      "cell_type": "code",
      "execution_count": null,
      "id": "597c6cc5-67f8-43f8-a2ed-8783d7ef3729",
      "metadata": {
        "id": "597c6cc5-67f8-43f8-a2ed-8783d7ef3729",
        "outputId": "016666ea-07c0-4ccb-ddbb-94d9126ae31d"
      },
      "outputs": [
        {
          "data": {
            "text/plain": [
              "'Welcome to python session'"
            ]
          },
          "execution_count": 67,
          "metadata": {},
          "output_type": "execute_result"
        }
      ],
      "source": [
        "s2"
      ]
    },
    {
      "cell_type": "code",
      "execution_count": null,
      "id": "1d051b20-7952-4f40-90a9-6ca5c832542c",
      "metadata": {
        "id": "1d051b20-7952-4f40-90a9-6ca5c832542c",
        "outputId": "35e55584-a9e6-4c79-ed21-a629cefa5dc9"
      },
      "outputs": [
        {
          "ename": "TypeError",
          "evalue": "'str' object does not support item assignment",
          "output_type": "error",
          "traceback": [
            "\u001b[1;31m---------------------------------------------------------------------------\u001b[0m",
            "\u001b[1;31mTypeError\u001b[0m                                 Traceback (most recent call last)",
            "Cell \u001b[1;32mIn[71], line 1\u001b[0m\n\u001b[1;32m----> 1\u001b[0m s2[\u001b[38;5;241m0\u001b[39m] \u001b[38;5;241m=\u001b[39m \u001b[38;5;124m'\u001b[39m\u001b[38;5;124mZ\u001b[39m\u001b[38;5;124m'\u001b[39m\n",
            "\u001b[1;31mTypeError\u001b[0m: 'str' object does not support item assignment"
          ]
        }
      ],
      "source": [
        "s2[0] = 'Z'"
      ]
    },
    {
      "cell_type": "code",
      "execution_count": null,
      "id": "0a88f454-c28a-4e9f-ac7d-328a7a372687",
      "metadata": {
        "id": "0a88f454-c28a-4e9f-ac7d-328a7a372687"
      },
      "outputs": [],
      "source": [
        "## replace\n",
        "s2 = s2.replace('session','class')"
      ]
    },
    {
      "cell_type": "code",
      "execution_count": null,
      "id": "a6c5e3e5-e78d-4f83-8ccf-2d4819f50524",
      "metadata": {
        "id": "a6c5e3e5-e78d-4f83-8ccf-2d4819f50524",
        "outputId": "ac914b29-fae3-4210-f5d1-cfb772383239"
      },
      "outputs": [
        {
          "data": {
            "text/plain": [
              "'Welcome to python class'"
            ]
          },
          "execution_count": 77,
          "metadata": {},
          "output_type": "execute_result"
        }
      ],
      "source": [
        "s2"
      ]
    },
    {
      "cell_type": "code",
      "execution_count": null,
      "id": "541e275b-4988-4562-9021-dd802357c3de",
      "metadata": {
        "id": "541e275b-4988-4562-9021-dd802357c3de"
      },
      "outputs": [],
      "source": [
        "# we cannot delete certain characters from the string\n",
        "# but we can delete the entire structure\n",
        "del s2"
      ]
    },
    {
      "cell_type": "code",
      "execution_count": null,
      "id": "40589435-977b-4946-86e1-67bffcd6da6f",
      "metadata": {
        "id": "40589435-977b-4946-86e1-67bffcd6da6f",
        "outputId": "03b44c81-bf42-4f92-cdd5-f40678696769"
      },
      "outputs": [
        {
          "ename": "NameError",
          "evalue": "name 's2' is not defined",
          "output_type": "error",
          "traceback": [
            "\u001b[1;31m---------------------------------------------------------------------------\u001b[0m",
            "\u001b[1;31mNameError\u001b[0m                                 Traceback (most recent call last)",
            "Cell \u001b[1;32mIn[81], line 1\u001b[0m\n\u001b[1;32m----> 1\u001b[0m s2\n",
            "\u001b[1;31mNameError\u001b[0m: name 's2' is not defined"
          ]
        }
      ],
      "source": [
        "s2"
      ]
    },
    {
      "cell_type": "markdown",
      "id": "8dccf153-5811-45bf-9d86-ffd933168789",
      "metadata": {
        "id": "8dccf153-5811-45bf-9d86-ffd933168789"
      },
      "source": [
        "#### Concatenation"
      ]
    },
    {
      "cell_type": "code",
      "execution_count": null,
      "id": "454aa06c-4f14-4206-9dd6-b962ae37b504",
      "metadata": {
        "id": "454aa06c-4f14-4206-9dd6-b962ae37b504"
      },
      "outputs": [],
      "source": [
        "s2 = 'Hi.'"
      ]
    },
    {
      "cell_type": "code",
      "execution_count": null,
      "id": "73e2ab9e-84a7-4c2f-a4a8-e21d128ac416",
      "metadata": {
        "id": "73e2ab9e-84a7-4c2f-a4a8-e21d128ac416"
      },
      "outputs": [],
      "source": [
        "s3 = 'Welcome to python class'"
      ]
    },
    {
      "cell_type": "code",
      "execution_count": null,
      "id": "c5dd11af-012f-4a9e-a55c-56df4cd31f81",
      "metadata": {
        "id": "c5dd11af-012f-4a9e-a55c-56df4cd31f81",
        "outputId": "f4b6a31e-0198-4243-8028-f96b8650c199"
      },
      "outputs": [
        {
          "data": {
            "text/plain": [
              "'Hi.Welcome to python class'"
            ]
          },
          "execution_count": 90,
          "metadata": {},
          "output_type": "execute_result"
        }
      ],
      "source": [
        "s2 + s3"
      ]
    },
    {
      "cell_type": "code",
      "execution_count": null,
      "id": "fd7d93e8-229a-41b3-8f91-39c5e5c68cd5",
      "metadata": {
        "id": "fd7d93e8-229a-41b3-8f91-39c5e5c68cd5",
        "outputId": "82cfc0e0-15ea-4eb3-efc0-831a89a9ac32"
      },
      "outputs": [
        {
          "name": "stdout",
          "output_type": "stream",
          "text": [
            "Hi. Welcome to python class\n"
          ]
        }
      ],
      "source": [
        "print(s2 + ' ' + s3)"
      ]
    },
    {
      "cell_type": "code",
      "execution_count": null,
      "id": "e80e53d1-ef59-4816-b0dd-b8a2b01e8306",
      "metadata": {
        "id": "e80e53d1-ef59-4816-b0dd-b8a2b01e8306",
        "outputId": "6ffadde5-665d-4379-ded8-3a9fda520cdf"
      },
      "outputs": [
        {
          "data": {
            "text/plain": [
              "'Hi. Welcome to python class'"
            ]
          },
          "execution_count": 134,
          "metadata": {},
          "output_type": "execute_result"
        }
      ],
      "source": [
        "s6 = s2 + \" \" + s3\n",
        "s6"
      ]
    },
    {
      "cell_type": "markdown",
      "id": "bc62fb6d-a3df-4225-9bf1-e530ba5bb7fd",
      "metadata": {
        "id": "bc62fb6d-a3df-4225-9bf1-e530ba5bb7fd"
      },
      "source": [
        "##### String functions"
      ]
    },
    {
      "cell_type": "code",
      "execution_count": null,
      "id": "3ee37923-904e-4ef0-afb1-6fac603d4674",
      "metadata": {
        "id": "3ee37923-904e-4ef0-afb1-6fac603d4674",
        "outputId": "94443938-b013-462b-a116-3bcd9f951e9a"
      },
      "outputs": [
        {
          "data": {
            "text/plain": [
              "'Hello world'"
            ]
          },
          "execution_count": 101,
          "metadata": {},
          "output_type": "execute_result"
        }
      ],
      "source": [
        "s1"
      ]
    },
    {
      "cell_type": "code",
      "execution_count": null,
      "id": "2dff77a1-f895-419a-875a-7a008ad2bb93",
      "metadata": {
        "id": "2dff77a1-f895-419a-875a-7a008ad2bb93",
        "outputId": "8a7f4771-4039-4558-85f8-19b8654dfc32"
      },
      "outputs": [
        {
          "data": {
            "text/plain": [
              "'hello world'"
            ]
          },
          "execution_count": 103,
          "metadata": {},
          "output_type": "execute_result"
        }
      ],
      "source": [
        "s1.lower()"
      ]
    },
    {
      "cell_type": "code",
      "execution_count": null,
      "id": "35e17e97-c9a7-4f9b-ad94-461b157f1df0",
      "metadata": {
        "id": "35e17e97-c9a7-4f9b-ad94-461b157f1df0",
        "outputId": "4e9211c6-4cb4-4716-880a-910d38671fc0"
      },
      "outputs": [
        {
          "data": {
            "text/plain": [
              "'HELLO WORLD'"
            ]
          },
          "execution_count": 105,
          "metadata": {},
          "output_type": "execute_result"
        }
      ],
      "source": [
        "s1.upper()"
      ]
    },
    {
      "cell_type": "code",
      "execution_count": null,
      "id": "b215c716-a69f-4bb3-9049-6f7ec58c3ebd",
      "metadata": {
        "id": "b215c716-a69f-4bb3-9049-6f7ec58c3ebd",
        "outputId": "7d3b1f9d-792a-441a-966a-c8f0f67cef04"
      },
      "outputs": [
        {
          "data": {
            "text/plain": [
              "True"
            ]
          },
          "execution_count": 107,
          "metadata": {},
          "output_type": "execute_result"
        }
      ],
      "source": [
        "s1.startswith('H')"
      ]
    },
    {
      "cell_type": "code",
      "execution_count": null,
      "id": "c67ad067-b74a-4391-9f7f-b32d98d4c346",
      "metadata": {
        "id": "c67ad067-b74a-4391-9f7f-b32d98d4c346",
        "outputId": "3155a76b-ca45-4dff-d190-1c29fb969257"
      },
      "outputs": [
        {
          "data": {
            "text/plain": [
              "True"
            ]
          },
          "execution_count": 109,
          "metadata": {},
          "output_type": "execute_result"
        }
      ],
      "source": [
        "s1.endswith('d')"
      ]
    },
    {
      "cell_type": "code",
      "execution_count": null,
      "id": "d1f2006c-131e-45c0-bd14-6021bf40d592",
      "metadata": {
        "id": "d1f2006c-131e-45c0-bd14-6021bf40d592",
        "outputId": "e37dd480-802e-4034-edf1-37df04f9ce2c"
      },
      "outputs": [
        {
          "data": {
            "text/plain": [
              "'Hello'"
            ]
          },
          "execution_count": 119,
          "metadata": {},
          "output_type": "execute_result"
        }
      ],
      "source": [
        "# strip ---> remove the whitespaces from the string\n",
        "s4 = '         Hello         '\n",
        "s4.strip()"
      ]
    },
    {
      "cell_type": "code",
      "execution_count": null,
      "id": "fe724b81-a07b-43d2-b8bd-3953c6f860f2",
      "metadata": {
        "id": "fe724b81-a07b-43d2-b8bd-3953c6f860f2",
        "outputId": "d84e6996-1eef-43bd-850f-bb6667cb9ec9"
      },
      "outputs": [
        {
          "data": {
            "text/plain": [
              "'Hello         '"
            ]
          },
          "execution_count": 121,
          "metadata": {},
          "output_type": "execute_result"
        }
      ],
      "source": [
        "# lstrip ---> remove the space at the start / left side\n",
        "s4.lstrip()"
      ]
    },
    {
      "cell_type": "code",
      "execution_count": null,
      "id": "bc87b050-c028-4a56-bb2b-6a836f949cb7",
      "metadata": {
        "id": "bc87b050-c028-4a56-bb2b-6a836f949cb7",
        "outputId": "28edf1ac-d18c-44e3-c9bd-85c59e85fd75"
      },
      "outputs": [
        {
          "data": {
            "text/plain": [
              "'         Hello'"
            ]
          },
          "execution_count": 123,
          "metadata": {},
          "output_type": "execute_result"
        }
      ],
      "source": [
        "# rstrip ---> remove the space at the ebd / right side\n",
        "s4.rstrip()"
      ]
    },
    {
      "cell_type": "code",
      "execution_count": null,
      "id": "b2ea19e4-08a4-4dff-8825-c1ef02df82d3",
      "metadata": {
        "id": "b2ea19e4-08a4-4dff-8825-c1ef02df82d3",
        "outputId": "4ce649e8-23fa-46cc-df4a-da528c7d62b0"
      },
      "outputs": [
        {
          "data": {
            "text/plain": [
              "'Lakshmi'"
            ]
          },
          "execution_count": 127,
          "metadata": {},
          "output_type": "execute_result"
        }
      ],
      "source": [
        "s.capitalize()"
      ]
    },
    {
      "cell_type": "code",
      "execution_count": null,
      "id": "3da849e2-4d8f-45c6-bfb8-2f3327daf459",
      "metadata": {
        "id": "3da849e2-4d8f-45c6-bfb8-2f3327daf459",
        "outputId": "cddf69cf-b43e-4b04-ccbc-3e9a64e22933"
      },
      "outputs": [
        {
          "data": {
            "text/plain": [
              "'Hi. Welcome to python class. It is a new concept'"
            ]
          },
          "execution_count": 142,
          "metadata": {},
          "output_type": "execute_result"
        }
      ],
      "source": [
        "s7 = s6 + '. It is a new concept'\n",
        "s7"
      ]
    },
    {
      "cell_type": "code",
      "execution_count": null,
      "id": "13a6f788-1a78-4339-beab-d25f925373e8",
      "metadata": {
        "id": "13a6f788-1a78-4339-beab-d25f925373e8",
        "outputId": "7a485ac6-9f88-4813-8124-c749ea5ea009"
      },
      "outputs": [
        {
          "data": {
            "text/plain": [
              "['Hi.', 'Welcome', 'to', 'python', 'class.', 'It', 'is', 'a', 'new', 'concept']"
            ]
          },
          "execution_count": 144,
          "metadata": {},
          "output_type": "execute_result"
        }
      ],
      "source": [
        "s7.split()"
      ]
    },
    {
      "cell_type": "code",
      "execution_count": null,
      "id": "5706ddc6-cdb0-42d0-a1e0-34b183c8a54a",
      "metadata": {
        "id": "5706ddc6-cdb0-42d0-a1e0-34b183c8a54a",
        "outputId": "84efefd3-f465-4563-c9bd-a3aebd097237"
      },
      "outputs": [
        {
          "data": {
            "text/plain": [
              "['Hi', ' Welcome to python class', ' It is a new concept']"
            ]
          },
          "execution_count": 146,
          "metadata": {},
          "output_type": "execute_result"
        }
      ],
      "source": [
        "s7.split('.')"
      ]
    },
    {
      "cell_type": "code",
      "execution_count": null,
      "id": "86cc7db0-097f-44f7-8106-059acbbef458",
      "metadata": {
        "id": "86cc7db0-097f-44f7-8106-059acbbef458",
        "outputId": "6e2df530-54d5-4810-b4e2-d796df8b1164"
      },
      "outputs": [
        {
          "data": {
            "text/plain": [
              "('Hi', '.', ' Welcome to python class. It is a new concept')"
            ]
          },
          "execution_count": 150,
          "metadata": {},
          "output_type": "execute_result"
        }
      ],
      "source": [
        "s7.partition('.')"
      ]
    },
    {
      "cell_type": "markdown",
      "id": "4094ea6a-7434-49cf-bc8b-5f7b3e3c5f9a",
      "metadata": {
        "id": "4094ea6a-7434-49cf-bc8b-5f7b3e3c5f9a"
      },
      "source": [
        "##### String Membership"
      ]
    },
    {
      "cell_type": "code",
      "execution_count": null,
      "id": "3cfd6f66-92d4-4d2e-8908-12b95d373277",
      "metadata": {
        "id": "3cfd6f66-92d4-4d2e-8908-12b95d373277"
      },
      "outputs": [],
      "source": [
        "# in\n",
        "# not in\n",
        "# check whther the value is a part of the ds\n",
        "# o/p will be boolean value"
      ]
    },
    {
      "cell_type": "code",
      "execution_count": null,
      "id": "bd91f53d-fb01-4928-beea-4235e7e77aec",
      "metadata": {
        "id": "bd91f53d-fb01-4928-beea-4235e7e77aec",
        "outputId": "b899e0c7-8664-4b8a-8c9b-c6acf5d697a9"
      },
      "outputs": [
        {
          "data": {
            "text/plain": [
              "'Hello world'"
            ]
          },
          "execution_count": 155,
          "metadata": {},
          "output_type": "execute_result"
        }
      ],
      "source": [
        "s1"
      ]
    },
    {
      "cell_type": "code",
      "execution_count": null,
      "id": "61c64b2d-59ea-4283-ab05-f07f695d444a",
      "metadata": {
        "id": "61c64b2d-59ea-4283-ab05-f07f695d444a",
        "outputId": "6560d8ab-e55f-4690-ca28-011a71fd4513"
      },
      "outputs": [
        {
          "data": {
            "text/plain": [
              "True"
            ]
          },
          "execution_count": 157,
          "metadata": {},
          "output_type": "execute_result"
        }
      ],
      "source": [
        "'H' in s1"
      ]
    },
    {
      "cell_type": "code",
      "execution_count": null,
      "id": "7fdc3e47-510d-4442-ad64-9f9c92399b5c",
      "metadata": {
        "id": "7fdc3e47-510d-4442-ad64-9f9c92399b5c",
        "outputId": "49ea3063-8017-49cd-f390-3118c130dfe0"
      },
      "outputs": [
        {
          "data": {
            "text/plain": [
              "False"
            ]
          },
          "execution_count": 159,
          "metadata": {},
          "output_type": "execute_result"
        }
      ],
      "source": [
        "'h' in s1"
      ]
    },
    {
      "cell_type": "code",
      "execution_count": null,
      "id": "50d81489-1a58-407e-ab1b-ec93873c36f9",
      "metadata": {
        "id": "50d81489-1a58-407e-ab1b-ec93873c36f9",
        "outputId": "f726918b-2e4d-4930-be05-cb2c2040cfa1"
      },
      "outputs": [
        {
          "data": {
            "text/plain": [
              "False"
            ]
          },
          "execution_count": 161,
          "metadata": {},
          "output_type": "execute_result"
        }
      ],
      "source": [
        "'H' not in s1"
      ]
    },
    {
      "cell_type": "code",
      "execution_count": null,
      "id": "987e25b8-b328-443a-9aaa-e75a0e88b50b",
      "metadata": {
        "id": "987e25b8-b328-443a-9aaa-e75a0e88b50b",
        "outputId": "2db3fd07-76ef-4894-88cc-7e93ea097771"
      },
      "outputs": [
        {
          "data": {
            "text/plain": [
              "int"
            ]
          },
          "execution_count": 163,
          "metadata": {},
          "output_type": "execute_result"
        }
      ],
      "source": [
        "a = 10\n",
        "type(a)"
      ]
    },
    {
      "cell_type": "code",
      "execution_count": null,
      "id": "fe5541fd-fece-45e8-84c6-60fe0d2f3240",
      "metadata": {
        "id": "fe5541fd-fece-45e8-84c6-60fe0d2f3240",
        "outputId": "5ae2a499-7f80-4013-e596-23ae9e767260"
      },
      "outputs": [
        {
          "data": {
            "text/plain": [
              "10.0"
            ]
          },
          "execution_count": 165,
          "metadata": {},
          "output_type": "execute_result"
        }
      ],
      "source": [
        "float(a)"
      ]
    },
    {
      "cell_type": "code",
      "execution_count": null,
      "id": "19101e35-f16d-4f6a-b564-e8cc07abeda0",
      "metadata": {
        "id": "19101e35-f16d-4f6a-b564-e8cc07abeda0",
        "outputId": "b0134c72-4ce1-48cd-c8b4-e50fccc1bcfc"
      },
      "outputs": [
        {
          "data": {
            "text/plain": [
              "'10'"
            ]
          },
          "execution_count": 167,
          "metadata": {},
          "output_type": "execute_result"
        }
      ],
      "source": [
        "str(a)"
      ]
    },
    {
      "cell_type": "markdown",
      "id": "a2477c76-a2f9-4f49-8248-d7e3f00cae36",
      "metadata": {
        "id": "a2477c76-a2f9-4f49-8248-d7e3f00cae36"
      },
      "source": [
        "![image.png](attachment:427b6bb4-6723-4771-a36d-e223032a6099.png)"
      ]
    },
    {
      "cell_type": "markdown",
      "id": "eab34f48-cd13-4408-9f15-b6bb24cba089",
      "metadata": {
        "id": "eab34f48-cd13-4408-9f15-b6bb24cba089"
      },
      "source": [
        "![image.png](attachment:3353f147-f668-4a16-8620-c7c34d9b09d7.png)/"
      ]
    },
    {
      "cell_type": "markdown",
      "id": "09cbcee3-5257-4948-8fc7-455e48c7e61a",
      "metadata": {
        "id": "09cbcee3-5257-4948-8fc7-455e48c7e61a"
      },
      "source": [
        "![image.png](attachment:9c495361-5232-4c42-bca3-e6e316006262.png)"
      ]
    },
    {
      "cell_type": "markdown",
      "id": "bda54a0a-e4e4-401f-802a-4ca660719e9f",
      "metadata": {
        "id": "bda54a0a-e4e4-401f-802a-4ca660719e9f"
      },
      "source": [
        "##### Atrithmetic"
      ]
    },
    {
      "cell_type": "code",
      "execution_count": null,
      "id": "bf525be2-0cea-4fff-bf99-26950e4cc2f0",
      "metadata": {
        "id": "bf525be2-0cea-4fff-bf99-26950e4cc2f0",
        "outputId": "9b8b3a8d-fbf0-4d4d-e840-44939636479a"
      },
      "outputs": [
        {
          "name": "stdin",
          "output_type": "stream",
          "text": [
            " 10\n",
            " 10\n"
          ]
        },
        {
          "name": "stdout",
          "output_type": "stream",
          "text": [
            "20\n",
            "0\n",
            "100\n",
            "1.0\n",
            "1\n",
            "0\n",
            "10000000000\n"
          ]
        }
      ],
      "source": [
        "a = int(input())\n",
        "b = int(input())\n",
        "print(a+b)\n",
        "print(a-b)\n",
        "print(a*b)\n",
        "print(a/b) # float number\n",
        "print(a//b) # floor division , int\n",
        "print(a%b) #reminder is the answer\n",
        "print(a**b)"
      ]
    },
    {
      "cell_type": "markdown",
      "id": "e6df2254-8ce3-4879-a409-4a2c726faf52",
      "metadata": {
        "id": "e6df2254-8ce3-4879-a409-4a2c726faf52"
      },
      "source": [
        "##### Comparision op"
      ]
    },
    {
      "cell_type": "code",
      "execution_count": null,
      "id": "b33193c8-f229-42f6-9710-b4779aecfb3a",
      "metadata": {
        "id": "b33193c8-f229-42f6-9710-b4779aecfb3a",
        "outputId": "7262bd5b-1600-4c83-ad72-0833aeb388dc"
      },
      "outputs": [
        {
          "name": "stdout",
          "output_type": "stream",
          "text": [
            "True\n",
            "False\n",
            "False\n",
            "True\n",
            "True\n",
            "False\n"
          ]
        }
      ],
      "source": [
        "a = 10\n",
        "b = 10\n",
        "print(a==b)\n",
        "print(a<b)\n",
        "print(a>b)\n",
        "print(a<=b)\n",
        "print(a>=b)\n",
        "print(a!=b)"
      ]
    },
    {
      "cell_type": "markdown",
      "id": "622d7968-16c7-464d-ae6a-49957163fb4b",
      "metadata": {
        "id": "622d7968-16c7-464d-ae6a-49957163fb4b"
      },
      "source": [
        "##### Logical op"
      ]
    },
    {
      "cell_type": "code",
      "execution_count": null,
      "id": "e1621958-16fd-42ca-a7c5-d99f2c43ac56",
      "metadata": {
        "id": "e1621958-16fd-42ca-a7c5-d99f2c43ac56",
        "outputId": "1242cff2-8e8b-462c-b3c3-9261580f4d78"
      },
      "outputs": [
        {
          "data": {
            "text/plain": [
              "True"
            ]
          },
          "execution_count": 186,
          "metadata": {},
          "output_type": "execute_result"
        }
      ],
      "source": [
        "a = True\n",
        "b = True\n",
        "c = False\n",
        "a and b"
      ]
    },
    {
      "cell_type": "code",
      "execution_count": null,
      "id": "b23bc28e-b675-4a0a-b5ec-7cb46b5063c3",
      "metadata": {
        "id": "b23bc28e-b675-4a0a-b5ec-7cb46b5063c3",
        "outputId": "e6f517eb-1a4c-4f37-c6d3-336f867634c7"
      },
      "outputs": [
        {
          "data": {
            "text/plain": [
              "True"
            ]
          },
          "execution_count": 188,
          "metadata": {},
          "output_type": "execute_result"
        }
      ],
      "source": [
        "a or c"
      ]
    },
    {
      "cell_type": "code",
      "execution_count": null,
      "id": "92c3ebef-1ee9-4c62-a72e-26c8adba6202",
      "metadata": {
        "id": "92c3ebef-1ee9-4c62-a72e-26c8adba6202",
        "outputId": "2d6fea65-9445-4ec3-f8e6-bb7f684d850e"
      },
      "outputs": [
        {
          "data": {
            "text/plain": [
              "False"
            ]
          },
          "execution_count": 190,
          "metadata": {},
          "output_type": "execute_result"
        }
      ],
      "source": [
        "not a"
      ]
    },
    {
      "cell_type": "markdown",
      "id": "92f07cae-2e85-4b11-9588-116b245d90a7",
      "metadata": {
        "id": "92f07cae-2e85-4b11-9588-116b245d90a7"
      },
      "source": [
        "![image.png](attachment:55c074a9-7c1c-423b-bd5d-9062adf3b15c.png)"
      ]
    },
    {
      "cell_type": "code",
      "execution_count": null,
      "id": "633c9c7f-91b8-481b-bb0e-78df225049b8",
      "metadata": {
        "id": "633c9c7f-91b8-481b-bb0e-78df225049b8"
      },
      "outputs": [],
      "source": [
        "a = 5\n",
        "if a > 8 : # 5 > 8 False\n",
        "    print(a,'is greater than 8')"
      ]
    },
    {
      "cell_type": "code",
      "execution_count": null,
      "id": "b0411a40-f5af-4c4c-bae7-1485557fa079",
      "metadata": {
        "id": "b0411a40-f5af-4c4c-bae7-1485557fa079",
        "outputId": "d9dbbfd9-adcc-4f32-aa75-250e8f6e2735"
      },
      "outputs": [
        {
          "name": "stdout",
          "output_type": "stream",
          "text": [
            "8 is greater than 5\n"
          ]
        }
      ],
      "source": [
        "a = 8\n",
        "if a > 5 :\n",
        "    print(a,'is greater than 5')"
      ]
    },
    {
      "cell_type": "code",
      "execution_count": null,
      "id": "ce00daf8-8f53-43e8-a1be-d886e15eb3bf",
      "metadata": {
        "id": "ce00daf8-8f53-43e8-a1be-d886e15eb3bf",
        "outputId": "8f88a2b3-139e-48ea-dbb0-582da5f90abb"
      },
      "outputs": [
        {
          "name": "stdin",
          "output_type": "stream",
          "text": [
            " 1\n"
          ]
        },
        {
          "name": "stdout",
          "output_type": "stream",
          "text": [
            "Lesser\n"
          ]
        }
      ],
      "source": [
        "a = int(input())\n",
        "if a>5:\n",
        "    print('Greater')\n",
        "else:\n",
        "    print('Lesser')"
      ]
    },
    {
      "cell_type": "code",
      "execution_count": null,
      "id": "932489af-1612-4321-92b0-dcc9518e3d01",
      "metadata": {
        "id": "932489af-1612-4321-92b0-dcc9518e3d01",
        "outputId": "e225b5bf-0077-4308-87be-380b624a776b"
      },
      "outputs": [
        {
          "name": "stdin",
          "output_type": "stream",
          "text": [
            " 10\n",
            " 20\n"
          ]
        },
        {
          "name": "stdout",
          "output_type": "stream",
          "text": [
            "10 and 20 are not equal\n"
          ]
        }
      ],
      "source": [
        "# equality of numbers\n",
        "a = int(input())\n",
        "b = int(input())\n",
        "if a == b :\n",
        "    print(a ,'and',b ,'are equal')\n",
        "else:\n",
        "    print(a ,'and',b ,'are not equal')"
      ]
    },
    {
      "cell_type": "code",
      "execution_count": null,
      "id": "fd10f8d3-8782-43fc-8335-b5ff6136e893",
      "metadata": {
        "id": "fd10f8d3-8782-43fc-8335-b5ff6136e893",
        "outputId": "b79fcc43-d270-4194-80af-40f06cadf7be"
      },
      "outputs": [
        {
          "name": "stdin",
          "output_type": "stream",
          "text": [
            " 9\n"
          ]
        },
        {
          "name": "stdout",
          "output_type": "stream",
          "text": [
            "9 is a odd number\n"
          ]
        }
      ],
      "source": [
        "# odd and even\n",
        "# n % 2\n",
        "# n % 2 == 0 -> even\n",
        "n = int(input())\n",
        "if n % 2 == 0:\n",
        "    print(n,'is a even number')\n",
        "else :\n",
        "    print(n,'is a odd number')"
      ]
    },
    {
      "cell_type": "code",
      "execution_count": null,
      "id": "cd75b14f-d781-47c4-ac6c-599b515bee13",
      "metadata": {
        "id": "cd75b14f-d781-47c4-ac6c-599b515bee13",
        "outputId": "d6ec989a-7f60-44f0-ff9c-e58c05734afa"
      },
      "outputs": [
        {
          "name": "stdin",
          "output_type": "stream",
          "text": [
            " P\n"
          ]
        },
        {
          "name": "stdout",
          "output_type": "stream",
          "text": [
            "Python\n"
          ]
        }
      ],
      "source": [
        "# write a program , should intake a character\n",
        "# 1. if char == P -> o/p Python\n",
        "# 2. if char == D -> o/p Data Science\n",
        "ch = input()\n",
        "if ch == 'p' or ch =='P':\n",
        "    print('Python')\n",
        "elif ch == 'd' or ch=='D':\n",
        "    print('Data Science')\n",
        "else:\n",
        "    print('enter a correct character')"
      ]
    },
    {
      "cell_type": "code",
      "execution_count": null,
      "id": "ec9726f1-8e60-4683-91b8-a5e840517ded",
      "metadata": {
        "id": "ec9726f1-8e60-4683-91b8-a5e840517ded",
        "outputId": "c76e3116-021f-4ccb-a7f2-15fd46f4a2cb"
      },
      "outputs": [
        {
          "name": "stdin",
          "output_type": "stream",
          "text": [
            " p\n"
          ]
        },
        {
          "name": "stdout",
          "output_type": "stream",
          "text": [
            "p is python\n"
          ]
        }
      ],
      "source": [
        "char=input()\n",
        "if char== 'p':\n",
        "    print(char, \"is python\")\n",
        "elif char == 'd':\n",
        "    print(char, \"is data science\")\n",
        "else:\n",
        "    print(char, \"is not known\")\n"
      ]
    },
    {
      "cell_type": "code",
      "execution_count": null,
      "id": "c3afaf0e-da35-4421-bcf5-e7400affb671",
      "metadata": {
        "id": "c3afaf0e-da35-4421-bcf5-e7400affb671",
        "outputId": "74d2d9f2-d264-4099-c5d8-1bff92c26af0"
      },
      "outputs": [
        {
          "name": "stdin",
          "output_type": "stream",
          "text": [
            " 10\n"
          ]
        },
        {
          "name": "stdout",
          "output_type": "stream",
          "text": [
            "10.0 is a positive number\n"
          ]
        }
      ],
      "source": [
        "# negative , positive  or zero\n",
        "a=float(input())\n",
        "if a < 0:\n",
        "    print (a, \"is a negative number\")\n",
        "elif a > 0:\n",
        "    print (a, \"is a positive number\")\n",
        "else:\n",
        "    print (a, \"is zero\")\n"
      ]
    },
    {
      "cell_type": "code",
      "execution_count": null,
      "id": "ce0561ac-a7b9-4e58-abb7-e6f4ca5cf946",
      "metadata": {
        "id": "ce0561ac-a7b9-4e58-abb7-e6f4ca5cf946"
      },
      "outputs": [],
      "source": [
        "# write a program , which will take 2 input\n",
        "# 1. gender\n",
        "# 2. age\n",
        "# and check whether they are eligible to get married or not"
      ]
    },
    {
      "cell_type": "code",
      "execution_count": null,
      "id": "73f60c19-c930-4a25-88c1-913e12a06ac2",
      "metadata": {
        "id": "73f60c19-c930-4a25-88c1-913e12a06ac2",
        "outputId": "b1f0eb31-da1c-4bb2-d1ed-74e3e9e7286c"
      },
      "outputs": [
        {
          "name": "stdin",
          "output_type": "stream",
          "text": [
            "Enter the gender as Male and Female Male\n",
            "Enter the age 22\n"
          ]
        },
        {
          "name": "stdout",
          "output_type": "stream",
          "text": [
            "eligible\n"
          ]
        }
      ],
      "source": [
        "gen = input('Enter the gender as Male and Female')\n",
        "age = int(input('Enter the age'))\n",
        "\n",
        "if (age > 21) and (gen == 'Male'):\n",
        "    print('eligible')\n",
        "elif age >18 and gen == 'Female':\n",
        "    print('eligible')\n",
        "else:\n",
        "    print('Enter the valid credentials')\n",
        "\n",
        ""
      ]
    },
    {
      "cell_type": "code",
      "execution_count": null,
      "id": "b637d777-93f9-4c65-a5d4-18daf4363d18",
      "metadata": {
        "id": "b637d777-93f9-4c65-a5d4-18daf4363d18"
      },
      "outputs": [],
      "source": [
        "gender = str(input('enter your gender'))\n",
        "age= int(input('enter your age'))\n",
        "if age > 18 and gender =='M' or gender == 'm':\n",
        "    print('yes go ahead')\n",
        "elif age < 18:\n",
        "    print('sorry have to wait')"
      ]
    },
    {
      "cell_type": "code",
      "execution_count": null,
      "id": "be1f8cf9-dd76-4fe2-a2d5-4a0e9601bed4",
      "metadata": {
        "id": "be1f8cf9-dd76-4fe2-a2d5-4a0e9601bed4"
      },
      "outputs": [],
      "source": [
        "# intake a string\n",
        "# check whether the string is in capital letter or not\n",
        "# true -> capital letters\n",
        "# flase -> not in capital letters"
      ]
    },
    {
      "cell_type": "code",
      "execution_count": null,
      "id": "13152193-34c1-455d-8b1b-9932a17b090c",
      "metadata": {
        "id": "13152193-34c1-455d-8b1b-9932a17b090c",
        "outputId": "b159ffc0-97a0-4438-cc23-42a3480a47f6"
      },
      "outputs": [
        {
          "name": "stdin",
          "output_type": "stream",
          "text": [
            "Enter a string:  LAKHSMI\n"
          ]
        },
        {
          "name": "stdout",
          "output_type": "stream",
          "text": [
            "True -> The string is in capital letters.\n"
          ]
        }
      ],
      "source": [
        "input_string = input(\"Enter a string: \")\n",
        "if input_string == input_string.upper() :\n",
        "    print(\"True -> The string is in capital letters.\")\n",
        "else:\n",
        "    print(\"False -> The string is not in capital letters.\")\n",
        "\n"
      ]
    },
    {
      "cell_type": "code",
      "execution_count": null,
      "id": "a9606a41-ee1e-4c9d-99b9-f045aecc9fa0",
      "metadata": {
        "id": "a9606a41-ee1e-4c9d-99b9-f045aecc9fa0",
        "outputId": "9c392813-f8f4-4916-e6e2-539337ba5a73"
      },
      "outputs": [
        {
          "name": "stdin",
          "output_type": "stream",
          "text": [
            "Enter the letter LAKSHMI\n"
          ]
        },
        {
          "name": "stdout",
          "output_type": "stream",
          "text": [
            "its capital letter\n"
          ]
        }
      ],
      "source": [
        "ch =str(input('Enter the letter'))\n",
        "if ch.isupper() == True:\n",
        "    print (\"its capital letter\")\n",
        "else:\n",
        "    print (\"its not capital letter\")"
      ]
    },
    {
      "cell_type": "markdown",
      "id": "c37dc3fe-05b0-4cec-b8c8-58fca10f0615",
      "metadata": {
        "id": "c37dc3fe-05b0-4cec-b8c8-58fca10f0615"
      },
      "source": [
        "![image.png](attachment:30f0becf-f960-4639-8d96-6a2dd59fa591.png)"
      ]
    },
    {
      "cell_type": "code",
      "execution_count": null,
      "id": "58d6c592-1c1c-4f93-b305-18b9ca2182fb",
      "metadata": {
        "id": "58d6c592-1c1c-4f93-b305-18b9ca2182fb",
        "outputId": "5e2f72ef-55c5-41e5-b732-cae82d7796d4"
      },
      "outputs": [
        {
          "name": "stdin",
          "output_type": "stream",
          "text": [
            " -1\n"
          ]
        },
        {
          "name": "stdout",
          "output_type": "stream",
          "text": [
            "9\n"
          ]
        }
      ],
      "source": [
        "n = int(input())\n",
        "if n > 0 :\n",
        "    if n > 5:\n",
        "        print(n+10)\n",
        "    else:\n",
        "        print(n)\n",
        "elif n < 0 :\n",
        "    if n > -2 :\n",
        "        print(n+10)\n",
        "    else:\n",
        "        print(n)\n",
        "else:\n",
        "    print(n,'is zero')\n",
        "\n",
        ""
      ]
    },
    {
      "cell_type": "markdown",
      "id": "56197ef4-b4da-493e-8c9c-f0cb4fe8f2d8",
      "metadata": {
        "id": "56197ef4-b4da-493e-8c9c-f0cb4fe8f2d8"
      },
      "source": [
        "#### Data Structure\n",
        "\n",
        "- which stores multiple values in a single variable by giving a structure to it"
      ]
    },
    {
      "cell_type": "markdown",
      "id": "3de1fa5b-cf5c-4337-9e4b-38a183c89d64",
      "metadata": {
        "id": "3de1fa5b-cf5c-4337-9e4b-38a183c89d64"
      },
      "source": [
        "1. List\n",
        "2. Tuple\n",
        "3. Dictionary\n",
        "4. Sets"
      ]
    },
    {
      "cell_type": "markdown",
      "id": "4efa9f17-7f14-49b4-a874-fe7d598a514b",
      "metadata": {
        "id": "4efa9f17-7f14-49b4-a874-fe7d598a514b"
      },
      "source": [
        "#### List\n",
        "\n",
        "- is a DS , which stores multiple values in a single variable\n",
        "- can store both homogeneous and heterogenous values\n",
        "- ordered , indexed , duplicates\n",
        "- LISTS ARE MUTABLE (add , delete and update)\n",
        "- Syntax : var_name = [ ]"
      ]
    },
    {
      "cell_type": "code",
      "execution_count": null,
      "id": "e35fa95b-50d4-418e-99f1-87c56989b075",
      "metadata": {
        "id": "e35fa95b-50d4-418e-99f1-87c56989b075",
        "outputId": "28c1f95f-c938-4d20-e53a-517c5612eec3"
      },
      "outputs": [
        {
          "name": "stdout",
          "output_type": "stream",
          "text": [
            "[]\n"
          ]
        }
      ],
      "source": [
        "l = []\n",
        "print(l)"
      ]
    },
    {
      "cell_type": "code",
      "execution_count": null,
      "id": "ee17502b-e615-4efa-8b28-fe06621a6aa9",
      "metadata": {
        "id": "ee17502b-e615-4efa-8b28-fe06621a6aa9",
        "outputId": "14d0b436-2e3b-4998-e5db-8b27830e102f"
      },
      "outputs": [
        {
          "data": {
            "text/plain": [
              "[]"
            ]
          },
          "execution_count": 297,
          "metadata": {},
          "output_type": "execute_result"
        }
      ],
      "source": [
        "#list method\n",
        "l1 = list([])\n",
        "l1"
      ]
    },
    {
      "cell_type": "code",
      "execution_count": null,
      "id": "1a3cfe63-a561-4490-a77a-a87c370fa4f1",
      "metadata": {
        "id": "1a3cfe63-a561-4490-a77a-a87c370fa4f1",
        "outputId": "a78ea401-6623-4bb4-876d-773e2e23f4d8"
      },
      "outputs": [
        {
          "data": {
            "text/plain": [
              "list"
            ]
          },
          "execution_count": 299,
          "metadata": {},
          "output_type": "execute_result"
        }
      ],
      "source": [
        "type(l)"
      ]
    },
    {
      "cell_type": "code",
      "execution_count": null,
      "id": "96132091-cd4a-481c-9fd6-ee0fe10aabc7",
      "metadata": {
        "id": "96132091-cd4a-481c-9fd6-ee0fe10aabc7",
        "outputId": "75ed9b08-af6a-47a3-fbb3-24e0674fee42"
      },
      "outputs": [
        {
          "data": {
            "text/plain": [
              "[1, 2, 3, 4, 5, 6]"
            ]
          },
          "execution_count": 309,
          "metadata": {},
          "output_type": "execute_result"
        }
      ],
      "source": [
        "# integer list\n",
        "l2 = [1,2,3,4,5,6]\n",
        "l2"
      ]
    },
    {
      "cell_type": "code",
      "execution_count": null,
      "id": "aee2caa3-48b6-4528-b742-74d02faaeef8",
      "metadata": {
        "id": "aee2caa3-48b6-4528-b742-74d02faaeef8",
        "outputId": "069556f3-adb0-42cc-a53f-442c34b6e169"
      },
      "outputs": [
        {
          "data": {
            "text/plain": [
              "[1.0, 2.0, 3.0, 5.5]"
            ]
          },
          "execution_count": 319,
          "metadata": {},
          "output_type": "execute_result"
        }
      ],
      "source": [
        "# float\n",
        "l3 = [1.0,2.0,3.0,5.5]\n",
        "l3"
      ]
    },
    {
      "cell_type": "code",
      "execution_count": null,
      "id": "2b49694d-e3f2-4d40-9a32-9f16940d8a5c",
      "metadata": {
        "id": "2b49694d-e3f2-4d40-9a32-9f16940d8a5c",
        "outputId": "eacb90b7-884f-4583-a94b-48788433c137"
      },
      "outputs": [
        {
          "data": {
            "text/plain": [
              "['name', 'age', 'gender']"
            ]
          },
          "execution_count": 317,
          "metadata": {},
          "output_type": "execute_result"
        }
      ],
      "source": [
        "# str\n",
        "l4 = ['name', 'age', 'gender']\n",
        "l4"
      ]
    },
    {
      "cell_type": "code",
      "execution_count": null,
      "id": "b6fea8df-98f9-4871-a80f-7f87d63844f3",
      "metadata": {
        "id": "b6fea8df-98f9-4871-a80f-7f87d63844f3",
        "outputId": "8f977432-fdc3-4db9-f51c-3f65efa69013"
      },
      "outputs": [
        {
          "data": {
            "text/plain": [
              "[1, 1.0, 'Python', True]"
            ]
          },
          "execution_count": 321,
          "metadata": {},
          "output_type": "execute_result"
        }
      ],
      "source": [
        "# heterogenous\n",
        "l5 = [1,1.0,'Python',True]\n",
        "l5"
      ]
    },
    {
      "cell_type": "code",
      "execution_count": null,
      "id": "693bfd1f-904b-4b1e-80e4-89198af84cd4",
      "metadata": {
        "id": "693bfd1f-904b-4b1e-80e4-89198af84cd4",
        "outputId": "2c47d8a2-ce66-4c71-d5f8-e538c6343983"
      },
      "outputs": [
        {
          "data": {
            "text/plain": [
              "[10, 20, [30, 40], 'Python']"
            ]
          },
          "execution_count": 323,
          "metadata": {},
          "output_type": "execute_result"
        }
      ],
      "source": [
        "# nested list\n",
        "l6 = [10,20,[30,40],'Python']\n",
        "l6"
      ]
    },
    {
      "cell_type": "code",
      "execution_count": null,
      "id": "7ff2d26e-7216-4903-a012-5dae3bceb521",
      "metadata": {
        "id": "7ff2d26e-7216-4903-a012-5dae3bceb521",
        "outputId": "41b78645-0c0d-4de5-8bdd-0ebd47194e9e"
      },
      "outputs": [
        {
          "data": {
            "text/plain": [
              "4"
            ]
          },
          "execution_count": 327,
          "metadata": {},
          "output_type": "execute_result"
        }
      ],
      "source": [
        "len(l6)"
      ]
    },
    {
      "cell_type": "markdown",
      "id": "e9d5d502-3b62-4df3-80b9-135971bfb67a",
      "metadata": {
        "id": "e9d5d502-3b62-4df3-80b9-135971bfb67a"
      },
      "source": [
        "##### Indexing and slicing"
      ]
    },
    {
      "cell_type": "code",
      "execution_count": null,
      "id": "7fd24974-7676-44a1-b9e4-b0616fa4c18a",
      "metadata": {
        "id": "7fd24974-7676-44a1-b9e4-b0616fa4c18a",
        "outputId": "64f199a3-9b04-44c7-aadc-fe4c9c3595fa"
      },
      "outputs": [
        {
          "data": {
            "text/plain": [
              "[10, 20, [30, 40], 'Python']"
            ]
          },
          "execution_count": 330,
          "metadata": {},
          "output_type": "execute_result"
        }
      ],
      "source": [
        "l6"
      ]
    },
    {
      "cell_type": "code",
      "execution_count": null,
      "id": "1f9c7de0-e9df-4fb3-806d-9451c9753255",
      "metadata": {
        "id": "1f9c7de0-e9df-4fb3-806d-9451c9753255",
        "outputId": "93d4e841-4f43-44ca-cd97-d8515f5a5501"
      },
      "outputs": [
        {
          "data": {
            "text/plain": [
              "30"
            ]
          },
          "execution_count": 334,
          "metadata": {},
          "output_type": "execute_result"
        }
      ],
      "source": [
        "l6[2][0]"
      ]
    },
    {
      "cell_type": "code",
      "execution_count": null,
      "id": "73a77e75-a61a-44ab-84d6-f98d5a1d2db8",
      "metadata": {
        "id": "73a77e75-a61a-44ab-84d6-f98d5a1d2db8",
        "outputId": "01db7b5b-9928-4b53-ef73-7374f7b701b5"
      },
      "outputs": [
        {
          "data": {
            "text/plain": [
              "'Python'"
            ]
          },
          "execution_count": 336,
          "metadata": {},
          "output_type": "execute_result"
        }
      ],
      "source": [
        "l6[-1]"
      ]
    },
    {
      "cell_type": "code",
      "execution_count": null,
      "id": "0dfa7c0d-102d-4804-99d0-5f5b8610061c",
      "metadata": {
        "id": "0dfa7c0d-102d-4804-99d0-5f5b8610061c",
        "outputId": "c3724766-56d8-4421-e047-219c91715e3c"
      },
      "outputs": [
        {
          "data": {
            "text/plain": [
              "[]"
            ]
          },
          "execution_count": 338,
          "metadata": {},
          "output_type": "execute_result"
        }
      ],
      "source": [
        "l6[0:-4]"
      ]
    },
    {
      "cell_type": "markdown",
      "id": "b83509f7-e424-463d-999e-5651ac7ed5c9",
      "metadata": {
        "id": "b83509f7-e424-463d-999e-5651ac7ed5c9"
      },
      "source": [
        "#### Lists are mutable\n",
        "- add, delete and update the elements"
      ]
    },
    {
      "cell_type": "markdown",
      "id": "af2901db-b62f-4a42-a024-c88321d3d2dd",
      "metadata": {
        "id": "af2901db-b62f-4a42-a024-c88321d3d2dd"
      },
      "source": [
        "###### ADD\n",
        "1. append\n",
        "2. insert\n",
        "3. extend"
      ]
    },
    {
      "cell_type": "code",
      "execution_count": null,
      "id": "1ee576d1-5d78-4afb-9392-f751e087f498",
      "metadata": {
        "id": "1ee576d1-5d78-4afb-9392-f751e087f498"
      },
      "outputs": [],
      "source": [
        "l = [1,2,3,4,5]"
      ]
    },
    {
      "cell_type": "code",
      "execution_count": null,
      "id": "57e63e18-a9b5-4043-92a6-cb87a14f3ab7",
      "metadata": {
        "id": "57e63e18-a9b5-4043-92a6-cb87a14f3ab7",
        "outputId": "fbc21cca-ffd0-40ea-c2eb-9158ca2bb993"
      },
      "outputs": [
        {
          "data": {
            "text/plain": [
              "[1, 2, 3, 4, 5, 6]"
            ]
          },
          "execution_count": 6,
          "metadata": {},
          "output_type": "execute_result"
        }
      ],
      "source": [
        "#list_name.append(new_element)\n",
        "l.append(6)\n",
        "l"
      ]
    },
    {
      "cell_type": "code",
      "execution_count": null,
      "id": "e2621f85-6ba7-4901-8301-704745b3744b",
      "metadata": {
        "id": "e2621f85-6ba7-4901-8301-704745b3744b"
      },
      "outputs": [],
      "source": [
        "# insert will add the elemnet at the specified index value\n",
        "# l.insert(index , value)\n",
        "l.insert(1,10)"
      ]
    },
    {
      "cell_type": "code",
      "execution_count": null,
      "id": "f0896518-4d48-4959-a2b7-3d28ebaeb93a",
      "metadata": {
        "id": "f0896518-4d48-4959-a2b7-3d28ebaeb93a",
        "outputId": "e619df47-4f97-4721-fc36-f75d2b857d18"
      },
      "outputs": [
        {
          "data": {
            "text/plain": [
              "[1, 10, 2, 3, 4, 5, 6]"
            ]
          },
          "execution_count": 10,
          "metadata": {},
          "output_type": "execute_result"
        }
      ],
      "source": [
        "l"
      ]
    },
    {
      "cell_type": "code",
      "execution_count": null,
      "id": "c284f921-fc17-4dba-8780-adcad69f4a83",
      "metadata": {
        "id": "c284f921-fc17-4dba-8780-adcad69f4a83",
        "outputId": "fa61406c-1c9d-4977-d5b3-bf8445e250ed"
      },
      "outputs": [
        {
          "data": {
            "text/plain": [
              "[1, 10, 2, 3, 4, 5, 6]"
            ]
          },
          "execution_count": 12,
          "metadata": {},
          "output_type": "execute_result"
        }
      ],
      "source": [
        "# will help in joining 2 lists\n",
        "# will help in adding / appending multiple values at once\n",
        "l"
      ]
    },
    {
      "cell_type": "code",
      "execution_count": null,
      "id": "b8a4f624-188d-4637-8f40-368115b9758e",
      "metadata": {
        "id": "b8a4f624-188d-4637-8f40-368115b9758e",
        "outputId": "d7df17d8-7e86-4581-8f0c-aece3aa0b648"
      },
      "outputs": [
        {
          "data": {
            "text/plain": [
              "[1, 10, 2, 3, 4, 5, 6, 7, 8, 9, 10]"
            ]
          },
          "execution_count": 14,
          "metadata": {},
          "output_type": "execute_result"
        }
      ],
      "source": [
        "l.extend([7,8,9,10])\n",
        "l"
      ]
    },
    {
      "cell_type": "code",
      "execution_count": null,
      "id": "64bb6647-a430-41cb-8b07-dedd75c6df2b",
      "metadata": {
        "id": "64bb6647-a430-41cb-8b07-dedd75c6df2b"
      },
      "outputs": [],
      "source": [
        "l2 = [11,12]"
      ]
    },
    {
      "cell_type": "code",
      "execution_count": null,
      "id": "6185dd8b-0340-4dec-aa69-77154c98187e",
      "metadata": {
        "id": "6185dd8b-0340-4dec-aa69-77154c98187e",
        "outputId": "faaa2de7-ddad-420c-ce40-655561ebfc8d"
      },
      "outputs": [
        {
          "data": {
            "text/plain": [
              "[1, 10, 2, 3, 4, 5, 6, 7, 8, 9, 10, 11, 12]"
            ]
          },
          "execution_count": 18,
          "metadata": {},
          "output_type": "execute_result"
        }
      ],
      "source": [
        "l.extend(l2)\n",
        "l"
      ]
    },
    {
      "cell_type": "markdown",
      "id": "09036e79-5d13-4e26-91ff-21655210b991",
      "metadata": {
        "id": "09036e79-5d13-4e26-91ff-21655210b991"
      },
      "source": [
        "#####  Remove\n",
        "1. pop\n",
        "2. pop(index_value)\n",
        "3. remove"
      ]
    },
    {
      "cell_type": "code",
      "execution_count": null,
      "id": "47173a37-5696-4bde-a3f3-e423717ecc42",
      "metadata": {
        "id": "47173a37-5696-4bde-a3f3-e423717ecc42",
        "outputId": "c85d1ca0-28b0-4634-d269-69bd00d9a508"
      },
      "outputs": [
        {
          "data": {
            "text/plain": [
              "[1, 10, 2, 3, 4, 5, 6, 7, 8, 9, 10, 11, 12]"
            ]
          },
          "execution_count": 28,
          "metadata": {},
          "output_type": "execute_result"
        }
      ],
      "source": [
        "l"
      ]
    },
    {
      "cell_type": "code",
      "execution_count": null,
      "id": "3f1ad40a-9749-4fad-aa9f-c0328cf11ab8",
      "metadata": {
        "id": "3f1ad40a-9749-4fad-aa9f-c0328cf11ab8",
        "outputId": "23060a4e-8c4a-46dd-d23f-fcefb9c6e98d"
      },
      "outputs": [
        {
          "data": {
            "text/plain": [
              "12"
            ]
          },
          "execution_count": 30,
          "metadata": {},
          "output_type": "execute_result"
        }
      ],
      "source": [
        "# by defualt pop will remove last element from the list\n",
        "l.pop()"
      ]
    },
    {
      "cell_type": "code",
      "execution_count": null,
      "id": "ef8f5b82-0d6d-4195-8cb6-e68e6e9f1afa",
      "metadata": {
        "id": "ef8f5b82-0d6d-4195-8cb6-e68e6e9f1afa",
        "outputId": "2fd9908e-9c9e-4387-91f6-8d86d8900062"
      },
      "outputs": [
        {
          "data": {
            "text/plain": [
              "[1, 10, 2, 3, 4, 5, 6, 7, 8, 9, 10, 11]"
            ]
          },
          "execution_count": 32,
          "metadata": {},
          "output_type": "execute_result"
        }
      ],
      "source": [
        "l"
      ]
    },
    {
      "cell_type": "code",
      "execution_count": null,
      "id": "e0505cac-389e-4bc4-9351-fd2603274598",
      "metadata": {
        "id": "e0505cac-389e-4bc4-9351-fd2603274598",
        "outputId": "05fd2dae-c3e5-41bd-f4d1-f5ba10eef976"
      },
      "outputs": [
        {
          "data": {
            "text/plain": [
              "10"
            ]
          },
          "execution_count": 34,
          "metadata": {},
          "output_type": "execute_result"
        }
      ],
      "source": [
        "l.pop(1)"
      ]
    },
    {
      "cell_type": "code",
      "execution_count": null,
      "id": "be15bd49-a149-4c9c-bb02-781f64f3ceb8",
      "metadata": {
        "id": "be15bd49-a149-4c9c-bb02-781f64f3ceb8",
        "outputId": "673c3452-2841-44e7-b2ea-8032d7d805d1"
      },
      "outputs": [
        {
          "data": {
            "text/plain": [
              "[1, 2, 3, 4, 5, 6, 7, 8, 9, 10, 11]"
            ]
          },
          "execution_count": 36,
          "metadata": {},
          "output_type": "execute_result"
        }
      ],
      "source": [
        "l"
      ]
    },
    {
      "cell_type": "code",
      "execution_count": null,
      "id": "d3a422f1-cbb5-4c48-b9bb-7372cc587a83",
      "metadata": {
        "id": "d3a422f1-cbb5-4c48-b9bb-7372cc587a83"
      },
      "outputs": [],
      "source": [
        "# remove(value)\n",
        "l.remove(11)"
      ]
    },
    {
      "cell_type": "code",
      "execution_count": null,
      "id": "e13bc68e-e77a-4657-a7c7-78b5e17a74de",
      "metadata": {
        "id": "e13bc68e-e77a-4657-a7c7-78b5e17a74de",
        "outputId": "2d6552b5-df74-4886-f32c-2bb37c2815d8"
      },
      "outputs": [
        {
          "data": {
            "text/plain": [
              "[1, 2, 3, 4, 5, 6, 7, 8, 9, 10]"
            ]
          },
          "execution_count": 40,
          "metadata": {},
          "output_type": "execute_result"
        }
      ],
      "source": [
        "l"
      ]
    },
    {
      "cell_type": "code",
      "execution_count": null,
      "id": "e4154795-07b1-48f7-9950-4c72a747b4ed",
      "metadata": {
        "id": "e4154795-07b1-48f7-9950-4c72a747b4ed",
        "outputId": "17ad49df-795b-4dcd-a4f0-5919e0b22683"
      },
      "outputs": [
        {
          "data": {
            "text/plain": [
              "[10, 2, 3, 4, 5, 6, 7, 8, 9, 10]"
            ]
          },
          "execution_count": 46,
          "metadata": {},
          "output_type": "execute_result"
        }
      ],
      "source": [
        "# update the values\n",
        "l[0] = 10\n",
        "l"
      ]
    },
    {
      "cell_type": "code",
      "execution_count": null,
      "id": "9332ba66-2526-48d1-b425-368216cc2e48",
      "metadata": {
        "id": "9332ba66-2526-48d1-b425-368216cc2e48",
        "outputId": "5797b619-5ee9-425c-c83b-d947d2094ec1"
      },
      "outputs": [
        {
          "data": {
            "text/plain": [
              "[10, 20, 30, 40, 50, 60, 70, 80, 90, 100]"
            ]
          },
          "execution_count": 52,
          "metadata": {},
          "output_type": "execute_result"
        }
      ],
      "source": [
        "l[1:10] = [20,30,40,50,60,70,80,90,100]\n",
        "l"
      ]
    },
    {
      "cell_type": "markdown",
      "id": "eaa84352-e54e-46b5-a9f7-228486a5e74c",
      "metadata": {
        "id": "eaa84352-e54e-46b5-a9f7-228486a5e74c"
      },
      "source": [
        "##### List concatenation"
      ]
    },
    {
      "cell_type": "code",
      "execution_count": null,
      "id": "f764c879-f7d7-43cd-85c4-64cbb59b9898",
      "metadata": {
        "id": "f764c879-f7d7-43cd-85c4-64cbb59b9898"
      },
      "outputs": [],
      "source": [
        "a = [1,2]\n",
        "b = [3,4]"
      ]
    },
    {
      "cell_type": "code",
      "execution_count": null,
      "id": "3eba604d-dd41-4e63-b1e2-3ac0ce69fa85",
      "metadata": {
        "id": "3eba604d-dd41-4e63-b1e2-3ac0ce69fa85",
        "outputId": "dc3d4ad7-1a09-4136-e9fc-5916efbc0b88"
      },
      "outputs": [
        {
          "data": {
            "text/plain": [
              "[1, 2, 3, 4, 3, 4]"
            ]
          },
          "execution_count": 59,
          "metadata": {},
          "output_type": "execute_result"
        }
      ],
      "source": [
        "a.extend(b)\n",
        "a"
      ]
    },
    {
      "cell_type": "code",
      "execution_count": null,
      "id": "62f1ae3b-797d-4a8e-a684-f67d8444d77d",
      "metadata": {
        "id": "62f1ae3b-797d-4a8e-a684-f67d8444d77d",
        "outputId": "4fd2cc91-4959-49b1-be42-50a8ae1fe76b"
      },
      "outputs": [
        {
          "data": {
            "text/plain": [
              "[1, 2, 3, 4, 3, 4, 3, 4]"
            ]
          },
          "execution_count": 61,
          "metadata": {},
          "output_type": "execute_result"
        }
      ],
      "source": [
        "a + b"
      ]
    },
    {
      "cell_type": "markdown",
      "id": "3faaf76a-f707-4c97-a789-112d0c306c6e",
      "metadata": {
        "id": "3faaf76a-f707-4c97-a789-112d0c306c6e"
      },
      "source": [
        "##### List membership\n",
        "- in\n",
        "- not in"
      ]
    },
    {
      "cell_type": "code",
      "execution_count": null,
      "id": "facf2858-6db8-4e9b-b7d5-2552a76be367",
      "metadata": {
        "id": "facf2858-6db8-4e9b-b7d5-2552a76be367",
        "outputId": "b13508ca-13ad-4056-b6f3-edc53ca12578"
      },
      "outputs": [
        {
          "data": {
            "text/plain": [
              "[10, 20, 30, 40, 50, 60, 70, 80, 90, 100]"
            ]
          },
          "execution_count": 64,
          "metadata": {},
          "output_type": "execute_result"
        }
      ],
      "source": [
        "l"
      ]
    },
    {
      "cell_type": "code",
      "execution_count": null,
      "id": "00545437-9fda-4dc2-af0f-93eb9c715d8d",
      "metadata": {
        "id": "00545437-9fda-4dc2-af0f-93eb9c715d8d",
        "outputId": "be4394d0-d826-4693-be35-c96937de9e4b"
      },
      "outputs": [
        {
          "data": {
            "text/plain": [
              "True"
            ]
          },
          "execution_count": 66,
          "metadata": {},
          "output_type": "execute_result"
        }
      ],
      "source": [
        "10 in l"
      ]
    },
    {
      "cell_type": "code",
      "execution_count": null,
      "id": "861c00a3-ebab-446e-a9d4-0b112ad1c4cc",
      "metadata": {
        "id": "861c00a3-ebab-446e-a9d4-0b112ad1c4cc",
        "outputId": "38fa20ba-97f8-43af-cca7-10cd0f5e6325"
      },
      "outputs": [
        {
          "data": {
            "text/plain": [
              "True"
            ]
          },
          "execution_count": 68,
          "metadata": {},
          "output_type": "execute_result"
        }
      ],
      "source": [
        "200 not in l"
      ]
    },
    {
      "cell_type": "markdown",
      "id": "492281e4-44b1-4ab1-9dcf-4a2820d63a83",
      "metadata": {
        "id": "492281e4-44b1-4ab1-9dcf-4a2820d63a83"
      },
      "source": [
        "#### all and any"
      ]
    },
    {
      "cell_type": "code",
      "execution_count": null,
      "id": "0367cc24-4999-48e8-a519-f243a4dd7175",
      "metadata": {
        "id": "0367cc24-4999-48e8-a519-f243a4dd7175"
      },
      "outputs": [],
      "source": [
        "# all - will return true , if all the elements in the ds is true\n",
        "c = [1,2,'Python']"
      ]
    },
    {
      "cell_type": "code",
      "execution_count": null,
      "id": "c13f7821-f05d-4dc1-a567-851bdced225b",
      "metadata": {
        "id": "c13f7821-f05d-4dc1-a567-851bdced225b",
        "outputId": "e27cc4a0-2e32-4743-e502-ea0fe5b58334"
      },
      "outputs": [
        {
          "data": {
            "text/plain": [
              "True"
            ]
          },
          "execution_count": 75,
          "metadata": {},
          "output_type": "execute_result"
        }
      ],
      "source": [
        "all(c)"
      ]
    },
    {
      "cell_type": "code",
      "execution_count": null,
      "id": "80b1622e-0e01-4c93-86b6-098930bc6caf",
      "metadata": {
        "id": "80b1622e-0e01-4c93-86b6-098930bc6caf",
        "outputId": "55369ef2-778d-4e50-ea6d-e26ca245a48d"
      },
      "outputs": [
        {
          "data": {
            "text/plain": [
              "False"
            ]
          },
          "execution_count": 77,
          "metadata": {},
          "output_type": "execute_result"
        }
      ],
      "source": [
        "d = [1,0]\n",
        "all(d)"
      ]
    },
    {
      "cell_type": "code",
      "execution_count": null,
      "id": "607eb303-54ae-4a61-80cb-1bcdfa77ec02",
      "metadata": {
        "id": "607eb303-54ae-4a61-80cb-1bcdfa77ec02",
        "outputId": "3c436192-db30-4b38-99f0-0de52e8ae6b3"
      },
      "outputs": [
        {
          "data": {
            "text/plain": [
              "True"
            ]
          },
          "execution_count": 79,
          "metadata": {},
          "output_type": "execute_result"
        }
      ],
      "source": [
        "# any - will return true , atleast 1 true elemnt in te ds\n",
        "any(d)"
      ]
    },
    {
      "cell_type": "code",
      "execution_count": null,
      "id": "0ed2a72e-653b-45fd-ace7-187cb7fb51ba",
      "metadata": {
        "id": "0ed2a72e-653b-45fd-ace7-187cb7fb51ba",
        "outputId": "7e87ff2d-2962-491a-ca23-d3f86e11a98e"
      },
      "outputs": [
        {
          "data": {
            "text/plain": [
              "True"
            ]
          },
          "execution_count": 81,
          "metadata": {},
          "output_type": "execute_result"
        }
      ],
      "source": [
        "d=[1 ,'False']\n",
        "all(d)"
      ]
    },
    {
      "cell_type": "markdown",
      "id": "252fd7e6-fdfd-4a82-a355-4a895f3c1104",
      "metadata": {
        "id": "252fd7e6-fdfd-4a82-a355-4a895f3c1104"
      },
      "source": [
        "##### Reverse and sort the list"
      ]
    },
    {
      "cell_type": "code",
      "execution_count": null,
      "id": "40af5521-a96c-4511-92dc-259d24fb39eb",
      "metadata": {
        "id": "40af5521-a96c-4511-92dc-259d24fb39eb",
        "outputId": "4829ace3-d1b8-47a2-d3fa-0f74511fe32a"
      },
      "outputs": [
        {
          "data": {
            "text/plain": [
              "[10, 9, 1, 2, 6, 7, 8]"
            ]
          },
          "execution_count": 87,
          "metadata": {},
          "output_type": "execute_result"
        }
      ],
      "source": [
        "a1 = [10,9,1,2,6,7,8]\n",
        "a1"
      ]
    },
    {
      "cell_type": "code",
      "execution_count": null,
      "id": "5a65c555-81ba-49fa-b014-b25d4ec44a4e",
      "metadata": {
        "id": "5a65c555-81ba-49fa-b014-b25d4ec44a4e",
        "outputId": "21ddfd58-46db-4cdc-ad0a-73fb8769d838"
      },
      "outputs": [
        {
          "data": {
            "text/plain": [
              "[8, 7, 6, 2, 1, 9, 10]"
            ]
          },
          "execution_count": 91,
          "metadata": {},
          "output_type": "execute_result"
        }
      ],
      "source": [
        "a1[::-1]"
      ]
    },
    {
      "cell_type": "code",
      "execution_count": null,
      "id": "b7f39cdc-70ec-4886-b1c1-d9796624e603",
      "metadata": {
        "id": "b7f39cdc-70ec-4886-b1c1-d9796624e603",
        "outputId": "00212f5e-5df0-4f37-9771-e7a8560c2172"
      },
      "outputs": [
        {
          "data": {
            "text/plain": [
              "[10, 9, 1, 2, 6, 7, 8]"
            ]
          },
          "execution_count": 95,
          "metadata": {},
          "output_type": "execute_result"
        }
      ],
      "source": [
        "a1.reverse()\n",
        "a1"
      ]
    },
    {
      "cell_type": "code",
      "execution_count": null,
      "id": "a2d8962c-7421-4ba8-8c31-55d59e821f88",
      "metadata": {
        "id": "a2d8962c-7421-4ba8-8c31-55d59e821f88",
        "outputId": "8d8da5a2-39a5-4734-c687-6f047e5320f9"
      },
      "outputs": [
        {
          "data": {
            "text/plain": [
              "[1, 2, 6, 7, 8, 9, 10]"
            ]
          },
          "execution_count": 99,
          "metadata": {},
          "output_type": "execute_result"
        }
      ],
      "source": [
        "# sort\n",
        "# by default sorting is happening in ascending\n",
        "a1.sort()\n",
        "a1"
      ]
    },
    {
      "cell_type": "code",
      "execution_count": null,
      "id": "8dcee07d-8e27-463b-88c4-94cb075e74d3",
      "metadata": {
        "id": "8dcee07d-8e27-463b-88c4-94cb075e74d3",
        "outputId": "53906f79-46db-4257-a65f-fb91cc31fbc1"
      },
      "outputs": [
        {
          "data": {
            "text/plain": [
              "[10, 9, 8, 7, 6, 2, 1]"
            ]
          },
          "execution_count": 101,
          "metadata": {},
          "output_type": "execute_result"
        }
      ],
      "source": [
        "a1.sort(reverse = True)\n",
        "a1"
      ]
    },
    {
      "cell_type": "markdown",
      "id": "7d641f8d-fb44-4981-ae2a-c2dacfed6a54",
      "metadata": {
        "id": "7d641f8d-fb44-4981-ae2a-c2dacfed6a54"
      },
      "source": [
        "### Tuple\n",
        "- Tuple are DS which stores multiples values in a single variable\n",
        "- can store both homogeneous and heterogenous values\n",
        "- ordered , indexed , duplicates\n",
        "- Tuples ARE IMMUTABLE (we cannot add , delete and update once a tuple is formed)\n",
        "- we can convert the tuple into a list and do the changes (but not advisible at all the scenarios)\n",
        "- Syntax : var_name = ()\n"
      ]
    },
    {
      "cell_type": "code",
      "execution_count": null,
      "id": "62e7e9e1-ff3a-4c4f-b534-426e31aec2b2",
      "metadata": {
        "id": "62e7e9e1-ff3a-4c4f-b534-426e31aec2b2"
      },
      "outputs": [],
      "source": [
        "t = ()"
      ]
    },
    {
      "cell_type": "code",
      "execution_count": null,
      "id": "d71dd48d-f18a-47ef-9f02-f422fe5341db",
      "metadata": {
        "id": "d71dd48d-f18a-47ef-9f02-f422fe5341db",
        "outputId": "4e26f15a-ee3a-4c4d-e675-ca366668dc8b"
      },
      "outputs": [
        {
          "data": {
            "text/plain": [
              "()"
            ]
          },
          "execution_count": 113,
          "metadata": {},
          "output_type": "execute_result"
        }
      ],
      "source": [
        "t = tuple()\n",
        "t"
      ]
    },
    {
      "cell_type": "code",
      "execution_count": null,
      "id": "af33a637-d5e9-4fd1-aed2-c8a6cfe63c9a",
      "metadata": {
        "id": "af33a637-d5e9-4fd1-aed2-c8a6cfe63c9a"
      },
      "outputs": [],
      "source": [
        "# integer tuple\n",
        "t2 = (1,2,3,4)"
      ]
    },
    {
      "cell_type": "code",
      "execution_count": null,
      "id": "970c31b7-6011-4a4c-a8ce-7e6861670c24",
      "metadata": {
        "id": "970c31b7-6011-4a4c-a8ce-7e6861670c24"
      },
      "outputs": [],
      "source": [
        "# float"
      ]
    },
    {
      "cell_type": "code",
      "execution_count": null,
      "id": "41b53142-51af-4b3d-ba27-e014e1c71082",
      "metadata": {
        "id": "41b53142-51af-4b3d-ba27-e014e1c71082"
      },
      "outputs": [],
      "source": [
        "# string"
      ]
    },
    {
      "cell_type": "code",
      "execution_count": null,
      "id": "88b005f1-db1b-4092-8205-8ef193f515a6",
      "metadata": {
        "id": "88b005f1-db1b-4092-8205-8ef193f515a6",
        "outputId": "66c86cf0-eefb-46d4-ab08-8311e993ac0e"
      },
      "outputs": [
        {
          "data": {
            "text/plain": [
              "(1, 2, (2, 4), [1, 2, 3])"
            ]
          },
          "execution_count": 131,
          "metadata": {},
          "output_type": "execute_result"
        }
      ],
      "source": [
        "# hetero\n",
        "t1 = (1,1.0,'Python')\n",
        "t"
      ]
    },
    {
      "cell_type": "code",
      "execution_count": null,
      "id": "52ac2cb5-4075-44d7-96b9-8d9df3497de5",
      "metadata": {
        "id": "52ac2cb5-4075-44d7-96b9-8d9df3497de5",
        "outputId": "fa8aa970-a885-4145-ebe9-ee451f05f511"
      },
      "outputs": [
        {
          "data": {
            "text/plain": [
              "(1, 2, (2, 4), [1, 2, 3])"
            ]
          },
          "execution_count": 123,
          "metadata": {},
          "output_type": "execute_result"
        }
      ],
      "source": [
        "#nested tuple\n",
        "t = (1,2,(2,4),[1,2,3])\n",
        "t"
      ]
    },
    {
      "cell_type": "markdown",
      "id": "0414efb9-968d-4d6f-a108-b6cf1cdf48bd",
      "metadata": {
        "id": "0414efb9-968d-4d6f-a108-b6cf1cdf48bd"
      },
      "source": [
        "##### Indexing and slicing\n",
        "\n",
        "Task"
      ]
    },
    {
      "cell_type": "markdown",
      "id": "f19fb576-1b23-47e4-a2bd-753c8682da54",
      "metadata": {
        "id": "f19fb576-1b23-47e4-a2bd-753c8682da54"
      },
      "source": [
        "##### Tuples are immutable\n",
        "- WE can delete the entire structre from memory\n",
        "- we can convert the tuple into list and make the necessary changes"
      ]
    },
    {
      "cell_type": "code",
      "execution_count": null,
      "id": "8380e90d-bd00-46bf-8aa1-49f0608e3f5b",
      "metadata": {
        "id": "8380e90d-bd00-46bf-8aa1-49f0608e3f5b",
        "outputId": "9faa4362-f118-467e-b187-23baa68a4d2c"
      },
      "outputs": [
        {
          "data": {
            "text/plain": [
              "(1, 2, (2, 4), [1, 2, 3])"
            ]
          },
          "execution_count": 127,
          "metadata": {},
          "output_type": "execute_result"
        }
      ],
      "source": [
        "t"
      ]
    },
    {
      "cell_type": "code",
      "execution_count": null,
      "id": "0b11d38a-ea2a-4e0e-bd8c-6a55abff9ff2",
      "metadata": {
        "id": "0b11d38a-ea2a-4e0e-bd8c-6a55abff9ff2"
      },
      "outputs": [],
      "source": [
        "del t"
      ]
    },
    {
      "cell_type": "code",
      "execution_count": null,
      "id": "6dd39a7d-09c0-4093-8a09-f7b8a89960fd",
      "metadata": {
        "id": "6dd39a7d-09c0-4093-8a09-f7b8a89960fd",
        "outputId": "af82f468-3ac7-4a70-b187-06c46c588759"
      },
      "outputs": [
        {
          "ename": "NameError",
          "evalue": "name 't' is not defined",
          "output_type": "error",
          "traceback": [
            "\u001b[1;31m---------------------------------------------------------------------------\u001b[0m",
            "\u001b[1;31mNameError\u001b[0m                                 Traceback (most recent call last)",
            "Cell \u001b[1;32mIn[135], line 1\u001b[0m\n\u001b[1;32m----> 1\u001b[0m t\n",
            "\u001b[1;31mNameError\u001b[0m: name 't' is not defined"
          ]
        }
      ],
      "source": [
        "t"
      ]
    },
    {
      "cell_type": "code",
      "execution_count": null,
      "id": "19ce0af8-58e1-470e-add8-7a392fc17041",
      "metadata": {
        "id": "19ce0af8-58e1-470e-add8-7a392fc17041",
        "outputId": "5ee78214-b76a-47f1-ecc4-898519e9ea59"
      },
      "outputs": [
        {
          "data": {
            "text/plain": [
              "(1, 2, 3, 4)"
            ]
          },
          "execution_count": 139,
          "metadata": {},
          "output_type": "execute_result"
        }
      ],
      "source": [
        "t2"
      ]
    },
    {
      "cell_type": "code",
      "execution_count": null,
      "id": "b1137e41-d7dc-4c06-882b-bb05ecbe33ad",
      "metadata": {
        "id": "b1137e41-d7dc-4c06-882b-bb05ecbe33ad",
        "outputId": "f3f70a7e-278f-424f-ccfc-5770fdc19d50"
      },
      "outputs": [
        {
          "data": {
            "text/plain": [
              "[1, 2, 3, 4]"
            ]
          },
          "execution_count": 141,
          "metadata": {},
          "output_type": "execute_result"
        }
      ],
      "source": [
        "tuple_l = list(t2)\n",
        "tuple_l"
      ]
    },
    {
      "cell_type": "code",
      "execution_count": null,
      "id": "09660ae4-7563-42b2-9d95-12f43979c387",
      "metadata": {
        "id": "09660ae4-7563-42b2-9d95-12f43979c387"
      },
      "outputs": [],
      "source": [
        "tuple_l.append(5)"
      ]
    },
    {
      "cell_type": "code",
      "execution_count": null,
      "id": "2ec32557-27d3-4eaa-a9e9-bf6195c3137c",
      "metadata": {
        "id": "2ec32557-27d3-4eaa-a9e9-bf6195c3137c",
        "outputId": "b8786886-dc83-4b07-d6bd-6200bac57beb"
      },
      "outputs": [
        {
          "data": {
            "text/plain": [
              "[1, 2, 3, 4, 5]"
            ]
          },
          "execution_count": 145,
          "metadata": {},
          "output_type": "execute_result"
        }
      ],
      "source": [
        "tuple_l"
      ]
    },
    {
      "cell_type": "markdown",
      "id": "1667cfb3-f407-4093-ac0d-8dbb7f509388",
      "metadata": {
        "id": "1667cfb3-f407-4093-ac0d-8dbb7f509388"
      },
      "source": [
        "##### Tuple memebership"
      ]
    },
    {
      "cell_type": "code",
      "execution_count": null,
      "id": "a0f06025-074b-4aea-b8d4-267229b72a3d",
      "metadata": {
        "id": "a0f06025-074b-4aea-b8d4-267229b72a3d",
        "outputId": "8585a42a-7243-445e-9252-45d0172fe674"
      },
      "outputs": [
        {
          "data": {
            "text/plain": [
              "[1, 2, 3, 4, 5]"
            ]
          },
          "execution_count": 154,
          "metadata": {},
          "output_type": "execute_result"
        }
      ],
      "source": [
        "tuple_l"
      ]
    },
    {
      "cell_type": "code",
      "execution_count": null,
      "id": "45f67073-0fd5-45c6-bf1b-ddc2e2c6b8fa",
      "metadata": {
        "id": "45f67073-0fd5-45c6-bf1b-ddc2e2c6b8fa",
        "outputId": "15a9d99c-8311-4c8e-92a5-bddc9e0b6b81"
      },
      "outputs": [
        {
          "data": {
            "text/plain": [
              "True"
            ]
          },
          "execution_count": 158,
          "metadata": {},
          "output_type": "execute_result"
        }
      ],
      "source": [
        "1 in tuple_l"
      ]
    },
    {
      "cell_type": "markdown",
      "id": "58dea8ab-8ab1-42d6-9d8a-8c99f4eef431",
      "metadata": {
        "id": "58dea8ab-8ab1-42d6-9d8a-8c99f4eef431"
      },
      "source": [
        "##### Sorted"
      ]
    },
    {
      "cell_type": "code",
      "execution_count": null,
      "id": "b07289c4-fdb1-40e8-9611-739c998c299c",
      "metadata": {
        "id": "b07289c4-fdb1-40e8-9611-739c998c299c",
        "outputId": "288f0ab4-58d6-45ad-907f-b7c4a53e9ace"
      },
      "outputs": [
        {
          "data": {
            "text/plain": [
              "(1, 2, 0, 10, 5, 20)"
            ]
          },
          "execution_count": 162,
          "metadata": {},
          "output_type": "execute_result"
        }
      ],
      "source": [
        "t = (1,2,0,10,5,20)\n",
        "t"
      ]
    },
    {
      "cell_type": "code",
      "execution_count": null,
      "id": "49469aa4-0c24-437b-9790-a753f848263d",
      "metadata": {
        "id": "49469aa4-0c24-437b-9790-a753f848263d",
        "outputId": "f0b06716-d864-400e-efda-0e6cadb3d7fb"
      },
      "outputs": [
        {
          "data": {
            "text/plain": [
              "[0, 1, 2, 5, 10, 20]"
            ]
          },
          "execution_count": 164,
          "metadata": {},
          "output_type": "execute_result"
        }
      ],
      "source": [
        "sorted(t)"
      ]
    },
    {
      "cell_type": "code",
      "execution_count": null,
      "id": "2ee7600e-2ed5-4db5-b3ca-a7ad18a0f522",
      "metadata": {
        "id": "2ee7600e-2ed5-4db5-b3ca-a7ad18a0f522",
        "outputId": "ce0e025e-4073-4a2c-c36b-8bceee76239b"
      },
      "outputs": [
        {
          "data": {
            "text/plain": [
              "[20, 10, 5, 2, 1, 0]"
            ]
          },
          "execution_count": 166,
          "metadata": {},
          "output_type": "execute_result"
        }
      ],
      "source": [
        "sorted(t, reverse=True)"
      ]
    },
    {
      "cell_type": "code",
      "execution_count": null,
      "id": "de0298f5-8a0c-4022-8a9c-ae56288d42f8",
      "metadata": {
        "id": "de0298f5-8a0c-4022-8a9c-ae56288d42f8"
      },
      "outputs": [],
      "source": [
        "l = [1, 20, (2, 4), [1, 2, 3], 30, 40]\n",
        "l.remove((2,4))"
      ]
    },
    {
      "cell_type": "code",
      "execution_count": null,
      "id": "cbb58bd4-7dd4-4883-8402-5d8bd19f440d",
      "metadata": {
        "id": "cbb58bd4-7dd4-4883-8402-5d8bd19f440d",
        "outputId": "4fe7d23b-ab9f-4817-e66d-a4464c64b1a5"
      },
      "outputs": [
        {
          "data": {
            "text/plain": [
              "[1, 20, [1, 2, 3], 30, 40]"
            ]
          },
          "execution_count": 176,
          "metadata": {},
          "output_type": "execute_result"
        }
      ],
      "source": [
        "l"
      ]
    },
    {
      "cell_type": "markdown",
      "id": "2a011174-e40f-469f-bfb7-9804468e7e0f",
      "metadata": {
        "id": "2a011174-e40f-469f-bfb7-9804468e7e0f"
      },
      "source": [
        "#### Sets\n",
        "\n",
        "- are DS which stores multiple values in a single var\n",
        "- it can store both homo and hetero\n",
        "- SETS ARE UNORDERED\n",
        "- SETS ARE UNINDEXED\n",
        "- SETS DO NOT ALLOW DUPLICATES\n",
        "- SETS ARE MUTABLE\n",
        "- Syntax : var_name = { values }"
      ]
    },
    {
      "cell_type": "code",
      "execution_count": null,
      "id": "3b80844d-92b7-4fba-9e21-30927d7c9713",
      "metadata": {
        "id": "3b80844d-92b7-4fba-9e21-30927d7c9713",
        "outputId": "33edd18e-06ef-4195-995c-21e66533f80a"
      },
      "outputs": [
        {
          "data": {
            "text/plain": [
              "{1, 2, 3}"
            ]
          },
          "execution_count": 179,
          "metadata": {},
          "output_type": "execute_result"
        }
      ],
      "source": [
        "s = {1,2,3}\n",
        "s"
      ]
    },
    {
      "cell_type": "code",
      "execution_count": null,
      "id": "5f2d920c-e2b4-46f2-885e-212fee6fce76",
      "metadata": {
        "id": "5f2d920c-e2b4-46f2-885e-212fee6fce76",
        "outputId": "95e20348-0652-4150-a29c-2defa4500efd"
      },
      "outputs": [
        {
          "data": {
            "text/plain": [
              "set"
            ]
          },
          "execution_count": 181,
          "metadata": {},
          "output_type": "execute_result"
        }
      ],
      "source": [
        "type(s)"
      ]
    },
    {
      "cell_type": "code",
      "execution_count": null,
      "id": "6096888d-8a9a-4dc2-bf4c-edbaca2a864d",
      "metadata": {
        "id": "6096888d-8a9a-4dc2-bf4c-edbaca2a864d",
        "outputId": "80a3aeda-b5ea-425b-a23b-4d0f4f37db4a"
      },
      "outputs": [
        {
          "data": {
            "text/plain": [
              "{1, 2, 3}"
            ]
          },
          "execution_count": 187,
          "metadata": {},
          "output_type": "execute_result"
        }
      ],
      "source": [
        "s1 = set({1,2,3})\n",
        "s1"
      ]
    },
    {
      "cell_type": "code",
      "execution_count": null,
      "id": "f424d908-8b0b-45a0-9fd5-c2401a08957a",
      "metadata": {
        "id": "f424d908-8b0b-45a0-9fd5-c2401a08957a",
        "outputId": "b5d63339-1247-4b03-cb5e-d641a7f362f4"
      },
      "outputs": [
        {
          "data": {
            "text/plain": [
              "set"
            ]
          },
          "execution_count": 189,
          "metadata": {},
          "output_type": "execute_result"
        }
      ],
      "source": [
        "type(s1)"
      ]
    },
    {
      "cell_type": "code",
      "execution_count": null,
      "id": "b11656b6-6da3-439f-b4d1-f0ab415bf1c1",
      "metadata": {
        "id": "b11656b6-6da3-439f-b4d1-f0ab415bf1c1",
        "outputId": "d75cbfb3-c33d-458b-b461-f598bd88e65e"
      },
      "outputs": [
        {
          "data": {
            "text/plain": [
              "{1, 2, 3, 4}"
            ]
          },
          "execution_count": 191,
          "metadata": {},
          "output_type": "execute_result"
        }
      ],
      "source": [
        "s2 = {1,1,2,3,4}\n",
        "s2 # It will automatically removes the duplicate values\n"
      ]
    },
    {
      "cell_type": "code",
      "execution_count": null,
      "id": "df1b2c85-8284-4b5f-b267-9550c6b6e90d",
      "metadata": {
        "id": "df1b2c85-8284-4b5f-b267-9550c6b6e90d",
        "outputId": "5c3794b8-595f-419d-a72f-a38fa70a9e33"
      },
      "outputs": [
        {
          "data": {
            "text/plain": [
              "{1, 2, 3}"
            ]
          },
          "execution_count": 194,
          "metadata": {},
          "output_type": "execute_result"
        }
      ],
      "source": [
        "s3 = {1,2,3}\n",
        "s3.add(True)\n",
        "s3\n",
        "# boolean True == 1\n",
        "# boolean False == 0"
      ]
    },
    {
      "cell_type": "code",
      "execution_count": null,
      "id": "9ef02b63-4935-4d4e-8960-0295cd346582",
      "metadata": {
        "id": "9ef02b63-4935-4d4e-8960-0295cd346582",
        "outputId": "179f4d1d-0a4e-4ac3-80f4-7af5fe77cf73"
      },
      "outputs": [
        {
          "data": {
            "text/plain": [
              "{(1, 2, 3), 1, 'CDS'}"
            ]
          },
          "execution_count": 196,
          "metadata": {},
          "output_type": "execute_result"
        }
      ],
      "source": [
        "# hetero / nested\n",
        "# sets can store all dtype values along with immuatable DS\n",
        "s4 = {1,1.0,'CDS',(1,2,3)}\n",
        "s4"
      ]
    },
    {
      "cell_type": "markdown",
      "id": "5ff2812a-c6a5-400d-92ea-890bb137b15f",
      "metadata": {
        "id": "5ff2812a-c6a5-400d-92ea-890bb137b15f"
      },
      "source": [
        "##### Set Membership\n",
        "\n",
        "Task"
      ]
    },
    {
      "cell_type": "markdown",
      "id": "badda753-8bc1-4b74-9cad-c7031c884fd7",
      "metadata": {
        "id": "badda753-8bc1-4b74-9cad-c7031c884fd7"
      },
      "source": [
        "##### Sets are mutable"
      ]
    },
    {
      "cell_type": "code",
      "execution_count": null,
      "id": "d3e1ce7d-6ffa-4f95-945b-0f1fc1bce4cd",
      "metadata": {
        "id": "d3e1ce7d-6ffa-4f95-945b-0f1fc1bce4cd",
        "outputId": "60cc9685-2327-4a8e-bd7c-2d141cd35540"
      },
      "outputs": [
        {
          "data": {
            "text/plain": [
              "{1, 2, 3}"
            ]
          },
          "execution_count": 200,
          "metadata": {},
          "output_type": "execute_result"
        }
      ],
      "source": [
        "# add\n",
        "s1"
      ]
    },
    {
      "cell_type": "code",
      "execution_count": null,
      "id": "524dedcf-dcff-4bde-a931-365112438dc0",
      "metadata": {
        "id": "524dedcf-dcff-4bde-a931-365112438dc0",
        "outputId": "84cd3abf-75fb-4049-ec0a-051f9104c003"
      },
      "outputs": [
        {
          "data": {
            "text/plain": [
              "{1, 2, 3, 'Lakshmi'}"
            ]
          },
          "execution_count": 202,
          "metadata": {},
          "output_type": "execute_result"
        }
      ],
      "source": [
        "s1.add('Lakshmi')\n",
        "s1"
      ]
    },
    {
      "cell_type": "code",
      "execution_count": null,
      "id": "de7cc595-b861-4dba-9f70-a1afb563d318",
      "metadata": {
        "id": "de7cc595-b861-4dba-9f70-a1afb563d318",
        "outputId": "23dfc160-f9aa-4607-8431-60f4bba995db"
      },
      "outputs": [
        {
          "data": {
            "text/plain": [
              "{1, 2, 3, 'CDS', 'Lakshmi', 'Python'}"
            ]
          },
          "execution_count": 204,
          "metadata": {},
          "output_type": "execute_result"
        }
      ],
      "source": [
        "s1.update(['CDS','Python'])\n",
        "s1   # add multiple elements at once"
      ]
    },
    {
      "cell_type": "code",
      "execution_count": null,
      "id": "ed1daddc-76a8-43d8-b92e-7d3ef81d24d0",
      "metadata": {
        "id": "ed1daddc-76a8-43d8-b92e-7d3ef81d24d0",
        "outputId": "cf35e1ca-ac64-4738-aef9-ed0d5c9198de"
      },
      "outputs": [
        {
          "data": {
            "text/plain": [
              "{1, 2, 3, 'CDS', 'Deepika', 'Python'}"
            ]
          },
          "execution_count": 208,
          "metadata": {},
          "output_type": "execute_result"
        }
      ],
      "source": [
        "s1.update(['Deepika'])\n",
        "s1"
      ]
    },
    {
      "cell_type": "code",
      "execution_count": null,
      "id": "6c378ec9-a7e2-48b6-a176-c9d3272e1c6c",
      "metadata": {
        "id": "6c378ec9-a7e2-48b6-a176-c9d3272e1c6c",
        "outputId": "a8249ebc-2d53-4e3b-c702-1bf3024d1b5b"
      },
      "outputs": [
        {
          "data": {
            "text/plain": [
              "{1, 2, 3, 'CDS', 'Python'}"
            ]
          },
          "execution_count": 206,
          "metadata": {},
          "output_type": "execute_result"
        }
      ],
      "source": [
        "# remove the elements from the sets\n",
        "s1.remove('Lakshmi')\n",
        "s1"
      ]
    },
    {
      "cell_type": "code",
      "execution_count": null,
      "id": "2fbcf51d-3439-4d0d-8bf1-93a2eb950480",
      "metadata": {
        "id": "2fbcf51d-3439-4d0d-8bf1-93a2eb950480",
        "outputId": "6e23fad7-bb85-4e30-b964-4dcf466d9de3"
      },
      "outputs": [
        {
          "data": {
            "text/plain": [
              "{1, 2, 3, 'CDS', 'Python'}"
            ]
          },
          "execution_count": 210,
          "metadata": {},
          "output_type": "execute_result"
        }
      ],
      "source": [
        "s1.discard('Deepika')\n",
        "s1"
      ]
    },
    {
      "cell_type": "code",
      "execution_count": null,
      "id": "f38841e1-de4e-4903-a9fc-8905ddacfc8f",
      "metadata": {
        "id": "f38841e1-de4e-4903-a9fc-8905ddacfc8f"
      },
      "outputs": [],
      "source": [
        "s1.clear() # clear all the elements from the ds but the strc=ucture remains in the memory"
      ]
    },
    {
      "cell_type": "code",
      "execution_count": null,
      "id": "66e073b6-95ac-42d3-b533-5cead6671c32",
      "metadata": {
        "id": "66e073b6-95ac-42d3-b533-5cead6671c32",
        "outputId": "8e5b37d2-2f82-479f-f2bf-d64742b0be24"
      },
      "outputs": [
        {
          "data": {
            "text/plain": [
              "set()"
            ]
          },
          "execution_count": 214,
          "metadata": {},
          "output_type": "execute_result"
        }
      ],
      "source": [
        "s1"
      ]
    },
    {
      "cell_type": "code",
      "execution_count": null,
      "id": "5e828229-e8a4-4ce1-aa51-29e982f869fc",
      "metadata": {
        "id": "5e828229-e8a4-4ce1-aa51-29e982f869fc"
      },
      "outputs": [],
      "source": [
        "del s1 # delete the entire structure"
      ]
    },
    {
      "cell_type": "markdown",
      "id": "516fdb50-ef58-4f5a-97f8-b45b6090fc51",
      "metadata": {
        "id": "516fdb50-ef58-4f5a-97f8-b45b6090fc51"
      },
      "source": [
        "#### Dictionary\n",
        "\n",
        "- Ds which holds multiple values\n",
        "- all the values are stored in the form of key:value\n",
        "- eg : {1:'lakshmi'}\n",
        "- Keys should be unique i.e key cannot be a duplicate\n",
        "- Values can be anythng int, float , str , list , tuple, set , dict etc\n",
        "- are Mutable\n",
        "- accpet duplicate values\n",
        "- we are going to access the values with the help of key"
      ]
    },
    {
      "cell_type": "code",
      "execution_count": null,
      "id": "c151a887-15de-498b-ae70-9512f5a5868d",
      "metadata": {
        "id": "c151a887-15de-498b-ae70-9512f5a5868d",
        "outputId": "cbcfbff9-3646-4eae-a25f-33da1a50355e"
      },
      "outputs": [
        {
          "data": {
            "text/plain": [
              "{}"
            ]
          },
          "execution_count": 5,
          "metadata": {},
          "output_type": "execute_result"
        }
      ],
      "source": [
        "d = {}\n",
        "d"
      ]
    },
    {
      "cell_type": "code",
      "execution_count": null,
      "id": "13caa5a0-a948-42a5-8488-ffd88606e129",
      "metadata": {
        "id": "13caa5a0-a948-42a5-8488-ffd88606e129",
        "outputId": "d9e2cc44-b3f4-43cb-9b4c-af0595af0fe3"
      },
      "outputs": [
        {
          "data": {
            "text/plain": [
              "{}"
            ]
          },
          "execution_count": 7,
          "metadata": {},
          "output_type": "execute_result"
        }
      ],
      "source": [
        "d1 = dict()\n",
        "d1"
      ]
    },
    {
      "cell_type": "code",
      "execution_count": null,
      "id": "f2e302d6-4cce-4ff4-81d2-bf43a658a58d",
      "metadata": {
        "id": "f2e302d6-4cce-4ff4-81d2-bf43a658a58d",
        "outputId": "ddd4d0f7-eff2-4ed1-c087-a01f6dd63c43"
      },
      "outputs": [
        {
          "data": {
            "text/plain": [
              "{1: 'one', 2: 'Two', 3: 'Three'}"
            ]
          },
          "execution_count": 9,
          "metadata": {},
          "output_type": "execute_result"
        }
      ],
      "source": [
        "d2 = {1:'one',2:'Two',3:'Three'}\n",
        "d2"
      ]
    },
    {
      "cell_type": "code",
      "execution_count": null,
      "id": "b63ebbc4-1c16-4bd9-94fc-51bc852d8770",
      "metadata": {
        "id": "b63ebbc4-1c16-4bd9-94fc-51bc852d8770",
        "outputId": "c8796405-0a31-4d0c-c1ec-8759e745b7b7"
      },
      "outputs": [
        {
          "data": {
            "text/plain": [
              "'Three'"
            ]
          },
          "execution_count": 11,
          "metadata": {},
          "output_type": "execute_result"
        }
      ],
      "source": [
        "d2[3]"
      ]
    },
    {
      "cell_type": "code",
      "execution_count": null,
      "id": "f8abf8c5-7130-4c25-87f2-7646071ceeac",
      "metadata": {
        "id": "f8abf8c5-7130-4c25-87f2-7646071ceeac",
        "outputId": "ca15fe24-6bab-483e-9475-367830424ae3"
      },
      "outputs": [
        {
          "data": {
            "text/plain": [
              "'Two'"
            ]
          },
          "execution_count": 13,
          "metadata": {},
          "output_type": "execute_result"
        }
      ],
      "source": [
        "d2[2]"
      ]
    },
    {
      "cell_type": "code",
      "execution_count": null,
      "id": "71e45bf0-8614-4ee8-aee3-353df31fc150",
      "metadata": {
        "id": "71e45bf0-8614-4ee8-aee3-353df31fc150",
        "outputId": "80eb8ae5-bef2-49f0-da9a-19f8188489b2"
      },
      "outputs": [
        {
          "data": {
            "text/plain": [
              "dict_keys([1, 2, 3])"
            ]
          },
          "execution_count": 17,
          "metadata": {},
          "output_type": "execute_result"
        }
      ],
      "source": [
        "d2.keys()  # return all the keys in the dictionary"
      ]
    },
    {
      "cell_type": "code",
      "execution_count": null,
      "id": "18b276ae-4196-4905-acf6-f22a1052a80e",
      "metadata": {
        "id": "18b276ae-4196-4905-acf6-f22a1052a80e",
        "outputId": "1cd92a5d-9321-41a9-d306-954cb8a891bf"
      },
      "outputs": [
        {
          "data": {
            "text/plain": [
              "dict_values(['one', 'Two', 'Three'])"
            ]
          },
          "execution_count": 19,
          "metadata": {},
          "output_type": "execute_result"
        }
      ],
      "source": [
        "d2.values() # return all the values in the dict"
      ]
    },
    {
      "cell_type": "code",
      "execution_count": null,
      "id": "7c4368fe-1fd7-4aa0-b859-cc202e5731c8",
      "metadata": {
        "id": "7c4368fe-1fd7-4aa0-b859-cc202e5731c8",
        "outputId": "9ae33a65-4b65-4e23-bcba-12da24f4c807"
      },
      "outputs": [
        {
          "data": {
            "text/plain": [
              "dict_items([(1, 'one'), (2, 'Two'), (3, 'Three')])"
            ]
          },
          "execution_count": 21,
          "metadata": {},
          "output_type": "execute_result"
        }
      ],
      "source": [
        "d2.items()  # return the key value pair in the dict"
      ]
    },
    {
      "cell_type": "code",
      "execution_count": null,
      "id": "308a9959-596f-468d-9e01-ac887bb185c9",
      "metadata": {
        "id": "308a9959-596f-468d-9e01-ac887bb185c9",
        "outputId": "2f208c5e-2083-453f-8a0b-717bbe929667"
      },
      "outputs": [
        {
          "data": {
            "text/plain": [
              "{'Name': ['A', 'B', 'C'], 'ID': [1, 2, 3], 'Domain': ['x', 'y', 'z']}"
            ]
          },
          "execution_count": 25,
          "metadata": {},
          "output_type": "execute_result"
        }
      ],
      "source": [
        "d3 = { 'Name': [ 'A','B','C'],\n",
        "       'ID' : [1,2,3],\n",
        "        'Domain': ['x','y','z']}\n",
        "d3"
      ]
    },
    {
      "cell_type": "code",
      "execution_count": null,
      "id": "0ec729ef-41a6-4d1d-8a8b-2e744ebbaa62",
      "metadata": {
        "id": "0ec729ef-41a6-4d1d-8a8b-2e744ebbaa62",
        "outputId": "e356c2e5-7f05-451f-d73a-b8bc464e72ad"
      },
      "outputs": [
        {
          "data": {
            "text/plain": [
              "'B'"
            ]
          },
          "execution_count": 29,
          "metadata": {},
          "output_type": "execute_result"
        }
      ],
      "source": [
        "d3['Name'][1]"
      ]
    },
    {
      "cell_type": "code",
      "execution_count": null,
      "id": "43834d06-ca33-43a8-a01d-0765f13b8bb1",
      "metadata": {
        "id": "43834d06-ca33-43a8-a01d-0765f13b8bb1",
        "outputId": "3d314ecb-58c2-4b8d-ffa1-c95b8287cb5c"
      },
      "outputs": [
        {
          "data": {
            "text/plain": [
              "'z'"
            ]
          },
          "execution_count": 31,
          "metadata": {},
          "output_type": "execute_result"
        }
      ],
      "source": [
        "d3['Domain'][2]"
      ]
    },
    {
      "cell_type": "markdown",
      "id": "df0d3f80-1c4d-4c47-a7f7-8ea99c39ec67",
      "metadata": {
        "id": "df0d3f80-1c4d-4c47-a7f7-8ea99c39ec67"
      },
      "source": [
        "##### Mutability of dictionary"
      ]
    },
    {
      "cell_type": "code",
      "execution_count": null,
      "id": "ee23de11-5b8d-4acc-819b-b4a6b00e0cb7",
      "metadata": {
        "id": "ee23de11-5b8d-4acc-819b-b4a6b00e0cb7",
        "outputId": "06c02c16-75c3-49d2-9974-f3fc03c8ba52"
      },
      "outputs": [
        {
          "data": {
            "text/plain": [
              "{'name': 'Lakshmi', 'edu': 'M.tech', 'domain': 'SME'}"
            ]
          },
          "execution_count": 35,
          "metadata": {},
          "output_type": "execute_result"
        }
      ],
      "source": [
        "d4 = {'name':'Lakshmi' , 'edu':'M.tech', 'domain':'SME'}\n",
        "d4"
      ]
    },
    {
      "cell_type": "code",
      "execution_count": null,
      "id": "c1ea901f-6407-487a-84af-c810c6247da6",
      "metadata": {
        "id": "c1ea901f-6407-487a-84af-c810c6247da6"
      },
      "outputs": [],
      "source": [
        "d4['Loc'] = 'Bengaluru'"
      ]
    },
    {
      "cell_type": "code",
      "execution_count": null,
      "id": "42580c4a-84a3-4834-bcee-b1cdf9914cae",
      "metadata": {
        "id": "42580c4a-84a3-4834-bcee-b1cdf9914cae",
        "outputId": "75468273-4d3f-462e-96b4-2ad70fa4899e"
      },
      "outputs": [
        {
          "name": "stdout",
          "output_type": "stream",
          "text": [
            "{'name': 'Lakshmi', 'edu': 'M.tech', 'domain': 'SME', 'Loc': 'Bengaluru'}\n"
          ]
        }
      ],
      "source": [
        "print(d4)"
      ]
    },
    {
      "cell_type": "code",
      "execution_count": null,
      "id": "adb4a8ec-ea10-4363-8e63-f5d7ac887f0d",
      "metadata": {
        "id": "adb4a8ec-ea10-4363-8e63-f5d7ac887f0d"
      },
      "outputs": [],
      "source": [
        "d4['domain'] = 'Subject Matter Expert'"
      ]
    },
    {
      "cell_type": "code",
      "execution_count": null,
      "id": "d12a7990-9c7a-48fa-88f8-4896ea1e9802",
      "metadata": {
        "id": "d12a7990-9c7a-48fa-88f8-4896ea1e9802",
        "outputId": "6c2b87f2-aa4d-4d37-93b9-7326cb3454a7"
      },
      "outputs": [
        {
          "data": {
            "text/plain": [
              "{'name': 'Lakshmi',\n",
              " 'edu': 'M.tech',\n",
              " 'domain': 'Subject Matter Expert',\n",
              " 'Loc': 'Bengaluru'}"
            ]
          },
          "execution_count": 45,
          "metadata": {},
          "output_type": "execute_result"
        }
      ],
      "source": [
        "d4"
      ]
    },
    {
      "cell_type": "code",
      "execution_count": null,
      "id": "deddce09-89bb-4917-9461-059de4b15e72",
      "metadata": {
        "id": "deddce09-89bb-4917-9461-059de4b15e72"
      },
      "outputs": [],
      "source": [
        "d4.update({'dob':2000})"
      ]
    },
    {
      "cell_type": "code",
      "execution_count": null,
      "id": "0af34824-5566-4674-97cc-55836b6f4456",
      "metadata": {
        "id": "0af34824-5566-4674-97cc-55836b6f4456",
        "outputId": "c1d5f0f4-7095-469b-99aa-19e1699b4458"
      },
      "outputs": [
        {
          "data": {
            "text/plain": [
              "{'name': 'Lakshmi',\n",
              " 'edu': 'M.tech',\n",
              " 'domain': 'Subject Matter Expert',\n",
              " 'Loc': 'Bengaluru',\n",
              " 'dob': 2000}"
            ]
          },
          "execution_count": 49,
          "metadata": {},
          "output_type": "execute_result"
        }
      ],
      "source": [
        "d4"
      ]
    },
    {
      "cell_type": "code",
      "execution_count": null,
      "id": "7e971211-c270-4379-abd8-e8584ad06d67",
      "metadata": {
        "id": "7e971211-c270-4379-abd8-e8584ad06d67"
      },
      "outputs": [],
      "source": [
        "d4.update({'dob':1999})"
      ]
    },
    {
      "cell_type": "code",
      "execution_count": null,
      "id": "76fb3d38-ad32-4200-bac3-accac89a4614",
      "metadata": {
        "id": "76fb3d38-ad32-4200-bac3-accac89a4614",
        "outputId": "92ab4fe1-1b35-4821-bb92-de9d32f98492"
      },
      "outputs": [
        {
          "data": {
            "text/plain": [
              "{'name': 'Lakshmi',\n",
              " 'edu': 'M.tech',\n",
              " 'domain': 'Subject Matter Expert',\n",
              " 'Loc': 'Bengaluru',\n",
              " 'dob': 1999}"
            ]
          },
          "execution_count": 53,
          "metadata": {},
          "output_type": "execute_result"
        }
      ],
      "source": [
        "d4"
      ]
    },
    {
      "cell_type": "code",
      "execution_count": null,
      "id": "06302b0b-d386-4625-b13d-6829617ad2d3",
      "metadata": {
        "id": "06302b0b-d386-4625-b13d-6829617ad2d3",
        "outputId": "3337540f-d236-42ee-d1d6-716fd3198683"
      },
      "outputs": [
        {
          "data": {
            "text/plain": [
              "1999"
            ]
          },
          "execution_count": 55,
          "metadata": {},
          "output_type": "execute_result"
        }
      ],
      "source": [
        "# pop(key) - remove the data\n",
        "d4.pop('dob')"
      ]
    },
    {
      "cell_type": "code",
      "execution_count": null,
      "id": "f03357d6-a39f-40a0-89e5-fb7b4a4201d3",
      "metadata": {
        "id": "f03357d6-a39f-40a0-89e5-fb7b4a4201d3",
        "outputId": "7558b81e-1019-4dd6-a5d6-153cdff0c335"
      },
      "outputs": [
        {
          "data": {
            "text/plain": [
              "{'name': 'Lakshmi',\n",
              " 'edu': 'M.tech',\n",
              " 'domain': 'Subject Matter Expert',\n",
              " 'Loc': 'Bengaluru'}"
            ]
          },
          "execution_count": 57,
          "metadata": {},
          "output_type": "execute_result"
        }
      ],
      "source": [
        "d4"
      ]
    },
    {
      "cell_type": "code",
      "execution_count": null,
      "id": "cc04c15f-7a76-4e23-8515-acfac2d03617",
      "metadata": {
        "id": "cc04c15f-7a76-4e23-8515-acfac2d03617"
      },
      "outputs": [],
      "source": [
        "d4.clear()"
      ]
    },
    {
      "cell_type": "code",
      "execution_count": null,
      "id": "12c20a2b-6695-425e-9b10-190b723c2060",
      "metadata": {
        "id": "12c20a2b-6695-425e-9b10-190b723c2060"
      },
      "outputs": [],
      "source": [
        "del d4"
      ]
    },
    {
      "cell_type": "code",
      "execution_count": null,
      "id": "61731184-4401-48b2-af69-c2d9e9d46fa4",
      "metadata": {
        "id": "61731184-4401-48b2-af69-c2d9e9d46fa4",
        "outputId": "9d367a34-9bf6-466d-c45b-42e280d196dd"
      },
      "outputs": [
        {
          "ename": "AttributeError",
          "evalue": "'dict' object has no attribute 'upper'",
          "output_type": "error",
          "traceback": [
            "\u001b[1;31m---------------------------------------------------------------------------\u001b[0m",
            "\u001b[1;31mAttributeError\u001b[0m                            Traceback (most recent call last)",
            "Cell \u001b[1;32mIn[65], line 1\u001b[0m\n\u001b[1;32m----> 1\u001b[0m d3\u001b[38;5;241m.\u001b[39mupper()\n",
            "\u001b[1;31mAttributeError\u001b[0m: 'dict' object has no attribute 'upper'"
          ]
        }
      ],
      "source": [
        "d3.upper()"
      ]
    },
    {
      "cell_type": "markdown",
      "id": "64410e2d-d7e8-4277-9c15-e8a6bf2300dd",
      "metadata": {
        "id": "64410e2d-d7e8-4277-9c15-e8a6bf2300dd"
      },
      "source": [
        "#### Loops"
      ]
    },
    {
      "cell_type": "markdown",
      "id": "91fcadf4-83b6-405b-8d18-0c4be5192b0c",
      "metadata": {
        "id": "91fcadf4-83b6-405b-8d18-0c4be5192b0c"
      },
      "source": [
        "\n",
        "-- loops are instructions / a block a code which is repeated over a 'n' times until a particular condition is met\n",
        "\n",
        "3 parts\n",
        "\n",
        "1. initialization  -- start the loop\n",
        "\n",
        "2. condition -- end point to the loop\n",
        "\n",
        "3. increment / decrement"
      ]
    },
    {
      "cell_type": "markdown",
      "id": "63748690-3422-4e55-bf71-ffb4d21ba9b5",
      "metadata": {
        "id": "63748690-3422-4e55-bf71-ffb4d21ba9b5"
      },
      "source": [
        "### 2 types of loops\n",
        "\n",
        "1. while\n",
        "\n",
        "2. for"
      ]
    },
    {
      "cell_type": "markdown",
      "id": "fc3559a5-8363-4bdb-9778-b6c4da6314d2",
      "metadata": {
        "id": "fc3559a5-8363-4bdb-9778-b6c4da6314d2"
      },
      "source": [
        "-  while\n",
        "- in python we defined while loops as\n",
        "\n",
        "       - a block of code executed repeatedly until a given condition is satisfied\n",
        "       \n",
        "       - and when ever the condition is becoming false the entire program gets terminated"
      ]
    },
    {
      "cell_type": "code",
      "execution_count": null,
      "id": "3569af0b-dec9-4994-a438-47e964adf5da",
      "metadata": {
        "id": "3569af0b-dec9-4994-a438-47e964adf5da",
        "outputId": "892a6853-1378-4348-fd58-c929705d987b"
      },
      "outputs": [
        {
          "name": "stdout",
          "output_type": "stream",
          "text": [
            "1\n",
            "2\n",
            "3\n",
            "4\n",
            "5\n",
            "6\n",
            "7\n",
            "8\n",
            "9\n",
            "10\n"
          ]
        }
      ],
      "source": [
        "## print 1 to 10\n",
        "i = 1\n",
        "while i <= 10:  # 1 <= 10 T       2<=10 T     3 <=10 T\n",
        "    print(i)    # 1               1,2         1,2,3        1,2,3,4,5,6,7,8,9,10           11<=10 F\n",
        "    i+=1        # i = i+1 ,1+1,2  i = 3       i=4                                i = 11    Loop will be terminated"
      ]
    },
    {
      "cell_type": "code",
      "execution_count": null,
      "id": "6226a70c-49f2-41db-9ccf-bec2e0dd8397",
      "metadata": {
        "id": "6226a70c-49f2-41db-9ccf-bec2e0dd8397",
        "outputId": "4815aac5-2713-4009-b38a-242a491b7054"
      },
      "outputs": [
        {
          "name": "stdin",
          "output_type": "stream",
          "text": [
            " 5\n"
          ]
        },
        {
          "name": "stdout",
          "output_type": "stream",
          "text": [
            "1\n",
            "2\n",
            "3\n",
            "4\n",
            "5\n"
          ]
        }
      ],
      "source": [
        "# end value should be a user defined value\n",
        "n = int(input())\n",
        "i = 1\n",
        "while i <= n:\n",
        "    print(i)\n",
        "    i+=1"
      ]
    },
    {
      "cell_type": "code",
      "execution_count": null,
      "id": "5decea38-16bd-4ab6-9a35-a8658c4a0c8d",
      "metadata": {
        "id": "5decea38-16bd-4ab6-9a35-a8658c4a0c8d",
        "outputId": "79d8c3b1-1637-43af-ed65-0b9b6142e7b7"
      },
      "outputs": [
        {
          "name": "stdin",
          "output_type": "stream",
          "text": [
            " 4\n"
          ]
        },
        {
          "name": "stdout",
          "output_type": "stream",
          "text": [
            "python 1\n",
            "python 2\n",
            "python 3\n",
            "python 4\n"
          ]
        }
      ],
      "source": [
        "n = int(input())  #n=4\n",
        "i = 1\n",
        "while(i<=n):\n",
        "    print('python',i)\n",
        "    i+=1"
      ]
    },
    {
      "cell_type": "code",
      "execution_count": null,
      "id": "52328fe7-3508-441b-9627-64f7d0effbb0",
      "metadata": {
        "id": "52328fe7-3508-441b-9627-64f7d0effbb0",
        "outputId": "b3fcdfb8-5c0d-4ccf-ed1b-639d188125f1"
      },
      "outputs": [
        {
          "name": "stdout",
          "output_type": "stream",
          "text": [
            "python 1\n",
            "python 2\n",
            "python 3\n",
            "python 4\n",
            "python 5\n",
            "python 6\n",
            "7\n"
          ]
        }
      ],
      "source": [
        "i = 1\n",
        "while(i<=6):\n",
        "    print('python',i)\n",
        "    i+=1\n",
        "print(i)"
      ]
    },
    {
      "cell_type": "markdown",
      "id": "f0365785-112b-426a-94cd-6d354a83caee",
      "metadata": {
        "id": "f0365785-112b-426a-94cd-6d354a83caee"
      },
      "source": [
        "### Break  ,continue and pass  keywords\n",
        "\n",
        "- break -- it is used to stop the loop at certain point even if the condition is true\n",
        "\n"
      ]
    },
    {
      "cell_type": "code",
      "execution_count": null,
      "id": "864667ce-19f9-4bc8-af59-0bcef4779f6e",
      "metadata": {
        "id": "864667ce-19f9-4bc8-af59-0bcef4779f6e"
      },
      "outputs": [],
      "source": [
        "i = 1\n",
        "while i<6:      # 1 < 6 T      2< 6       3<=6\n",
        "    print(i)    # 1            1,2          1,2,3\n",
        "\n",
        "    if i == 3:   # 1==3 f      2==3 f     3==3\n",
        "        break                               # program will be stopped\n",
        "    i+=1"
      ]
    },
    {
      "cell_type": "markdown",
      "id": "69a6472f-b062-44cb-a844-994816148aa4",
      "metadata": {
        "id": "69a6472f-b062-44cb-a844-994816148aa4"
      },
      "source": [
        "- Continue - it is used to continue the execution of the program even if some errors are encoountered"
      ]
    },
    {
      "cell_type": "code",
      "execution_count": null,
      "id": "b8f7ed2b-51e2-44ed-8f7e-524fdb6439fe",
      "metadata": {
        "id": "b8f7ed2b-51e2-44ed-8f7e-524fdb6439fe",
        "outputId": "45970e0d-4d31-4435-a702-5a73b755ba83"
      },
      "outputs": [
        {
          "name": "stdout",
          "output_type": "stream",
          "text": [
            "1\n",
            "2\n",
            "4\n",
            "5\n",
            "6\n"
          ]
        }
      ],
      "source": [
        "i = 0\n",
        "while i<6 :\n",
        "    i = i +1\n",
        "    if (i==3):\n",
        "        continue\n",
        "    print(i)"
      ]
    },
    {
      "cell_type": "markdown",
      "id": "dd9e5a86-d4b7-47a4-926a-4ce30dd2ea56",
      "metadata": {
        "id": "dd9e5a86-d4b7-47a4-926a-4ce30dd2ea56"
      },
      "source": [
        "- When the pass statement is executed, nothing happens, but you avoid getting an error when empty code is not allowed.\n",
        "\n",
        "- Empty code is not allowed in loops, function definitions, class definitions, or in if statements."
      ]
    },
    {
      "cell_type": "code",
      "execution_count": null,
      "id": "159d5f95-3940-43e1-b68f-2b0a41b97fc7",
      "metadata": {
        "id": "159d5f95-3940-43e1-b68f-2b0a41b97fc7"
      },
      "outputs": [],
      "source": [
        "a = 5\n",
        "if a<10:\n",
        "    pass"
      ]
    },
    {
      "cell_type": "code",
      "execution_count": null,
      "id": "4c1b7aaf-a659-45df-a4bd-6c3521e08027",
      "metadata": {
        "id": "4c1b7aaf-a659-45df-a4bd-6c3521e08027",
        "outputId": "733704bf-580f-4cbb-c86d-8c9a1fd7c378"
      },
      "outputs": [
        {
          "name": "stdout",
          "output_type": "stream",
          "text": [
            "\n"
          ]
        }
      ],
      "source": [
        "print()"
      ]
    },
    {
      "cell_type": "markdown",
      "id": "df2b3d70-b5af-4f43-a9b0-090b53916485",
      "metadata": {
        "id": "df2b3d70-b5af-4f43-a9b0-090b53916485"
      },
      "source": [
        "### For\n",
        "\n",
        "- are used to loop through the iterable object (list,string, tuple,dict)\n",
        "\n",
        "- And performs the some action on each element\n",
        "\n",
        "- where we are aware of number of iterations the loop takes for achieving the end result -FOR"
      ]
    },
    {
      "cell_type": "code",
      "execution_count": null,
      "id": "fbd9dff8-2b5d-4487-81e0-b9cc14abd2a1",
      "metadata": {
        "id": "fbd9dff8-2b5d-4487-81e0-b9cc14abd2a1",
        "outputId": "2be5b85f-4c86-4681-ff48-1fcbe71b05fc"
      },
      "outputs": [
        {
          "name": "stdout",
          "output_type": "stream",
          "text": [
            "1\n",
            "2\n",
            "3\n",
            "4\n"
          ]
        }
      ],
      "source": [
        "l = [1,2,3,4]\n",
        "for i in l:\n",
        "    print(i)"
      ]
    },
    {
      "cell_type": "code",
      "execution_count": null,
      "id": "1c481fd9-0a12-4832-98cf-aa3be52a97a7",
      "metadata": {
        "id": "1c481fd9-0a12-4832-98cf-aa3be52a97a7"
      },
      "outputs": [],
      "source": [
        "#tuple"
      ]
    },
    {
      "cell_type": "code",
      "execution_count": null,
      "id": "54205b20-236c-48f1-b4c8-24c9a6aa7075",
      "metadata": {
        "id": "54205b20-236c-48f1-b4c8-24c9a6aa7075",
        "outputId": "08b3c804-7bec-49e7-8fb1-47aac654b8f4"
      },
      "outputs": [
        {
          "name": "stdout",
          "output_type": "stream",
          "text": [
            "Thu\n",
            "Wed\n",
            "Mon\n",
            "Tue\n"
          ]
        }
      ],
      "source": [
        "# set\n",
        "d = {'Mon', 'Tue', 'Wed', 'Thu'}\n",
        "\n",
        "for i in d:\n",
        "    print(i)\n"
      ]
    },
    {
      "cell_type": "code",
      "execution_count": null,
      "id": "fe1d7db1-7cf5-4ff2-bc91-f8264a9ae9a2",
      "metadata": {
        "id": "fe1d7db1-7cf5-4ff2-bc91-f8264a9ae9a2"
      },
      "outputs": [],
      "source": [
        "# string"
      ]
    },
    {
      "cell_type": "code",
      "execution_count": null,
      "id": "817f2da1-916a-4105-a38f-a5fd37396103",
      "metadata": {
        "id": "817f2da1-916a-4105-a38f-a5fd37396103",
        "outputId": "4fa0d0ef-865e-46f0-b70b-a87eef2103ab"
      },
      "outputs": [
        {
          "data": {
            "text/plain": [
              "{1: 'one', 2: 'Two', 3: 'Three'}"
            ]
          },
          "execution_count": 120,
          "metadata": {},
          "output_type": "execute_result"
        }
      ],
      "source": [
        "d2"
      ]
    },
    {
      "cell_type": "code",
      "execution_count": null,
      "id": "76ec7d7b-bb9e-4abb-ab8a-9ce48bd341e7",
      "metadata": {
        "id": "76ec7d7b-bb9e-4abb-ab8a-9ce48bd341e7",
        "outputId": "60062cf8-f111-4a06-a67d-c1f030ad925b"
      },
      "outputs": [
        {
          "name": "stdout",
          "output_type": "stream",
          "text": [
            "1\n",
            "2\n",
            "3\n"
          ]
        }
      ],
      "source": [
        "for i in d2:\n",
        "    print(i)"
      ]
    },
    {
      "cell_type": "code",
      "execution_count": null,
      "id": "fbf41d28-6535-487e-80c8-01071488d7b8",
      "metadata": {
        "id": "fbf41d28-6535-487e-80c8-01071488d7b8",
        "outputId": "561ce1fa-32eb-4eeb-ac32-bc1829069b78"
      },
      "outputs": [
        {
          "name": "stdout",
          "output_type": "stream",
          "text": [
            "one\n",
            "Two\n",
            "Three\n"
          ]
        }
      ],
      "source": [
        "for i in d2.values():\n",
        "    print(i)"
      ]
    },
    {
      "cell_type": "code",
      "execution_count": null,
      "id": "450f6be8-eb66-4388-a9dd-647a246f6a46",
      "metadata": {
        "id": "450f6be8-eb66-4388-a9dd-647a246f6a46"
      },
      "outputs": [],
      "source": [
        "# range\n",
        "# which will return the numbers/values in the specified range\n",
        "# range(start,end)\n",
        "# if start value is not specified , 0\n",
        "# range(0,n-1)\n",
        "# range(1,6) , 1 6-1 , 1 5"
      ]
    },
    {
      "cell_type": "code",
      "execution_count": null,
      "id": "fab6a174-3b81-4226-9cd3-7c53dfe641c7",
      "metadata": {
        "id": "fab6a174-3b81-4226-9cd3-7c53dfe641c7",
        "outputId": "a56ed58b-7a39-449a-d684-00bccef51e7e"
      },
      "outputs": [
        {
          "data": {
            "text/plain": [
              "[1, 2, 3, 4, 5]"
            ]
          },
          "execution_count": 130,
          "metadata": {},
          "output_type": "execute_result"
        }
      ],
      "source": [
        "list(range(1,6))"
      ]
    },
    {
      "cell_type": "code",
      "execution_count": null,
      "id": "9fbc2507-1f0e-4a69-9b93-036bdca5eb73",
      "metadata": {
        "id": "9fbc2507-1f0e-4a69-9b93-036bdca5eb73",
        "outputId": "346ba714-a7b6-4587-db6f-ab8eef58f631"
      },
      "outputs": [
        {
          "name": "stdout",
          "output_type": "stream",
          "text": [
            "1 2 3 4 5 6 7 8 9 10 "
          ]
        }
      ],
      "source": [
        "for i in range(1,11):\n",
        "    print(i,end=' ')"
      ]
    },
    {
      "cell_type": "code",
      "execution_count": null,
      "id": "2722f992-70e6-4814-b605-9e7ada49cb72",
      "metadata": {
        "id": "2722f992-70e6-4814-b605-9e7ada49cb72",
        "outputId": "0cf78b7e-4828-4965-be4c-1aaa169f038a"
      },
      "outputs": [
        {
          "data": {
            "text/plain": [
              "[1, 2, 3, 4, 5, 6, 7, 8, 9, 10]"
            ]
          },
          "execution_count": 1,
          "metadata": {},
          "output_type": "execute_result"
        }
      ],
      "source": [
        "l = []\n",
        "for i in range(1,11):\n",
        "    l.append(i)\n",
        "l"
      ]
    },
    {
      "cell_type": "code",
      "execution_count": null,
      "id": "309262b3-e78c-4337-a9b0-a6e6d2fbef81",
      "metadata": {
        "id": "309262b3-e78c-4337-a9b0-a6e6d2fbef81",
        "outputId": "d9cc39a9-89b7-4db2-ba90-1aed67b652f0"
      },
      "outputs": [
        {
          "name": "stdout",
          "output_type": "stream",
          "text": [
            "[2, 4, 6, 8, 10]\n",
            "[1, 3, 5, 7, 9]\n"
          ]
        }
      ],
      "source": [
        "# filter even and odd\n",
        "l = [1,2,3,4,5,6,7,8,9,10]\n",
        "even = []\n",
        "odd = []\n",
        "\n",
        "for i in l:\n",
        "    if i % 2 ==0:\n",
        "        even.append(i)\n",
        "    else:\n",
        "        odd.append(i)\n",
        "print(even)\n",
        "print(odd)\n",
        ""
      ]
    },
    {
      "cell_type": "code",
      "execution_count": null,
      "id": "648a0210-c3e3-48bf-8bac-3f772854d727",
      "metadata": {
        "id": "648a0210-c3e3-48bf-8bac-3f772854d727",
        "outputId": "5b4ad21a-648b-4065-bda5-b81ac6410ef7"
      },
      "outputs": [
        {
          "data": {
            "text/plain": [
              "[6, 7, 8, 9, 10]"
            ]
          },
          "execution_count": 7,
          "metadata": {},
          "output_type": "execute_result"
        }
      ],
      "source": [
        " l = [1,2,3,4,5,6,7,8,9,10]\n",
        "# out  = [6,7,8,9,10]\n",
        "out = []\n",
        "for i in l:\n",
        "    if i > 5:\n",
        "        out.append(i)\n",
        "out"
      ]
    },
    {
      "cell_type": "code",
      "execution_count": null,
      "id": "0bf2ee8c-fa49-4218-884e-6aac6a438f79",
      "metadata": {
        "id": "0bf2ee8c-fa49-4218-884e-6aac6a438f79",
        "outputId": "28a95920-ec61-4f3a-abdc-63ab3cfc2685"
      },
      "outputs": [
        {
          "name": "stdout",
          "output_type": "stream",
          "text": [
            "1\n",
            "2\n",
            "3\n",
            "4\n"
          ]
        }
      ],
      "source": [
        "l = [1,2,3,4,0]\n",
        "# output should contain non zero elements\n",
        "for i in l:\n",
        "    if i!=0:\n",
        "        print(i)"
      ]
    },
    {
      "cell_type": "code",
      "execution_count": null,
      "id": "b777295a-7832-41c0-80d9-a2f52e96aa6c",
      "metadata": {
        "id": "b777295a-7832-41c0-80d9-a2f52e96aa6c",
        "outputId": "14a71b19-e3b6-43dc-ee59-46700bc3e50e"
      },
      "outputs": [
        {
          "data": {
            "text/plain": [
              "[2, 3]"
            ]
          },
          "execution_count": 11,
          "metadata": {},
          "output_type": "execute_result"
        }
      ],
      "source": [
        "## common elements from 2 lists\n",
        "a1 = [1,2,3,4]\n",
        "a2 = [2,3]\n",
        "a = []\n",
        "for i in a1:\n",
        "    for j in a2:\n",
        "        if i == j:\n",
        "            a.append(i)\n",
        "a"
      ]
    },
    {
      "cell_type": "code",
      "execution_count": null,
      "id": "c00b3dd9-4399-4125-9797-ccfd54d5ff21",
      "metadata": {
        "id": "c00b3dd9-4399-4125-9797-ccfd54d5ff21",
        "outputId": "d27286b7-a8f8-4023-957a-8da28b9d9a27"
      },
      "outputs": [
        {
          "name": "stdout",
          "output_type": "stream",
          "text": [
            "0 1\n",
            "1 2\n",
            "2 3\n"
          ]
        }
      ],
      "source": [
        "l = [1,2,3]\n",
        "for i ,j in enumerate(l):\n",
        "    print(i,j)"
      ]
    },
    {
      "cell_type": "code",
      "execution_count": null,
      "id": "53507d7f-4dbb-4800-8987-58dccb2bb530",
      "metadata": {
        "id": "53507d7f-4dbb-4800-8987-58dccb2bb530",
        "outputId": "2a3fb17f-be9f-49ef-9559-e9f6eefd7b5e"
      },
      "outputs": [
        {
          "name": "stdout",
          "output_type": "stream",
          "text": [
            "1 a\n",
            "2 b\n",
            "3 c\n"
          ]
        }
      ],
      "source": [
        "l = [1,2,3]\n",
        "l1 = ['a','b','c']\n",
        "for i , j in zip(l,l1):\n",
        "    print(i,j)"
      ]
    },
    {
      "cell_type": "code",
      "execution_count": null,
      "id": "3ecb6737-375f-4f15-9f5c-79cc06570220",
      "metadata": {
        "id": "3ecb6737-375f-4f15-9f5c-79cc06570220",
        "outputId": "928a8e27-88ef-4a3a-be72-76980aa3001b"
      },
      "outputs": [
        {
          "name": "stdout",
          "output_type": "stream",
          "text": [
            "a b c d e f g h i j k l m n o p q r s t u v w x y z "
          ]
        }
      ],
      "source": [
        "for i in range(97,123):\n",
        "    print(chr(i), end = \" \")"
      ]
    },
    {
      "cell_type": "code",
      "execution_count": null,
      "id": "c1d0d8e8-248f-472b-9b9c-505d60d94b2f",
      "metadata": {
        "id": "c1d0d8e8-248f-472b-9b9c-505d60d94b2f",
        "outputId": "a889d8dd-ee4e-4076-f6c3-7c2a874a8dca"
      },
      "outputs": [
        {
          "data": {
            "text/plain": [
              "'a'"
            ]
          },
          "execution_count": 118,
          "metadata": {},
          "output_type": "execute_result"
        }
      ],
      "source": [
        "chr(97)"
      ]
    },
    {
      "cell_type": "markdown",
      "id": "b8432984-dffd-474b-8544-91a0048ac0c1",
      "metadata": {
        "id": "b8432984-dffd-474b-8544-91a0048ac0c1"
      },
      "source": [
        "##### Packages are software which holds certain functionalities to work on. In Python, we have many builtin packages which we will be using.\n",
        "\n",
        "Packages contains moduled and submodules.\n",
        "\n",
        "Each and every module and submodule can be used independently by using certain keywords."
      ]
    },
    {
      "cell_type": "markdown",
      "id": "82deb343-8c23-45f9-b514-1cecbda01a95",
      "metadata": {
        "id": "82deb343-8c23-45f9-b514-1cecbda01a95"
      },
      "source": [
        "##### Date time package"
      ]
    },
    {
      "cell_type": "markdown",
      "id": "00179d4c-1513-4040-9f7f-e33b083154c7",
      "metadata": {
        "id": "00179d4c-1513-4040-9f7f-e33b083154c7"
      },
      "source": [
        "In Python, date and time are not a data type of their own, but a module named datetime can be imported to work with the date as well as time. Python Datetime module comes built into Python, so there is no need to install it externally."
      ]
    },
    {
      "cell_type": "markdown",
      "id": "942b2d6a-1656-4554-843a-910330585fb5",
      "metadata": {
        "id": "942b2d6a-1656-4554-843a-910330585fb5"
      },
      "source": [
        "1)date – An idealized naive date, assuming the current Gregorian calendar always was, and always will be, in effect. Its attributes are year, month and day.\n",
        "\n",
        "\n",
        "2)time – An idealized time, independent of any particular day, assuming that every day has exactly 24*60*60 seconds. Its attributes are hour, minute, second, microsecond\n",
        "\n",
        "3)datetime – Its a combination of date and time along with the attributes year, month, day, hour, minute, second, microsecond\n",
        "\n",
        "4)timedelta – A duration expressing the difference between two date, time, or datetime instances to microsecond resolution."
      ]
    },
    {
      "cell_type": "code",
      "execution_count": null,
      "id": "27ad08fe-f6c6-461e-bc76-c85f0d5eb37c",
      "metadata": {
        "id": "27ad08fe-f6c6-461e-bc76-c85f0d5eb37c"
      },
      "outputs": [],
      "source": [
        "from datetime import date"
      ]
    },
    {
      "cell_type": "code",
      "execution_count": null,
      "id": "d0dfa7a7-471e-4584-8389-48a0df10eaca",
      "metadata": {
        "id": "d0dfa7a7-471e-4584-8389-48a0df10eaca",
        "outputId": "f00861a0-b682-4ea6-e83c-c10789af9693"
      },
      "outputs": [
        {
          "data": {
            "text/plain": [
              "datetime.date(2024, 8, 26)"
            ]
          },
          "execution_count": 33,
          "metadata": {},
          "output_type": "execute_result"
        }
      ],
      "source": [
        "d1 = date(2024,8,26)\n",
        "d1"
      ]
    },
    {
      "cell_type": "code",
      "execution_count": null,
      "id": "321bf177-fec5-4f0d-960e-351d4c21d473",
      "metadata": {
        "id": "321bf177-fec5-4f0d-960e-351d4c21d473",
        "outputId": "9366eb96-4e01-4f8e-b0fb-c1027f55d00d"
      },
      "outputs": [
        {
          "data": {
            "text/plain": [
              "datetime.date(2024, 8, 27)"
            ]
          },
          "execution_count": 37,
          "metadata": {},
          "output_type": "execute_result"
        }
      ],
      "source": [
        "today = date.today()\n",
        "today"
      ]
    },
    {
      "cell_type": "code",
      "execution_count": null,
      "id": "0cd95bdb-71b2-4034-946f-d42aca076773",
      "metadata": {
        "id": "0cd95bdb-71b2-4034-946f-d42aca076773",
        "outputId": "d6fbbdb2-5e73-47eb-c6bd-6d8dedde9f08"
      },
      "outputs": [
        {
          "name": "stdout",
          "output_type": "stream",
          "text": [
            "2024\n",
            "8\n",
            "27\n"
          ]
        }
      ],
      "source": [
        "print(today.year)\n",
        "print(today.month)\n",
        "print(today.day)"
      ]
    },
    {
      "cell_type": "code",
      "execution_count": null,
      "id": "5acf2676-2bd6-4b05-ae87-a1118231bc31",
      "metadata": {
        "id": "5acf2676-2bd6-4b05-ae87-a1118231bc31",
        "outputId": "4bbe695d-60c7-4ba4-f795-99dd8d711fe5"
      },
      "outputs": [
        {
          "data": {
            "text/plain": [
              "2"
            ]
          },
          "execution_count": 45,
          "metadata": {},
          "output_type": "execute_result"
        }
      ],
      "source": [
        "today.isoweekday()"
      ]
    },
    {
      "cell_type": "code",
      "execution_count": null,
      "id": "b3bbe45c-8b5a-4f1e-b3b7-2849a88cbb50",
      "metadata": {
        "id": "b3bbe45c-8b5a-4f1e-b3b7-2849a88cbb50"
      },
      "outputs": [],
      "source": [
        "# time\n",
        "from datetime import time"
      ]
    },
    {
      "cell_type": "code",
      "execution_count": null,
      "id": "099eca8e-816b-4bcc-a91e-e86dacf70eda",
      "metadata": {
        "id": "099eca8e-816b-4bcc-a91e-e86dacf70eda",
        "outputId": "cd414b99-6d72-40c0-9709-2bcf5f3c4499"
      },
      "outputs": [
        {
          "data": {
            "text/plain": [
              "datetime.time(9, 18, 45)"
            ]
          },
          "execution_count": 49,
          "metadata": {},
          "output_type": "execute_result"
        }
      ],
      "source": [
        "time(9,18,45)"
      ]
    },
    {
      "cell_type": "code",
      "execution_count": null,
      "id": "63463c2a-5c59-4573-957b-d888b93e9829",
      "metadata": {
        "id": "63463c2a-5c59-4573-957b-d888b93e9829"
      },
      "outputs": [],
      "source": [
        "from datetime import datetime as dt"
      ]
    },
    {
      "cell_type": "code",
      "execution_count": null,
      "id": "10ea43c7-fcac-43da-9ff7-86274d08cdc4",
      "metadata": {
        "id": "10ea43c7-fcac-43da-9ff7-86274d08cdc4",
        "outputId": "1e77a6e6-6ca0-47be-9ad4-9904316862db"
      },
      "outputs": [
        {
          "data": {
            "text/plain": [
              "datetime.datetime(2024, 8, 27, 21, 22, 42, 420965)"
            ]
          },
          "execution_count": 60,
          "metadata": {},
          "output_type": "execute_result"
        }
      ],
      "source": [
        "date1 = dt.now()\n",
        "date1"
      ]
    },
    {
      "cell_type": "code",
      "execution_count": null,
      "id": "8dfc64af-f1b2-4dde-83ac-d1e050e5b11a",
      "metadata": {
        "id": "8dfc64af-f1b2-4dde-83ac-d1e050e5b11a",
        "outputId": "0d983e97-7684-48ce-d4d1-58a35f5a4388"
      },
      "outputs": [
        {
          "data": {
            "text/plain": [
              "datetime.date(2024, 8, 27)"
            ]
          },
          "execution_count": 66,
          "metadata": {},
          "output_type": "execute_result"
        }
      ],
      "source": [
        "dt.date(date1)"
      ]
    },
    {
      "cell_type": "code",
      "execution_count": null,
      "id": "c20b14d8-24d6-4e36-8f0f-d89791d65caf",
      "metadata": {
        "id": "c20b14d8-24d6-4e36-8f0f-d89791d65caf",
        "outputId": "133ddd87-e514-4bf4-dbe4-c2526d609f50"
      },
      "outputs": [
        {
          "data": {
            "text/plain": [
              "datetime.time(21, 22, 42, 420965)"
            ]
          },
          "execution_count": 64,
          "metadata": {},
          "output_type": "execute_result"
        }
      ],
      "source": [
        "dt.time(date1)"
      ]
    },
    {
      "cell_type": "code",
      "execution_count": null,
      "id": "5762fbca-8a50-4f02-aca7-ba37f64fb935",
      "metadata": {
        "id": "5762fbca-8a50-4f02-aca7-ba37f64fb935",
        "outputId": "f02798da-7539-458a-f1ac-0ab04f8f0dc8"
      },
      "outputs": [
        {
          "data": {
            "text/plain": [
              "27"
            ]
          },
          "execution_count": 68,
          "metadata": {},
          "output_type": "execute_result"
        }
      ],
      "source": [
        "date1.day"
      ]
    },
    {
      "cell_type": "code",
      "execution_count": null,
      "id": "5c7e95b8-31e4-42b0-9486-5d1f4cf45952",
      "metadata": {
        "id": "5c7e95b8-31e4-42b0-9486-5d1f4cf45952"
      },
      "outputs": [],
      "source": [
        "from datetime import timedelta"
      ]
    },
    {
      "cell_type": "code",
      "execution_count": null,
      "id": "76fad208-ed2c-428b-860d-4c24ae5fc3e5",
      "metadata": {
        "id": "76fad208-ed2c-428b-860d-4c24ae5fc3e5"
      },
      "outputs": [],
      "source": [
        "current_date = date.today()"
      ]
    },
    {
      "cell_type": "code",
      "execution_count": null,
      "id": "cc9703e8-53e7-4464-9277-9b4d5a1a9aa4",
      "metadata": {
        "id": "cc9703e8-53e7-4464-9277-9b4d5a1a9aa4",
        "outputId": "2c722071-504f-4b08-da7c-cd42efa467de"
      },
      "outputs": [
        {
          "data": {
            "text/plain": [
              "datetime.date(2024, 8, 28)"
            ]
          },
          "execution_count": 93,
          "metadata": {},
          "output_type": "execute_result"
        }
      ],
      "source": [
        "current_date + timedelta(days=1)"
      ]
    },
    {
      "cell_type": "code",
      "execution_count": null,
      "id": "87dfe5f2-1b97-43a3-901a-853d245803ec",
      "metadata": {
        "id": "87dfe5f2-1b97-43a3-901a-853d245803ec",
        "outputId": "ce85f723-42f7-4fa2-f236-848755e5fb85"
      },
      "outputs": [
        {
          "data": {
            "text/plain": [
              "datetime.date(2024, 8, 26)"
            ]
          },
          "execution_count": 95,
          "metadata": {},
          "output_type": "execute_result"
        }
      ],
      "source": [
        "current_date - timedelta(days=1)"
      ]
    },
    {
      "cell_type": "code",
      "execution_count": null,
      "id": "72e6ef61-0197-40bf-9185-901a8ce4ee44",
      "metadata": {
        "id": "72e6ef61-0197-40bf-9185-901a8ce4ee44",
        "outputId": "e18fc6f6-d330-47fc-dd9b-13885beb030a"
      },
      "outputs": [
        {
          "data": {
            "text/plain": [
              "datetime.date(2024, 8, 26)"
            ]
          },
          "execution_count": 99,
          "metadata": {},
          "output_type": "execute_result"
        }
      ],
      "source": [
        " current_date + timedelta(days = -1)\n"
      ]
    },
    {
      "cell_type": "code",
      "execution_count": null,
      "id": "843f5b18-d832-4af8-900a-915c06192241",
      "metadata": {
        "id": "843f5b18-d832-4af8-900a-915c06192241",
        "outputId": "f184cc84-1bb6-45a5-d753-6eb72c1b028c"
      },
      "outputs": [
        {
          "data": {
            "text/plain": [
              "datetime.date(2024, 8, 27)"
            ]
          },
          "execution_count": 105,
          "metadata": {},
          "output_type": "execute_result"
        }
      ],
      "source": [
        "a = date.today()\n",
        "a"
      ]
    },
    {
      "cell_type": "code",
      "execution_count": null,
      "id": "391ded6d-db9c-4776-8460-4adbec92a98d",
      "metadata": {
        "id": "391ded6d-db9c-4776-8460-4adbec92a98d",
        "outputId": "96e50741-428b-439a-9ec7-9bb5dc152018"
      },
      "outputs": [
        {
          "data": {
            "text/plain": [
              "27"
            ]
          },
          "execution_count": 107,
          "metadata": {},
          "output_type": "execute_result"
        }
      ],
      "source": [
        "a.day"
      ]
    },
    {
      "cell_type": "code",
      "execution_count": null,
      "id": "e48c6975-8d77-43f9-b59c-d266616dbfc6",
      "metadata": {
        "id": "e48c6975-8d77-43f9-b59c-d266616dbfc6",
        "outputId": "6aa3b550-af33-4406-e8a6-919d47bd4965"
      },
      "outputs": [
        {
          "data": {
            "text/plain": [
              "8"
            ]
          },
          "execution_count": 109,
          "metadata": {},
          "output_type": "execute_result"
        }
      ],
      "source": [
        "a.month"
      ]
    },
    {
      "cell_type": "code",
      "execution_count": null,
      "id": "0bbaa5ce-b789-4587-9f7d-987514fab7a8",
      "metadata": {
        "id": "0bbaa5ce-b789-4587-9f7d-987514fab7a8",
        "outputId": "f411ece4-2d62-4aa2-dcf1-c40cd52ff5ad"
      },
      "outputs": [
        {
          "data": {
            "text/plain": [
              "2024"
            ]
          },
          "execution_count": 111,
          "metadata": {},
          "output_type": "execute_result"
        }
      ],
      "source": [
        "a.year"
      ]
    },
    {
      "cell_type": "markdown",
      "id": "e3302da5-568a-44fa-aed7-dfd3f70c9250",
      "metadata": {
        "id": "e3302da5-568a-44fa-aed7-dfd3f70c9250"
      },
      "source": [
        "#### Function\n",
        "\n",
        "- A function is a block of organized code written to carry out a specified task.\n",
        "\n",
        "- Functions help break our program into smaller and modular chunks for better readability.\n",
        "\n",
        "- Information can be passed into a function as arguments."
      ]
    },
    {
      "cell_type": "markdown",
      "id": "2950036d-4747-4d66-94be-35d87df83476",
      "metadata": {
        "id": "2950036d-4747-4d66-94be-35d87df83476"
      },
      "source": [
        "2 types of function\n",
        "\n",
        "- Built in function\n",
        "- User defined function"
      ]
    },
    {
      "cell_type": "code",
      "execution_count": null,
      "id": "223d99d6-d251-49c5-839b-1e741eac1229",
      "metadata": {
        "id": "223d99d6-d251-49c5-839b-1e741eac1229"
      },
      "outputs": [],
      "source": [
        "def fucntion_name():\n",
        "    print('First Program')"
      ]
    },
    {
      "cell_type": "code",
      "execution_count": null,
      "id": "6a7ccd50-ab5b-4740-acee-0ad4fdb12691",
      "metadata": {
        "id": "6a7ccd50-ab5b-4740-acee-0ad4fdb12691",
        "outputId": "cd7b3f4c-6273-4293-a437-acb9b44e8f97"
      },
      "outputs": [
        {
          "name": "stdout",
          "output_type": "stream",
          "text": [
            "First Program\n"
          ]
        }
      ],
      "source": [
        "# we need to call the function to execute the block of code\n",
        "fucntion_name()"
      ]
    },
    {
      "cell_type": "code",
      "execution_count": null,
      "id": "9206b473-17ae-485a-9534-a96a63c2ac9d",
      "metadata": {
        "id": "9206b473-17ae-485a-9534-a96a63c2ac9d",
        "outputId": "368671e4-f12a-4e75-9104-409bc0e81993"
      },
      "outputs": [
        {
          "name": "stdout",
          "output_type": "stream",
          "text": [
            "The sum of 2 numbers 5\n"
          ]
        }
      ],
      "source": [
        "# returns the add of 2 no's 2 and 3\n",
        "def f1():\n",
        "    a = 2\n",
        "    b = 3\n",
        "    print('The sum of 2 numbers',a+b)\n",
        "f1()"
      ]
    },
    {
      "cell_type": "code",
      "execution_count": null,
      "id": "5efea07b-4d6e-46a9-bc61-1e9ce6324caf",
      "metadata": {
        "id": "5efea07b-4d6e-46a9-bc61-1e9ce6324caf",
        "outputId": "e8d9e76b-9da6-41a6-a991-40928a07d7e0"
      },
      "outputs": [
        {
          "name": "stdout",
          "output_type": "stream",
          "text": [
            "3\n"
          ]
        }
      ],
      "source": [
        "a=1\n",
        "b=2\n",
        "def addition():\n",
        "    print(a+b)\n",
        "addition()\n"
      ]
    },
    {
      "cell_type": "markdown",
      "id": "517a2609-053a-4d0d-8d54-101d4b8d4dbb",
      "metadata": {
        "id": "517a2609-053a-4d0d-8d54-101d4b8d4dbb"
      },
      "source": [
        "### Parameter / Arguement\n",
        "\n",
        "- A parameter is the variable listed inside the parentheses in the function definition.\n",
        "\n",
        "- An argument is the value that is sent to the function when it is called."
      ]
    },
    {
      "cell_type": "code",
      "execution_count": null,
      "id": "6b9e1614-2497-46d1-931c-bff966bce763",
      "metadata": {
        "id": "6b9e1614-2497-46d1-931c-bff966bce763",
        "outputId": "8079cfae-404b-4a83-e2d6-2fd452095e59"
      },
      "outputs": [
        {
          "name": "stdin",
          "output_type": "stream",
          "text": [
            " 10\n",
            " 5\n"
          ]
        },
        {
          "name": "stdout",
          "output_type": "stream",
          "text": [
            "The sum of 2 numbers 15\n"
          ]
        }
      ],
      "source": [
        "# def function_name(parameters)\n",
        "def f2(a,b):\n",
        "    print('The sum of 2 numbers',a+b)\n",
        "\n",
        "a = int(input())\n",
        "b = int(input())\n",
        "f2(a,b)"
      ]
    },
    {
      "cell_type": "code",
      "execution_count": null,
      "id": "a3805e92-e143-4912-a1ca-480fd355bf9e",
      "metadata": {
        "id": "a3805e92-e143-4912-a1ca-480fd355bf9e",
        "outputId": "43182e94-af2c-4443-f989-816978b66c04"
      },
      "outputs": [
        {
          "name": "stdout",
          "output_type": "stream",
          "text": [
            "The sum of 2 numbers 5\n"
          ]
        }
      ],
      "source": [
        "f2(2,3)"
      ]
    },
    {
      "cell_type": "code",
      "execution_count": null,
      "id": "bc2b704d-0df3-4f80-b497-4df119fa7f93",
      "metadata": {
        "id": "bc2b704d-0df3-4f80-b497-4df119fa7f93",
        "outputId": "758546a8-055e-432c-ded4-d9ca12d620c9"
      },
      "outputs": [
        {
          "name": "stdin",
          "output_type": "stream",
          "text": [
            " 10\n"
          ]
        },
        {
          "name": "stdout",
          "output_type": "stream",
          "text": [
            "10 is an even number\n"
          ]
        }
      ],
      "source": [
        "# write a function f3 which accepts a parameter 'N' and check whether n is even or odd\n",
        "def f3(n):\n",
        "    if (n%2==0):\n",
        "          print(n, 'is an even number')\n",
        "    else:\n",
        "          print(n, 'is a odd number')\n",
        "n= int(input())\n",
        "f3(n)"
      ]
    },
    {
      "cell_type": "code",
      "execution_count": null,
      "id": "c104575d-260e-46da-9721-1248a48c30ab",
      "metadata": {
        "id": "c104575d-260e-46da-9721-1248a48c30ab",
        "outputId": "505bbdad-224f-4916-b2e7-c15ed4d49cd0"
      },
      "outputs": [
        {
          "name": "stdout",
          "output_type": "stream",
          "text": [
            "2\n",
            "4\n",
            "6\n"
          ]
        }
      ],
      "source": [
        "l = [1,2,3,4,5,6]\n",
        "def f4(l):\n",
        "    for i in l:\n",
        "        if i%2==0:\n",
        "            print(i)\n",
        "f4(l)"
      ]
    },
    {
      "cell_type": "code",
      "execution_count": null,
      "id": "e54e834e-1cde-4c89-8e78-f0c047b12ffe",
      "metadata": {
        "id": "e54e834e-1cde-4c89-8e78-f0c047b12ffe",
        "outputId": "86a3514a-2064-4bfb-ae5a-bafe6c443e9c"
      },
      "outputs": [
        {
          "data": {
            "text/plain": [
              "[2, 4, 6]"
            ]
          },
          "execution_count": 148,
          "metadata": {},
          "output_type": "execute_result"
        }
      ],
      "source": [
        "l = [1,2,3,4,5,6]\n",
        "def f4(l):\n",
        "    l1=[]\n",
        "    for i in l:\n",
        "        if i%2==0:\n",
        "            l1.append(i)\n",
        "    return l1\n",
        "f4(l)"
      ]
    },
    {
      "cell_type": "markdown",
      "id": "7f7fe4d5-601e-4664-bc01-b9e104ce67cb",
      "metadata": {
        "id": "7f7fe4d5-601e-4664-bc01-b9e104ce67cb"
      },
      "source": [
        "4 types of functions\n",
        "\n",
        "1. function without parameter and without return value\n",
        "\n",
        "2. function with parameter and without return value\n",
        "\n",
        "3. function with parameter and with return value\n",
        "\n",
        "4. function without parameter with return value"
      ]
    },
    {
      "cell_type": "code",
      "execution_count": null,
      "id": "05f3bd0f-e892-42d0-83d2-d071babbba48",
      "metadata": {
        "id": "05f3bd0f-e892-42d0-83d2-d071babbba48"
      },
      "outputs": [],
      "source": []
    }
  ],
  "metadata": {
    "kernelspec": {
      "display_name": "Python 3 (ipykernel)",
      "language": "python",
      "name": "python3"
    },
    "language_info": {
      "codemirror_mode": {
        "name": "ipython",
        "version": 3
      },
      "file_extension": ".py",
      "mimetype": "text/x-python",
      "name": "python",
      "nbconvert_exporter": "python",
      "pygments_lexer": "ipython3",
      "version": "3.12.4"
    },
    "colab": {
      "provenance": [],
      "include_colab_link": true
    }
  },
  "nbformat": 4,
  "nbformat_minor": 5
}